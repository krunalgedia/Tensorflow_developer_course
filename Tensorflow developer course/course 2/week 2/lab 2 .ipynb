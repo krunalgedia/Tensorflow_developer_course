{
 "cells": [
  {
   "cell_type": "code",
   "execution_count": 2,
   "id": "b1ebd97e",
   "metadata": {},
   "outputs": [],
   "source": [
    "import os\n",
    "import zipfile\n",
    "\n",
    "# Extract the archive\n",
    "zip_ref = zipfile.ZipFile('./horse-or-human.zip', 'r')\n",
    "zip_ref.extractall('tmp/horse-or-human')\n",
    "\n",
    "zip_ref = zipfile.ZipFile('./validation-horse-or-human.zip', 'r')\n",
    "zip_ref.extractall('tmp/validation-horse-or-human')\n",
    "\n",
    "zip_ref.close()\n",
    "\n",
    "# Directory with training horse pictures\n",
    "train_horse_dir = os.path.join('tmp/horse-or-human/horses')\n",
    "\n",
    "# Directory with training human pictures\n",
    "train_human_dir = os.path.join('tmp/horse-or-human/humans')\n",
    "\n",
    "# Directory with training horse pictures\n",
    "validation_horse_dir = os.path.join('tmp/validation-horse-or-human/horses')\n",
    "\n",
    "# Directory with training human pictures\n",
    "validation_human_dir = os.path.join('tmp/validation-horse-or-human/humans')"
   ]
  },
  {
   "cell_type": "code",
   "execution_count": 3,
   "id": "03ddd997",
   "metadata": {},
   "outputs": [],
   "source": [
    "import tensorflow as tf\n",
    "\n",
    "# Build the model\n",
    "model = tf.keras.models.Sequential([\n",
    "    # Note the input shape is the desired size of the image 300x300 with 3 bytes color\n",
    "    # This is the first convolution\n",
    "    tf.keras.layers.Conv2D(16, (3,3), activation='relu', input_shape=(300, 300, 3)),\n",
    "    tf.keras.layers.MaxPooling2D(2, 2),\n",
    "    # The second convolution\n",
    "    tf.keras.layers.Conv2D(32, (3,3), activation='relu'),\n",
    "    tf.keras.layers.MaxPooling2D(2,2),\n",
    "    # The third convolution\n",
    "    tf.keras.layers.Conv2D(64, (3,3), activation='relu'),\n",
    "    tf.keras.layers.MaxPooling2D(2,2),\n",
    "    # The fourth convolution\n",
    "    tf.keras.layers.Conv2D(64, (3,3), activation='relu'),\n",
    "    tf.keras.layers.MaxPooling2D(2,2),\n",
    "    # The fifth convolution\n",
    "    tf.keras.layers.Conv2D(64, (3,3), activation='relu'),\n",
    "    tf.keras.layers.MaxPooling2D(2,2),\n",
    "    # Flatten the results to feed into a DNN\n",
    "    tf.keras.layers.Flatten(),\n",
    "    # 512 neuron hidden layer\n",
    "    tf.keras.layers.Dense(512, activation='relu'),\n",
    "    # Only 1 output neuron. It will contain a value from 0-1 where 0 for 1 class ('horses') and 1 for the other ('humans')\n",
    "    tf.keras.layers.Dense(1, activation='sigmoid')\n",
    "])"
   ]
  },
  {
   "cell_type": "code",
   "execution_count": 4,
   "id": "72bab3c3",
   "metadata": {},
   "outputs": [],
   "source": [
    "from tensorflow.keras.optimizers import RMSprop\n",
    "\n",
    "# Set training parameters\n",
    "model.compile(loss='binary_crossentropy',\n",
    "              optimizer=RMSprop(learning_rate=1e-4),\n",
    "              metrics=['accuracy'])"
   ]
  },
  {
   "cell_type": "code",
   "execution_count": 5,
   "id": "6d04242d",
   "metadata": {},
   "outputs": [
    {
     "name": "stdout",
     "output_type": "stream",
     "text": [
      "Found 1027 images belonging to 2 classes.\n",
      "Found 256 images belonging to 2 classes.\n"
     ]
    }
   ],
   "source": [
    "from tensorflow.keras.preprocessing.image import ImageDataGenerator\n",
    "\n",
    "# Apply data augmentation\n",
    "train_datagen = ImageDataGenerator(\n",
    "      rescale=1./255,\n",
    "      rotation_range=40,\n",
    "      width_shift_range=0.2,\n",
    "      height_shift_range=0.2,\n",
    "      shear_range=0.2,\n",
    "      zoom_range=0.2,\n",
    "      horizontal_flip=True,\n",
    "      fill_mode='nearest')\n",
    "\n",
    "validation_datagen = ImageDataGenerator(rescale=1/255)\n",
    "\n",
    "# Flow training images in batches of 128 using train_datagen generator\n",
    "train_generator = train_datagen.flow_from_directory(\n",
    "        'tmp/horse-or-human/',  # This is the source directory for training images\n",
    "        target_size=(300, 300),  # All images will be resized to 150x150\n",
    "        batch_size=128,\n",
    "        # Since we use binary_crossentropy loss, we need binary labels\n",
    "        class_mode='binary')\n",
    "\n",
    "# Flow training images in batches of 128 using train_datagen generator\n",
    "validation_generator = validation_datagen.flow_from_directory(\n",
    "        'tmp/validation-horse-or-human/',  # This is the source directory for training images\n",
    "        target_size=(300, 300),  # All images will be resized to 150x150\n",
    "        batch_size=32,\n",
    "        # Since we use binary_crossentropy loss, we need binary labels\n",
    "        class_mode='binary')"
   ]
  },
  {
   "cell_type": "code",
   "execution_count": 6,
   "id": "85adb206",
   "metadata": {},
   "outputs": [
    {
     "name": "stdout",
     "output_type": "stream",
     "text": [
      "Epoch 1/20\n",
      "8/8 [==============================] - 160s 22s/step - loss: 0.6901 - accuracy: 0.5128 - val_loss: 0.6779 - val_accuracy: 0.5000\n",
      "Epoch 2/20\n",
      "8/8 [==============================] - 177s 21s/step - loss: 0.6783 - accuracy: 0.5830 - val_loss: 0.6482 - val_accuracy: 0.9062\n",
      "Epoch 3/20\n",
      "8/8 [==============================] - 160s 19s/step - loss: 0.6621 - accuracy: 0.6040 - val_loss: 0.6030 - val_accuracy: 0.8008\n",
      "Epoch 4/20\n",
      "8/8 [==============================] - 167s 20s/step - loss: 0.6433 - accuracy: 0.6363 - val_loss: 0.6112 - val_accuracy: 0.5703\n",
      "Epoch 5/20\n",
      "8/8 [==============================] - 228s 29s/step - loss: 0.6351 - accuracy: 0.6874 - val_loss: 0.6172 - val_accuracy: 0.5508\n",
      "Epoch 6/20\n",
      "8/8 [==============================] - 130s 15s/step - loss: 0.5985 - accuracy: 0.7008 - val_loss: 0.4812 - val_accuracy: 0.8828\n",
      "Epoch 7/20\n",
      "8/8 [==============================] - 129s 15s/step - loss: 0.6322 - accuracy: 0.6808 - val_loss: 0.5072 - val_accuracy: 0.7539\n",
      "Epoch 8/20\n",
      "8/8 [==============================] - 125s 14s/step - loss: 0.5700 - accuracy: 0.7386 - val_loss: 0.4854 - val_accuracy: 0.7891\n",
      "Epoch 9/20\n",
      "8/8 [==============================] - 107s 13s/step - loss: 0.5729 - accuracy: 0.6852 - val_loss: 0.6761 - val_accuracy: 0.5625\n",
      "Epoch 10/20\n",
      "8/8 [==============================] - 72s 8s/step - loss: 0.5955 - accuracy: 0.6852 - val_loss: 0.5085 - val_accuracy: 0.7422\n",
      "Epoch 11/20\n",
      "8/8 [==============================] - 46s 6s/step - loss: 0.5302 - accuracy: 0.7486 - val_loss: 1.1576 - val_accuracy: 0.5039\n",
      "Epoch 12/20\n",
      "8/8 [==============================] - 51s 6s/step - loss: 0.5547 - accuracy: 0.7236 - val_loss: 0.4383 - val_accuracy: 0.8086\n",
      "Epoch 13/20\n",
      "8/8 [==============================] - 47s 6s/step - loss: 0.5517 - accuracy: 0.7219 - val_loss: 0.5225 - val_accuracy: 0.7500\n",
      "Epoch 14/20\n",
      "8/8 [==============================] - 58s 7s/step - loss: 0.4819 - accuracy: 0.7764 - val_loss: 0.4963 - val_accuracy: 0.7852\n",
      "Epoch 15/20\n",
      "8/8 [==============================] - 56s 7s/step - loss: 0.5626 - accuracy: 0.7486 - val_loss: 0.6221 - val_accuracy: 0.7344\n",
      "Epoch 16/20\n",
      "8/8 [==============================] - 52s 6s/step - loss: 0.4813 - accuracy: 0.7686 - val_loss: 0.7536 - val_accuracy: 0.7031\n",
      "Epoch 17/20\n",
      "8/8 [==============================] - 53s 6s/step - loss: 0.4551 - accuracy: 0.7875 - val_loss: 0.9480 - val_accuracy: 0.6562\n",
      "Epoch 18/20\n",
      "8/8 [==============================] - 55s 7s/step - loss: 0.4962 - accuracy: 0.7531 - val_loss: 0.9172 - val_accuracy: 0.6680\n",
      "Epoch 19/20\n",
      "8/8 [==============================] - 51s 6s/step - loss: 0.4487 - accuracy: 0.7775 - val_loss: 1.4072 - val_accuracy: 0.5703\n",
      "Epoch 20/20\n",
      "8/8 [==============================] - 51s 6s/step - loss: 0.4893 - accuracy: 0.7575 - val_loss: 0.7401 - val_accuracy: 0.7422\n"
     ]
    }
   ],
   "source": [
    "# Constant for epochs\n",
    "EPOCHS = 20\n",
    "\n",
    "# Train the model\n",
    "history = model.fit(\n",
    "      train_generator,\n",
    "      steps_per_epoch=8,  \n",
    "      epochs=EPOCHS,\n",
    "      verbose=1,\n",
    "      validation_data = validation_generator,\n",
    "      validation_steps=8)"
   ]
  },
  {
   "cell_type": "code",
   "execution_count": 7,
   "id": "cb5a6a7c",
   "metadata": {},
   "outputs": [
    {
     "data": {
      "image/png": "[encoded data removed]",
      "text/plain": [
       "<Figure size 432x288 with 1 Axes>"
      ]
     },
     "metadata": {
      "needs_background": "light"
     },
     "output_type": "display_data"
    },
    {
     "data": {
      "image/png": "[encoded data removed]",
      "text/plain": [
       "<Figure size 432x288 with 1 Axes>"
      ]
     },
     "metadata": {
      "needs_background": "light"
     },
     "output_type": "display_data"
    }
   ],
   "source": [
    "import matplotlib.pyplot as plt\n",
    "\n",
    "# Plot the model results\n",
    "acc = history.history['accuracy']\n",
    "val_acc = history.history['val_accuracy']\n",
    "loss = history.history['loss']\n",
    "val_loss = history.history['val_loss']\n",
    "\n",
    "epochs = range(len(acc))\n",
    "\n",
    "plt.plot(epochs, acc, 'r', label='Training accuracy')\n",
    "plt.plot(epochs, val_acc, 'b', label='Validation accuracy')\n",
    "plt.title('Training and validation accuracy')\n",
    "\n",
    "plt.figure()\n",
    "\n",
    "plt.plot(epochs, loss, 'r', label='Training Loss')\n",
    "plt.plot(epochs, val_loss, 'b', label='Validation Loss')\n",
    "plt.title('Training and validation loss')\n",
    "plt.legend()\n",
    "\n",
    "plt.show()"
   ]
  },
  {
   "cell_type": "code",
   "execution_count": null,
   "id": "c9f60d0d",
   "metadata": {},
   "outputs": [],
   "source": []
  },
  {
   "cell_type": "code",
   "execution_count": null,
   "id": "696ddad6",
   "metadata": {},
   "outputs": [],
   "source": []
  }
 ],
 "metadata": {
  "kernelspec": {
   "display_name": "Python 3",
   "language": "python",
   "name": "python3"
  },
  "language_info": {
   "codemirror_mode": {
    "name": "ipython",
    "version": 3
   },
   "file_extension": ".py",
   "mimetype": "text/x-python",
   "name": "python",
   "nbconvert_exporter": "python",
   "pygments_lexer": "ipython3",
   "version": "3.6.13"
  }
 },
 "nbformat": 4,
 "nbformat_minor": 5
}
