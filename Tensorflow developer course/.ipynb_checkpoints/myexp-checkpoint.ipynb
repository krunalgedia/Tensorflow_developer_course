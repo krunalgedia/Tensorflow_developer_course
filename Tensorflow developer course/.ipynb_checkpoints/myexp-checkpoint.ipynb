{
 "cells": [
  {
   "cell_type": "code",
   "execution_count": 1,
   "id": "a1fe5d53",
   "metadata": {},
   "outputs": [
    {
     "name": "stdout",
     "output_type": "stream",
     "text": [
      "2.6.2\n"
     ]
    }
   ],
   "source": [
    "import tensorflow as tf\n",
    "import numpy as np\n",
    "from tensorflow import keras\n",
    "from IPython.core.interactiveshell import InteractiveShell\n",
    "InteractiveShell.ast_node_interactivity = \"all\"\n",
    "\n",
    "print(tf.__version__)"
   ]
  },
  {
   "cell_type": "code",
   "execution_count": 5,
   "id": "bce08a7f",
   "metadata": {
    "collapsed": true
   },
   "outputs": [
    {
     "data": {
      "text/plain": [
       "[[0, 0], [1, 2], [2, 4], [3, 6], [4, 8]]"
      ]
     },
     "execution_count": 5,
     "metadata": {},
     "output_type": "execute_result"
    },
    {
     "data": {
      "text/plain": [
       "[-0.0012756714457816739,\n",
       " 0.9572271425764893,\n",
       " 2.0224239920817983,\n",
       " 3.0572669455317434,\n",
       " 4.041458148822385]"
      ]
     },
     "execution_count": 5,
     "metadata": {},
     "output_type": "execute_result"
    }
   ],
   "source": [
    "low = 0\n",
    "high = 5\n",
    "xtrain = [[i,i*2] for i in range(low,high)]\n",
    "ytrain = [(lambda x: x*2-x+ np.random.normal(0,0.1))(i) for i in range(low,high)]\n",
    "ytrainclass = [1 if i%2==0 else 0 for i in range(low,high)]\n",
    "xtrain[:5]\n",
    "ytrain[:5]\n",
    "\n",
    "x_train = np.array(xtrain)\n",
    "y_train = np.array(ytrain)\n",
    "y_train_class = np.array(ytrainclass)\n",
    "X_train = tf.convert_to_tensor(x_train)\n",
    "x_train\n",
    "y_train"
   ]
  },
  {
   "cell_type": "code",
   "execution_count": 6,
   "id": "d39f7886",
   "metadata": {
    "collapsed": true
   },
   "outputs": [
    {
     "data": {
      "text/plain": [
       "array([[0, 0],\n",
       "       [1, 2],\n",
       "       [2, 4],\n",
       "       [3, 6],\n",
       "       [4, 8]])"
      ]
     },
     "execution_count": 6,
     "metadata": {},
     "output_type": "execute_result"
    },
    {
     "data": {
      "text/plain": [
       "array([-1.27567145e-03,  9.57227143e-01,  2.02242399e+00,  3.05726695e+00,\n",
       "        4.04145815e+00])"
      ]
     },
     "execution_count": 6,
     "metadata": {},
     "output_type": "execute_result"
    }
   ],
   "source": [
    "x_train = np.array(xtrain)\n",
    "y_train = np.array(ytrain)\n",
    "y_train_class = np.array(ytrainclass)\n",
    "X_train = tf.convert_to_tensor(x_train)\n",
    "x_train\n",
    "y_train\n"
   ]
  },
  {
   "cell_type": "code",
   "execution_count": 7,
   "id": "f04134d4",
   "metadata": {},
   "outputs": [],
   "source": [
    "model_sequential = keras.Sequential([\n",
    "    keras.layers.Dense(units=32,activation='relu',name='layer1'),\n",
    "    keras.layers.Dense(units=32,activation='relu',name='layer2'),\n",
    "    keras.layers.Dense(units=1, activation='linear')\n",
    "])"
   ]
  },
  {
   "cell_type": "code",
   "execution_count": 8,
   "id": "2319b511",
   "metadata": {},
   "outputs": [],
   "source": [
    "model_sequential = keras.Sequential([\n",
    "    keras.Input(shape=(2)),\n",
    "    keras.layers.Dense(units=32,activation='relu',name='layer1'),\n",
    "    keras.layers.Dense(units=32,activation='relu',name='layer2'),\n",
    "    keras.layers.Dense(units=1, activation='linear')\n",
    "])"
   ]
  },
  {
   "cell_type": "code",
   "execution_count": 9,
   "id": "3555779a",
   "metadata": {},
   "outputs": [],
   "source": [
    "model_sequential = keras.Sequential(name='sequential_add')\n",
    "model_sequential.add(keras.Input(shape=(2,)))\n",
    "model_sequential.add(keras.layers.Dense(units=32,activation='relu',name='layer1'))\n",
    "model_sequential.add(keras.layers.Dense(units=32,activation='relu',name='layer2'))\n",
    "model_sequential.add(keras.layers.Dense(units=1,activation='linear',name='layer3'))"
   ]
  },
  {
   "cell_type": "code",
   "execution_count": 10,
   "id": "5be97454",
   "metadata": {
    "collapsed": true
   },
   "outputs": [
    {
     "data": {
      "text/plain": [
       "[<KerasTensor: shape=(None, 2) dtype=float32 (created by layer 'input_2')>]"
      ]
     },
     "execution_count": 10,
     "metadata": {},
     "output_type": "execute_result"
    }
   ],
   "source": [
    "model_sequential.inputs"
   ]
  },
  {
   "cell_type": "code",
   "execution_count": 11,
   "id": "d15ab7c5",
   "metadata": {
    "collapsed": true
   },
   "outputs": [
    {
     "data": {
      "text/plain": [
       "[<keras.layers.core.Dense at 0x1e2c5dcf780>,\n",
       " <keras.layers.core.Dense at 0x1e2b71a20f0>,\n",
       " <keras.layers.core.Dense at 0x1e2c5f6e860>]"
      ]
     },
     "execution_count": 11,
     "metadata": {},
     "output_type": "execute_result"
    },
    {
     "name": "stdout",
     "output_type": "stream",
     "text": [
      "Model: \"sequential_add\"\n",
      "_________________________________________________________________\n",
      "Layer (type)                 Output Shape              Param #   \n",
      "=================================================================\n",
      "layer1 (Dense)               (None, 32)                96        \n",
      "_________________________________________________________________\n",
      "layer2 (Dense)               (None, 32)                1056      \n",
      "_________________________________________________________________\n",
      "layer3 (Dense)               (None, 1)                 33        \n",
      "=================================================================\n",
      "Total params: 1,185\n",
      "Trainable params: 1,185\n",
      "Non-trainable params: 0\n",
      "_________________________________________________________________\n"
     ]
    }
   ],
   "source": [
    "model_sequential.layers\n",
    "#won't work till model is build. Model needs input or input shape knowledge.\n",
    "model_sequential.summary()\n"
   ]
  },
  {
   "cell_type": "code",
   "execution_count": 12,
   "id": "b132ebb3",
   "metadata": {},
   "outputs": [],
   "source": [
    "model_sequential.compile(loss='mse',optimizer='adam',metrics=['mae'])"
   ]
  },
  {
   "cell_type": "code",
   "execution_count": 13,
   "id": "a80083c9",
   "metadata": {
    "collapsed": true
   },
   "outputs": [
    {
     "name": "stdout",
     "output_type": "stream",
     "text": [
      "Epoch 1/100\n",
      "1/1 [==============================] - 0s 294ms/step - loss: 3.8383 - mae: 1.5928\n",
      "Epoch 2/100\n",
      "1/1 [==============================] - 0s 2ms/step - loss: 3.4621 - mae: 1.5124\n",
      "Epoch 3/100\n",
      "1/1 [==============================] - 0s 3ms/step - loss: 3.1057 - mae: 1.4320\n",
      "Epoch 4/100\n",
      "1/1 [==============================] - 0s 3ms/step - loss: 2.7693 - mae: 1.3517\n",
      "Epoch 5/100\n",
      "1/1 [==============================] - 0s 2ms/step - loss: 2.4531 - mae: 1.2717\n",
      "Epoch 6/100\n",
      "1/1 [==============================] - 0s 2ms/step - loss: 2.1573 - mae: 1.1920\n",
      "Epoch 7/100\n",
      "1/1 [==============================] - 0s 2ms/step - loss: 1.8819 - mae: 1.1127\n",
      "Epoch 8/100\n",
      "1/1 [==============================] - 0s 3ms/step - loss: 1.6267 - mae: 1.0339\n",
      "Epoch 9/100\n",
      "1/1 [==============================] - 0s 3ms/step - loss: 1.3918 - mae: 0.9556\n",
      "Epoch 10/100\n",
      "1/1 [==============================] - 0s 4ms/step - loss: 1.1777 - mae: 0.8782\n",
      "Epoch 11/100\n",
      "1/1 [==============================] - 0s 3ms/step - loss: 0.9836 - mae: 0.8017\n",
      "Epoch 12/100\n",
      "1/1 [==============================] - 0s 2ms/step - loss: 0.8091 - mae: 0.7260\n",
      "Epoch 13/100\n",
      "1/1 [==============================] - 0s 3ms/step - loss: 0.6538 - mae: 0.6515\n",
      "Epoch 14/100\n",
      "1/1 [==============================] - 0s 3ms/step - loss: 0.5174 - mae: 0.5782\n",
      "Epoch 15/100\n",
      "1/1 [==============================] - 0s 5ms/step - loss: 0.3994 - mae: 0.5064\n",
      "Epoch 16/100\n",
      "1/1 [==============================] - 0s 4ms/step - loss: 0.2991 - mae: 0.4362\n",
      "Epoch 17/100\n",
      "1/1 [==============================] - 0s 3ms/step - loss: 0.2157 - mae: 0.3680\n",
      "Epoch 18/100\n",
      "1/1 [==============================] - 0s 5ms/step - loss: 0.1484 - mae: 0.3020\n",
      "Epoch 19/100\n",
      "1/1 [==============================] - 0s 3ms/step - loss: 0.0959 - mae: 0.2418\n",
      "Epoch 20/100\n",
      "1/1 [==============================] - 0s 2ms/step - loss: 0.0570 - mae: 0.1940\n",
      "Epoch 21/100\n",
      "1/1 [==============================] - 0s 4ms/step - loss: 0.0303 - mae: 0.1493\n",
      "Epoch 22/100\n",
      "1/1 [==============================] - 0s 5ms/step - loss: 0.0141 - mae: 0.1072\n",
      "Epoch 23/100\n",
      "1/1 [==============================] - 0s 2ms/step - loss: 0.0069 - mae: 0.0751\n",
      "Epoch 24/100\n",
      "1/1 [==============================] - 0s 3ms/step - loss: 0.0069 - mae: 0.0638\n",
      "Epoch 25/100\n",
      "1/1 [==============================] - 0s 4ms/step - loss: 0.0118 - mae: 0.1031\n",
      "Epoch 26/100\n",
      "1/1 [==============================] - 0s 2ms/step - loss: 0.0194 - mae: 0.1357\n",
      "Epoch 27/100\n",
      "1/1 [==============================] - 0s 3ms/step - loss: 0.0280 - mae: 0.1628\n",
      "Epoch 28/100\n",
      "1/1 [==============================] - 0s 3ms/step - loss: 0.0364 - mae: 0.1845\n",
      "Epoch 29/100\n",
      "1/1 [==============================] - 0s 2ms/step - loss: 0.0437 - mae: 0.2010\n",
      "Epoch 30/100\n",
      "1/1 [==============================] - 0s 2ms/step - loss: 0.0492 - mae: 0.2124\n",
      "Epoch 31/100\n",
      "1/1 [==============================] - 0s 4ms/step - loss: 0.0526 - mae: 0.2190\n",
      "Epoch 32/100\n",
      "1/1 [==============================] - 0s 2ms/step - loss: 0.0538 - mae: 0.2211\n",
      "Epoch 33/100\n",
      "1/1 [==============================] - 0s 2ms/step - loss: 0.0528 - mae: 0.2190\n",
      "Epoch 34/100\n",
      "1/1 [==============================] - 0s 3ms/step - loss: 0.0499 - mae: 0.2132\n",
      "Epoch 35/100\n",
      "1/1 [==============================] - 0s 2ms/step - loss: 0.0455 - mae: 0.2041\n",
      "Epoch 36/100\n",
      "1/1 [==============================] - 0s 3ms/step - loss: 0.0401 - mae: 0.1922\n",
      "Epoch 37/100\n",
      "1/1 [==============================] - 0s 3ms/step - loss: 0.0340 - mae: 0.1777\n",
      "Epoch 38/100\n",
      "1/1 [==============================] - 0s 3ms/step - loss: 0.0277 - mae: 0.1612\n",
      "Epoch 39/100\n",
      "1/1 [==============================] - 0s 2ms/step - loss: 0.0217 - mae: 0.1432\n",
      "Epoch 40/100\n",
      "1/1 [==============================] - 0s 998us/step - loss: 0.0163 - mae: 0.1241\n",
      "Epoch 41/100\n",
      "1/1 [==============================] - 0s 3ms/step - loss: 0.0116 - mae: 0.1035\n",
      "Epoch 42/100\n",
      "1/1 [==============================] - 0s 4ms/step - loss: 0.0076 - mae: 0.0804\n",
      "Epoch 43/100\n",
      "1/1 [==============================] - 0s 2ms/step - loss: 0.0052 - mae: 0.0563\n",
      "Epoch 44/100\n",
      "1/1 [==============================] - 0s 3ms/step - loss: 0.0043 - mae: 0.0552\n",
      "Epoch 45/100\n",
      "1/1 [==============================] - 0s 2ms/step - loss: 0.0049 - mae: 0.0624\n",
      "Epoch 46/100\n",
      "1/1 [==============================] - 0s 3ms/step - loss: 0.0063 - mae: 0.0714\n",
      "Epoch 47/100\n",
      "1/1 [==============================] - 0s 4ms/step - loss: 0.0079 - mae: 0.0811\n",
      "Epoch 48/100\n",
      "1/1 [==============================] - 0s 3ms/step - loss: 0.0093 - mae: 0.0875\n",
      "Epoch 49/100\n",
      "1/1 [==============================] - 0s 2ms/step - loss: 0.0100 - mae: 0.0907\n",
      "Epoch 50/100\n",
      "1/1 [==============================] - 0s 5ms/step - loss: 0.0102 - mae: 0.0913\n",
      "Epoch 51/100\n",
      "1/1 [==============================] - 0s 3ms/step - loss: 0.0098 - mae: 0.0896\n",
      "Epoch 52/100\n",
      "1/1 [==============================] - 0s 2ms/step - loss: 0.0090 - mae: 0.0859\n",
      "Epoch 53/100\n",
      "1/1 [==============================] - 0s 4ms/step - loss: 0.0078 - mae: 0.0807\n",
      "Epoch 54/100\n",
      "1/1 [==============================] - 0s 2ms/step - loss: 0.0066 - mae: 0.0742\n",
      "Epoch 55/100\n",
      "1/1 [==============================] - 0s 3ms/step - loss: 0.0060 - mae: 0.0695\n",
      "Epoch 56/100\n",
      "1/1 [==============================] - 0s 998us/step - loss: 0.0056 - mae: 0.0658\n",
      "Epoch 57/100\n",
      "1/1 [==============================] - 0s 3ms/step - loss: 0.0052 - mae: 0.0642\n",
      "Epoch 58/100\n",
      "1/1 [==============================] - 0s 2ms/step - loss: 0.0048 - mae: 0.0624\n",
      "Epoch 59/100\n",
      "1/1 [==============================] - 0s 2ms/step - loss: 0.0046 - mae: 0.0604\n",
      "Epoch 60/100\n",
      "1/1 [==============================] - 0s 4ms/step - loss: 0.0043 - mae: 0.0584\n",
      "Epoch 61/100\n",
      "1/1 [==============================] - 0s 997us/step - loss: 0.0042 - mae: 0.0565\n",
      "Epoch 62/100\n",
      "1/1 [==============================] - 0s 3ms/step - loss: 0.0042 - mae: 0.0545\n",
      "Epoch 63/100\n",
      "1/1 [==============================] - 0s 2ms/step - loss: 0.0042 - mae: 0.0527\n",
      "Epoch 64/100\n",
      "1/1 [==============================] - 0s 3ms/step - loss: 0.0042 - mae: 0.0510\n",
      "Epoch 65/100\n",
      "1/1 [==============================] - 0s 1ms/step - loss: 0.0043 - mae: 0.0495\n",
      "Epoch 66/100\n",
      "1/1 [==============================] - 0s 2ms/step - loss: 0.0043 - mae: 0.0482\n",
      "Epoch 67/100\n",
      "1/1 [==============================] - 0s 3ms/step - loss: 0.0044 - mae: 0.0471\n",
      "Epoch 68/100\n",
      "1/1 [==============================] - 0s 2ms/step - loss: 0.0044 - mae: 0.0469\n",
      "Epoch 69/100\n",
      "1/1 [==============================] - 0s 2ms/step - loss: 0.0044 - mae: 0.0474\n",
      "Epoch 70/100\n",
      "1/1 [==============================] - 0s 2ms/step - loss: 0.0044 - mae: 0.0472\n",
      "Epoch 71/100\n",
      "1/1 [==============================] - 0s 5ms/step - loss: 0.0043 - mae: 0.0465\n",
      "Epoch 72/100\n",
      "1/1 [==============================] - 0s 2ms/step - loss: 0.0042 - mae: 0.0456\n",
      "Epoch 73/100\n",
      "1/1 [==============================] - 0s 2ms/step - loss: 0.0041 - mae: 0.0456\n",
      "Epoch 74/100\n",
      "1/1 [==============================] - 0s 3ms/step - loss: 0.0040 - mae: 0.0459\n",
      "Epoch 75/100\n",
      "1/1 [==============================] - 0s 2ms/step - loss: 0.0039 - mae: 0.0463\n",
      "Epoch 76/100\n",
      "1/1 [==============================] - 0s 2ms/step - loss: 0.0038 - mae: 0.0468\n",
      "Epoch 77/100\n",
      "1/1 [==============================] - 0s 2ms/step - loss: 0.0037 - mae: 0.0473\n",
      "Epoch 78/100\n",
      "1/1 [==============================] - 0s 3ms/step - loss: 0.0036 - mae: 0.0479\n",
      "Epoch 79/100\n",
      "1/1 [==============================] - 0s 2ms/step - loss: 0.0035 - mae: 0.0483\n",
      "Epoch 80/100\n",
      "1/1 [==============================] - 0s 2ms/step - loss: 0.0035 - mae: 0.0488\n",
      "Epoch 81/100\n",
      "1/1 [==============================] - 0s 5ms/step - loss: 0.0035 - mae: 0.0491\n",
      "Epoch 82/100\n",
      "1/1 [==============================] - 0s 2ms/step - loss: 0.0034 - mae: 0.0493\n",
      "Epoch 83/100\n",
      "1/1 [==============================] - 0s 2ms/step - loss: 0.0034 - mae: 0.0494\n",
      "Epoch 84/100\n",
      "1/1 [==============================] - 0s 3ms/step - loss: 0.0034 - mae: 0.0494\n",
      "Epoch 85/100\n",
      "1/1 [==============================] - 0s 2ms/step - loss: 0.0033 - mae: 0.0492\n",
      "Epoch 86/100\n",
      "1/1 [==============================] - 0s 2ms/step - loss: 0.0033 - mae: 0.0489\n",
      "Epoch 87/100\n",
      "1/1 [==============================] - 0s 2ms/step - loss: 0.0033 - mae: 0.0485\n",
      "Epoch 88/100\n",
      "1/1 [==============================] - 0s 5ms/step - loss: 0.0032 - mae: 0.0479\n",
      "Epoch 89/100\n"
     ]
    },
    {
     "name": "stdout",
     "output_type": "stream",
     "text": [
      "1/1 [==============================] - 0s 2ms/step - loss: 0.0032 - mae: 0.0473\n",
      "Epoch 90/100\n",
      "1/1 [==============================] - 0s 2ms/step - loss: 0.0031 - mae: 0.0466\n",
      "Epoch 91/100\n",
      "1/1 [==============================] - 0s 998us/step - loss: 0.0031 - mae: 0.0459\n",
      "Epoch 92/100\n",
      "1/1 [==============================] - 0s 3ms/step - loss: 0.0030 - mae: 0.0451\n",
      "Epoch 93/100\n",
      "1/1 [==============================] - 0s 2ms/step - loss: 0.0030 - mae: 0.0442\n",
      "Epoch 94/100\n",
      "1/1 [==============================] - 0s 2ms/step - loss: 0.0029 - mae: 0.0434\n",
      "Epoch 95/100\n",
      "1/1 [==============================] - 0s 5ms/step - loss: 0.0029 - mae: 0.0425\n",
      "Epoch 96/100\n",
      "1/1 [==============================] - 0s 2ms/step - loss: 0.0028 - mae: 0.0417\n",
      "Epoch 97/100\n",
      "1/1 [==============================] - 0s 2ms/step - loss: 0.0028 - mae: 0.0409\n",
      "Epoch 98/100\n",
      "1/1 [==============================] - 0s 2ms/step - loss: 0.0028 - mae: 0.0401\n",
      "Epoch 99/100\n",
      "1/1 [==============================] - 0s 2ms/step - loss: 0.0027 - mae: 0.0394\n",
      "Epoch 100/100\n",
      "1/1 [==============================] - 0s 2ms/step - loss: 0.0027 - mae: 0.0388\n"
     ]
    },
    {
     "data": {
      "text/plain": [
       "<keras.callbacks.History at 0x1e2c7dd5cf8>"
      ]
     },
     "execution_count": 13,
     "metadata": {},
     "output_type": "execute_result"
    }
   ],
   "source": [
    "model_sequential.fit(x_train, y_train, epochs=100)"
   ]
  },
  {
   "cell_type": "code",
   "execution_count": 14,
   "id": "09d59638",
   "metadata": {
    "collapsed": true
   },
   "outputs": [
    {
     "data": {
      "text/plain": [
       "array([[9.937797]], dtype=float32)"
      ]
     },
     "execution_count": 14,
     "metadata": {},
     "output_type": "execute_result"
    }
   ],
   "source": [
    "model_sequential.predict([[10,20]])"
   ]
  },
  {
   "cell_type": "code",
   "execution_count": 15,
   "id": "f9a8ba3f",
   "metadata": {
    "collapsed": true
   },
   "outputs": [
    {
     "data": {
      "text/plain": [
       "array([-1.27567145e-03,  9.57227143e-01,  2.02242399e+00,  3.05726695e+00,\n",
       "        4.04145815e+00])"
      ]
     },
     "execution_count": 15,
     "metadata": {},
     "output_type": "execute_result"
    }
   ],
   "source": [
    "y_train"
   ]
  },
  {
   "cell_type": "code",
   "execution_count": 103,
   "id": "6a49b8e7",
   "metadata": {},
   "outputs": [],
   "source": [
    "#Feauture extractor\n",
    "feature_extractor = keras.Model(\n",
    "        inputs = model_sequential.inputs,\n",
    "        outputs = [layer.output for layer in model_sequential.layers]\n",
    ")"
   ]
  },
  {
   "cell_type": "code",
   "execution_count": 107,
   "id": "9752469b",
   "metadata": {
    "collapsed": true
   },
   "outputs": [
    {
     "data": {
      "text/plain": [
       "[<KerasTensor: shape=(None, 32) dtype=float32 (created by layer 'layer1')>,\n",
       " <KerasTensor: shape=(None, 32) dtype=float32 (created by layer 'layer2')>,\n",
       " <KerasTensor: shape=(None, 1) dtype=float32 (created by layer 'layer3')>]"
      ]
     },
     "execution_count": 107,
     "metadata": {},
     "output_type": "execute_result"
    }
   ],
   "source": [
    "feature_extractor.output"
   ]
  },
  {
   "cell_type": "code",
   "execution_count": 108,
   "id": "71e86201",
   "metadata": {
    "collapsed": true
   },
   "outputs": [
    {
     "name": "stdout",
     "output_type": "stream",
     "text": [
      "Model: \"model_15\"\n",
      "_________________________________________________________________\n",
      "Layer (type)                 Output Shape              Param #   \n",
      "=================================================================\n",
      "input_2 (InputLayer)         [(None, 2)]               0         \n",
      "_________________________________________________________________\n",
      "layer1 (Dense)               (None, 32)                96        \n",
      "_________________________________________________________________\n",
      "layer2 (Dense)               (None, 32)                1056      \n",
      "_________________________________________________________________\n",
      "layer3 (Dense)               (None, 1)                 33        \n",
      "=================================================================\n",
      "Total params: 1,185\n",
      "Trainable params: 1,185\n",
      "Non-trainable params: 0\n",
      "_________________________________________________________________\n"
     ]
    }
   ],
   "source": [
    "feature_extractor.summary()"
   ]
  },
  {
   "cell_type": "code",
   "execution_count": 18,
   "id": "c425da1a",
   "metadata": {
    "collapsed": true
   },
   "outputs": [
    {
     "data": {
      "text/plain": [
       "[array([[ 0.34051648,  5.885863  ,  0.        ,  8.856267  ,  0.        ,\n",
       "          0.        ,  0.        ,  0.        ,  1.3758025 ,  0.        ,\n",
       "          0.        , 10.965419  ,  0.        ,  1.3397765 ,  0.        ,\n",
       "          0.        ,  0.        ,  8.086469  ,  0.        ,  1.9189775 ,\n",
       "          1.4494367 ,  4.7202153 ,  0.        ,  1.2456837 ,  0.7831659 ,\n",
       "          6.296493  ,  4.640161  ,  0.        ,  0.        ,  6.9271593 ,\n",
       "          9.021933  ,  0.        ]], dtype=float32),\n",
       " array([[0.        , 0.        , 4.79412   , 6.2215323 , 0.        ,\n",
       "         3.8442366 , 0.        , 0.        , 4.688788  , 4.986479  ,\n",
       "         0.        , 5.9865522 , 3.6067162 , 0.        , 1.7793238 ,\n",
       "         0.        , 5.806296  , 0.        , 4.89408   , 0.62785584,\n",
       "         0.        , 0.30097955, 0.        , 0.        , 0.        ,\n",
       "         0.        , 1.8936647 , 2.9137068 , 0.        , 2.074915  ,\n",
       "         0.        , 3.4718974 ]], dtype=float32),\n",
       " array([[9.937797]], dtype=float32)]"
      ]
     },
     "execution_count": 18,
     "metadata": {},
     "output_type": "execute_result"
    }
   ],
   "source": [
    "feature_extractor.predict([[10,20]])"
   ]
  },
  {
   "cell_type": "code",
   "execution_count": 19,
   "id": "8fc288dd",
   "metadata": {},
   "outputs": [],
   "source": [
    "model_sequential3 = keras.Sequential([\n",
    "    model_sequential\n",
    "])"
   ]
  },
  {
   "cell_type": "code",
   "execution_count": 20,
   "id": "7f171baf",
   "metadata": {},
   "outputs": [
    {
     "data": {
      "text/plain": [
       "array([[9.937797]], dtype=float32)"
      ]
     },
     "execution_count": 20,
     "metadata": {},
     "output_type": "execute_result"
    }
   ],
   "source": [
    "model_sequential3.predict([[10,20]])"
   ]
  },
  {
   "cell_type": "code",
   "execution_count": 21,
   "id": "3a708d0c",
   "metadata": {
    "collapsed": true
   },
   "outputs": [
    {
     "ename": "NameError",
     "evalue": "name 'model_sequential_transfer' is not defined",
     "output_type": "error",
     "traceback": [
      "\u001b[1;31m---------------------------------------------------------------------------\u001b[0m",
      "\u001b[1;31mNameError\u001b[0m                                 Traceback (most recent call last)",
      "\u001b[1;32m<ipython-input-21-2c16237cec4b>\u001b[0m in \u001b[0;36m<module>\u001b[1;34m\u001b[0m\n\u001b[1;32m----> 1\u001b[1;33m \u001b[0mmodel_sequential_transfer\u001b[0m\u001b[1;33m.\u001b[0m\u001b[0mload_weights\u001b[0m\u001b[1;33m(\u001b[0m\u001b[0mmodel_sequential\u001b[0m\u001b[1;33m)\u001b[0m\u001b[1;33m\u001b[0m\u001b[1;33m\u001b[0m\u001b[0m\n\u001b[0m",
      "\u001b[1;31mNameError\u001b[0m: name 'model_sequential_transfer' is not defined"
     ]
    }
   ],
   "source": [
    "model_sequential_transfer.load_weights(model_sequential)"
   ]
  },
  {
   "cell_type": "code",
   "execution_count": 22,
   "id": "058b8561",
   "metadata": {},
   "outputs": [],
   "source": [
    "\n",
    "x = keras.Input(shape=(2,))\n",
    "layer1 = keras.layers.Dense(units=32, activation='relu')(x)\n",
    "layer2 = keras.layers.Dense(units=32, activation='relu')(layer1)\n",
    "layer3 = keras.layers.Dense(units=1, activation='linear')(layer2)\n",
    "model_functional = keras.Model(\n",
    "        inputs=x,\n",
    "        outputs=layer3\n",
    ")\n",
    "model_functional.compile(loss='mse',optimizer='adam',metrics=['mae'])\n",
    "model_functional.fit(x_train, y_train, epochs=100)"
   ]
  },
  {
   "cell_type": "code",
   "execution_count": 23,
   "id": "9cde6456",
   "metadata": {
    "collapsed": true
   },
   "outputs": [
    {
     "name": "stdout",
     "output_type": "stream",
     "text": [
      "Epoch 1/100\n",
      "1/1 [==============================] - 0s 230ms/step - loss: 10.1406 - mae: 2.5933\n",
      "Epoch 2/100\n",
      "1/1 [==============================] - 0s 2ms/step - loss: 9.6675 - mae: 2.5319\n",
      "Epoch 3/100\n",
      "1/1 [==============================] - 0s 3ms/step - loss: 9.2059 - mae: 2.4703\n",
      "Epoch 4/100\n",
      "1/1 [==============================] - 0s 2ms/step - loss: 8.7561 - mae: 2.4089\n",
      "Epoch 5/100\n",
      "1/1 [==============================] - 0s 4ms/step - loss: 8.3182 - mae: 2.3475\n",
      "Epoch 6/100\n",
      "1/1 [==============================] - 0s 4ms/step - loss: 7.8923 - mae: 2.2862\n",
      "Epoch 7/100\n",
      "1/1 [==============================] - 0s 4ms/step - loss: 7.4783 - mae: 2.2250\n",
      "Epoch 8/100\n",
      "1/1 [==============================] - 0s 3ms/step - loss: 7.0764 - mae: 2.1640\n",
      "Epoch 9/100\n",
      "1/1 [==============================] - 0s 3ms/step - loss: 6.6866 - mae: 2.1031\n",
      "Epoch 10/100\n",
      "1/1 [==============================] - 0s 3ms/step - loss: 6.3089 - mae: 2.0424\n",
      "Epoch 11/100\n",
      "1/1 [==============================] - 0s 3ms/step - loss: 5.9420 - mae: 1.9817\n",
      "Epoch 12/100\n",
      "1/1 [==============================] - 0s 2ms/step - loss: 5.5875 - mae: 1.9212\n",
      "Epoch 13/100\n",
      "1/1 [==============================] - 0s 4ms/step - loss: 5.2476 - mae: 1.8614\n",
      "Epoch 14/100\n",
      "1/1 [==============================] - 0s 3ms/step - loss: 4.9193 - mae: 1.8018\n",
      "Epoch 15/100\n",
      "1/1 [==============================] - 0s 2ms/step - loss: 4.5854 - mae: 1.7388\n",
      "Epoch 16/100\n",
      "1/1 [==============================] - 0s 4ms/step - loss: 4.2487 - mae: 1.6732\n",
      "Epoch 17/100\n",
      "1/1 [==============================] - 0s 3ms/step - loss: 3.9169 - mae: 1.6059\n",
      "Epoch 18/100\n",
      "1/1 [==============================] - 0s 2ms/step - loss: 3.5941 - mae: 1.5376\n",
      "Epoch 19/100\n",
      "1/1 [==============================] - 0s 4ms/step - loss: 3.2824 - mae: 1.4687\n",
      "Epoch 20/100\n",
      "1/1 [==============================] - 0s 3ms/step - loss: 2.9835 - mae: 1.3995\n",
      "Epoch 21/100\n",
      "1/1 [==============================] - 0s 2ms/step - loss: 2.6983 - mae: 1.3301\n",
      "Epoch 22/100\n",
      "1/1 [==============================] - 0s 3ms/step - loss: 2.4277 - mae: 1.2608\n",
      "Epoch 23/100\n",
      "1/1 [==============================] - 0s 3ms/step - loss: 2.1721 - mae: 1.1916\n",
      "Epoch 24/100\n",
      "1/1 [==============================] - 0s 2ms/step - loss: 1.9320 - mae: 1.1228\n",
      "Epoch 25/100\n",
      "1/1 [==============================] - 0s 2ms/step - loss: 1.7075 - mae: 1.0545\n",
      "Epoch 26/100\n",
      "1/1 [==============================] - 0s 3ms/step - loss: 1.4941 - mae: 0.9851\n",
      "Epoch 27/100\n",
      "1/1 [==============================] - 0s 2ms/step - loss: 1.2955 - mae: 0.9159\n",
      "Epoch 28/100\n",
      "1/1 [==============================] - 0s 2ms/step - loss: 1.1117 - mae: 0.8469\n",
      "Epoch 29/100\n",
      "1/1 [==============================] - 0s 4ms/step - loss: 0.9433 - mae: 0.7785\n",
      "Epoch 30/100\n",
      "1/1 [==============================] - 0s 3ms/step - loss: 0.7906 - mae: 0.7111\n",
      "Epoch 31/100\n",
      "1/1 [==============================] - 0s 3ms/step - loss: 0.6537 - mae: 0.6453\n",
      "Epoch 32/100\n",
      "1/1 [==============================] - 0s 3ms/step - loss: 0.5320 - mae: 0.5807\n",
      "Epoch 33/100\n",
      "1/1 [==============================] - 0s 3ms/step - loss: 0.4253 - mae: 0.5174\n",
      "Epoch 34/100\n",
      "1/1 [==============================] - 0s 2ms/step - loss: 0.3341 - mae: 0.4571\n",
      "Epoch 35/100\n",
      "1/1 [==============================] - 0s 2ms/step - loss: 0.2579 - mae: 0.3999\n",
      "Epoch 36/100\n",
      "1/1 [==============================] - 0s 2ms/step - loss: 0.1979 - mae: 0.3476\n",
      "Epoch 37/100\n",
      "1/1 [==============================] - 0s 3ms/step - loss: 0.1480 - mae: 0.2969\n",
      "Epoch 38/100\n",
      "1/1 [==============================] - 0s 2ms/step - loss: 0.1072 - mae: 0.2586\n",
      "Epoch 39/100\n",
      "1/1 [==============================] - 0s 3ms/step - loss: 0.0763 - mae: 0.2240\n",
      "Epoch 40/100\n",
      "1/1 [==============================] - 0s 2ms/step - loss: 0.0497 - mae: 0.1870\n",
      "Epoch 41/100\n",
      "1/1 [==============================] - 0s 3ms/step - loss: 0.0315 - mae: 0.1540\n",
      "Epoch 42/100\n",
      "1/1 [==============================] - 0s 3ms/step - loss: 0.0189 - mae: 0.1221\n",
      "Epoch 43/100\n",
      "1/1 [==============================] - 0s 2ms/step - loss: 0.0114 - mae: 0.0949\n",
      "Epoch 44/100\n",
      "1/1 [==============================] - 0s 3ms/step - loss: 0.0079 - mae: 0.0803\n",
      "Epoch 45/100\n",
      "1/1 [==============================] - 0s 3ms/step - loss: 0.0075 - mae: 0.0682\n",
      "Epoch 46/100\n",
      "1/1 [==============================] - 0s 4ms/step - loss: 0.0088 - mae: 0.0799\n",
      "Epoch 47/100\n",
      "1/1 [==============================] - 0s 998us/step - loss: 0.0105 - mae: 0.0945\n",
      "Epoch 48/100\n",
      "1/1 [==============================] - 0s 2ms/step - loss: 0.0119 - mae: 0.1039\n",
      "Epoch 49/100\n",
      "1/1 [==============================] - 0s 2ms/step - loss: 0.0127 - mae: 0.1089\n",
      "Epoch 50/100\n",
      "1/1 [==============================] - 0s 2ms/step - loss: 0.0121 - mae: 0.1065\n",
      "Epoch 51/100\n",
      "1/1 [==============================] - 0s 2ms/step - loss: 0.0101 - mae: 0.0954\n",
      "Epoch 52/100\n",
      "1/1 [==============================] - 0s 4ms/step - loss: 0.0078 - mae: 0.0802\n",
      "Epoch 53/100\n",
      "1/1 [==============================] - 0s 3ms/step - loss: 0.0059 - mae: 0.0618\n",
      "Epoch 54/100\n",
      "1/1 [==============================] - 0s 997us/step - loss: 0.0049 - mae: 0.0568\n",
      "Epoch 55/100\n",
      "1/1 [==============================] - 0s 3ms/step - loss: 0.0050 - mae: 0.0633\n",
      "Epoch 56/100\n",
      "1/1 [==============================] - 0s 3ms/step - loss: 0.0059 - mae: 0.0685\n",
      "Epoch 57/100\n",
      "1/1 [==============================] - 0s 3ms/step - loss: 0.0067 - mae: 0.0736\n",
      "Epoch 58/100\n",
      "1/1 [==============================] - 0s 2ms/step - loss: 0.0069 - mae: 0.0754\n",
      "Epoch 59/100\n",
      "1/1 [==============================] - 0s 2ms/step - loss: 0.0065 - mae: 0.0724\n",
      "Epoch 60/100\n",
      "1/1 [==============================] - 0s 2ms/step - loss: 0.0056 - mae: 0.0667\n",
      "Epoch 61/100\n",
      "1/1 [==============================] - 0s 2ms/step - loss: 0.0048 - mae: 0.0621\n",
      "Epoch 62/100\n",
      "1/1 [==============================] - 0s 2ms/step - loss: 0.0043 - mae: 0.0569\n",
      "Epoch 63/100\n",
      "1/1 [==============================] - 0s 4ms/step - loss: 0.0042 - mae: 0.0519\n",
      "Epoch 64/100\n",
      "1/1 [==============================] - 0s 2ms/step - loss: 0.0044 - mae: 0.0480\n",
      "Epoch 65/100\n",
      "1/1 [==============================] - 0s 2ms/step - loss: 0.0047 - mae: 0.0537\n",
      "Epoch 66/100\n",
      "1/1 [==============================] - 0s 2ms/step - loss: 0.0048 - mae: 0.0566\n",
      "Epoch 67/100\n",
      "1/1 [==============================] - 0s 3ms/step - loss: 0.0047 - mae: 0.0559\n",
      "Epoch 68/100\n",
      "1/1 [==============================] - 0s 2ms/step - loss: 0.0044 - mae: 0.0518\n",
      "Epoch 69/100\n",
      "1/1 [==============================] - 0s 3ms/step - loss: 0.0040 - mae: 0.0456\n",
      "Epoch 70/100\n",
      "1/1 [==============================] - 0s 3ms/step - loss: 0.0036 - mae: 0.0459\n",
      "Epoch 71/100\n",
      "1/1 [==============================] - 0s 995us/step - loss: 0.0034 - mae: 0.0482\n",
      "Epoch 72/100\n",
      "1/1 [==============================] - 0s 3ms/step - loss: 0.0034 - mae: 0.0502\n",
      "Epoch 73/100\n",
      "1/1 [==============================] - 0s 997us/step - loss: 0.0035 - mae: 0.0517\n",
      "Epoch 74/100\n",
      "1/1 [==============================] - 0s 3ms/step - loss: 0.0035 - mae: 0.0523\n",
      "Epoch 75/100\n",
      "1/1 [==============================] - 0s 3ms/step - loss: 0.0035 - mae: 0.0519\n",
      "Epoch 76/100\n",
      "1/1 [==============================] - 0s 998us/step - loss: 0.0034 - mae: 0.0507\n",
      "Epoch 77/100\n",
      "1/1 [==============================] - 0s 2ms/step - loss: 0.0031 - mae: 0.0487\n",
      "Epoch 78/100\n",
      "1/1 [==============================] - 0s 3ms/step - loss: 0.0029 - mae: 0.0462\n",
      "Epoch 79/100\n",
      "1/1 [==============================] - 0s 3ms/step - loss: 0.0028 - mae: 0.0435\n",
      "Epoch 80/100\n",
      "1/1 [==============================] - 0s 2ms/step - loss: 0.0027 - mae: 0.0409\n",
      "Epoch 81/100\n",
      "1/1 [==============================] - 0s 3ms/step - loss: 0.0027 - mae: 0.0387\n",
      "Epoch 82/100\n",
      "1/1 [==============================] - 0s 3ms/step - loss: 0.0027 - mae: 0.0370\n",
      "Epoch 83/100\n",
      "1/1 [==============================] - 0s 2ms/step - loss: 0.0027 - mae: 0.0364\n",
      "Epoch 84/100\n",
      "1/1 [==============================] - 0s 2ms/step - loss: 0.0026 - mae: 0.0356\n",
      "Epoch 85/100\n",
      "1/1 [==============================] - 0s 4ms/step - loss: 0.0025 - mae: 0.0357\n",
      "Epoch 86/100\n",
      "1/1 [==============================] - 0s 3ms/step - loss: 0.0024 - mae: 0.0362\n",
      "Epoch 87/100\n",
      "1/1 [==============================] - 0s 998us/step - loss: 0.0023 - mae: 0.0369\n",
      "Epoch 88/100\n",
      "1/1 [==============================] - 0s 2ms/step - loss: 0.0022 - mae: 0.0375\n",
      "Epoch 89/100\n"
     ]
    },
    {
     "name": "stdout",
     "output_type": "stream",
     "text": [
      "1/1 [==============================] - 0s 3ms/step - loss: 0.0022 - mae: 0.0380\n",
      "Epoch 90/100\n",
      "1/1 [==============================] - 0s 2ms/step - loss: 0.0022 - mae: 0.0381\n",
      "Epoch 91/100\n",
      "1/1 [==============================] - 0s 2ms/step - loss: 0.0022 - mae: 0.0377\n",
      "Epoch 92/100\n",
      "1/1 [==============================] - 0s 3ms/step - loss: 0.0021 - mae: 0.0366\n",
      "Epoch 93/100\n",
      "1/1 [==============================] - 0s 3ms/step - loss: 0.0019 - mae: 0.0347\n",
      "Epoch 94/100\n",
      "1/1 [==============================] - 0s 3ms/step - loss: 0.0016 - mae: 0.0322\n",
      "Epoch 95/100\n",
      "1/1 [==============================] - 0s 997us/step - loss: 0.0014 - mae: 0.0291\n",
      "Epoch 96/100\n",
      "1/1 [==============================] - 0s 2ms/step - loss: 0.0011 - mae: 0.0247\n",
      "Epoch 97/100\n",
      "1/1 [==============================] - 0s 2ms/step - loss: 0.0012 - mae: 0.0277\n",
      "Epoch 98/100\n",
      "1/1 [==============================] - 0s 2ms/step - loss: 0.0012 - mae: 0.0268\n",
      "Epoch 99/100\n",
      "1/1 [==============================] - 0s 996us/step - loss: 0.0010 - mae: 0.0229\n",
      "Epoch 100/100\n",
      "1/1 [==============================] - 0s 2ms/step - loss: 0.0010 - mae: 0.0215\n"
     ]
    },
    {
     "data": {
      "text/plain": [
       "<keras.callbacks.History at 0x1e2c8f1c978>"
      ]
     },
     "execution_count": 23,
     "metadata": {},
     "output_type": "execute_result"
    }
   ],
   "source": [
    "model_functional.fit(x_train, y_train, epochs=100)"
   ]
  },
  {
   "cell_type": "code",
   "execution_count": 104,
   "id": "8fe207b3",
   "metadata": {},
   "outputs": [
    {
     "data": {
      "image/png": "[encoded data removed]",
      "text/plain": [
       "<IPython.core.display.Image object>"
      ]
     },
     "execution_count": 104,
     "metadata": {},
     "output_type": "execute_result"
    }
   ],
   "source": [
    "import pydot\n",
    "\n",
    "#keras.utils.plot_model(model_functional, \"my_first_model.png\", show_shapes=True)\n",
    "keras.utils.plot_model(feature_extractor, \"my_first_model.png\", show_shapes=True)"
   ]
  },
  {
   "cell_type": "code",
   "execution_count": 65,
   "id": "85e934ae",
   "metadata": {
    "collapsed": true
   },
   "outputs": [
    {
     "data": {
      "text/plain": [
       "([86, 172], [4, 8], [26, 52], [22, 44], [95, 190])"
      ]
     },
     "execution_count": 65,
     "metadata": {},
     "output_type": "execute_result"
    },
    {
     "data": {
      "text/plain": [
       "(86, 4, 26, 22, 95)"
      ]
     },
     "execution_count": 65,
     "metadata": {},
     "output_type": "execute_result"
    },
    {
     "data": {
      "text/plain": [
       "(0,\n",
       " 0,\n",
       " 0,\n",
       " 0,\n",
       " 0,\n",
       " 0,\n",
       " 0,\n",
       " 0,\n",
       " 0,\n",
       " 0,\n",
       " 0,\n",
       " 0,\n",
       " 0,\n",
       " 0,\n",
       " 0,\n",
       " 0,\n",
       " 0,\n",
       " 0,\n",
       " 0,\n",
       " 0,\n",
       " 0,\n",
       " 0,\n",
       " 0,\n",
       " 0,\n",
       " 0,\n",
       " 0,\n",
       " 0,\n",
       " 0,\n",
       " 0,\n",
       " 0,\n",
       " 0,\n",
       " 0,\n",
       " 0,\n",
       " 0,\n",
       " 0,\n",
       " 0,\n",
       " 0,\n",
       " 0,\n",
       " 0,\n",
       " 0,\n",
       " 0,\n",
       " 0,\n",
       " 0,\n",
       " 0,\n",
       " 0,\n",
       " 0,\n",
       " 0,\n",
       " 0,\n",
       " 0,\n",
       " 0,\n",
       " 0,\n",
       " 0,\n",
       " 0,\n",
       " 0,\n",
       " 0,\n",
       " 0,\n",
       " 0,\n",
       " 0,\n",
       " 0,\n",
       " 0,\n",
       " 0,\n",
       " 0,\n",
       " 0,\n",
       " 0,\n",
       " 0,\n",
       " 0,\n",
       " 0,\n",
       " 0,\n",
       " 0,\n",
       " 0,\n",
       " 0,\n",
       " 0,\n",
       " 0,\n",
       " 0,\n",
       " 0,\n",
       " 0,\n",
       " 0,\n",
       " 0,\n",
       " 0,\n",
       " 0,\n",
       " 0,\n",
       " 0,\n",
       " 0,\n",
       " 0,\n",
       " 0,\n",
       " 0,\n",
       " 0,\n",
       " 0,\n",
       " 0,\n",
       " 0,\n",
       " 0,\n",
       " 0,\n",
       " 0,\n",
       " 0,\n",
       " 0,\n",
       " 0,\n",
       " 0,\n",
       " 0,\n",
       " 0,\n",
       " 0)"
      ]
     },
     "execution_count": 65,
     "metadata": {},
     "output_type": "execute_result"
    }
   ],
   "source": [
    "low = 0\n",
    "high = 100\n",
    "xtrain = [[i,i*2] for i in range(low,high)]\n",
    "xtrain_ab = [[i,i*3] for i in range(3,5)]\n",
    "xtrain=xtrain+xtrain_ab\n",
    "#xtrain\n",
    "ytrain = [(lambda x: x*2 - x)(i) for i in range(low,high)]\n",
    "ytrainclass = [0 if (xtrain[i][1]-xtrain[i][0]==xtrain[i][0]) else 1 for i in range(low,len(xtrain))]\n",
    "\n",
    "import random\n",
    "c = list(zip(xtrain, ytrainclass, ytrain))\n",
    "\n",
    "random.shuffle(c)\n",
    "\n",
    "xtrain, ytrainclass, ytrain = zip(*c)\n",
    "xtrain[:5]\n",
    "ytrain[:5]\n",
    "ytrainclass"
   ]
  },
  {
   "cell_type": "code",
   "execution_count": 83,
   "id": "d44020c3",
   "metadata": {},
   "outputs": [
    {
     "name": "stdout",
     "output_type": "stream",
     "text": [
      "Model: \"model_10\"\n",
      "_________________________________________________________________\n",
      "Layer (type)                 Output Shape              Param #   \n",
      "=================================================================\n",
      "input_12 (InputLayer)        [(None, 2)]               0         \n",
      "_________________________________________________________________\n",
      "model_8 (Functional)         (None, 8)                 1416      \n",
      "_________________________________________________________________\n",
      "model_9 (Functional)         (None, 1)                 1377      \n",
      "=================================================================\n",
      "Total params: 2,793\n",
      "Trainable params: 2,793\n",
      "Non-trainable params: 0\n",
      "_________________________________________________________________\n"
     ]
    }
   ],
   "source": [
    "x = keras.Input(shape=(2,))\n",
    "layer1 = keras.layers.Dense(units=32, activation='relu')(x)\n",
    "layer2 = keras.layers.Dense(units=32, activation='relu')(layer1)\n",
    "layer3 = keras.layers.Dense(units=8, activation='relu')(layer2)\n",
    "encoder = keras.Model(inputs=x,outputs=layer3)\n",
    "\n",
    "x = keras.Input(shape=(8,))\n",
    "layer1 = keras.layers.Dense(units=32, activation='relu')(x)\n",
    "layer2 = keras.layers.Dense(units=32, activation='relu')(layer1)\n",
    "layer3 = keras.layers.Dense(units=1, activation='linear')(layer2)\n",
    "decoder = keras.Model(inputs=x,outputs=layer3)\n",
    "\n",
    "x = keras.Input(shape=(2,))\n",
    "#using model as a layer\n",
    "layer1 = encoder(x)\n",
    "layer2 = decoder(layer1)\n",
    "autoencoder = keras.Model(inputs=x,outputs=layer2)\n",
    "\n",
    "autoencoder.summary()"
   ]
  },
  {
   "cell_type": "code",
   "execution_count": 84,
   "id": "1174d926",
   "metadata": {
    "collapsed": true
   },
   "outputs": [
    {
     "name": "stdout",
     "output_type": "stream",
     "text": [
      "Epoch 1/100\n",
      "4/4 [==============================] - 1s 4ms/step - loss: 2782.7258 - mae: 45.5825\n",
      "Epoch 2/100\n",
      "4/4 [==============================] - 0s 4ms/step - loss: 2528.9585 - mae: 43.4198\n",
      "Epoch 3/100\n",
      "4/4 [==============================] - 0s 4ms/step - loss: 2223.9441 - mae: 40.7268\n",
      "Epoch 4/100\n",
      "4/4 [==============================] - 0s 4ms/step - loss: 1888.7489 - mae: 37.5072\n",
      "Epoch 5/100\n",
      "4/4 [==============================] - 0s 3ms/step - loss: 1516.1006 - mae: 33.5497\n",
      "Epoch 6/100\n",
      "4/4 [==============================] - 0s 4ms/step - loss: 1113.6919 - mae: 28.7545\n",
      "Epoch 7/100\n",
      "4/4 [==============================] - 0s 4ms/step - loss: 705.2896 - mae: 22.8918\n",
      "Epoch 8/100\n",
      "4/4 [==============================] - 0s 5ms/step - loss: 337.6437 - mae: 15.7856\n",
      "Epoch 9/100\n",
      "4/4 [==============================] - 0s 5ms/step - loss: 88.9630 - mae: 7.7716\n",
      "Epoch 10/100\n",
      "4/4 [==============================] - 0s 4ms/step - loss: 4.1808 - mae: 1.5305\n",
      "Epoch 11/100\n",
      "4/4 [==============================] - 0s 4ms/step - loss: 54.0970 - mae: 6.3881\n",
      "Epoch 12/100\n",
      "4/4 [==============================] - 0s 3ms/step - loss: 66.0453 - mae: 7.1208\n",
      "Epoch 13/100\n",
      "4/4 [==============================] - 0s 3ms/step - loss: 22.7266 - mae: 4.0747\n",
      "Epoch 14/100\n",
      "4/4 [==============================] - 0s 5ms/step - loss: 0.8641 - mae: 0.7237\n",
      "Epoch 15/100\n",
      "4/4 [==============================] - 0s 6ms/step - loss: 10.3131 - mae: 2.6874\n",
      "Epoch 16/100\n",
      "4/4 [==============================] - 0s 5ms/step - loss: 14.1155 - mae: 3.1610\n",
      "Epoch 17/100\n",
      "4/4 [==============================] - ETA: 0s - loss: 8.9900 - mae: 2.573 - 0s 6ms/step - loss: 5.6403 - mae: 1.9115\n",
      "Epoch 18/100\n",
      "4/4 [==============================] - 0s 7ms/step - loss: 0.2374 - mae: 0.4076\n",
      "Epoch 19/100\n",
      "4/4 [==============================] - 0s 5ms/step - loss: 1.9424 - mae: 1.2831\n",
      "Epoch 20/100\n",
      "4/4 [==============================] - 0s 4ms/step - loss: 2.4433 - mae: 1.4369\n",
      "Epoch 21/100\n",
      "4/4 [==============================] - 0s 5ms/step - loss: 0.7424 - mae: 0.8095\n",
      "Epoch 22/100\n",
      "4/4 [==============================] - 0s 4ms/step - loss: 0.0704 - mae: 0.2319\n",
      "Epoch 23/100\n",
      "4/4 [==============================] - 0s 8ms/step - loss: 0.4139 - mae: 0.5233\n",
      "Epoch 24/100\n",
      "4/4 [==============================] - 0s 6ms/step - loss: 0.5405 - mae: 0.6013\n",
      "Epoch 25/100\n",
      "4/4 [==============================] - 0s 6ms/step - loss: 0.1964 - mae: 0.3669\n",
      "Epoch 26/100\n",
      "4/4 [==============================] - 0s 6ms/step - loss: 0.0614 - mae: 0.2230\n",
      "Epoch 27/100\n",
      "4/4 [==============================] - 0s 3ms/step - loss: 0.1640 - mae: 0.4045\n",
      "Epoch 28/100\n",
      "4/4 [==============================] - 0s 4ms/step - loss: 0.1188 - mae: 0.3395\n",
      "Epoch 29/100\n",
      "4/4 [==============================] - 0s 997us/step - loss: 0.0456 - mae: 0.1817\n",
      "Epoch 30/100\n",
      "4/4 [==============================] - 0s 5ms/step - loss: 0.0676 - mae: 0.2241\n",
      "Epoch 31/100\n",
      "4/4 [==============================] - 0s 7ms/step - loss: 0.0786 - mae: 0.2395\n",
      "Epoch 32/100\n",
      "4/4 [==============================] - 0s 6ms/step - loss: 0.0507 - mae: 0.1968\n",
      "Epoch 33/100\n",
      "4/4 [==============================] - 0s 6ms/step - loss: 0.0407 - mae: 0.1656\n",
      "Epoch 34/100\n",
      "4/4 [==============================] - 0s 8ms/step - loss: 0.0484 - mae: 0.1839\n",
      "Epoch 35/100\n",
      "4/4 [==============================] - 0s 7ms/step - loss: 0.0461 - mae: 0.1758\n",
      "Epoch 36/100\n",
      "4/4 [==============================] - 0s 7ms/step - loss: 0.0404 - mae: 0.1672\n",
      "Epoch 37/100\n",
      "4/4 [==============================] - 0s 9ms/step - loss: 0.0415 - mae: 0.1736\n",
      "Epoch 38/100\n",
      "4/4 [==============================] - 0s 5ms/step - loss: 0.0424 - mae: 0.1764\n",
      "Epoch 39/100\n",
      "4/4 [==============================] - 0s 2ms/step - loss: 0.0402 - mae: 0.1692\n",
      "Epoch 40/100\n",
      "4/4 [==============================] - 0s 2ms/step - loss: 0.0398 - mae: 0.1641\n",
      "Epoch 41/100\n",
      "4/4 [==============================] - 0s 2ms/step - loss: 0.0406 - mae: 0.1647\n",
      "Epoch 42/100\n",
      "4/4 [==============================] - 0s 3ms/step - loss: 0.0392 - mae: 0.1645\n",
      "Epoch 43/100\n",
      "4/4 [==============================] - 0s 3ms/step - loss: 0.0393 - mae: 0.1671\n",
      "Epoch 44/100\n",
      "4/4 [==============================] - 0s 4ms/step - loss: 0.0385 - mae: 0.1649\n",
      "Epoch 45/100\n",
      "4/4 [==============================] - 0s 5ms/step - loss: 0.0386 - mae: 0.1624\n",
      "Epoch 46/100\n",
      "4/4 [==============================] - 0s 6ms/step - loss: 0.0387 - mae: 0.1621\n",
      "Epoch 47/100\n",
      "4/4 [==============================] - 0s 6ms/step - loss: 0.0383 - mae: 0.1633\n",
      "Epoch 48/100\n",
      "4/4 [==============================] - 0s 3ms/step - loss: 0.0381 - mae: 0.1638\n",
      "Epoch 49/100\n",
      "4/4 [==============================] - 0s 4ms/step - loss: 0.0378 - mae: 0.1626\n",
      "Epoch 50/100\n",
      "4/4 [==============================] - 0s 4ms/step - loss: 0.0378 - mae: 0.1617\n",
      "Epoch 51/100\n",
      "4/4 [==============================] - 0s 6ms/step - loss: 0.0380 - mae: 0.1605\n",
      "Epoch 52/100\n",
      "4/4 [==============================] - 0s 3ms/step - loss: 0.0375 - mae: 0.1601\n",
      "Epoch 53/100\n",
      "4/4 [==============================] - 0s 3ms/step - loss: 0.0374 - mae: 0.1625\n",
      "Epoch 54/100\n",
      "4/4 [==============================] - 0s 4ms/step - loss: 0.0374 - mae: 0.1631\n",
      "Epoch 55/100\n",
      "4/4 [==============================] - 0s 3ms/step - loss: 0.0370 - mae: 0.1618\n",
      "Epoch 56/100\n",
      "4/4 [==============================] - 0s 6ms/step - loss: 0.0367 - mae: 0.1602\n",
      "Epoch 57/100\n",
      "4/4 [==============================] - 0s 5ms/step - loss: 0.0364 - mae: 0.1591\n",
      "Epoch 58/100\n",
      "4/4 [==============================] - 0s 3ms/step - loss: 0.0364 - mae: 0.1580\n",
      "Epoch 59/100\n",
      "4/4 [==============================] - 0s 4ms/step - loss: 0.0365 - mae: 0.1574\n",
      "Epoch 60/100\n",
      "4/4 [==============================] - 0s 5ms/step - loss: 0.0361 - mae: 0.1576\n",
      "Epoch 61/100\n",
      "4/4 [==============================] - 0s 7ms/step - loss: 0.0356 - mae: 0.1570\n",
      "Epoch 62/100\n",
      "4/4 [==============================] - 0s 5ms/step - loss: 0.0355 - mae: 0.1560\n",
      "Epoch 63/100\n",
      "4/4 [==============================] - 0s 4ms/step - loss: 0.0353 - mae: 0.1557\n",
      "Epoch 64/100\n",
      "4/4 [==============================] - 0s 4ms/step - loss: 0.0352 - mae: 0.1568\n",
      "Epoch 65/100\n",
      "4/4 [==============================] - 0s 4ms/step - loss: 0.0349 - mae: 0.1559\n",
      "Epoch 66/100\n",
      "4/4 [==============================] - 0s 5ms/step - loss: 0.0346 - mae: 0.1555\n",
      "Epoch 67/100\n",
      "4/4 [==============================] - 0s 5ms/step - loss: 0.0348 - mae: 0.1567\n",
      "Epoch 68/100\n",
      "4/4 [==============================] - 0s 5ms/step - loss: 0.0340 - mae: 0.1539\n",
      "Epoch 69/100\n",
      "4/4 [==============================] - 0s 5ms/step - loss: 0.0372 - mae: 0.1659\n",
      "Epoch 70/100\n",
      "4/4 [==============================] - 0s 5ms/step - loss: 0.0341 - mae: 0.1526\n",
      "Epoch 71/100\n",
      "4/4 [==============================] - 0s 6ms/step - loss: 0.0344 - mae: 0.1540\n",
      "Epoch 72/100\n",
      "4/4 [==============================] - 0s 5ms/step - loss: 0.0335 - mae: 0.1529\n",
      "Epoch 73/100\n",
      "4/4 [==============================] - 0s 5ms/step - loss: 0.0336 - mae: 0.1544\n",
      "Epoch 74/100\n",
      "4/4 [==============================] - 0s 5ms/step - loss: 0.0336 - mae: 0.1550\n",
      "Epoch 75/100\n",
      "4/4 [==============================] - 0s 7ms/step - loss: 0.0331 - mae: 0.1524\n",
      "Epoch 76/100\n",
      "4/4 [==============================] - 0s 5ms/step - loss: 0.0327 - mae: 0.1506\n",
      "Epoch 77/100\n",
      "4/4 [==============================] - 0s 5ms/step - loss: 0.0326 - mae: 0.1499\n",
      "Epoch 78/100\n",
      "4/4 [==============================] - 0s 2ms/step - loss: 0.0319 - mae: 0.1516\n",
      "Epoch 79/100\n",
      "4/4 [==============================] - 0s 564us/step - loss: 0.0376 - mae: 0.1641\n",
      "Epoch 80/100\n",
      "4/4 [==============================] - 0s 3ms/step - loss: 0.0341 - mae: 0.1511\n",
      "Epoch 81/100\n",
      "4/4 [==============================] - 0s 6ms/step - loss: 0.0320 - mae: 0.1509\n",
      "Epoch 82/100\n",
      "4/4 [==============================] - 0s 6ms/step - loss: 0.0313 - mae: 0.1502\n",
      "Epoch 83/100\n",
      "4/4 [==============================] - 0s 2ms/step - loss: 0.0306 - mae: 0.1464\n",
      "Epoch 84/100\n",
      "4/4 [==============================] - 0s 2ms/step - loss: 0.0308 - mae: 0.1454\n",
      "Epoch 85/100\n",
      "4/4 [==============================] - 0s 2ms/step - loss: 0.0302 - mae: 0.1451\n",
      "Epoch 86/100\n",
      "4/4 [==============================] - 0s 3ms/step - loss: 0.0289 - mae: 0.1436\n",
      "Epoch 87/100\n",
      "4/4 [==============================] - 0s 3ms/step - loss: 0.0296 - mae: 0.1476\n",
      "Epoch 88/100\n",
      "4/4 [==============================] - 0s 3ms/step - loss: 0.0284 - mae: 0.1417\n",
      "Epoch 89/100\n",
      "4/4 [==============================] - 0s 3ms/step - loss: 0.0286 - mae: 0.1427\n",
      "Epoch 90/100\n",
      "4/4 [==============================] - 0s 4ms/step - loss: 0.0274 - mae: 0.1422\n",
      "Epoch 91/100\n",
      "4/4 [==============================] - 0s 3ms/step - loss: 0.0256 - mae: 0.1375\n",
      "Epoch 92/100\n",
      "4/4 [==============================] - 0s 4ms/step - loss: 0.0271 - mae: 0.1360\n",
      "Epoch 93/100\n",
      "4/4 [==============================] - 0s 5ms/step - loss: 0.0260 - mae: 0.1363\n",
      "Epoch 94/100\n",
      "4/4 [==============================] - 0s 5ms/step - loss: 0.0223 - mae: 0.1267\n",
      "Epoch 95/100\n",
      "4/4 [==============================] - 0s 2ms/step - loss: 0.0181 - mae: 0.1174\n",
      "Epoch 96/100\n",
      "4/4 [==============================] - 0s 4ms/step - loss: 0.0156 - mae: 0.1096\n",
      "Epoch 97/100\n",
      "4/4 [==============================] - 0s 3ms/step - loss: 0.0112 - mae: 0.0922\n",
      "Epoch 98/100\n",
      "4/4 [==============================] - 0s 3ms/step - loss: 0.0159 - mae: 0.1115\n",
      "Epoch 99/100\n",
      "4/4 [==============================] - 0s 3ms/step - loss: 0.0108 - mae: 0.0902\n",
      "Epoch 100/100\n",
      "4/4 [==============================] - 0s 3ms/step - loss: 0.0149 - mae: 0.1104\n"
     ]
    }
   ],
   "source": [
    "autoencoder.compile(loss='mse',optimizer='adam',metrics=['mae'])\n",
    "history = autoencoder.fit(xtrain, ytrain, epochs=100)\n",
    "#autoencoder.predict([[10,20]])"
   ]
  },
  {
   "cell_type": "code",
   "execution_count": 85,
   "id": "4f5769c4",
   "metadata": {},
   "outputs": [
    {
     "data": {
      "text/plain": [
       "[<matplotlib.lines.Line2D at 0x1e2cd8d8518>]"
      ]
     },
     "execution_count": 85,
     "metadata": {},
     "output_type": "execute_result"
    },
    {
     "data": {
      "image/png": "[encoded data removed]",
      "text/plain": [
       "<Figure size 432x288 with 1 Axes>"
      ]
     },
     "metadata": {
      "needs_background": "light"
     },
     "output_type": "display_data"
    }
   ],
   "source": [
    "import matplotlib.pyplot as plt\n",
    "plt.plot(history.history[\"loss\"])"
   ]
  },
  {
   "cell_type": "code",
   "execution_count": 96,
   "id": "71dc6541",
   "metadata": {},
   "outputs": [
    {
     "data": {
      "text/plain": [
       "<tf.Tensor: shape=(1,), dtype=int32, numpy=array([97])>"
      ]
     },
     "execution_count": 96,
     "metadata": {},
     "output_type": "execute_result"
    }
   ],
   "source": [
    "xtest = [[200,40]]\n",
    "prediction = autoencoder.predict(xtest)\n",
    "prediction_loss = tf.keras.losses.mae(prediction,xtest[0][0])\n",
    "prediction_loss"
   ]
  },
  {
   "cell_type": "code",
   "execution_count": 100,
   "id": "17d51872",
   "metadata": {},
   "outputs": [],
   "source": [
    "def get_model():\n",
    "    inputs = keras.Input(shape=(128,))\n",
    "    outputs = keras.layers.Dense(1)(inputs)\n",
    "    return keras.Model(inputs, outputs)\n",
    "\n",
    "\n",
    "model1 = get_model()\n",
    "model2 = get_model()\n",
    "model3 = get_model()\n",
    "\n",
    "inputs = keras.Input(shape=(128,))\n",
    "y1 = model1(inputs)\n",
    "y2 = model2(inputs)\n",
    "y3 = model3(inputs)\n",
    "outputs = keras.layers.average([y1, y2, y3])\n",
    "ensemble_model = keras.Model(inputs=inputs, outputs=outputs)\n"
   ]
  },
  {
   "cell_type": "code",
   "execution_count": 101,
   "id": "e64ceb25",
   "metadata": {},
   "outputs": [
    {
     "data": {
      "image/png": "[encoded data removed]",
      "text/plain": [
       "<IPython.core.display.Image object>"
      ]
     },
     "execution_count": 101,
     "metadata": {},
     "output_type": "execute_result"
    }
   ],
   "source": [
    "keras.utils.plot_model(ensemble_model, \"my_first_model.png\", show_shapes=True)"
   ]
  },
  {
   "cell_type": "code",
   "execution_count": 114,
   "id": "fa730e55",
   "metadata": {
    "collapsed": true
   },
   "outputs": [
    {
     "name": "stdout",
     "output_type": "stream",
     "text": [
      "Epoch 1/100\n",
      "1/1 [==============================] - 1s 887ms/step - loss: 24.9222 - mae: 4.0694\n",
      "Epoch 2/100\n",
      "1/1 [==============================] - 0s 2ms/step - loss: 22.9642 - mae: 3.9053\n",
      "Epoch 3/100\n",
      "1/1 [==============================] - 0s 4ms/step - loss: 21.1355 - mae: 3.7452\n",
      "Epoch 4/100\n",
      "1/1 [==============================] - 0s 5ms/step - loss: 19.3996 - mae: 3.5867\n",
      "Epoch 5/100\n",
      "1/1 [==============================] - 0s 7ms/step - loss: 17.7536 - mae: 3.4297\n",
      "Epoch 6/100\n",
      "1/1 [==============================] - 0s 2ms/step - loss: 16.1213 - mae: 3.2665\n",
      "Epoch 7/100\n",
      "1/1 [==============================] - 0s 4ms/step - loss: 14.5708 - mae: 3.1040\n",
      "Epoch 8/100\n",
      "1/1 [==============================] - 0s 6ms/step - loss: 13.1504 - mae: 2.9480\n",
      "Epoch 9/100\n",
      "1/1 [==============================] - 0s 9ms/step - loss: 11.8817 - mae: 2.8015\n",
      "Epoch 10/100\n",
      "1/1 [==============================] - 0s 7ms/step - loss: 10.7387 - mae: 2.6618\n",
      "Epoch 11/100\n",
      "1/1 [==============================] - 0s 6ms/step - loss: 9.6628 - mae: 2.5234\n",
      "Epoch 12/100\n",
      "1/1 [==============================] - 0s 5ms/step - loss: 8.6496 - mae: 2.3858\n",
      "Epoch 13/100\n",
      "1/1 [==============================] - 0s 10ms/step - loss: 7.7024 - mae: 2.2499\n",
      "Epoch 14/100\n",
      "1/1 [==============================] - 0s 9ms/step - loss: 6.8250 - mae: 2.1167\n",
      "Epoch 15/100\n",
      "1/1 [==============================] - 0s 14ms/step - loss: 6.0389 - mae: 1.9897\n",
      "Epoch 16/100\n",
      "1/1 [==============================] - 0s 5ms/step - loss: 5.3173 - mae: 1.8658\n",
      "Epoch 17/100\n",
      "1/1 [==============================] - 0s 4ms/step - loss: 4.6662 - mae: 1.7462\n",
      "Epoch 18/100\n",
      "1/1 [==============================] - 0s 8ms/step - loss: 4.0679 - mae: 1.6287\n",
      "Epoch 19/100\n",
      "1/1 [==============================] - 0s 10ms/step - loss: 3.5207 - mae: 1.5134\n",
      "Epoch 20/100\n",
      "1/1 [==============================] - 0s 10ms/step - loss: 3.0235 - mae: 1.4006\n",
      "Epoch 21/100\n",
      "1/1 [==============================] - 0s 13ms/step - loss: 2.5745 - mae: 1.2906\n",
      "Epoch 22/100\n",
      "1/1 [==============================] - 0s 7ms/step - loss: 2.1733 - mae: 1.1843\n",
      "Epoch 23/100\n",
      "1/1 [==============================] - 0s 7ms/step - loss: 1.8165 - mae: 1.0812\n",
      "Epoch 24/100\n",
      "1/1 [==============================] - 0s 8ms/step - loss: 1.5096 - mae: 0.9842\n",
      "Epoch 25/100\n",
      "1/1 [==============================] - 0s 35ms/step - loss: 1.2514 - mae: 0.8935\n",
      "Epoch 26/100\n",
      "1/1 [==============================] - 0s 13ms/step - loss: 1.0238 - mae: 0.8053\n",
      "Epoch 27/100\n",
      "1/1 [==============================] - 0s 10ms/step - loss: 0.8250 - mae: 0.7196\n",
      "Epoch 28/100\n",
      "1/1 [==============================] - 0s 22ms/step - loss: 0.6533 - mae: 0.6366\n",
      "Epoch 29/100\n",
      "1/1 [==============================] - 0s 9ms/step - loss: 0.5068 - mae: 0.5564\n",
      "Epoch 30/100\n",
      "1/1 [==============================] - 0s 48ms/step - loss: 0.3838 - mae: 0.4791\n",
      "Epoch 31/100\n",
      "1/1 [==============================] - 0s 12ms/step - loss: 0.2824 - mae: 0.4055\n",
      "Epoch 32/100\n",
      "1/1 [==============================] - 0s 13ms/step - loss: 0.2007 - mae: 0.3505\n",
      "Epoch 33/100\n",
      "1/1 [==============================] - 0s 13ms/step - loss: 0.1369 - mae: 0.2978\n",
      "Epoch 34/100\n",
      "1/1 [==============================] - 0s 7ms/step - loss: 0.0889 - mae: 0.2476\n",
      "Epoch 35/100\n",
      "1/1 [==============================] - 0s 6ms/step - loss: 0.0546 - mae: 0.1994\n",
      "Epoch 36/100\n",
      "1/1 [==============================] - 0s 7ms/step - loss: 0.0321 - mae: 0.1542\n",
      "Epoch 37/100\n",
      "1/1 [==============================] - 0s 11ms/step - loss: 0.0195 - mae: 0.1262\n",
      "Epoch 38/100\n",
      "1/1 [==============================] - 0s 8ms/step - loss: 0.0147 - mae: 0.1064\n",
      "Epoch 39/100\n",
      "1/1 [==============================] - 0s 7ms/step - loss: 0.0155 - mae: 0.0990\n",
      "Epoch 40/100\n",
      "1/1 [==============================] - 0s 8ms/step - loss: 0.0200 - mae: 0.1259\n",
      "Epoch 41/100\n",
      "1/1 [==============================] - 0s 5ms/step - loss: 0.0260 - mae: 0.1518\n",
      "Epoch 42/100\n",
      "1/1 [==============================] - 0s 8ms/step - loss: 0.0319 - mae: 0.1707\n",
      "Epoch 43/100\n",
      "1/1 [==============================] - 0s 13ms/step - loss: 0.0372 - mae: 0.1854\n",
      "Epoch 44/100\n",
      "1/1 [==============================] - 0s 9ms/step - loss: 0.0415 - mae: 0.1958\n",
      "Epoch 45/100\n",
      "1/1 [==============================] - 0s 5ms/step - loss: 0.0442 - mae: 0.2019\n",
      "Epoch 46/100\n",
      "1/1 [==============================] - 0s 8ms/step - loss: 0.0450 - mae: 0.2036\n",
      "Epoch 47/100\n",
      "1/1 [==============================] - 0s 7ms/step - loss: 0.0435 - mae: 0.1996\n",
      "Epoch 48/100\n",
      "1/1 [==============================] - 0s 6ms/step - loss: 0.0399 - mae: 0.1911\n",
      "Epoch 49/100\n",
      "1/1 [==============================] - 0s 12ms/step - loss: 0.0352 - mae: 0.1792\n",
      "Epoch 50/100\n",
      "1/1 [==============================] - 0s 14ms/step - loss: 0.0298 - mae: 0.1644\n",
      "Epoch 51/100\n",
      "1/1 [==============================] - 0s 11ms/step - loss: 0.0242 - mae: 0.1472\n",
      "Epoch 52/100\n",
      "1/1 [==============================] - 0s 9ms/step - loss: 0.0189 - mae: 0.1280\n",
      "Epoch 53/100\n",
      "1/1 [==============================] - 0s 9ms/step - loss: 0.0141 - mae: 0.1071\n",
      "Epoch 54/100\n",
      "1/1 [==============================] - 0s 12ms/step - loss: 0.0102 - mae: 0.0849\n",
      "Epoch 55/100\n",
      "1/1 [==============================] - 0s 11ms/step - loss: 0.0074 - mae: 0.0639\n",
      "Epoch 56/100\n",
      "1/1 [==============================] - 0s 8ms/step - loss: 0.0060 - mae: 0.0638\n",
      "Epoch 57/100\n",
      "1/1 [==============================] - 0s 11ms/step - loss: 0.0060 - mae: 0.0682\n",
      "Epoch 58/100\n",
      "1/1 [==============================] - 0s 14ms/step - loss: 0.0070 - mae: 0.0716\n",
      "Epoch 59/100\n",
      "1/1 [==============================] - 0s 10ms/step - loss: 0.0084 - mae: 0.0748\n",
      "Epoch 60/100\n",
      "1/1 [==============================] - 0s 7ms/step - loss: 0.0098 - mae: 0.0813\n",
      "Epoch 61/100\n",
      "1/1 [==============================] - 0s 7ms/step - loss: 0.0107 - mae: 0.0836\n",
      "Epoch 62/100\n",
      "1/1 [==============================] - 0s 8ms/step - loss: 0.0105 - mae: 0.0829\n",
      "Epoch 63/100\n",
      "1/1 [==============================] - 0s 7ms/step - loss: 0.0093 - mae: 0.0783\n",
      "Epoch 64/100\n",
      "1/1 [==============================] - 0s 6ms/step - loss: 0.0079 - mae: 0.0718\n",
      "Epoch 65/100\n",
      "1/1 [==============================] - 0s 10ms/step - loss: 0.0062 - mae: 0.0630\n",
      "Epoch 66/100\n",
      "1/1 [==============================] - 0s 30ms/step - loss: 0.0048 - mae: 0.0542\n",
      "Epoch 67/100\n",
      "1/1 [==============================] - 0s 7ms/step - loss: 0.0037 - mae: 0.0503\n",
      "Epoch 68/100\n",
      "1/1 [==============================] - 0s 6ms/step - loss: 0.0030 - mae: 0.0465\n",
      "Epoch 69/100\n",
      "1/1 [==============================] - 0s 5ms/step - loss: 0.0025 - mae: 0.0420\n",
      "Epoch 70/100\n",
      "1/1 [==============================] - 0s 5ms/step - loss: 0.0022 - mae: 0.0377\n",
      "Epoch 71/100\n",
      "1/1 [==============================] - 0s 7ms/step - loss: 0.0021 - mae: 0.0347\n",
      "Epoch 72/100\n",
      "1/1 [==============================] - 0s 6ms/step - loss: 0.0020 - mae: 0.0331\n",
      "Epoch 73/100\n",
      "1/1 [==============================] - 0s 8ms/step - loss: 0.0019 - mae: 0.0325\n",
      "Epoch 74/100\n",
      "1/1 [==============================] - 0s 4ms/step - loss: 0.0018 - mae: 0.0320\n",
      "Epoch 75/100\n",
      "1/1 [==============================] - 0s 7ms/step - loss: 0.0017 - mae: 0.0318\n",
      "Epoch 76/100\n",
      "1/1 [==============================] - 0s 3ms/step - loss: 0.0015 - mae: 0.0311\n",
      "Epoch 77/100\n",
      "1/1 [==============================] - 0s 6ms/step - loss: 0.0014 - mae: 0.0298\n",
      "Epoch 78/100\n",
      "1/1 [==============================] - 0s 5ms/step - loss: 0.0012 - mae: 0.0282\n",
      "Epoch 79/100\n",
      "1/1 [==============================] - 0s 7ms/step - loss: 0.0011 - mae: 0.0268\n",
      "Epoch 80/100\n",
      "1/1 [==============================] - 0s 3ms/step - loss: 9.9587e-04 - mae: 0.0254\n",
      "Epoch 81/100\n",
      "1/1 [==============================] - 0s 8ms/step - loss: 9.2274e-04 - mae: 0.0243\n",
      "Epoch 82/100\n",
      "1/1 [==============================] - 0s 12ms/step - loss: 8.6634e-04 - mae: 0.0231\n",
      "Epoch 83/100\n",
      "1/1 [==============================] - 0s 8ms/step - loss: 8.3004e-04 - mae: 0.0222\n",
      "Epoch 84/100\n",
      "1/1 [==============================] - 0s 5ms/step - loss: 8.0282e-04 - mae: 0.0213\n",
      "Epoch 85/100\n",
      "1/1 [==============================] - 0s 8ms/step - loss: 7.7610e-04 - mae: 0.0208\n",
      "Epoch 86/100\n",
      "1/1 [==============================] - 0s 13ms/step - loss: 7.4615e-04 - mae: 0.0207\n",
      "Epoch 87/100\n",
      "1/1 [==============================] - 0s 7ms/step - loss: 7.1344e-04 - mae: 0.0202\n",
      "Epoch 88/100\n",
      "1/1 [==============================] - 0s 4ms/step - loss: 6.8408e-04 - mae: 0.0196\n",
      "Epoch 89/100\n",
      "1/1 [==============================] - 0s 8ms/step - loss: 6.5909e-04 - mae: 0.0194\n",
      "Epoch 90/100\n",
      "1/1 [==============================] - 0s 7ms/step - loss: 6.3349e-04 - mae: 0.0188\n",
      "Epoch 91/100\n",
      "1/1 [==============================] - 0s 5ms/step - loss: 6.0552e-04 - mae: 0.0185\n",
      "Epoch 92/100\n",
      "1/1 [==============================] - 0s 7ms/step - loss: 5.8003e-04 - mae: 0.0186\n",
      "Epoch 93/100\n",
      "1/1 [==============================] - 0s 8ms/step - loss: 5.5831e-04 - mae: 0.0186\n",
      "Epoch 94/100\n",
      "1/1 [==============================] - 0s 11ms/step - loss: 5.3611e-04 - mae: 0.0183\n",
      "Epoch 95/100\n",
      "1/1 [==============================] - 0s 6ms/step - loss: 5.1271e-04 - mae: 0.0182\n",
      "Epoch 96/100\n",
      "1/1 [==============================] - 0s 5ms/step - loss: 4.9167e-04 - mae: 0.0182\n",
      "Epoch 97/100\n",
      "1/1 [==============================] - 0s 15ms/step - loss: 4.7298e-04 - mae: 0.0181\n",
      "Epoch 98/100\n",
      "1/1 [==============================] - 0s 6ms/step - loss: 4.5356e-04 - mae: 0.0180\n",
      "Epoch 99/100\n",
      "1/1 [==============================] - 0s 9ms/step - loss: 4.3760e-04 - mae: 0.0179\n",
      "Epoch 100/100\n",
      "1/1 [==============================] - 0s 6ms/step - loss: 4.2402e-04 - mae: 0.0178\n"
     ]
    },
    {
     "data": {
      "text/plain": [
       "<keras.callbacks.History at 0x1e2cdab1c50>"
      ]
     },
     "execution_count": 114,
     "metadata": {},
     "output_type": "execute_result"
    },
    {
     "data": {
      "image/png": "[encoded data removed]",
      "text/plain": [
       "<IPython.core.display.Image object>"
      ]
     },
     "execution_count": 114,
     "metadata": {},
     "output_type": "execute_result"
    }
   ],
   "source": [
    "x = keras.Input(shape=(2,))\n",
    "layer1 = keras.layers.Dense(units=32, activation='relu')(x)\n",
    "layer2 = keras.layers.Dense(units=32, activation='relu')(layer1)\n",
    "layer3 = keras.layers.Dense(units=32, activation='relu')(layer2)\n",
    "block1 = keras.layers.add([layer3,layer2])\n",
    "layer3 = keras.layers.Dense(units=1, activation='linear')(block1)\n",
    "resnet = keras.Model(\n",
    "        inputs=x,\n",
    "        outputs=layer3\n",
    ")\n",
    "resnet.compile(loss='mse',optimizer='adam',metrics=['mae'])\n",
    "resnet.fit(x_train, y_train, epochs=100)\n",
    "keras.utils.plot_model(resnet, \"my_first_model.png\", show_shapes=True)"
   ]
  },
  {
   "cell_type": "code",
   "execution_count": 115,
   "id": "9d6fafb1",
   "metadata": {},
   "outputs": [],
   "source": [
    "class Linear(keras.layers.Layer):\n",
    "    def __init__(self, units):\n",
    "        super(Linear, self).__init__()\n",
    "        self.units = units\n",
    "        \n",
    "    def build(self, input_shape):\n",
    "        self.w = self.add_weight(shape = (input_shape[-1], self.units), initializers = 'random_normal', trainable = True)\n",
    "        self.b = self.add_weight(shape = (self.units,), initializer= 'random_normal', trainable=True)\n",
    "        \n",
    "    def call(self, inputs):\n",
    "        return tf.matmul(inputs, self.w) + b"
   ]
  },
  {
   "cell_type": "code",
   "execution_count": 208,
   "id": "dd4857a4",
   "metadata": {},
   "outputs": [
    {
     "name": "stdout",
     "output_type": "stream",
     "text": [
      "building\n",
      "building\n"
     ]
    }
   ],
   "source": [
    "class CustomDense(keras.layers.Layer):\n",
    "    def __init__(self, units):\n",
    "        super(CustomDense, self).__init__()\n",
    "        self.units = units\n",
    "    \n",
    "    def build(self, input_shape):\n",
    "        print(\"building\")\n",
    "        self.w = self.add_weight(shape=(input_shape[-1],self.units), initializer=\"random_normal\", trainable=True)\n",
    "        self.b = self.add_weight(shape=(self.units,), initializer=\"random_normal\", trainable=True)\n",
    "        \n",
    "    def call(self, inputs):\n",
    "        #self.add_loss(0.01 * tf.reduce_sum(inputs))\n",
    "        #print(\"self.units \",self.units)\n",
    "        #print(\"inputs are \",inputs)\n",
    "        #print(\"weights are \",self.w)\n",
    "        return tf.matmul(inputs, self.w) + self.b\n",
    "    \n",
    "    def get_config(self):\n",
    "        return {'units': self.units}\n",
    "    \n",
    "inputs = keras.Input((1,))\n",
    "layer1 = CustomDense(units=32)(inputs)\n",
    "outputs = CustomDense(units=1)(layer1)\n",
    "model = keras.Model(inputs,outputs)"
   ]
  },
  {
   "cell_type": "code",
   "execution_count": 197,
   "id": "63da6b79",
   "metadata": {},
   "outputs": [
    {
     "data": {
      "text/plain": [
       "[]"
      ]
     },
     "execution_count": 197,
     "metadata": {},
     "output_type": "execute_result"
    }
   ],
   "source": [
    "model.losses"
   ]
  },
  {
   "cell_type": "code",
   "execution_count": 198,
   "id": "5f7274a9",
   "metadata": {
    "collapsed": true
   },
   "outputs": [
    {
     "data": {
      "text/plain": [
       "array([ 0.,  1.,  2.,  3.,  4.,  5.,  6.,  7.,  8.,  9., 10., 11., 12.,\n",
       "       13., 14., 15., 16., 17., 18., 19., 20., 21., 22., 23., 24., 25.,\n",
       "       26., 27., 28., 29., 30., 31., 32., 33., 34., 35., 36., 37., 38.,\n",
       "       39., 40., 41., 42., 43., 44., 45., 46., 47., 48., 49., 50., 51.,\n",
       "       52., 53., 54., 55., 56., 57., 58., 59., 60., 61., 62., 63., 64.,\n",
       "       65., 66., 67., 68., 69., 70., 71., 72., 73., 74., 75., 76., 77.,\n",
       "       78., 79., 80., 81., 82., 83., 84., 85., 86., 87., 88., 89., 90.,\n",
       "       91., 92., 93., 94., 95., 96., 97., 98., 99.])"
      ]
     },
     "execution_count": 198,
     "metadata": {},
     "output_type": "execute_result"
    },
    {
     "data": {
      "text/plain": [
       "array([  2.,   4.,   6.,   8.,  10.,  12.,  14.,  16.,  18.,  20.,  22.,\n",
       "        24.,  26.,  28.,  30.,  32.,  34.,  36.,  38.,  40.,  42.,  44.,\n",
       "        46.,  48.,  50.,  52.,  54.,  56.,  58.,  60.,  62.,  64.,  66.,\n",
       "        68.,  70.,  72.,  74.,  76.,  78.,  80.,  82.,  84.,  86.,  88.,\n",
       "        90.,  92.,  94.,  96.,  98., 100., 102., 104., 106., 108., 110.,\n",
       "       112., 114., 116., 118., 120., 122., 124., 126., 128., 130., 132.,\n",
       "       134., 136., 138., 140., 142., 144., 146., 148., 150., 152., 154.,\n",
       "       156., 158., 160., 162., 164., 166., 168., 170., 172., 174., 176.,\n",
       "       178., 180., 182., 184., 186., 188., 190., 192., 194., 196., 198.,\n",
       "       200.])"
      ]
     },
     "execution_count": 198,
     "metadata": {},
     "output_type": "execute_result"
    },
    {
     "name": "stdout",
     "output_type": "stream",
     "text": [
      "Epoch 1/100\n",
      "self.units  32\n",
      "inputs are  Tensor(\"ExpandDims:0\", shape=(None, 1), dtype=float32)\n",
      "weights are  <tf.Variable 'custom_dense_34/Variable:0' shape=(1, 32) dtype=float32>\n",
      "self.units  1\n",
      "inputs are  Tensor(\"model_34/custom_dense_34/add:0\", shape=(None, 32), dtype=float32)\n",
      "weights are  <tf.Variable 'custom_dense_35/Variable:0' shape=(32, 1) dtype=float32>\n",
      "self.units  32\n",
      "inputs are  Tensor(\"ExpandDims:0\", shape=(None, 1), dtype=float32)\n",
      "weights are  <tf.Variable 'custom_dense_34/Variable:0' shape=(1, 32) dtype=float32>\n",
      "self.units  1\n",
      "inputs are  Tensor(\"model_34/custom_dense_34/add:0\", shape=(None, 32), dtype=float32)\n",
      "weights are  <tf.Variable 'custom_dense_35/Variable:0' shape=(32, 1) dtype=float32>\n",
      "4/4 [==============================] - 1s 2ms/step - loss: 14009.2529\n",
      "Epoch 2/100\n",
      "4/4 [==============================] - 0s 2ms/step - loss: 13868.4863\n",
      "Epoch 3/100\n",
      "4/4 [==============================] - 0s 2ms/step - loss: 13728.9639\n",
      "Epoch 4/100\n",
      "4/4 [==============================] - 0s 3ms/step - loss: 13585.1201\n",
      "Epoch 5/100\n",
      "4/4 [==============================] - 0s 2ms/step - loss: 13446.9541\n",
      "Epoch 6/100\n",
      "4/4 [==============================] - 0s 5ms/step - loss: 13308.1104\n",
      "Epoch 7/100\n",
      "4/4 [==============================] - 0s 5ms/step - loss: 13158.0498\n",
      "Epoch 8/100\n",
      "4/4 [==============================] - 0s 5ms/step - loss: 13013.8525\n",
      "Epoch 9/100\n",
      "4/4 [==============================] - 0s 4ms/step - loss: 12861.5303\n",
      "Epoch 10/100\n",
      "4/4 [==============================] - 0s 3ms/step - loss: 12702.1963\n",
      "Epoch 11/100\n",
      "4/4 [==============================] - 0s 4ms/step - loss: 12527.6172\n",
      "Epoch 12/100\n",
      "4/4 [==============================] - 0s 5ms/step - loss: 12342.7402\n",
      "Epoch 13/100\n",
      "4/4 [==============================] - 0s 4ms/step - loss: 12162.2402\n",
      "Epoch 14/100\n",
      "4/4 [==============================] - 0s 3ms/step - loss: 11940.5303\n",
      "Epoch 15/100\n",
      "4/4 [==============================] - 0s 3ms/step - loss: 11725.0635\n",
      "Epoch 16/100\n",
      "4/4 [==============================] - 0s 4ms/step - loss: 11472.9258\n",
      "Epoch 17/100\n",
      "4/4 [==============================] - 0s 4ms/step - loss: 11204.6914\n",
      "Epoch 18/100\n",
      "4/4 [==============================] - 0s 4ms/step - loss: 10927.9297\n",
      "Epoch 19/100\n",
      "4/4 [==============================] - 0s 4ms/step - loss: 10657.9629\n",
      "Epoch 20/100\n",
      "4/4 [==============================] - 0s 3ms/step - loss: 10348.7412\n",
      "Epoch 21/100\n",
      "4/4 [==============================] - 0s 4ms/step - loss: 10027.9199\n",
      "Epoch 22/100\n",
      "4/4 [==============================] - 0s 3ms/step - loss: 9709.4258\n",
      "Epoch 23/100\n",
      "4/4 [==============================] - 0s 3ms/step - loss: 9362.0146\n",
      "Epoch 24/100\n",
      "4/4 [==============================] - 0s 3ms/step - loss: 9007.7139\n",
      "Epoch 25/100\n",
      "4/4 [==============================] - 0s 4ms/step - loss: 8657.3037\n",
      "Epoch 26/100\n",
      "4/4 [==============================] - 0s 5ms/step - loss: 8292.6133\n",
      "Epoch 27/100\n",
      "4/4 [==============================] - 0s 5ms/step - loss: 7905.4639\n",
      "Epoch 28/100\n",
      "4/4 [==============================] - 0s 4ms/step - loss: 7522.1567\n",
      "Epoch 29/100\n",
      "4/4 [==============================] - 0s 5ms/step - loss: 7138.7637\n",
      "Epoch 30/100\n",
      "4/4 [==============================] - 0s 4ms/step - loss: 6745.4180\n",
      "Epoch 31/100\n",
      "4/4 [==============================] - 0s 3ms/step - loss: 6362.7129\n",
      "Epoch 32/100\n",
      "4/4 [==============================] - 0s 3ms/step - loss: 5977.4043\n",
      "Epoch 33/100\n",
      "4/4 [==============================] - 0s 4ms/step - loss: 5554.0015\n",
      "Epoch 34/100\n",
      "4/4 [==============================] - 0s 4ms/step - loss: 5169.7026\n",
      "Epoch 35/100\n",
      "4/4 [==============================] - 0s 3ms/step - loss: 4779.4438\n",
      "Epoch 36/100\n",
      "4/4 [==============================] - 0s 3ms/step - loss: 4402.4702\n",
      "Epoch 37/100\n",
      "4/4 [==============================] - 0s 2ms/step - loss: 4029.7654\n",
      "Epoch 38/100\n",
      "4/4 [==============================] - 0s 2ms/step - loss: 3643.5049\n",
      "Epoch 39/100\n",
      "4/4 [==============================] - 0s 3ms/step - loss: 3289.1655\n",
      "Epoch 40/100\n",
      "4/4 [==============================] - 0s 5ms/step - loss: 2967.5801\n",
      "Epoch 41/100\n",
      "4/4 [==============================] - 0s 5ms/step - loss: 2616.0037\n",
      "Epoch 42/100\n",
      "4/4 [==============================] - 0s 6ms/step - loss: 2321.5266\n",
      "Epoch 43/100\n",
      "4/4 [==============================] - 0s 7ms/step - loss: 2049.0186\n",
      "Epoch 44/100\n",
      "4/4 [==============================] - 0s 6ms/step - loss: 1793.6401\n",
      "Epoch 45/100\n",
      "4/4 [==============================] - 0s 3ms/step - loss: 1559.9517\n",
      "Epoch 46/100\n",
      "4/4 [==============================] - 0s 4ms/step - loss: 1333.1121\n",
      "Epoch 47/100\n",
      "4/4 [==============================] - 0s 2ms/step - loss: 1140.1328\n",
      "Epoch 48/100\n",
      "4/4 [==============================] - 0s 5ms/step - loss: 960.7148\n",
      "Epoch 49/100\n",
      "4/4 [==============================] - 0s 2ms/step - loss: 797.2564\n",
      "Epoch 50/100\n",
      "4/4 [==============================] - 0s 3ms/step - loss: 658.8434\n",
      "Epoch 51/100\n",
      "4/4 [==============================] - 0s 4ms/step - loss: 543.5157\n",
      "Epoch 52/100\n",
      "4/4 [==============================] - 0s 3ms/step - loss: 443.2126\n",
      "Epoch 53/100\n",
      "4/4 [==============================] - 0s 4ms/step - loss: 354.0056\n",
      "Epoch 54/100\n",
      "4/4 [==============================] - 0s 3ms/step - loss: 285.2216\n",
      "Epoch 55/100\n",
      "4/4 [==============================] - 0s 3ms/step - loss: 222.8020\n",
      "Epoch 56/100\n",
      "4/4 [==============================] - 0s 2ms/step - loss: 177.2157\n",
      "Epoch 57/100\n",
      "4/4 [==============================] - 0s 3ms/step - loss: 135.7640\n",
      "Epoch 58/100\n",
      "4/4 [==============================] - 0s 2ms/step - loss: 104.9837\n",
      "Epoch 59/100\n",
      "4/4 [==============================] - 0s 3ms/step - loss: 79.0684\n",
      "Epoch 60/100\n",
      "4/4 [==============================] - 0s 2ms/step - loss: 58.7262\n",
      "Epoch 61/100\n",
      "4/4 [==============================] - 0s 4ms/step - loss: 42.6584\n",
      "Epoch 62/100\n",
      "4/4 [==============================] - 0s 4ms/step - loss: 31.3307\n",
      "Epoch 63/100\n",
      "4/4 [==============================] - 0s 4ms/step - loss: 22.3716\n",
      "Epoch 64/100\n",
      "4/4 [==============================] - 0s 4ms/step - loss: 15.5999\n",
      "Epoch 65/100\n",
      "4/4 [==============================] - 0s 4ms/step - loss: 10.8635\n",
      "Epoch 66/100\n",
      "4/4 [==============================] - 0s 3ms/step - loss: 7.3349\n",
      "Epoch 67/100\n",
      "4/4 [==============================] - 0s 4ms/step - loss: 4.8876\n",
      "Epoch 68/100\n",
      "4/4 [==============================] - 0s 4ms/step - loss: 3.2540\n",
      "Epoch 69/100\n",
      "4/4 [==============================] - 0s 5ms/step - loss: 2.0633\n",
      "Epoch 70/100\n",
      "4/4 [==============================] - 0s 3ms/step - loss: 1.2975\n",
      "Epoch 71/100\n",
      "4/4 [==============================] - 0s 4ms/step - loss: 0.7987\n",
      "Epoch 72/100\n",
      "4/4 [==============================] - 0s 4ms/step - loss: 0.4617\n",
      "Epoch 73/100\n",
      "4/4 [==============================] - 0s 3ms/step - loss: 0.2562\n",
      "Epoch 74/100\n",
      "4/4 [==============================] - 0s 4ms/step - loss: 0.1373\n",
      "Epoch 75/100\n",
      "4/4 [==============================] - 0s 3ms/step - loss: 0.0705\n",
      "Epoch 76/100\n",
      "4/4 [==============================] - 0s 3ms/step - loss: 0.0337\n",
      "Epoch 77/100\n",
      "4/4 [==============================] - 0s 4ms/step - loss: 0.0139\n",
      "Epoch 78/100\n",
      "4/4 [==============================] - 0s 2ms/step - loss: 0.0050\n",
      "Epoch 79/100\n",
      "4/4 [==============================] - 0s 3ms/step - loss: 0.0015\n",
      "Epoch 80/100\n",
      "4/4 [==============================] - 0s 3ms/step - loss: 4.4346e-04\n",
      "Epoch 81/100\n",
      "4/4 [==============================] - 0s 4ms/step - loss: 4.5360e-04\n",
      "Epoch 82/100\n",
      "4/4 [==============================] - 0s 3ms/step - loss: 7.4681e-04\n",
      "Epoch 83/100\n",
      "4/4 [==============================] - 0s 3ms/step - loss: 0.0010\n",
      "Epoch 84/100\n",
      "4/4 [==============================] - 0s 3ms/step - loss: 0.0012\n",
      "Epoch 85/100\n",
      "4/4 [==============================] - 0s 2ms/step - loss: 0.0012\n",
      "Epoch 86/100\n",
      "4/4 [==============================] - 0s 4ms/step - loss: 0.0011\n",
      "Epoch 87/100\n",
      "4/4 [==============================] - 0s 2ms/step - loss: 0.0010\n",
      "Epoch 88/100\n",
      "4/4 [==============================] - 0s 3ms/step - loss: 8.8025e-04\n",
      "Epoch 89/100\n",
      "4/4 [==============================] - 0s 3ms/step - loss: 7.4865e-04\n",
      "Epoch 90/100\n",
      "4/4 [==============================] - 0s 3ms/step - loss: 6.4047e-04\n",
      "Epoch 91/100\n",
      "4/4 [==============================] - 0s 3ms/step - loss: 5.5128e-04\n",
      "Epoch 92/100\n",
      "4/4 [==============================] - 0s 3ms/step - loss: 4.8509e-04\n",
      "Epoch 93/100\n"
     ]
    },
    {
     "name": "stdout",
     "output_type": "stream",
     "text": [
      "4/4 [==============================] - 0s 4ms/step - loss: 4.3781e-04\n",
      "Epoch 94/100\n",
      "4/4 [==============================] - 0s 4ms/step - loss: 4.0407e-04\n",
      "Epoch 95/100\n",
      "4/4 [==============================] - 0s 3ms/step - loss: 3.8339e-04\n",
      "Epoch 96/100\n",
      "4/4 [==============================] - 0s 3ms/step - loss: 3.7077e-04\n",
      "Epoch 97/100\n",
      "4/4 [==============================] - 0s 4ms/step - loss: 3.6286e-04\n",
      "Epoch 98/100\n",
      "4/4 [==============================] - 0s 2ms/step - loss: 3.5900e-04\n",
      "Epoch 99/100\n",
      "4/4 [==============================] - 0s 3ms/step - loss: 3.5758e-04\n",
      "Epoch 100/100\n",
      "4/4 [==============================] - 0s 5ms/step - loss: 3.5642e-04\n"
     ]
    },
    {
     "data": {
      "text/plain": [
       "<keras.callbacks.History at 0x1e2d0194a20>"
      ]
     },
     "execution_count": 198,
     "metadata": {},
     "output_type": "execute_result"
    }
   ],
   "source": [
    "xtrain = np.array([i for i in range(0,100)],dtype=float)\n",
    "ytrain = np.array([i*2+2 for i in range(0,100)],dtype=float)\n",
    "np.asarray(xtrain)\n",
    "np.asarray(ytrain)\n",
    "model.compile(optimizer=\"adam\", loss=\"mse\")\n",
    "model.fit(np.asarray(xtrain), np.asarray(ytrain),epochs=100)\n"
   ]
  },
  {
   "cell_type": "code",
   "execution_count": 180,
   "id": "551f2fcd",
   "metadata": {},
   "outputs": [
    {
     "name": "stdout",
     "output_type": "stream",
     "text": [
      "Tensor(\"model_28/Cast:0\", shape=(None, 1), dtype=float32)\n",
      "<tf.Variable 'custom_dense_22/Variable:0' shape=(1, 32) dtype=float32>\n",
      "Tensor(\"model_28/custom_dense_22/add:0\", shape=(None, 32), dtype=float32)\n",
      "<tf.Variable 'custom_dense_23/Variable:0' shape=(32, 1) dtype=float32>\n"
     ]
    },
    {
     "data": {
      "text/plain": [
       "array([[21.934649]], dtype=float32)"
      ]
     },
     "execution_count": 180,
     "metadata": {},
     "output_type": "execute_result"
    }
   ],
   "source": [
    "model.predict([10])"
   ]
  },
  {
   "cell_type": "code",
   "execution_count": 221,
   "id": "4bb52bd1",
   "metadata": {
    "collapsed": true
   },
   "outputs": [
    {
     "name": "stdout",
     "output_type": "stream",
     "text": [
      "tf.Tensor([], shape=(0,), dtype=float64)\n"
     ]
    },
    {
     "data": {
      "text/plain": [
       "<tf.Variable 'UnreadVariable' shape=() dtype=int64, numpy=1>"
      ]
     },
     "execution_count": 221,
     "metadata": {},
     "output_type": "execute_result"
    },
    {
     "name": "stdout",
     "output_type": "stream",
     "text": [
      "lossssssssssssss tf.Tensor([], shape=(0,), dtype=float64)\n",
      "tf.Tensor([], shape=(0,), dtype=float64)\n"
     ]
    },
    {
     "data": {
      "text/plain": [
       "<tf.Variable 'UnreadVariable' shape=() dtype=int64, numpy=2>"
      ]
     },
     "execution_count": 221,
     "metadata": {},
     "output_type": "execute_result"
    },
    {
     "name": "stdout",
     "output_type": "stream",
     "text": [
      "lossssssssssssss tf.Tensor([], shape=(0,), dtype=float64)\n",
      "tf.Tensor([], shape=(0,), dtype=float64)\n"
     ]
    },
    {
     "data": {
      "text/plain": [
       "<tf.Variable 'UnreadVariable' shape=() dtype=int64, numpy=3>"
      ]
     },
     "execution_count": 221,
     "metadata": {},
     "output_type": "execute_result"
    },
    {
     "name": "stdout",
     "output_type": "stream",
     "text": [
      "lossssssssssssss tf.Tensor([], shape=(0,), dtype=float64)\n",
      "tf.Tensor([], shape=(0,), dtype=float64)\n"
     ]
    },
    {
     "data": {
      "text/plain": [
       "<tf.Variable 'UnreadVariable' shape=() dtype=int64, numpy=4>"
      ]
     },
     "execution_count": 221,
     "metadata": {},
     "output_type": "execute_result"
    },
    {
     "name": "stdout",
     "output_type": "stream",
     "text": [
      "lossssssssssssss tf.Tensor([], shape=(0,), dtype=float64)\n",
      "tf.Tensor([], shape=(0,), dtype=float64)\n"
     ]
    },
    {
     "data": {
      "text/plain": [
       "<tf.Variable 'UnreadVariable' shape=() dtype=int64, numpy=5>"
      ]
     },
     "execution_count": 221,
     "metadata": {},
     "output_type": "execute_result"
    },
    {
     "name": "stdout",
     "output_type": "stream",
     "text": [
      "lossssssssssssss tf.Tensor([], shape=(0,), dtype=float64)\n",
      "tf.Tensor([], shape=(0,), dtype=float64)\n"
     ]
    },
    {
     "data": {
      "text/plain": [
       "<tf.Variable 'UnreadVariable' shape=() dtype=int64, numpy=6>"
      ]
     },
     "execution_count": 221,
     "metadata": {},
     "output_type": "execute_result"
    },
    {
     "name": "stdout",
     "output_type": "stream",
     "text": [
      "lossssssssssssss tf.Tensor([], shape=(0,), dtype=float64)\n",
      "tf.Tensor([], shape=(0,), dtype=float64)\n"
     ]
    },
    {
     "data": {
      "text/plain": [
       "<tf.Variable 'UnreadVariable' shape=() dtype=int64, numpy=7>"
      ]
     },
     "execution_count": 221,
     "metadata": {},
     "output_type": "execute_result"
    },
    {
     "name": "stdout",
     "output_type": "stream",
     "text": [
      "lossssssssssssss tf.Tensor([], shape=(0,), dtype=float64)\n",
      "tf.Tensor([], shape=(0,), dtype=float64)\n"
     ]
    },
    {
     "data": {
      "text/plain": [
       "<tf.Variable 'UnreadVariable' shape=() dtype=int64, numpy=8>"
      ]
     },
     "execution_count": 221,
     "metadata": {},
     "output_type": "execute_result"
    },
    {
     "name": "stdout",
     "output_type": "stream",
     "text": [
      "lossssssssssssss tf.Tensor([], shape=(0,), dtype=float64)\n",
      "tf.Tensor([], shape=(0,), dtype=float64)\n"
     ]
    },
    {
     "data": {
      "text/plain": [
       "<tf.Variable 'UnreadVariable' shape=() dtype=int64, numpy=9>"
      ]
     },
     "execution_count": 221,
     "metadata": {},
     "output_type": "execute_result"
    },
    {
     "name": "stdout",
     "output_type": "stream",
     "text": [
      "lossssssssssssss tf.Tensor([], shape=(0,), dtype=float64)\n",
      "tf.Tensor([], shape=(0,), dtype=float64)\n"
     ]
    },
    {
     "data": {
      "text/plain": [
       "<tf.Variable 'UnreadVariable' shape=() dtype=int64, numpy=10>"
      ]
     },
     "execution_count": 221,
     "metadata": {},
     "output_type": "execute_result"
    },
    {
     "name": "stdout",
     "output_type": "stream",
     "text": [
      "lossssssssssssss tf.Tensor([], shape=(0,), dtype=float64)\n",
      "tf.Tensor([], shape=(0,), dtype=float64)\n"
     ]
    },
    {
     "data": {
      "text/plain": [
       "<tf.Variable 'UnreadVariable' shape=() dtype=int64, numpy=11>"
      ]
     },
     "execution_count": 221,
     "metadata": {},
     "output_type": "execute_result"
    },
    {
     "name": "stdout",
     "output_type": "stream",
     "text": [
      "lossssssssssssss tf.Tensor([], shape=(0,), dtype=float64)\n",
      "tf.Tensor([], shape=(0,), dtype=float64)\n"
     ]
    },
    {
     "data": {
      "text/plain": [
       "<tf.Variable 'UnreadVariable' shape=() dtype=int64, numpy=12>"
      ]
     },
     "execution_count": 221,
     "metadata": {},
     "output_type": "execute_result"
    },
    {
     "name": "stdout",
     "output_type": "stream",
     "text": [
      "lossssssssssssss tf.Tensor([], shape=(0,), dtype=float64)\n",
      "tf.Tensor([], shape=(0,), dtype=float64)\n"
     ]
    },
    {
     "data": {
      "text/plain": [
       "<tf.Variable 'UnreadVariable' shape=() dtype=int64, numpy=13>"
      ]
     },
     "execution_count": 221,
     "metadata": {},
     "output_type": "execute_result"
    },
    {
     "name": "stdout",
     "output_type": "stream",
     "text": [
      "lossssssssssssss tf.Tensor([], shape=(0,), dtype=float64)\n",
      "tf.Tensor([], shape=(0,), dtype=float64)\n"
     ]
    },
    {
     "data": {
      "text/plain": [
       "<tf.Variable 'UnreadVariable' shape=() dtype=int64, numpy=14>"
      ]
     },
     "execution_count": 221,
     "metadata": {},
     "output_type": "execute_result"
    },
    {
     "name": "stdout",
     "output_type": "stream",
     "text": [
      "lossssssssssssss tf.Tensor([], shape=(0,), dtype=float64)\n",
      "tf.Tensor([], shape=(0,), dtype=float64)\n"
     ]
    },
    {
     "data": {
      "text/plain": [
       "<tf.Variable 'UnreadVariable' shape=() dtype=int64, numpy=15>"
      ]
     },
     "execution_count": 221,
     "metadata": {},
     "output_type": "execute_result"
    },
    {
     "name": "stdout",
     "output_type": "stream",
     "text": [
      "lossssssssssssss tf.Tensor([], shape=(0,), dtype=float64)\n",
      "tf.Tensor([], shape=(0,), dtype=float64)\n"
     ]
    },
    {
     "data": {
      "text/plain": [
       "<tf.Variable 'UnreadVariable' shape=() dtype=int64, numpy=16>"
      ]
     },
     "execution_count": 221,
     "metadata": {},
     "output_type": "execute_result"
    },
    {
     "name": "stdout",
     "output_type": "stream",
     "text": [
      "lossssssssssssss tf.Tensor([], shape=(0,), dtype=float64)\n",
      "tf.Tensor([], shape=(0,), dtype=float64)\n"
     ]
    },
    {
     "data": {
      "text/plain": [
       "<tf.Variable 'UnreadVariable' shape=() dtype=int64, numpy=17>"
      ]
     },
     "execution_count": 221,
     "metadata": {},
     "output_type": "execute_result"
    },
    {
     "name": "stdout",
     "output_type": "stream",
     "text": [
      "lossssssssssssss tf.Tensor([], shape=(0,), dtype=float64)\n",
      "tf.Tensor([], shape=(0,), dtype=float64)\n"
     ]
    },
    {
     "data": {
      "text/plain": [
       "<tf.Variable 'UnreadVariable' shape=() dtype=int64, numpy=18>"
      ]
     },
     "execution_count": 221,
     "metadata": {},
     "output_type": "execute_result"
    },
    {
     "name": "stdout",
     "output_type": "stream",
     "text": [
      "lossssssssssssss tf.Tensor([], shape=(0,), dtype=float64)\n",
      "tf.Tensor([], shape=(0,), dtype=float64)\n"
     ]
    },
    {
     "data": {
      "text/plain": [
       "<tf.Variable 'UnreadVariable' shape=() dtype=int64, numpy=19>"
      ]
     },
     "execution_count": 221,
     "metadata": {},
     "output_type": "execute_result"
    },
    {
     "name": "stdout",
     "output_type": "stream",
     "text": [
      "lossssssssssssss tf.Tensor([], shape=(0,), dtype=float64)\n",
      "tf.Tensor([], shape=(0,), dtype=float64)\n"
     ]
    },
    {
     "data": {
      "text/plain": [
       "<tf.Variable 'UnreadVariable' shape=() dtype=int64, numpy=20>"
      ]
     },
     "execution_count": 221,
     "metadata": {},
     "output_type": "execute_result"
    },
    {
     "name": "stdout",
     "output_type": "stream",
     "text": [
      "lossssssssssssss tf.Tensor([], shape=(0,), dtype=float64)\n",
      "tf.Tensor([], shape=(0,), dtype=float64)\n"
     ]
    },
    {
     "data": {
      "text/plain": [
       "<tf.Variable 'UnreadVariable' shape=() dtype=int64, numpy=21>"
      ]
     },
     "execution_count": 221,
     "metadata": {},
     "output_type": "execute_result"
    },
    {
     "name": "stdout",
     "output_type": "stream",
     "text": [
      "lossssssssssssss tf.Tensor([], shape=(0,), dtype=float64)\n",
      "tf.Tensor([], shape=(0,), dtype=float64)\n"
     ]
    },
    {
     "data": {
      "text/plain": [
       "<tf.Variable 'UnreadVariable' shape=() dtype=int64, numpy=22>"
      ]
     },
     "execution_count": 221,
     "metadata": {},
     "output_type": "execute_result"
    },
    {
     "name": "stdout",
     "output_type": "stream",
     "text": [
      "lossssssssssssss tf.Tensor([], shape=(0,), dtype=float64)\n",
      "tf.Tensor([], shape=(0,), dtype=float64)\n"
     ]
    },
    {
     "data": {
      "text/plain": [
       "<tf.Variable 'UnreadVariable' shape=() dtype=int64, numpy=23>"
      ]
     },
     "execution_count": 221,
     "metadata": {},
     "output_type": "execute_result"
    },
    {
     "name": "stdout",
     "output_type": "stream",
     "text": [
      "lossssssssssssss tf.Tensor([], shape=(0,), dtype=float64)\n",
      "tf.Tensor([], shape=(0,), dtype=float64)\n"
     ]
    },
    {
     "data": {
      "text/plain": [
       "<tf.Variable 'UnreadVariable' shape=() dtype=int64, numpy=24>"
      ]
     },
     "execution_count": 221,
     "metadata": {},
     "output_type": "execute_result"
    },
    {
     "name": "stdout",
     "output_type": "stream",
     "text": [
      "lossssssssssssss tf.Tensor([], shape=(0,), dtype=float64)\n",
      "tf.Tensor([], shape=(0,), dtype=float64)\n"
     ]
    },
    {
     "data": {
      "text/plain": [
       "<tf.Variable 'UnreadVariable' shape=() dtype=int64, numpy=25>"
      ]
     },
     "execution_count": 221,
     "metadata": {},
     "output_type": "execute_result"
    },
    {
     "name": "stdout",
     "output_type": "stream",
     "text": [
      "lossssssssssssss tf.Tensor([], shape=(0,), dtype=float64)\n",
      "tf.Tensor([], shape=(0,), dtype=float64)\n"
     ]
    },
    {
     "data": {
      "text/plain": [
       "<tf.Variable 'UnreadVariable' shape=() dtype=int64, numpy=26>"
      ]
     },
     "execution_count": 221,
     "metadata": {},
     "output_type": "execute_result"
    },
    {
     "name": "stdout",
     "output_type": "stream",
     "text": [
      "lossssssssssssss tf.Tensor([], shape=(0,), dtype=float64)\n",
      "tf.Tensor([], shape=(0,), dtype=float64)\n"
     ]
    },
    {
     "data": {
      "text/plain": [
       "<tf.Variable 'UnreadVariable' shape=() dtype=int64, numpy=27>"
      ]
     },
     "execution_count": 221,
     "metadata": {},
     "output_type": "execute_result"
    },
    {
     "name": "stdout",
     "output_type": "stream",
     "text": [
      "lossssssssssssss tf.Tensor([], shape=(0,), dtype=float64)\n",
      "tf.Tensor([], shape=(0,), dtype=float64)\n"
     ]
    },
    {
     "data": {
      "text/plain": [
       "<tf.Variable 'UnreadVariable' shape=() dtype=int64, numpy=28>"
      ]
     },
     "execution_count": 221,
     "metadata": {},
     "output_type": "execute_result"
    },
    {
     "name": "stdout",
     "output_type": "stream",
     "text": [
      "lossssssssssssss tf.Tensor([], shape=(0,), dtype=float64)\n",
      "tf.Tensor([], shape=(0,), dtype=float64)\n"
     ]
    },
    {
     "data": {
      "text/plain": [
       "<tf.Variable 'UnreadVariable' shape=() dtype=int64, numpy=29>"
      ]
     },
     "execution_count": 221,
     "metadata": {},
     "output_type": "execute_result"
    },
    {
     "name": "stdout",
     "output_type": "stream",
     "text": [
      "lossssssssssssss tf.Tensor([], shape=(0,), dtype=float64)\n",
      "tf.Tensor([], shape=(0,), dtype=float64)\n"
     ]
    },
    {
     "data": {
      "text/plain": [
       "<tf.Variable 'UnreadVariable' shape=() dtype=int64, numpy=30>"
      ]
     },
     "execution_count": 221,
     "metadata": {},
     "output_type": "execute_result"
    },
    {
     "name": "stdout",
     "output_type": "stream",
     "text": [
      "lossssssssssssss tf.Tensor([], shape=(0,), dtype=float64)\n",
      "tf.Tensor([], shape=(0,), dtype=float64)\n"
     ]
    },
    {
     "data": {
      "text/plain": [
       "<tf.Variable 'UnreadVariable' shape=() dtype=int64, numpy=31>"
      ]
     },
     "execution_count": 221,
     "metadata": {},
     "output_type": "execute_result"
    },
    {
     "name": "stdout",
     "output_type": "stream",
     "text": [
      "lossssssssssssss tf.Tensor([], shape=(0,), dtype=float64)\n",
      "tf.Tensor([], shape=(0,), dtype=float64)\n"
     ]
    },
    {
     "data": {
      "text/plain": [
       "<tf.Variable 'UnreadVariable' shape=() dtype=int64, numpy=32>"
      ]
     },
     "execution_count": 221,
     "metadata": {},
     "output_type": "execute_result"
    },
    {
     "name": "stdout",
     "output_type": "stream",
     "text": [
      "lossssssssssssss tf.Tensor([], shape=(0,), dtype=float64)\n",
      "tf.Tensor([], shape=(0,), dtype=float64)\n"
     ]
    },
    {
     "data": {
      "text/plain": [
       "<tf.Variable 'UnreadVariable' shape=() dtype=int64, numpy=33>"
      ]
     },
     "execution_count": 221,
     "metadata": {},
     "output_type": "execute_result"
    },
    {
     "name": "stdout",
     "output_type": "stream",
     "text": [
      "lossssssssssssss tf.Tensor([], shape=(0,), dtype=float64)\n",
      "tf.Tensor([], shape=(0,), dtype=float64)\n"
     ]
    },
    {
     "data": {
      "text/plain": [
       "<tf.Variable 'UnreadVariable' shape=() dtype=int64, numpy=34>"
      ]
     },
     "execution_count": 221,
     "metadata": {},
     "output_type": "execute_result"
    },
    {
     "name": "stdout",
     "output_type": "stream",
     "text": [
      "lossssssssssssss tf.Tensor([], shape=(0,), dtype=float64)\n",
      "tf.Tensor([], shape=(0,), dtype=float64)\n"
     ]
    },
    {
     "data": {
      "text/plain": [
       "<tf.Variable 'UnreadVariable' shape=() dtype=int64, numpy=35>"
      ]
     },
     "execution_count": 221,
     "metadata": {},
     "output_type": "execute_result"
    },
    {
     "name": "stdout",
     "output_type": "stream",
     "text": [
      "lossssssssssssss tf.Tensor([], shape=(0,), dtype=float64)\n",
      "tf.Tensor([], shape=(0,), dtype=float64)\n"
     ]
    },
    {
     "data": {
      "text/plain": [
       "<tf.Variable 'UnreadVariable' shape=() dtype=int64, numpy=36>"
      ]
     },
     "execution_count": 221,
     "metadata": {},
     "output_type": "execute_result"
    },
    {
     "name": "stdout",
     "output_type": "stream",
     "text": [
      "lossssssssssssss tf.Tensor([], shape=(0,), dtype=float64)\n",
      "tf.Tensor([], shape=(0,), dtype=float64)\n"
     ]
    },
    {
     "data": {
      "text/plain": [
       "<tf.Variable 'UnreadVariable' shape=() dtype=int64, numpy=37>"
      ]
     },
     "execution_count": 221,
     "metadata": {},
     "output_type": "execute_result"
    },
    {
     "name": "stdout",
     "output_type": "stream",
     "text": [
      "lossssssssssssss tf.Tensor([], shape=(0,), dtype=float64)\n",
      "tf.Tensor([], shape=(0,), dtype=float64)\n"
     ]
    },
    {
     "data": {
      "text/plain": [
       "<tf.Variable 'UnreadVariable' shape=() dtype=int64, numpy=38>"
      ]
     },
     "execution_count": 221,
     "metadata": {},
     "output_type": "execute_result"
    },
    {
     "name": "stdout",
     "output_type": "stream",
     "text": [
      "lossssssssssssss tf.Tensor([], shape=(0,), dtype=float64)\n",
      "tf.Tensor([], shape=(0,), dtype=float64)\n"
     ]
    },
    {
     "data": {
      "text/plain": [
       "<tf.Variable 'UnreadVariable' shape=() dtype=int64, numpy=39>"
      ]
     },
     "execution_count": 221,
     "metadata": {},
     "output_type": "execute_result"
    },
    {
     "name": "stdout",
     "output_type": "stream",
     "text": [
      "lossssssssssssss tf.Tensor([], shape=(0,), dtype=float64)\n",
      "tf.Tensor([], shape=(0,), dtype=float64)\n"
     ]
    },
    {
     "data": {
      "text/plain": [
       "<tf.Variable 'UnreadVariable' shape=() dtype=int64, numpy=40>"
      ]
     },
     "execution_count": 221,
     "metadata": {},
     "output_type": "execute_result"
    },
    {
     "name": "stdout",
     "output_type": "stream",
     "text": [
      "lossssssssssssss tf.Tensor([], shape=(0,), dtype=float64)\n",
      "tf.Tensor([], shape=(0,), dtype=float64)\n"
     ]
    },
    {
     "data": {
      "text/plain": [
       "<tf.Variable 'UnreadVariable' shape=() dtype=int64, numpy=41>"
      ]
     },
     "execution_count": 221,
     "metadata": {},
     "output_type": "execute_result"
    },
    {
     "name": "stdout",
     "output_type": "stream",
     "text": [
      "lossssssssssssss tf.Tensor([], shape=(0,), dtype=float64)\n",
      "tf.Tensor([], shape=(0,), dtype=float64)\n"
     ]
    },
    {
     "data": {
      "text/plain": [
       "<tf.Variable 'UnreadVariable' shape=() dtype=int64, numpy=42>"
      ]
     },
     "execution_count": 221,
     "metadata": {},
     "output_type": "execute_result"
    },
    {
     "name": "stdout",
     "output_type": "stream",
     "text": [
      "lossssssssssssss tf.Tensor([], shape=(0,), dtype=float64)\n",
      "tf.Tensor([], shape=(0,), dtype=float64)\n"
     ]
    },
    {
     "data": {
      "text/plain": [
       "<tf.Variable 'UnreadVariable' shape=() dtype=int64, numpy=43>"
      ]
     },
     "execution_count": 221,
     "metadata": {},
     "output_type": "execute_result"
    },
    {
     "name": "stdout",
     "output_type": "stream",
     "text": [
      "lossssssssssssss tf.Tensor([], shape=(0,), dtype=float64)\n",
      "tf.Tensor([], shape=(0,), dtype=float64)\n"
     ]
    },
    {
     "data": {
      "text/plain": [
       "<tf.Variable 'UnreadVariable' shape=() dtype=int64, numpy=44>"
      ]
     },
     "execution_count": 221,
     "metadata": {},
     "output_type": "execute_result"
    },
    {
     "name": "stdout",
     "output_type": "stream",
     "text": [
      "lossssssssssssss tf.Tensor([], shape=(0,), dtype=float64)\n",
      "tf.Tensor([], shape=(0,), dtype=float64)\n"
     ]
    },
    {
     "data": {
      "text/plain": [
       "<tf.Variable 'UnreadVariable' shape=() dtype=int64, numpy=45>"
      ]
     },
     "execution_count": 221,
     "metadata": {},
     "output_type": "execute_result"
    },
    {
     "name": "stdout",
     "output_type": "stream",
     "text": [
      "lossssssssssssss tf.Tensor([], shape=(0,), dtype=float64)\n",
      "tf.Tensor([], shape=(0,), dtype=float64)\n"
     ]
    },
    {
     "data": {
      "text/plain": [
       "<tf.Variable 'UnreadVariable' shape=() dtype=int64, numpy=46>"
      ]
     },
     "execution_count": 221,
     "metadata": {},
     "output_type": "execute_result"
    },
    {
     "name": "stdout",
     "output_type": "stream",
     "text": [
      "lossssssssssssss tf.Tensor([], shape=(0,), dtype=float64)\n",
      "tf.Tensor([], shape=(0,), dtype=float64)\n"
     ]
    },
    {
     "data": {
      "text/plain": [
       "<tf.Variable 'UnreadVariable' shape=() dtype=int64, numpy=47>"
      ]
     },
     "execution_count": 221,
     "metadata": {},
     "output_type": "execute_result"
    },
    {
     "name": "stdout",
     "output_type": "stream",
     "text": [
      "lossssssssssssss tf.Tensor([], shape=(0,), dtype=float64)\n",
      "tf.Tensor([], shape=(0,), dtype=float64)\n"
     ]
    },
    {
     "data": {
      "text/plain": [
       "<tf.Variable 'UnreadVariable' shape=() dtype=int64, numpy=48>"
      ]
     },
     "execution_count": 221,
     "metadata": {},
     "output_type": "execute_result"
    },
    {
     "name": "stdout",
     "output_type": "stream",
     "text": [
      "lossssssssssssss tf.Tensor([], shape=(0,), dtype=float64)\n",
      "tf.Tensor([], shape=(0,), dtype=float64)\n"
     ]
    },
    {
     "data": {
      "text/plain": [
       "<tf.Variable 'UnreadVariable' shape=() dtype=int64, numpy=49>"
      ]
     },
     "execution_count": 221,
     "metadata": {},
     "output_type": "execute_result"
    },
    {
     "name": "stdout",
     "output_type": "stream",
     "text": [
      "lossssssssssssss tf.Tensor([], shape=(0,), dtype=float64)\n",
      "tf.Tensor([], shape=(0,), dtype=float64)\n"
     ]
    },
    {
     "data": {
      "text/plain": [
       "<tf.Variable 'UnreadVariable' shape=() dtype=int64, numpy=50>"
      ]
     },
     "execution_count": 221,
     "metadata": {},
     "output_type": "execute_result"
    },
    {
     "name": "stdout",
     "output_type": "stream",
     "text": [
      "lossssssssssssss tf.Tensor([], shape=(0,), dtype=float64)\n",
      "tf.Tensor([], shape=(0,), dtype=float64)\n"
     ]
    },
    {
     "data": {
      "text/plain": [
       "<tf.Variable 'UnreadVariable' shape=() dtype=int64, numpy=51>"
      ]
     },
     "execution_count": 221,
     "metadata": {},
     "output_type": "execute_result"
    },
    {
     "name": "stdout",
     "output_type": "stream",
     "text": [
      "lossssssssssssss tf.Tensor([], shape=(0,), dtype=float64)\n",
      "tf.Tensor([], shape=(0,), dtype=float64)\n"
     ]
    },
    {
     "data": {
      "text/plain": [
       "<tf.Variable 'UnreadVariable' shape=() dtype=int64, numpy=52>"
      ]
     },
     "execution_count": 221,
     "metadata": {},
     "output_type": "execute_result"
    },
    {
     "name": "stdout",
     "output_type": "stream",
     "text": [
      "lossssssssssssss tf.Tensor([], shape=(0,), dtype=float64)\n",
      "tf.Tensor([], shape=(0,), dtype=float64)\n"
     ]
    },
    {
     "data": {
      "text/plain": [
       "<tf.Variable 'UnreadVariable' shape=() dtype=int64, numpy=53>"
      ]
     },
     "execution_count": 221,
     "metadata": {},
     "output_type": "execute_result"
    },
    {
     "name": "stdout",
     "output_type": "stream",
     "text": [
      "lossssssssssssss tf.Tensor([], shape=(0,), dtype=float64)\n",
      "tf.Tensor([], shape=(0,), dtype=float64)\n"
     ]
    },
    {
     "data": {
      "text/plain": [
       "<tf.Variable 'UnreadVariable' shape=() dtype=int64, numpy=54>"
      ]
     },
     "execution_count": 221,
     "metadata": {},
     "output_type": "execute_result"
    },
    {
     "name": "stdout",
     "output_type": "stream",
     "text": [
      "lossssssssssssss tf.Tensor([], shape=(0,), dtype=float64)\n",
      "tf.Tensor([], shape=(0,), dtype=float64)\n"
     ]
    },
    {
     "data": {
      "text/plain": [
       "<tf.Variable 'UnreadVariable' shape=() dtype=int64, numpy=55>"
      ]
     },
     "execution_count": 221,
     "metadata": {},
     "output_type": "execute_result"
    },
    {
     "name": "stdout",
     "output_type": "stream",
     "text": [
      "lossssssssssssss tf.Tensor([], shape=(0,), dtype=float64)\n",
      "tf.Tensor([], shape=(0,), dtype=float64)\n"
     ]
    },
    {
     "data": {
      "text/plain": [
       "<tf.Variable 'UnreadVariable' shape=() dtype=int64, numpy=56>"
      ]
     },
     "execution_count": 221,
     "metadata": {},
     "output_type": "execute_result"
    },
    {
     "name": "stdout",
     "output_type": "stream",
     "text": [
      "lossssssssssssss tf.Tensor([], shape=(0,), dtype=float64)\n",
      "tf.Tensor([], shape=(0,), dtype=float64)\n"
     ]
    },
    {
     "data": {
      "text/plain": [
       "<tf.Variable 'UnreadVariable' shape=() dtype=int64, numpy=57>"
      ]
     },
     "execution_count": 221,
     "metadata": {},
     "output_type": "execute_result"
    },
    {
     "name": "stdout",
     "output_type": "stream",
     "text": [
      "lossssssssssssss tf.Tensor([], shape=(0,), dtype=float64)\n",
      "tf.Tensor([], shape=(0,), dtype=float64)\n"
     ]
    },
    {
     "data": {
      "text/plain": [
       "<tf.Variable 'UnreadVariable' shape=() dtype=int64, numpy=58>"
      ]
     },
     "execution_count": 221,
     "metadata": {},
     "output_type": "execute_result"
    },
    {
     "name": "stdout",
     "output_type": "stream",
     "text": [
      "lossssssssssssss tf.Tensor([], shape=(0,), dtype=float64)\n",
      "tf.Tensor([], shape=(0,), dtype=float64)\n"
     ]
    },
    {
     "data": {
      "text/plain": [
       "<tf.Variable 'UnreadVariable' shape=() dtype=int64, numpy=59>"
      ]
     },
     "execution_count": 221,
     "metadata": {},
     "output_type": "execute_result"
    },
    {
     "name": "stdout",
     "output_type": "stream",
     "text": [
      "lossssssssssssss tf.Tensor([], shape=(0,), dtype=float64)\n",
      "tf.Tensor([], shape=(0,), dtype=float64)\n"
     ]
    },
    {
     "data": {
      "text/plain": [
       "<tf.Variable 'UnreadVariable' shape=() dtype=int64, numpy=60>"
      ]
     },
     "execution_count": 221,
     "metadata": {},
     "output_type": "execute_result"
    },
    {
     "name": "stdout",
     "output_type": "stream",
     "text": [
      "lossssssssssssss tf.Tensor([], shape=(0,), dtype=float64)\n",
      "tf.Tensor([], shape=(0,), dtype=float64)\n"
     ]
    },
    {
     "data": {
      "text/plain": [
       "<tf.Variable 'UnreadVariable' shape=() dtype=int64, numpy=61>"
      ]
     },
     "execution_count": 221,
     "metadata": {},
     "output_type": "execute_result"
    },
    {
     "name": "stdout",
     "output_type": "stream",
     "text": [
      "lossssssssssssss tf.Tensor([], shape=(0,), dtype=float64)\n",
      "tf.Tensor([], shape=(0,), dtype=float64)\n"
     ]
    },
    {
     "data": {
      "text/plain": [
       "<tf.Variable 'UnreadVariable' shape=() dtype=int64, numpy=62>"
      ]
     },
     "execution_count": 221,
     "metadata": {},
     "output_type": "execute_result"
    },
    {
     "name": "stdout",
     "output_type": "stream",
     "text": [
      "lossssssssssssss tf.Tensor([], shape=(0,), dtype=float64)\n",
      "tf.Tensor([], shape=(0,), dtype=float64)\n"
     ]
    },
    {
     "data": {
      "text/plain": [
       "<tf.Variable 'UnreadVariable' shape=() dtype=int64, numpy=63>"
      ]
     },
     "execution_count": 221,
     "metadata": {},
     "output_type": "execute_result"
    },
    {
     "name": "stdout",
     "output_type": "stream",
     "text": [
      "lossssssssssssss tf.Tensor([], shape=(0,), dtype=float64)\n",
      "tf.Tensor([], shape=(0,), dtype=float64)\n"
     ]
    },
    {
     "data": {
      "text/plain": [
       "<tf.Variable 'UnreadVariable' shape=() dtype=int64, numpy=64>"
      ]
     },
     "execution_count": 221,
     "metadata": {},
     "output_type": "execute_result"
    },
    {
     "name": "stdout",
     "output_type": "stream",
     "text": [
      "lossssssssssssss tf.Tensor([], shape=(0,), dtype=float64)\n",
      "tf.Tensor([], shape=(0,), dtype=float64)\n"
     ]
    },
    {
     "data": {
      "text/plain": [
       "<tf.Variable 'UnreadVariable' shape=() dtype=int64, numpy=65>"
      ]
     },
     "execution_count": 221,
     "metadata": {},
     "output_type": "execute_result"
    },
    {
     "name": "stdout",
     "output_type": "stream",
     "text": [
      "lossssssssssssss tf.Tensor([], shape=(0,), dtype=float64)\n",
      "tf.Tensor([], shape=(0,), dtype=float64)\n"
     ]
    },
    {
     "data": {
      "text/plain": [
       "<tf.Variable 'UnreadVariable' shape=() dtype=int64, numpy=66>"
      ]
     },
     "execution_count": 221,
     "metadata": {},
     "output_type": "execute_result"
    },
    {
     "name": "stdout",
     "output_type": "stream",
     "text": [
      "lossssssssssssss tf.Tensor([], shape=(0,), dtype=float64)\n",
      "tf.Tensor([], shape=(0,), dtype=float64)\n"
     ]
    },
    {
     "data": {
      "text/plain": [
       "<tf.Variable 'UnreadVariable' shape=() dtype=int64, numpy=67>"
      ]
     },
     "execution_count": 221,
     "metadata": {},
     "output_type": "execute_result"
    },
    {
     "name": "stdout",
     "output_type": "stream",
     "text": [
      "lossssssssssssss tf.Tensor([], shape=(0,), dtype=float64)\n",
      "tf.Tensor([], shape=(0,), dtype=float64)\n"
     ]
    },
    {
     "data": {
      "text/plain": [
       "<tf.Variable 'UnreadVariable' shape=() dtype=int64, numpy=68>"
      ]
     },
     "execution_count": 221,
     "metadata": {},
     "output_type": "execute_result"
    },
    {
     "name": "stdout",
     "output_type": "stream",
     "text": [
      "lossssssssssssss tf.Tensor([], shape=(0,), dtype=float64)\n",
      "tf.Tensor([], shape=(0,), dtype=float64)\n"
     ]
    },
    {
     "data": {
      "text/plain": [
       "<tf.Variable 'UnreadVariable' shape=() dtype=int64, numpy=69>"
      ]
     },
     "execution_count": 221,
     "metadata": {},
     "output_type": "execute_result"
    },
    {
     "name": "stdout",
     "output_type": "stream",
     "text": [
      "lossssssssssssss tf.Tensor([], shape=(0,), dtype=float64)\n",
      "tf.Tensor([], shape=(0,), dtype=float64)\n"
     ]
    },
    {
     "data": {
      "text/plain": [
       "<tf.Variable 'UnreadVariable' shape=() dtype=int64, numpy=70>"
      ]
     },
     "execution_count": 221,
     "metadata": {},
     "output_type": "execute_result"
    },
    {
     "name": "stdout",
     "output_type": "stream",
     "text": [
      "lossssssssssssss tf.Tensor([], shape=(0,), dtype=float64)\n",
      "tf.Tensor([], shape=(0,), dtype=float64)\n"
     ]
    },
    {
     "data": {
      "text/plain": [
       "<tf.Variable 'UnreadVariable' shape=() dtype=int64, numpy=71>"
      ]
     },
     "execution_count": 221,
     "metadata": {},
     "output_type": "execute_result"
    },
    {
     "name": "stdout",
     "output_type": "stream",
     "text": [
      "lossssssssssssss tf.Tensor([], shape=(0,), dtype=float64)\n",
      "tf.Tensor([], shape=(0,), dtype=float64)\n"
     ]
    },
    {
     "data": {
      "text/plain": [
       "<tf.Variable 'UnreadVariable' shape=() dtype=int64, numpy=72>"
      ]
     },
     "execution_count": 221,
     "metadata": {},
     "output_type": "execute_result"
    },
    {
     "name": "stdout",
     "output_type": "stream",
     "text": [
      "lossssssssssssss tf.Tensor([], shape=(0,), dtype=float64)\n",
      "tf.Tensor([], shape=(0,), dtype=float64)\n"
     ]
    },
    {
     "data": {
      "text/plain": [
       "<tf.Variable 'UnreadVariable' shape=() dtype=int64, numpy=73>"
      ]
     },
     "execution_count": 221,
     "metadata": {},
     "output_type": "execute_result"
    },
    {
     "name": "stdout",
     "output_type": "stream",
     "text": [
      "lossssssssssssss tf.Tensor([], shape=(0,), dtype=float64)\n",
      "tf.Tensor([], shape=(0,), dtype=float64)\n"
     ]
    },
    {
     "data": {
      "text/plain": [
       "<tf.Variable 'UnreadVariable' shape=() dtype=int64, numpy=74>"
      ]
     },
     "execution_count": 221,
     "metadata": {},
     "output_type": "execute_result"
    },
    {
     "name": "stdout",
     "output_type": "stream",
     "text": [
      "lossssssssssssss tf.Tensor([], shape=(0,), dtype=float64)\n",
      "tf.Tensor([], shape=(0,), dtype=float64)\n"
     ]
    },
    {
     "data": {
      "text/plain": [
       "<tf.Variable 'UnreadVariable' shape=() dtype=int64, numpy=75>"
      ]
     },
     "execution_count": 221,
     "metadata": {},
     "output_type": "execute_result"
    },
    {
     "name": "stdout",
     "output_type": "stream",
     "text": [
      "lossssssssssssss tf.Tensor([], shape=(0,), dtype=float64)\n",
      "tf.Tensor([], shape=(0,), dtype=float64)\n"
     ]
    },
    {
     "data": {
      "text/plain": [
       "<tf.Variable 'UnreadVariable' shape=() dtype=int64, numpy=76>"
      ]
     },
     "execution_count": 221,
     "metadata": {},
     "output_type": "execute_result"
    },
    {
     "name": "stdout",
     "output_type": "stream",
     "text": [
      "lossssssssssssss tf.Tensor([], shape=(0,), dtype=float64)\n",
      "tf.Tensor([], shape=(0,), dtype=float64)\n"
     ]
    },
    {
     "data": {
      "text/plain": [
       "<tf.Variable 'UnreadVariable' shape=() dtype=int64, numpy=77>"
      ]
     },
     "execution_count": 221,
     "metadata": {},
     "output_type": "execute_result"
    },
    {
     "name": "stdout",
     "output_type": "stream",
     "text": [
      "lossssssssssssss tf.Tensor([], shape=(0,), dtype=float64)\n",
      "tf.Tensor([], shape=(0,), dtype=float64)\n"
     ]
    },
    {
     "data": {
      "text/plain": [
       "<tf.Variable 'UnreadVariable' shape=() dtype=int64, numpy=78>"
      ]
     },
     "execution_count": 221,
     "metadata": {},
     "output_type": "execute_result"
    },
    {
     "name": "stdout",
     "output_type": "stream",
     "text": [
      "lossssssssssssss tf.Tensor([], shape=(0,), dtype=float64)\n",
      "tf.Tensor([], shape=(0,), dtype=float64)\n"
     ]
    },
    {
     "data": {
      "text/plain": [
       "<tf.Variable 'UnreadVariable' shape=() dtype=int64, numpy=79>"
      ]
     },
     "execution_count": 221,
     "metadata": {},
     "output_type": "execute_result"
    },
    {
     "name": "stdout",
     "output_type": "stream",
     "text": [
      "lossssssssssssss tf.Tensor([], shape=(0,), dtype=float64)\n",
      "tf.Tensor([], shape=(0,), dtype=float64)\n"
     ]
    },
    {
     "data": {
      "text/plain": [
       "<tf.Variable 'UnreadVariable' shape=() dtype=int64, numpy=80>"
      ]
     },
     "execution_count": 221,
     "metadata": {},
     "output_type": "execute_result"
    },
    {
     "name": "stdout",
     "output_type": "stream",
     "text": [
      "lossssssssssssss tf.Tensor([], shape=(0,), dtype=float64)\n",
      "tf.Tensor([], shape=(0,), dtype=float64)\n"
     ]
    },
    {
     "data": {
      "text/plain": [
       "<tf.Variable 'UnreadVariable' shape=() dtype=int64, numpy=81>"
      ]
     },
     "execution_count": 221,
     "metadata": {},
     "output_type": "execute_result"
    },
    {
     "name": "stdout",
     "output_type": "stream",
     "text": [
      "lossssssssssssss tf.Tensor([], shape=(0,), dtype=float64)\n",
      "tf.Tensor([], shape=(0,), dtype=float64)\n"
     ]
    },
    {
     "data": {
      "text/plain": [
       "<tf.Variable 'UnreadVariable' shape=() dtype=int64, numpy=82>"
      ]
     },
     "execution_count": 221,
     "metadata": {},
     "output_type": "execute_result"
    },
    {
     "name": "stdout",
     "output_type": "stream",
     "text": [
      "lossssssssssssss tf.Tensor([], shape=(0,), dtype=float64)\n",
      "tf.Tensor([], shape=(0,), dtype=float64)\n"
     ]
    },
    {
     "data": {
      "text/plain": [
       "<tf.Variable 'UnreadVariable' shape=() dtype=int64, numpy=83>"
      ]
     },
     "execution_count": 221,
     "metadata": {},
     "output_type": "execute_result"
    },
    {
     "name": "stdout",
     "output_type": "stream",
     "text": [
      "lossssssssssssss tf.Tensor([], shape=(0,), dtype=float64)\n",
      "tf.Tensor([], shape=(0,), dtype=float64)\n"
     ]
    },
    {
     "data": {
      "text/plain": [
       "<tf.Variable 'UnreadVariable' shape=() dtype=int64, numpy=84>"
      ]
     },
     "execution_count": 221,
     "metadata": {},
     "output_type": "execute_result"
    },
    {
     "name": "stdout",
     "output_type": "stream",
     "text": [
      "lossssssssssssss tf.Tensor([], shape=(0,), dtype=float64)\n",
      "tf.Tensor([], shape=(0,), dtype=float64)\n"
     ]
    },
    {
     "data": {
      "text/plain": [
       "<tf.Variable 'UnreadVariable' shape=() dtype=int64, numpy=85>"
      ]
     },
     "execution_count": 221,
     "metadata": {},
     "output_type": "execute_result"
    },
    {
     "name": "stdout",
     "output_type": "stream",
     "text": [
      "lossssssssssssss tf.Tensor([], shape=(0,), dtype=float64)\n",
      "tf.Tensor([], shape=(0,), dtype=float64)\n"
     ]
    },
    {
     "data": {
      "text/plain": [
       "<tf.Variable 'UnreadVariable' shape=() dtype=int64, numpy=86>"
      ]
     },
     "execution_count": 221,
     "metadata": {},
     "output_type": "execute_result"
    },
    {
     "name": "stdout",
     "output_type": "stream",
     "text": [
      "lossssssssssssss tf.Tensor([], shape=(0,), dtype=float64)\n",
      "tf.Tensor([], shape=(0,), dtype=float64)\n"
     ]
    },
    {
     "data": {
      "text/plain": [
       "<tf.Variable 'UnreadVariable' shape=() dtype=int64, numpy=87>"
      ]
     },
     "execution_count": 221,
     "metadata": {},
     "output_type": "execute_result"
    },
    {
     "name": "stdout",
     "output_type": "stream",
     "text": [
      "lossssssssssssss tf.Tensor([], shape=(0,), dtype=float64)\n",
      "tf.Tensor([], shape=(0,), dtype=float64)\n"
     ]
    },
    {
     "data": {
      "text/plain": [
       "<tf.Variable 'UnreadVariable' shape=() dtype=int64, numpy=88>"
      ]
     },
     "execution_count": 221,
     "metadata": {},
     "output_type": "execute_result"
    },
    {
     "name": "stdout",
     "output_type": "stream",
     "text": [
      "lossssssssssssss tf.Tensor([], shape=(0,), dtype=float64)\n",
      "tf.Tensor([], shape=(0,), dtype=float64)\n"
     ]
    },
    {
     "data": {
      "text/plain": [
       "<tf.Variable 'UnreadVariable' shape=() dtype=int64, numpy=89>"
      ]
     },
     "execution_count": 221,
     "metadata": {},
     "output_type": "execute_result"
    },
    {
     "name": "stdout",
     "output_type": "stream",
     "text": [
      "lossssssssssssss tf.Tensor([], shape=(0,), dtype=float64)\n",
      "tf.Tensor([], shape=(0,), dtype=float64)\n"
     ]
    },
    {
     "data": {
      "text/plain": [
       "<tf.Variable 'UnreadVariable' shape=() dtype=int64, numpy=90>"
      ]
     },
     "execution_count": 221,
     "metadata": {},
     "output_type": "execute_result"
    },
    {
     "name": "stdout",
     "output_type": "stream",
     "text": [
      "lossssssssssssss tf.Tensor([], shape=(0,), dtype=float64)\n",
      "tf.Tensor([], shape=(0,), dtype=float64)\n"
     ]
    },
    {
     "data": {
      "text/plain": [
       "<tf.Variable 'UnreadVariable' shape=() dtype=int64, numpy=91>"
      ]
     },
     "execution_count": 221,
     "metadata": {},
     "output_type": "execute_result"
    },
    {
     "name": "stdout",
     "output_type": "stream",
     "text": [
      "lossssssssssssss tf.Tensor([], shape=(0,), dtype=float64)\n",
      "tf.Tensor([], shape=(0,), dtype=float64)\n"
     ]
    },
    {
     "data": {
      "text/plain": [
       "<tf.Variable 'UnreadVariable' shape=() dtype=int64, numpy=92>"
      ]
     },
     "execution_count": 221,
     "metadata": {},
     "output_type": "execute_result"
    },
    {
     "name": "stdout",
     "output_type": "stream",
     "text": [
      "lossssssssssssss tf.Tensor([], shape=(0,), dtype=float64)\n",
      "tf.Tensor([], shape=(0,), dtype=float64)\n"
     ]
    },
    {
     "data": {
      "text/plain": [
       "<tf.Variable 'UnreadVariable' shape=() dtype=int64, numpy=93>"
      ]
     },
     "execution_count": 221,
     "metadata": {},
     "output_type": "execute_result"
    },
    {
     "name": "stdout",
     "output_type": "stream",
     "text": [
      "lossssssssssssss tf.Tensor([], shape=(0,), dtype=float64)\n",
      "tf.Tensor([], shape=(0,), dtype=float64)\n"
     ]
    },
    {
     "data": {
      "text/plain": [
       "<tf.Variable 'UnreadVariable' shape=() dtype=int64, numpy=94>"
      ]
     },
     "execution_count": 221,
     "metadata": {},
     "output_type": "execute_result"
    },
    {
     "name": "stdout",
     "output_type": "stream",
     "text": [
      "lossssssssssssss tf.Tensor([], shape=(0,), dtype=float64)\n",
      "tf.Tensor([], shape=(0,), dtype=float64)\n"
     ]
    },
    {
     "data": {
      "text/plain": [
       "<tf.Variable 'UnreadVariable' shape=() dtype=int64, numpy=95>"
      ]
     },
     "execution_count": 221,
     "metadata": {},
     "output_type": "execute_result"
    },
    {
     "name": "stdout",
     "output_type": "stream",
     "text": [
      "lossssssssssssss tf.Tensor([], shape=(0,), dtype=float64)\n",
      "tf.Tensor([], shape=(0,), dtype=float64)\n"
     ]
    },
    {
     "data": {
      "text/plain": [
       "<tf.Variable 'UnreadVariable' shape=() dtype=int64, numpy=96>"
      ]
     },
     "execution_count": 221,
     "metadata": {},
     "output_type": "execute_result"
    },
    {
     "name": "stdout",
     "output_type": "stream",
     "text": [
      "lossssssssssssss tf.Tensor([], shape=(0,), dtype=float64)\n",
      "tf.Tensor([], shape=(0,), dtype=float64)\n"
     ]
    },
    {
     "data": {
      "text/plain": [
       "<tf.Variable 'UnreadVariable' shape=() dtype=int64, numpy=97>"
      ]
     },
     "execution_count": 221,
     "metadata": {},
     "output_type": "execute_result"
    },
    {
     "name": "stdout",
     "output_type": "stream",
     "text": [
      "lossssssssssssss tf.Tensor([], shape=(0,), dtype=float64)\n",
      "tf.Tensor([], shape=(0,), dtype=float64)\n"
     ]
    },
    {
     "data": {
      "text/plain": [
       "<tf.Variable 'UnreadVariable' shape=() dtype=int64, numpy=98>"
      ]
     },
     "execution_count": 221,
     "metadata": {},
     "output_type": "execute_result"
    },
    {
     "name": "stdout",
     "output_type": "stream",
     "text": [
      "lossssssssssssss tf.Tensor([], shape=(0,), dtype=float64)\n",
      "tf.Tensor([], shape=(0,), dtype=float64)\n"
     ]
    },
    {
     "data": {
      "text/plain": [
       "<tf.Variable 'UnreadVariable' shape=() dtype=int64, numpy=99>"
      ]
     },
     "execution_count": 221,
     "metadata": {},
     "output_type": "execute_result"
    },
    {
     "name": "stdout",
     "output_type": "stream",
     "text": [
      "lossssssssssssss tf.Tensor([], shape=(0,), dtype=float64)\n",
      "tf.Tensor([], shape=(0,), dtype=float64)\n"
     ]
    },
    {
     "data": {
      "text/plain": [
       "<tf.Variable 'UnreadVariable' shape=() dtype=int64, numpy=100>"
      ]
     },
     "execution_count": 221,
     "metadata": {},
     "output_type": "execute_result"
    },
    {
     "name": "stdout",
     "output_type": "stream",
     "text": [
      "lossssssssssssss tf.Tensor([], shape=(0,), dtype=float64)\n"
     ]
    }
   ],
   "source": [
    "xtrain = np.array([i for i in range(0,100)],dtype=float)\n",
    "ytrain = np.array([i*2+3 for i in range(0,100)],dtype=float)\n",
    "epochs = 100\n",
    "\n",
    "optimizer = tf.keras.optimizers.Adam()\n",
    "loss_fn   = keras.losses.MeanAbsoluteError() \n",
    "\n",
    "for epoch in range(0,epochs):\n",
    "    loss_value=0\n",
    "    \n",
    "    #for i,x in enumerate(np.asarray(xtrain)):\n",
    "    with tf.GradientTape() as tape:\n",
    "        #print(x)\n",
    "        op = model(np.array(xtrain))\n",
    "        loss_value = loss_fn(op,np.array(ytrain))\n",
    "        #print(op)\n",
    "        #print(\"np.array(x).reshape(1,)\",np.array(x).reshape(1,))\n",
    "        #print(\"op is \",op)\n",
    "        #print(\"ytrain[i] is \",ytrain[i])\n",
    "        loss_value += model.losses\n",
    "        \n",
    "\n",
    "    grads = tape.gradient(loss_value,model.trainable_weights)\n",
    "    optimizer.apply_gradients(zip(grads, model.trainable_weights)) \n",
    "    print(\"lossssssssssssss\", loss_value)"
   ]
  },
  {
   "cell_type": "code",
   "execution_count": 205,
   "id": "dbe41c34",
   "metadata": {},
   "outputs": [
    {
     "data": {
      "text/plain": [
       "array([[22.031853]], dtype=float32)"
      ]
     },
     "execution_count": 205,
     "metadata": {},
     "output_type": "execute_result"
    }
   ],
   "source": [
    "model.predict([10])"
   ]
  },
  {
   "cell_type": "code",
   "execution_count": null,
   "id": "2776058b",
   "metadata": {},
   "outputs": [],
   "source": []
  },
  {
   "cell_type": "code",
   "execution_count": 315,
   "id": "40bd79cf",
   "metadata": {
    "collapsed": true
   },
   "outputs": [
    {
     "data": {
      "text/plain": [
       "([41, 82], [80, 160], [56, 112], [99, 198], [81, 162])"
      ]
     },
     "execution_count": 315,
     "metadata": {},
     "output_type": "execute_result"
    },
    {
     "data": {
      "text/plain": [
       "(41, 80, 56, 99, 81)"
      ]
     },
     "execution_count": 315,
     "metadata": {},
     "output_type": "execute_result"
    },
    {
     "data": {
      "text/plain": [
       "(0,\n",
       " 0,\n",
       " 0,\n",
       " 0,\n",
       " 0,\n",
       " 0,\n",
       " 0,\n",
       " 0,\n",
       " 0,\n",
       " 0,\n",
       " 0,\n",
       " 0,\n",
       " 0,\n",
       " 0,\n",
       " 0,\n",
       " 0,\n",
       " 0,\n",
       " 0,\n",
       " 0,\n",
       " 0,\n",
       " 0,\n",
       " 0,\n",
       " 0,\n",
       " 0,\n",
       " 0,\n",
       " 0,\n",
       " 0,\n",
       " 0,\n",
       " 0,\n",
       " 0,\n",
       " 0,\n",
       " 0,\n",
       " 0,\n",
       " 0,\n",
       " 0,\n",
       " 0,\n",
       " 0,\n",
       " 0,\n",
       " 0,\n",
       " 0,\n",
       " 0,\n",
       " 0,\n",
       " 0,\n",
       " 0,\n",
       " 0,\n",
       " 0,\n",
       " 0,\n",
       " 0,\n",
       " 0,\n",
       " 0,\n",
       " 0,\n",
       " 0,\n",
       " 0,\n",
       " 0,\n",
       " 0,\n",
       " 0,\n",
       " 0,\n",
       " 0,\n",
       " 0,\n",
       " 0,\n",
       " 0,\n",
       " 0,\n",
       " 0,\n",
       " 0,\n",
       " 0,\n",
       " 0,\n",
       " 0,\n",
       " 0,\n",
       " 0,\n",
       " 0,\n",
       " 0,\n",
       " 0,\n",
       " 0,\n",
       " 0,\n",
       " 0,\n",
       " 0,\n",
       " 0,\n",
       " 0,\n",
       " 0,\n",
       " 0,\n",
       " 0,\n",
       " 0,\n",
       " 0,\n",
       " 0,\n",
       " 0,\n",
       " 0,\n",
       " 0,\n",
       " 0,\n",
       " 0,\n",
       " 0,\n",
       " 0,\n",
       " 0,\n",
       " 0,\n",
       " 0,\n",
       " 0,\n",
       " 0,\n",
       " 0,\n",
       " 0,\n",
       " 0,\n",
       " 0)"
      ]
     },
     "execution_count": 315,
     "metadata": {},
     "output_type": "execute_result"
    },
    {
     "name": "stdout",
     "output_type": "stream",
     "text": [
      "Epoch 1/100\n",
      "4/4 [==============================] - 1s 3ms/step - loss: 3821.3938 - mae: 53.3866\n",
      "Epoch 2/100\n",
      "4/4 [==============================] - 0s 3ms/step - loss: 3571.5300 - mae: 51.6141\n",
      "Epoch 3/100\n",
      "4/4 [==============================] - 0s 3ms/step - loss: 3395.8630 - mae: 50.3139\n",
      "Epoch 4/100\n",
      "4/4 [==============================] - 0s 3ms/step - loss: 3288.1807 - mae: 49.5304\n",
      "Epoch 5/100\n",
      "4/4 [==============================] - 0s 3ms/step - loss: 3200.0283 - mae: 48.8408\n",
      "Epoch 6/100\n",
      "4/4 [==============================] - 0s 3ms/step - loss: 3133.6096 - mae: 48.3349\n",
      "Epoch 7/100\n",
      "4/4 [==============================] - 0s 3ms/step - loss: 3035.5088 - mae: 47.5692\n",
      "Epoch 8/100\n",
      "4/4 [==============================] - 0s 3ms/step - loss: 2918.9531 - mae: 46.6457\n",
      "Epoch 9/100\n",
      "4/4 [==============================] - 0s 3ms/step - loss: 2743.8665 - mae: 45.2307\n",
      "Epoch 10/100\n",
      "4/4 [==============================] - 0s 3ms/step - loss: 2514.8237 - mae: 43.2784\n",
      "Epoch 11/100\n",
      "4/4 [==============================] - 0s 4ms/step - loss: 2209.7524 - mae: 40.5613\n",
      "Epoch 12/100\n",
      "4/4 [==============================] - 0s 4ms/step - loss: 1871.2728 - mae: 37.2794\n",
      "Epoch 13/100\n",
      "4/4 [==============================] - 0s 3ms/step - loss: 1480.2061 - mae: 33.1563\n",
      "Epoch 14/100\n",
      "4/4 [==============================] - 0s 5ms/step - loss: 1050.9312 - mae: 27.9251\n",
      "Epoch 15/100\n",
      "4/4 [==============================] - 0s 2ms/step - loss: 632.2537 - mae: 21.5155\n",
      "Epoch 16/100\n",
      "4/4 [==============================] - 0s 2ms/step - loss: 255.3299 - mae: 13.6280\n",
      "Epoch 17/100\n",
      "4/4 [==============================] - 0s 2ms/step - loss: 33.7475 - mae: 4.5822\n",
      "Epoch 18/100\n",
      "4/4 [==============================] - 0s 2ms/step - loss: 14.5878 - mae: 3.0332\n",
      "Epoch 19/100\n",
      "4/4 [==============================] - 0s 2ms/step - loss: 65.7830 - mae: 7.1099\n",
      "Epoch 20/100\n",
      "4/4 [==============================] - 0s 4ms/step - loss: 55.9197 - mae: 6.5672\n",
      "Epoch 21/100\n",
      "4/4 [==============================] - 0s 5ms/step - loss: 10.3244 - mae: 2.6619\n",
      "Epoch 22/100\n",
      "4/4 [==============================] - 0s 5ms/step - loss: 5.4401 - mae: 1.8437\n",
      "Epoch 23/100\n",
      "4/4 [==============================] - 0s 5ms/step - loss: 15.5120 - mae: 3.3182\n",
      "Epoch 24/100\n",
      "4/4 [==============================] - 0s 4ms/step - loss: 6.6442 - mae: 2.1273\n",
      "Epoch 25/100\n",
      "4/4 [==============================] - 0s 5ms/step - loss: 0.3891 - mae: 0.5059\n",
      "Epoch 26/100\n",
      "4/4 [==============================] - 0s 4ms/step - loss: 0.4448 - mae: 0.6291\n",
      "Epoch 27/100\n",
      "4/4 [==============================] - 0s 5ms/step - loss: 0.1680 - mae: 0.3368\n",
      "Epoch 28/100\n",
      "4/4 [==============================] - 0s 4ms/step - loss: 0.0771 - mae: 0.2469\n",
      "Epoch 29/100\n",
      "4/4 [==============================] - 0s 4ms/step - loss: 0.1684 - mae: 0.4042\n",
      "Epoch 30/100\n",
      "4/4 [==============================] - 0s 4ms/step - loss: 0.0673 - mae: 0.2182\n",
      "Epoch 31/100\n",
      "4/4 [==============================] - 0s 2ms/step - loss: 0.0829 - mae: 0.2392\n",
      "Epoch 32/100\n",
      "4/4 [==============================] - 0s 3ms/step - loss: 0.0544 - mae: 0.2126\n",
      "Epoch 33/100\n",
      "4/4 [==============================] - 0s 2ms/step - loss: 0.0377 - mae: 0.1662\n",
      "Epoch 34/100\n",
      "4/4 [==============================] - 0s 3ms/step - loss: 0.0350 - mae: 0.1594\n",
      "Epoch 35/100\n",
      "4/4 [==============================] - 0s 2ms/step - loss: 0.0349 - mae: 0.1567\n",
      "Epoch 36/100\n",
      "4/4 [==============================] - 0s 2ms/step - loss: 0.0395 - mae: 0.1722\n",
      "Epoch 37/100\n",
      "4/4 [==============================] - 0s 2ms/step - loss: 0.0347 - mae: 0.1621\n",
      "Epoch 38/100\n",
      "4/4 [==============================] - 0s 3ms/step - loss: 0.0314 - mae: 0.1487\n",
      "Epoch 39/100\n",
      "4/4 [==============================] - 0s 3ms/step - loss: 0.0432 - mae: 0.1794\n",
      "Epoch 40/100\n",
      "4/4 [==============================] - 0s 3ms/step - loss: 0.0487 - mae: 0.2033\n",
      "Epoch 41/100\n",
      "4/4 [==============================] - 0s 3ms/step - loss: 0.0359 - mae: 0.1687\n",
      "Epoch 42/100\n",
      "4/4 [==============================] - 0s 3ms/step - loss: 0.0594 - mae: 0.2076\n",
      "Epoch 43/100\n",
      "4/4 [==============================] - 0s 3ms/step - loss: 0.0327 - mae: 0.1607\n",
      "Epoch 44/100\n",
      "4/4 [==============================] - 0s 3ms/step - loss: 0.0308 - mae: 0.1530\n",
      "Epoch 45/100\n",
      "4/4 [==============================] - 0s 3ms/step - loss: 0.0296 - mae: 0.1497\n",
      "Epoch 46/100\n",
      "4/4 [==============================] - 0s 3ms/step - loss: 0.0240 - mae: 0.1296\n",
      "Epoch 47/100\n",
      "4/4 [==============================] - 0s 3ms/step - loss: 0.0235 - mae: 0.1301\n",
      "Epoch 48/100\n",
      "4/4 [==============================] - 0s 5ms/step - loss: 0.0233 - mae: 0.1294\n",
      "Epoch 49/100\n",
      "4/4 [==============================] - 0s 5ms/step - loss: 0.0222 - mae: 0.1228\n",
      "Epoch 50/100\n",
      "4/4 [==============================] - 0s 5ms/step - loss: 0.0217 - mae: 0.1229\n",
      "Epoch 51/100\n",
      "4/4 [==============================] - 0s 5ms/step - loss: 0.0212 - mae: 0.1225\n",
      "Epoch 52/100\n",
      "4/4 [==============================] - 0s 5ms/step - loss: 0.0213 - mae: 0.1189\n",
      "Epoch 53/100\n",
      "4/4 [==============================] - 0s 4ms/step - loss: 0.0202 - mae: 0.1170\n",
      "Epoch 54/100\n",
      "4/4 [==============================] - 0s 5ms/step - loss: 0.0223 - mae: 0.1288\n",
      "Epoch 55/100\n",
      "4/4 [==============================] - 0s 5ms/step - loss: 0.0196 - mae: 0.1143\n",
      "Epoch 56/100\n",
      "4/4 [==============================] - 0s 5ms/step - loss: 0.0189 - mae: 0.1118\n",
      "Epoch 57/100\n",
      "4/4 [==============================] - 0s 6ms/step - loss: 0.0212 - mae: 0.1247\n",
      "Epoch 58/100\n",
      "4/4 [==============================] - 0s 6ms/step - loss: 0.0199 - mae: 0.1159\n",
      "Epoch 59/100\n",
      "4/4 [==============================] - 0s 7ms/step - loss: 0.0181 - mae: 0.1132\n",
      "Epoch 60/100\n",
      "4/4 [==============================] - 0s 3ms/step - loss: 0.0197 - mae: 0.1211\n",
      "Epoch 61/100\n",
      "4/4 [==============================] - 0s 4ms/step - loss: 0.0203 - mae: 0.1192\n",
      "Epoch 62/100\n",
      "4/4 [==============================] - 0s 3ms/step - loss: 0.0169 - mae: 0.1093\n",
      "Epoch 63/100\n",
      "4/4 [==============================] - 0s 4ms/step - loss: 0.0161 - mae: 0.1072\n",
      "Epoch 64/100\n",
      "4/4 [==============================] - 0s 3ms/step - loss: 0.0176 - mae: 0.1091\n",
      "Epoch 65/100\n",
      "4/4 [==============================] - 0s 3ms/step - loss: 0.0153 - mae: 0.1033\n",
      "Epoch 66/100\n",
      "4/4 [==============================] - 0s 4ms/step - loss: 0.0168 - mae: 0.1067\n",
      "Epoch 67/100\n",
      "4/4 [==============================] - 0s 4ms/step - loss: 0.0155 - mae: 0.1040\n",
      "Epoch 68/100\n",
      "4/4 [==============================] - 0s 5ms/step - loss: 0.0157 - mae: 0.1060\n",
      "Epoch 69/100\n",
      "4/4 [==============================] - 0s 5ms/step - loss: 0.0151 - mae: 0.1002\n",
      "Epoch 70/100\n",
      "4/4 [==============================] - 0s 6ms/step - loss: 0.0148 - mae: 0.1041\n",
      "Epoch 71/100\n",
      "4/4 [==============================] - 0s 6ms/step - loss: 0.0186 - mae: 0.1189\n",
      "Epoch 72/100\n",
      "4/4 [==============================] - 0s 3ms/step - loss: 0.0139 - mae: 0.0968\n",
      "Epoch 73/100\n",
      "4/4 [==============================] - 0s 3ms/step - loss: 0.0158 - mae: 0.1082\n",
      "Epoch 74/100\n",
      "4/4 [==============================] - 0s 3ms/step - loss: 0.0170 - mae: 0.1149\n",
      "Epoch 75/100\n",
      "4/4 [==============================] - 0s 3ms/step - loss: 0.0134 - mae: 0.0986\n",
      "Epoch 76/100\n",
      "4/4 [==============================] - 0s 3ms/step - loss: 0.0128 - mae: 0.0966\n",
      "Epoch 77/100\n",
      "4/4 [==============================] - 0s 3ms/step - loss: 0.0118 - mae: 0.0905\n",
      "Epoch 78/100\n",
      "4/4 [==============================] - 0s 3ms/step - loss: 0.0119 - mae: 0.0938\n",
      "Epoch 79/100\n",
      "4/4 [==============================] - 0s 3ms/step - loss: 0.0112 - mae: 0.0866\n",
      "Epoch 80/100\n",
      "4/4 [==============================] - 0s 3ms/step - loss: 0.0109 - mae: 0.0889\n",
      "Epoch 81/100\n",
      "4/4 [==============================] - 0s 3ms/step - loss: 0.0112 - mae: 0.0884\n",
      "Epoch 82/100\n",
      "4/4 [==============================] - 0s 3ms/step - loss: 0.0100 - mae: 0.0852\n",
      "Epoch 83/100\n",
      "4/4 [==============================] - 0s 3ms/step - loss: 0.0110 - mae: 0.0892\n",
      "Epoch 84/100\n",
      "4/4 [==============================] - 0s 4ms/step - loss: 0.0094 - mae: 0.0815\n",
      "Epoch 85/100\n",
      "4/4 [==============================] - 0s 3ms/step - loss: 0.0105 - mae: 0.0876\n",
      "Epoch 86/100\n",
      "4/4 [==============================] - 0s 3ms/step - loss: 0.0101 - mae: 0.0847\n",
      "Epoch 87/100\n",
      "4/4 [==============================] - 0s 3ms/step - loss: 0.0096 - mae: 0.0845\n",
      "Epoch 88/100\n",
      "4/4 [==============================] - 0s 3ms/step - loss: 0.0082 - mae: 0.0758\n",
      "Epoch 89/100\n",
      "4/4 [==============================] - 0s 3ms/step - loss: 0.0078 - mae: 0.0744\n",
      "Epoch 90/100\n",
      "4/4 [==============================] - 0s 3ms/step - loss: 0.0075 - mae: 0.0739\n",
      "Epoch 91/100\n",
      "4/4 [==============================] - 0s 3ms/step - loss: 0.0069 - mae: 0.0676\n",
      "Epoch 92/100\n",
      "4/4 [==============================] - 0s 3ms/step - loss: 0.0073 - mae: 0.0734\n",
      "Epoch 93/100\n",
      "4/4 [==============================] - 0s 3ms/step - loss: 0.0067 - mae: 0.0674\n",
      "Epoch 94/100\n",
      "4/4 [==============================] - 0s 3ms/step - loss: 0.0059 - mae: 0.0632\n",
      "Epoch 95/100\n",
      "4/4 [==============================] - 0s 3ms/step - loss: 0.0060 - mae: 0.0653\n",
      "Epoch 96/100\n",
      "4/4 [==============================] - 0s 4ms/step - loss: 0.0068 - mae: 0.0688\n",
      "Epoch 97/100\n",
      "4/4 [==============================] - 0s 3ms/step - loss: 0.0063 - mae: 0.0686\n",
      "Epoch 98/100\n",
      "4/4 [==============================] - 0s 4ms/step - loss: 0.0056 - mae: 0.0623\n",
      "Epoch 99/100\n",
      "4/4 [==============================] - 0s 3ms/step - loss: 0.0050 - mae: 0.0576\n",
      "Epoch 100/100\n",
      "4/4 [==============================] - 0s 3ms/step - loss: 0.0050 - mae: 0.0592\n"
     ]
    },
    {
     "data": {
      "text/plain": [
       "<keras.callbacks.History at 0x1e2d3887208>"
      ]
     },
     "execution_count": 315,
     "metadata": {},
     "output_type": "execute_result"
    }
   ],
   "source": [
    "low = 0\n",
    "high = 100\n",
    "xtrain = [[i,i*2] for i in range(low,high)]\n",
    "xtrain_ab = [[i,i*3] for i in range(3,5)]\n",
    "xtrain=xtrain+xtrain_ab\n",
    "#xtrain\n",
    "ytrain = [(lambda x: x*2 - x)(i) for i in range(low,high)]\n",
    "ytrainclass = [0 if (xtrain[i][1]-xtrain[i][0]==xtrain[i][0]) else 1 for i in range(low,len(xtrain))]\n",
    "\n",
    "import random\n",
    "c = list(zip(xtrain, ytrainclass, ytrain))\n",
    "\n",
    "random.shuffle(c)\n",
    "\n",
    "xtrain, ytrainclass, ytrain = zip(*c)\n",
    "xtrain[:5]\n",
    "ytrain[:5]\n",
    "ytrainclass\n",
    "\n",
    "\n",
    "class Encoder(keras.layers.Layer):\n",
    "    def __init__(self):\n",
    "        super(Encoder, self).__init__()\n",
    "        self.layer1 = keras.layers.Dense(units=32, activation='relu',name=\"layer1\")\n",
    "        self.layer2 = keras.layers.Dense(units=32, activation='relu')\n",
    "        self.layer3 = keras.layers.Dense(units=8, activation='relu')\n",
    "        \n",
    "    def call(self, inputs):\n",
    "        x = self.layer1(inputs)\n",
    "        x = self.layer2(x)\n",
    "        x = self.layer3(x)\n",
    "        return x\n",
    "    \n",
    "class Decoder(keras.layers.Layer):\n",
    "    def __init__(self):\n",
    "        super(Decoder, self).__init__()\n",
    "        self.layer1 = keras.layers.Dense(units=32, activation='relu')\n",
    "        self.layer2 = keras.layers.Dense(units=32, activation='relu')\n",
    "        self.layer3 = keras.layers.Dense(units=1, activation='linear')\n",
    "        \n",
    "    def call(self, inputs):\n",
    "        #self.layer1 = keras.layers.Dense(units=32, input_shape=((2,)),activation='relu')\n",
    "        x = self.layer1(inputs)\n",
    "        x = self.layer2(x)\n",
    "        x = self.layer3(x)\n",
    "        return x\n",
    "    \n",
    "class AE(keras.Model):\n",
    "    def __init__(self):\n",
    "        super(AE, self).__init__()\n",
    "        self.Encoder = Encoder()\n",
    "        self.Decoder = Decoder()\n",
    "        \n",
    "    def call(self, inputs):\n",
    "        x = self.Encoder(inputs)\n",
    "        x = self.Decoder(x)\n",
    "        return x\n",
    "    \n",
    "ae = AE()    \n",
    "ae.compile(loss='mse',optimizer='adam',metrics=['mae'])\n",
    "ae.fit(xtrain, ytrain, epochs=100)    "
   ]
  },
  {
   "cell_type": "code",
   "execution_count": 382,
   "id": "2fe77474",
   "metadata": {
    "collapsed": true
   },
   "outputs": [
    {
     "name": "stdout",
     "output_type": "stream",
     "text": [
      "Epoch 1/100\n",
      "4/4 [==============================] - 1s 2ms/step - loss: 3319.3708 - mae: 49.7736\n",
      "Epoch 2/100\n",
      "4/4 [==============================] - 0s 2ms/step - loss: 3227.3452 - mae: 49.0581\n",
      "Epoch 3/100\n",
      "4/4 [==============================] - 0s 2ms/step - loss: 3105.8293 - mae: 48.1430\n",
      "Epoch 4/100\n",
      "4/4 [==============================] - 0s 2ms/step - loss: 2925.4607 - mae: 46.6970\n",
      "Epoch 5/100\n",
      "4/4 [==============================] - 0s 2ms/step - loss: 2659.2607 - mae: 44.5258\n",
      "Epoch 6/100\n",
      "4/4 [==============================] - 0s 3ms/step - loss: 2316.4521 - mae: 41.5373\n",
      "Epoch 7/100\n",
      "4/4 [==============================] - 0s 2ms/step - loss: 1815.3827 - mae: 36.6766\n",
      "Epoch 8/100\n",
      "4/4 [==============================] - 0s 2ms/step - loss: 1289.1161 - mae: 30.9467\n",
      "Epoch 9/100\n",
      "4/4 [==============================] - 0s 3ms/step - loss: 812.7495 - mae: 24.5047\n",
      "Epoch 10/100\n",
      "4/4 [==============================] - 0s 2ms/step - loss: 366.4376 - mae: 16.3310\n",
      "Epoch 11/100\n",
      "4/4 [==============================] - 0s 3ms/step - loss: 74.6253 - mae: 7.0648\n",
      "Epoch 12/100\n",
      "4/4 [==============================] - 0s 2ms/step - loss: 8.9009 - mae: 2.2637\n",
      "Epoch 13/100\n",
      "4/4 [==============================] - 0s 3ms/step - loss: 81.5872 - mae: 7.8989\n",
      "Epoch 14/100\n",
      "4/4 [==============================] - 0s 3ms/step - loss: 105.7819 - mae: 9.0116\n",
      "Epoch 00014: early stopping\n"
     ]
    },
    {
     "data": {
      "text/plain": [
       "<keras.callbacks.History at 0x1e2df1479e8>"
      ]
     },
     "execution_count": 382,
     "metadata": {},
     "output_type": "execute_result"
    }
   ],
   "source": [
    "# Custome losses two ways\n",
    "\n",
    "def mean_abs_error(y_true,y_pred):\n",
    "    return tf.math.reduce_mean(tf.square(float(y_true) - y_pred))\n",
    "\n",
    "initial_learning_rate = 0.1\n",
    "lr_schedule = keras.optimizers.schedules.ExponentialDecay(initial_learning_rate, decay_steps=10, decay_rate=0.96, staircase=True)\n",
    "\n",
    "callbacks = [\n",
    "    keras.callbacks.EarlyStopping(\n",
    "        # Stop training when `val_loss` is no longer improving\n",
    "        monitor=\"loss\",\n",
    "        # \"no longer improving\" being defined as \"no better than 1e-2 less\"\n",
    "        min_delta=1e-2,\n",
    "        # \"no longer improving\" being further defined as \"for at least 2 epochs\"\n",
    "        patience=2,\n",
    "        verbose=1,\n",
    "    )\n",
    "]\n",
    "\n",
    "ae = AE() \n",
    "ae.compile(loss=mean_abs_error,optimizer='adam',metrics=['mae'])\n",
    "ae.fit(xtrain, ytrain, epochs=100,callbacks=callbacks)"
   ]
  },
  {
   "cell_type": "code",
   "execution_count": 11,
   "id": "73b61e31",
   "metadata": {},
   "outputs": [
    {
     "data": {
      "text/plain": [
       "[]"
      ]
     },
     "execution_count": 11,
     "metadata": {},
     "output_type": "execute_result"
    },
    {
     "name": "stdout",
     "output_type": "stream",
     "text": [
      "Epoch 1/100\n",
      "4/4 [==============================] - 6s 3ms/step - loss: 3167.9941 - mae: 48.5964\n",
      "Epoch 2/100\n",
      "4/4 [==============================] - 0s 3ms/step - loss: 2896.8940 - mae: 46.5121\n",
      "Epoch 3/100\n",
      "4/4 [==============================] - 0s 3ms/step - loss: 2592.3240 - mae: 43.9430\n",
      "Epoch 4/100\n",
      "4/4 [==============================] - 0s 3ms/step - loss: 2236.0020 - mae: 40.8270\n",
      "Epoch 5/100\n",
      "4/4 [==============================] - 0s 3ms/step - loss: 1857.8125 - mae: 37.1481\n",
      "Epoch 6/100\n",
      "4/4 [==============================] - 0s 3ms/step - loss: 1402.7119 - mae: 32.2647\n",
      "Epoch 7/100\n",
      "4/4 [==============================] - 0s 3ms/step - loss: 940.9670 - mae: 26.3549\n",
      "Epoch 8/100\n",
      "4/4 [==============================] - 0s 3ms/step - loss: 501.0210 - mae: 19.1775\n",
      "Epoch 9/100\n",
      "4/4 [==============================] - 0s 2ms/step - loss: 163.3675 - mae: 10.8231\n",
      "Epoch 10/100\n",
      "4/4 [==============================] - 0s 4ms/step - loss: 10.1560 - mae: 2.1864\n",
      "Epoch 11/100\n",
      "4/4 [==============================] - 0s 4ms/step - loss: 40.6764 - mae: 5.4287\n",
      "Epoch 12/100\n",
      "4/4 [==============================] - 0s 3ms/step - loss: 96.9622 - mae: 8.6067\n",
      "Epoch 13/100\n",
      "4/4 [==============================] - 0s 4ms/step - loss: 61.8401 - mae: 6.8858\n",
      "Epoch 14/100\n",
      "4/4 [==============================] - 0s 4ms/step - loss: 10.3723 - mae: 2.7350\n",
      "Epoch 15/100\n",
      "4/4 [==============================] - 0s 4ms/step - loss: 2.6284 - mae: 1.1593\n",
      "Epoch 16/100\n",
      "4/4 [==============================] - 0s 3ms/step - loss: 13.2288 - mae: 3.0621\n",
      "Epoch 17/100\n",
      "4/4 [==============================] - 0s 2ms/step - loss: 13.2503 - mae: 3.0595\n",
      "Epoch 18/100\n",
      "4/4 [==============================] - 0s 3ms/step - loss: 5.1870 - mae: 1.8817\n",
      "Epoch 19/100\n",
      "4/4 [==============================] - 0s 4ms/step - loss: 0.3532 - mae: 0.4287\n",
      "Epoch 20/100\n",
      "4/4 [==============================] - 0s 4ms/step - loss: 0.9233 - mae: 0.8904\n",
      "Epoch 21/100\n",
      "4/4 [==============================] - 0s 5ms/step - loss: 2.1179 - mae: 1.3377\n",
      "Epoch 22/100\n",
      "4/4 [==============================] - 0s 4ms/step - loss: 1.0025 - mae: 0.9297\n",
      "Epoch 23/100\n",
      "4/4 [==============================] - 0s 3ms/step - loss: 0.0890 - mae: 0.2605\n",
      "Epoch 24/100\n",
      "4/4 [==============================] - 0s 3ms/step - loss: 0.3966 - mae: 0.5138\n",
      "Epoch 25/100\n",
      "4/4 [==============================] - 0s 3ms/step - loss: 0.3569 - mae: 0.4850\n",
      "Epoch 26/100\n",
      "4/4 [==============================] - 0s 4ms/step - loss: 0.0652 - mae: 0.2086\n",
      "Epoch 27/100\n",
      "4/4 [==============================] - 0s 3ms/step - loss: 0.0721 - mae: 0.2546\n",
      "Epoch 28/100\n",
      "4/4 [==============================] - 0s 3ms/step - loss: 0.1247 - mae: 0.3515\n",
      "Epoch 29/100\n",
      "4/4 [==============================] - 0s 3ms/step - loss: 0.0669 - mae: 0.2470\n",
      "Epoch 30/100\n",
      "4/4 [==============================] - 0s 4ms/step - loss: 0.0325 - mae: 0.1500\n",
      "Epoch 31/100\n",
      "4/4 [==============================] - 0s 4ms/step - loss: 0.0485 - mae: 0.1884\n",
      "Epoch 32/100\n",
      "4/4 [==============================] - 0s 4ms/step - loss: 0.0588 - mae: 0.2029\n",
      "Epoch 33/100\n",
      "4/4 [==============================] - 0s 3ms/step - loss: 0.0302 - mae: 0.1462\n",
      "Epoch 34/100\n",
      "4/4 [==============================] - 0s 3ms/step - loss: 0.0338 - mae: 0.1486\n",
      "Epoch 35/100\n",
      "4/4 [==============================] - 0s 3ms/step - loss: 0.0352 - mae: 0.1537\n",
      "Epoch 36/100\n",
      "4/4 [==============================] - 0s 4ms/step - loss: 0.0308 - mae: 0.1416\n",
      "Epoch 37/100\n",
      "4/4 [==============================] - 0s 3ms/step - loss: 0.0295 - mae: 0.1425\n",
      "Epoch 38/100\n",
      "4/4 [==============================] - 0s 3ms/step - loss: 0.0316 - mae: 0.1509\n",
      "Epoch 39/100\n",
      "4/4 [==============================] - 0s 5ms/step - loss: 0.0313 - mae: 0.1494\n",
      "Epoch 40/100\n",
      "4/4 [==============================] - 0s 5ms/step - loss: 0.0292 - mae: 0.1423\n",
      "Epoch 41/100\n",
      "4/4 [==============================] - 0s 6ms/step - loss: 0.0292 - mae: 0.1388\n",
      "Epoch 42/100\n",
      "4/4 [==============================] - 0s 6ms/step - loss: 0.0297 - mae: 0.1392\n",
      "Epoch 43/100\n",
      "4/4 [==============================] - 0s 7ms/step - loss: 0.0288 - mae: 0.1388\n",
      "Epoch 44/100\n",
      "4/4 [==============================] - 0s 6ms/step - loss: 0.0287 - mae: 0.1416\n",
      "Epoch 45/100\n",
      "4/4 [==============================] - 0s 5ms/step - loss: 0.0290 - mae: 0.1427\n",
      "Epoch 46/100\n",
      "4/4 [==============================] - 0s 5ms/step - loss: 0.0285 - mae: 0.1396\n",
      "Epoch 47/100\n",
      "4/4 [==============================] - 0s 5ms/step - loss: 0.0286 - mae: 0.1368\n",
      "Epoch 48/100\n",
      "4/4 [==============================] - 0s 5ms/step - loss: 0.0281 - mae: 0.1361\n",
      "Epoch 49/100\n",
      "4/4 [==============================] - 0s 5ms/step - loss: 0.0271 - mae: 0.1354\n",
      "Epoch 50/100\n",
      "4/4 [==============================] - 0s 5ms/step - loss: 0.0255 - mae: 0.1337\n",
      "Epoch 51/100\n",
      "4/4 [==============================] - 0s 5ms/step - loss: 0.0264 - mae: 0.1369\n",
      "Epoch 52/100\n",
      "4/4 [==============================] - 0s 6ms/step - loss: 0.0262 - mae: 0.1342\n",
      "Epoch 53/100\n",
      "4/4 [==============================] - 0s 6ms/step - loss: 0.0261 - mae: 0.1318\n",
      "Epoch 54/100\n",
      "4/4 [==============================] - 0s 6ms/step - loss: 0.0262 - mae: 0.1314\n",
      "Epoch 55/100\n",
      "4/4 [==============================] - 0s 5ms/step - loss: 0.0253 - mae: 0.1307\n",
      "Epoch 56/100\n",
      "4/4 [==============================] - 0s 5ms/step - loss: 0.0253 - mae: 0.1327\n",
      "Epoch 57/100\n",
      "4/4 [==============================] - 0s 5ms/step - loss: 0.0248 - mae: 0.1332\n",
      "Epoch 58/100\n",
      "4/4 [==============================] - 0s 5ms/step - loss: 0.0241 - mae: 0.1289\n",
      "Epoch 59/100\n",
      "4/4 [==============================] - 0s 7ms/step - loss: 0.0233 - mae: 0.1250\n",
      "Epoch 60/100\n",
      "4/4 [==============================] - 0s 5ms/step - loss: 0.0189 - mae: 0.1129\n",
      "Epoch 61/100\n",
      "4/4 [==============================] - 0s 5ms/step - loss: 0.0188 - mae: 0.1139\n",
      "Epoch 62/100\n",
      "4/4 [==============================] - 0s 6ms/step - loss: 0.0236 - mae: 0.1249\n",
      "Epoch 63/100\n",
      "4/4 [==============================] - 0s 5ms/step - loss: 0.0220 - mae: 0.1212\n",
      "Epoch 64/100\n",
      "4/4 [==============================] - 0s 5ms/step - loss: 0.0226 - mae: 0.1268\n",
      "Epoch 65/100\n",
      "4/4 [==============================] - 0s 6ms/step - loss: 0.0228 - mae: 0.1280\n",
      "Epoch 66/100\n",
      "4/4 [==============================] - 0s 3ms/step - loss: 0.0210 - mae: 0.1221\n",
      "Epoch 67/100\n",
      "4/4 [==============================] - 0s 3ms/step - loss: 0.0199 - mae: 0.1164\n",
      "Epoch 68/100\n",
      "4/4 [==============================] - 0s 6ms/step - loss: 0.0192 - mae: 0.1130\n",
      "Epoch 69/100\n",
      "4/4 [==============================] - 0s 3ms/step - loss: 0.0140 - mae: 0.0990\n",
      "Epoch 70/100\n",
      "4/4 [==============================] - 0s 2ms/step - loss: 0.0100 - mae: 0.0811\n",
      "Epoch 71/100\n",
      "4/4 [==============================] - 0s 3ms/step - loss: 0.0079 - mae: 0.0733\n",
      "Epoch 72/100\n",
      "4/4 [==============================] - 0s 3ms/step - loss: 0.0091 - mae: 0.0791\n",
      "Epoch 73/100\n",
      "4/4 [==============================] - 0s 3ms/step - loss: 0.0095 - mae: 0.0800\n",
      "Epoch 74/100\n",
      "4/4 [==============================] - 0s 3ms/step - loss: 0.0072 - mae: 0.0628\n",
      "Epoch 75/100\n",
      "4/4 [==============================] - 0s 4ms/step - loss: 0.0089 - mae: 0.0784\n",
      "Epoch 76/100\n",
      "4/4 [==============================] - 0s 5ms/step - loss: 0.0062 - mae: 0.0637\n",
      "Epoch 77/100\n",
      "4/4 [==============================] - 0s 4ms/step - loss: 0.0052 - mae: 0.0518\n",
      "Epoch 78/100\n",
      "4/4 [==============================] - 0s 5ms/step - loss: 0.0058 - mae: 0.0616\n",
      "Epoch 79/100\n",
      "4/4 [==============================] - 0s 5ms/step - loss: 0.0029 - mae: 0.0309\n",
      "Epoch 80/100\n",
      "4/4 [==============================] - 0s 5ms/step - loss: 0.0052 - mae: 0.0523\n",
      "Epoch 81/100\n",
      "4/4 [==============================] - 0s 5ms/step - loss: 0.0102 - mae: 0.0813\n",
      "Epoch 82/100\n",
      "4/4 [==============================] - 0s 5ms/step - loss: 0.0058 - mae: 0.0596\n",
      "Epoch 83/100\n",
      "4/4 [==============================] - 0s 5ms/step - loss: 0.0045 - mae: 0.0461\n",
      "Epoch 84/100\n",
      "4/4 [==============================] - 0s 5ms/step - loss: 0.0047 - mae: 0.0550\n",
      "Epoch 85/100\n",
      "4/4 [==============================] - 0s 5ms/step - loss: 0.0023 - mae: 0.0301\n",
      "Epoch 86/100\n",
      "4/4 [==============================] - 0s 5ms/step - loss: 0.0026 - mae: 0.0359\n",
      "Epoch 87/100\n",
      "4/4 [==============================] - 0s 5ms/step - loss: 0.0022 - mae: 0.0268\n",
      "Epoch 88/100\n"
     ]
    },
    {
     "name": "stdout",
     "output_type": "stream",
     "text": [
      "4/4 [==============================] - 0s 5ms/step - loss: 0.0026 - mae: 0.0349\n",
      "Epoch 89/100\n",
      "4/4 [==============================] - 0s 6ms/step - loss: 0.0020 - mae: 0.0266\n",
      "Epoch 90/100\n",
      "4/4 [==============================] - 0s 5ms/step - loss: 0.0017 - mae: 0.0201\n",
      "Epoch 91/100\n",
      "4/4 [==============================] - 0s 5ms/step - loss: 0.0016 - mae: 0.0192\n",
      "Epoch 92/100\n",
      "4/4 [==============================] - 0s 5ms/step - loss: 0.0014 - mae: 0.0172\n",
      "Epoch 93/100\n",
      "4/4 [==============================] - 0s 4ms/step - loss: 0.0015 - mae: 0.0173\n",
      "Epoch 94/100\n",
      "4/4 [==============================] - 0s 5ms/step - loss: 0.0014 - mae: 0.0151\n",
      "Epoch 95/100\n",
      "4/4 [==============================] - 0s 5ms/step - loss: 0.0014 - mae: 0.0155\n",
      "Epoch 96/100\n",
      "4/4 [==============================] - 0s 5ms/step - loss: 0.0013 - mae: 0.0127\n",
      "Epoch 97/100\n",
      "4/4 [==============================] - 0s 5ms/step - loss: 0.0013 - mae: 0.0116\n",
      "Epoch 98/100\n",
      "4/4 [==============================] - 0s 5ms/step - loss: 0.0014 - mae: 0.0170\n",
      "Epoch 99/100\n",
      "4/4 [==============================] - 0s 5ms/step - loss: 0.0013 - mae: 0.0109\n",
      "Epoch 100/100\n",
      "4/4 [==============================] - 0s 5ms/step - loss: 0.0012 - mae: 0.0099\n"
     ]
    },
    {
     "data": {
      "text/plain": [
       "<keras.callbacks.History at 0x1aca9823ef0>"
      ]
     },
     "execution_count": 11,
     "metadata": {},
     "output_type": "execute_result"
    }
   ],
   "source": [
    "class mean_abs_error_reg(keras.losses.Loss):\n",
    "    \n",
    "    def __init__(self, regularisation, name=\"custom_mse\"):\n",
    "        super().__init__(name=name)\n",
    "        self.regularisation = regularisation \n",
    "        \n",
    "    def call(self,y_true,y_pred):\n",
    "        return tf.math.reduce_mean(tf.square(float(y_true) - y_pred)) + self.regularisation\n",
    "    \n",
    "ae = AE() \n",
    "ae.compile(loss=mean_abs_error_reg(regularisation=0.001),optimizer='adam',metrics=['mae'])\n",
    "#ae.compile(optimizer='adam',metrics=['mae'])\n",
    "ae.losses\n",
    "ae.fit(xtrain, ytrain, epochs=100)    \n"
   ]
  },
  {
   "cell_type": "code",
   "execution_count": null,
   "id": "40fe82ee",
   "metadata": {},
   "outputs": [],
   "source": []
  },
  {
   "cell_type": "code",
   "execution_count": 376,
   "id": "7b7356b2",
   "metadata": {
    "collapsed": true
   },
   "outputs": [
    {
     "data": {
      "text/plain": [
       "[[0, 0], [1, 2], [2, 4], [3, 6], [4, 8]]"
      ]
     },
     "execution_count": 376,
     "metadata": {},
     "output_type": "execute_result"
    },
    {
     "data": {
      "text/plain": [
       "[0.16778044424054164,\n",
       " 1.17926256246223,\n",
       " 1.9471245467403204,\n",
       " 2.989961629178055,\n",
       " 3.950277246997658]"
      ]
     },
     "execution_count": 376,
     "metadata": {},
     "output_type": "execute_result"
    },
    {
     "data": {
      "text/plain": [
       "[<tf.Tensor 'reg/mul:0' shape=() dtype=float32>,\n",
       " <tf.Tensor 'Placeholder:0' shape=() dtype=float32>]"
      ]
     },
     "execution_count": 376,
     "metadata": {},
     "output_type": "execute_result"
    },
    {
     "data": {
      "text/plain": [
       "[<keras.engine.input_layer.InputLayer at 0x1e2da748b38>,\n",
       " <keras.layers.core.Dense at 0x1e2d5b43fd0>,\n",
       " <__main__.ActivityRegLayer at 0x1e2d95995f8>,\n",
       " <keras.layers.core.Dense at 0x1e2dcc6f198>,\n",
       " <keras.layers.core.Dense at 0x1e2d839ed30>,\n",
       " <keras.layers.core.TFOpLambda at 0x1e2da67dcf8>,\n",
       " <keras.layers.core.TFOpLambda at 0x1e2dcc785c0>,\n",
       " <keras.layers.core.TFOpLambda at 0x1e2da6868d0>,\n",
       " <keras.engine.base_layer.AddLoss at 0x1e2da694cc0>]"
      ]
     },
     "execution_count": 376,
     "metadata": {},
     "output_type": "execute_result"
    },
    {
     "name": "stdout",
     "output_type": "stream",
     "text": [
      "Epoch 1/100\n",
      "WARNING:tensorflow:Gradients do not exist for variables ['output/kernel:0', 'output/bias:0'] when minimizing the loss.\n",
      "WARNING:tensorflow:Gradients do not exist for variables ['output/kernel:0', 'output/bias:0'] when minimizing the loss.\n",
      "4/4 [==============================] - 0s 2ms/step - loss: 45.3631 - mae: 49.2793\n",
      "Epoch 2/100\n",
      "4/4 [==============================] - 0s 2ms/step - loss: 42.1418 - mae: 49.1667\n",
      "Epoch 3/100\n",
      "4/4 [==============================] - 0s 2ms/step - loss: 39.2035 - mae: 49.0794\n",
      "Epoch 4/100\n",
      "4/4 [==============================] - 0s 2ms/step - loss: 36.6726 - mae: 49.1642\n",
      "Epoch 5/100\n",
      "4/4 [==============================] - 0s 3ms/step - loss: 34.4403 - mae: 49.2917\n",
      "Epoch 6/100\n",
      "4/4 [==============================] - 0s 2ms/step - loss: 32.6091 - mae: 49.2975\n",
      "Epoch 7/100\n",
      "4/4 [==============================] - 0s 3ms/step - loss: 30.8439 - mae: 49.2668\n",
      "Epoch 8/100\n",
      "4/4 [==============================] - 0s 3ms/step - loss: 29.2888 - mae: 49.3990\n",
      "Epoch 9/100\n",
      "4/4 [==============================] - 0s 3ms/step - loss: 27.8726 - mae: 49.4669\n",
      "Epoch 10/100\n",
      "4/4 [==============================] - 0s 4ms/step - loss: 26.6506 - mae: 49.5266\n",
      "Epoch 11/100\n",
      "4/4 [==============================] - 0s 3ms/step - loss: 25.4296 - mae: 49.6432\n",
      "Epoch 12/100\n",
      "4/4 [==============================] - 0s 3ms/step - loss: 24.3779 - mae: 49.7279\n",
      "Epoch 13/100\n",
      "4/4 [==============================] - 0s 3ms/step - loss: 23.4017 - mae: 49.7829\n",
      "Epoch 14/100\n",
      "4/4 [==============================] - 0s 3ms/step - loss: 22.4427 - mae: 49.8149\n",
      "Epoch 15/100\n",
      "4/4 [==============================] - 0s 3ms/step - loss: 21.5586 - mae: 49.8266\n",
      "Epoch 16/100\n",
      "4/4 [==============================] - 0s 3ms/step - loss: 20.7494 - mae: 49.8224\n",
      "Epoch 17/100\n",
      "4/4 [==============================] - 0s 3ms/step - loss: 19.9878 - mae: 49.8063\n",
      "Epoch 18/100\n",
      "4/4 [==============================] - 0s 3ms/step - loss: 19.2727 - mae: 49.7817\n",
      "Epoch 19/100\n",
      "4/4 [==============================] - 0s 3ms/step - loss: 18.5571 - mae: 49.7499\n",
      "Epoch 20/100\n",
      "4/4 [==============================] - 0s 2ms/step - loss: 17.8865 - mae: 49.7144\n",
      "Epoch 21/100\n",
      "4/4 [==============================] - 0s 3ms/step - loss: 17.2314 - mae: 49.6756\n",
      "Epoch 22/100\n",
      "4/4 [==============================] - 0s 4ms/step - loss: 16.6343 - mae: 49.6374\n",
      "Epoch 23/100\n",
      "4/4 [==============================] - 0s 3ms/step - loss: 16.0460 - mae: 49.5983\n",
      "Epoch 24/100\n",
      "4/4 [==============================] - 0s 3ms/step - loss: 15.4944 - mae: 49.5606\n",
      "Epoch 25/100\n",
      "4/4 [==============================] - 0s 4ms/step - loss: 14.9543 - mae: 49.5235\n",
      "Epoch 26/100\n",
      "4/4 [==============================] - 0s 3ms/step - loss: 14.4358 - mae: 49.4883\n",
      "Epoch 27/100\n",
      "4/4 [==============================] - 0s 3ms/step - loss: 13.9620 - mae: 49.4550\n",
      "Epoch 28/100\n",
      "4/4 [==============================] - 0s 3ms/step - loss: 13.4875 - mae: 49.4144\n",
      "Epoch 29/100\n",
      "4/4 [==============================] - 0s 3ms/step - loss: 13.0191 - mae: 49.3752\n",
      "Epoch 30/100\n",
      "4/4 [==============================] - 0s 3ms/step - loss: 12.5678 - mae: 49.3415\n",
      "Epoch 31/100\n",
      "4/4 [==============================] - 0s 3ms/step - loss: 12.1690 - mae: 49.3135\n",
      "Epoch 32/100\n",
      "4/4 [==============================] - 0s 3ms/step - loss: 11.7630 - mae: 49.2881\n",
      "Epoch 33/100\n",
      "4/4 [==============================] - 0s 4ms/step - loss: 11.3817 - mae: 49.2665\n",
      "Epoch 34/100\n",
      "4/4 [==============================] - 0s 3ms/step - loss: 10.9816 - mae: 49.2494\n",
      "Epoch 35/100\n",
      "4/4 [==============================] - 0s 3ms/step - loss: 10.6117 - mae: 49.2354\n",
      "Epoch 36/100\n",
      "4/4 [==============================] - 0s 3ms/step - loss: 10.2774 - mae: 49.2248\n",
      "Epoch 37/100\n",
      "4/4 [==============================] - 0s 4ms/step - loss: 9.9325 - mae: 49.2233\n",
      "Epoch 38/100\n",
      "4/4 [==============================] - 0s 4ms/step - loss: 9.6294 - mae: 49.2250\n",
      "Epoch 39/100\n",
      "4/4 [==============================] - 0s 3ms/step - loss: 9.3100 - mae: 49.2230\n",
      "Epoch 40/100\n",
      "4/4 [==============================] - 0s 3ms/step - loss: 9.0022 - mae: 49.2157\n",
      "Epoch 41/100\n",
      "4/4 [==============================] - 0s 3ms/step - loss: 8.7230 - mae: 49.2068\n",
      "Epoch 42/100\n",
      "4/4 [==============================] - 0s 2ms/step - loss: 8.4390 - mae: 49.1963\n",
      "Epoch 43/100\n",
      "4/4 [==============================] - 0s 3ms/step - loss: 8.1787 - mae: 49.1850\n",
      "Epoch 44/100\n",
      "4/4 [==============================] - 0s 2ms/step - loss: 7.9054 - mae: 49.1721\n",
      "Epoch 45/100\n",
      "4/4 [==============================] - 0s 3ms/step - loss: 7.6643 - mae: 49.1568\n",
      "Epoch 46/100\n",
      "4/4 [==============================] - 0s 4ms/step - loss: 7.4274 - mae: 49.1336\n",
      "Epoch 47/100\n",
      "4/4 [==============================] - 0s 2ms/step - loss: 7.1910 - mae: 49.1116\n",
      "Epoch 48/100\n",
      "4/4 [==============================] - 0s 2ms/step - loss: 6.9602 - mae: 49.0958\n",
      "Epoch 49/100\n",
      "4/4 [==============================] - 0s 3ms/step - loss: 6.7412 - mae: 49.0817\n",
      "Epoch 50/100\n",
      "4/4 [==============================] - 0s 3ms/step - loss: 6.5384 - mae: 49.0695\n",
      "Epoch 51/100\n",
      "4/4 [==============================] - 0s 3ms/step - loss: 6.3477 - mae: 49.0583\n",
      "Epoch 52/100\n",
      "4/4 [==============================] - 0s 3ms/step - loss: 6.1391 - mae: 49.0476\n",
      "Epoch 53/100\n",
      "4/4 [==============================] - 0s 2ms/step - loss: 5.9515 - mae: 49.0385\n",
      "Epoch 54/100\n",
      "4/4 [==============================] - 0s 3ms/step - loss: 5.7606 - mae: 49.0305\n",
      "Epoch 55/100\n",
      "4/4 [==============================] - 0s 3ms/step - loss: 5.5863 - mae: 49.0238\n",
      "Epoch 56/100\n",
      "4/4 [==============================] - 0s 3ms/step - loss: 5.4307 - mae: 49.0181\n",
      "Epoch 57/100\n",
      "4/4 [==============================] - 0s 2ms/step - loss: 5.2612 - mae: 49.0124\n",
      "Epoch 58/100\n",
      "4/4 [==============================] - 0s 3ms/step - loss: 5.0969 - mae: 49.0072\n",
      "Epoch 59/100\n",
      "4/4 [==============================] - 0s 3ms/step - loss: 4.9419 - mae: 49.0025\n",
      "Epoch 60/100\n",
      "4/4 [==============================] - 0s 3ms/step - loss: 4.7937 - mae: 48.9983\n",
      "Epoch 61/100\n",
      "4/4 [==============================] - 0s 2ms/step - loss: 4.6531 - mae: 48.9948\n",
      "Epoch 62/100\n",
      "4/4 [==============================] - 0s 3ms/step - loss: 4.5097 - mae: 48.9922\n",
      "Epoch 63/100\n",
      "4/4 [==============================] - 0s 2ms/step - loss: 4.3747 - mae: 48.9912\n",
      "Epoch 64/100\n",
      "4/4 [==============================] - 0s 2ms/step - loss: 4.2499 - mae: 48.9908\n",
      "Epoch 65/100\n",
      "4/4 [==============================] - 0s 3ms/step - loss: 4.1189 - mae: 48.9905\n",
      "Epoch 66/100\n",
      "4/4 [==============================] - 0s 3ms/step - loss: 3.9935 - mae: 48.9904\n",
      "Epoch 67/100\n",
      "4/4 [==============================] - 0s 3ms/step - loss: 3.8786 - mae: 48.9905\n",
      "Epoch 68/100\n",
      "4/4 [==============================] - 0s 3ms/step - loss: 3.7623 - mae: 48.9909\n",
      "Epoch 69/100\n",
      "4/4 [==============================] - 0s 3ms/step - loss: 3.6541 - mae: 48.9915\n",
      "Epoch 70/100\n",
      "4/4 [==============================] - 0s 2ms/step - loss: 3.5454 - mae: 48.9924\n",
      "Epoch 71/100\n",
      "4/4 [==============================] - 0s 3ms/step - loss: 3.4403 - mae: 48.9934\n",
      "Epoch 72/100\n",
      "4/4 [==============================] - 0s 2ms/step - loss: 3.3378 - mae: 48.9946\n",
      "Epoch 73/100\n",
      "4/4 [==============================] - 0s 3ms/step - loss: 3.2421 - mae: 48.9960\n",
      "Epoch 74/100\n",
      "4/4 [==============================] - 0s 3ms/step - loss: 3.1470 - mae: 48.9977\n",
      "Epoch 75/100\n",
      "4/4 [==============================] - 0s 2ms/step - loss: 3.0511 - mae: 48.9995\n",
      "Epoch 76/100\n",
      "4/4 [==============================] - 0s 3ms/step - loss: 2.9661 - mae: 49.0014\n",
      "Epoch 77/100\n",
      "4/4 [==============================] - 0s 3ms/step - loss: 2.8814 - mae: 49.0036\n",
      "Epoch 78/100\n",
      "4/4 [==============================] - 0s 2ms/step - loss: 2.7955 - mae: 49.0059\n",
      "Epoch 79/100\n",
      "4/4 [==============================] - 0s 3ms/step - loss: 2.7109 - mae: 49.0085\n",
      "Epoch 80/100\n",
      "4/4 [==============================] - 0s 3ms/step - loss: 2.6316 - mae: 49.0111\n",
      "Epoch 81/100\n",
      "4/4 [==============================] - 0s 2ms/step - loss: 2.5591 - mae: 49.0139\n",
      "Epoch 82/100\n",
      "4/4 [==============================] - 0s 3ms/step - loss: 2.4839 - mae: 49.0169\n",
      "Epoch 83/100\n",
      "4/4 [==============================] - 0s 3ms/step - loss: 2.4099 - mae: 49.0200\n",
      "Epoch 84/100\n",
      "4/4 [==============================] - 0s 2ms/step - loss: 2.3414 - mae: 49.0233\n",
      "Epoch 85/100\n",
      "4/4 [==============================] - 0s 4ms/step - loss: 2.2728 - mae: 49.0266\n",
      "Epoch 86/100\n",
      "4/4 [==============================] - 0s 3ms/step - loss: 2.2068 - mae: 49.0301\n",
      "Epoch 87/100\n",
      "4/4 [==============================] - 0s 3ms/step - loss: 2.1452 - mae: 49.0337\n",
      "Epoch 88/100\n",
      "4/4 [==============================] - 0s 2ms/step - loss: 2.0806 - mae: 49.0376\n",
      "Epoch 89/100\n",
      "4/4 [==============================] - 0s 2ms/step - loss: 2.0192 - mae: 49.0414\n",
      "Epoch 90/100\n",
      "4/4 [==============================] - 0s 3ms/step - loss: 1.9627 - mae: 49.0453\n",
      "Epoch 91/100\n",
      "4/4 [==============================] - 0s 3ms/step - loss: 1.9051 - mae: 49.0494\n",
      "Epoch 92/100\n",
      "4/4 [==============================] - 0s 3ms/step - loss: 1.8503 - mae: 49.0535\n",
      "Epoch 93/100\n",
      "4/4 [==============================] - 0s 4ms/step - loss: 1.7950 - mae: 49.0579\n",
      "Epoch 94/100\n",
      "4/4 [==============================] - 0s 3ms/step - loss: 1.7424 - mae: 49.0622\n",
      "Epoch 95/100\n",
      "4/4 [==============================] - 0s 3ms/step - loss: 1.6930 - mae: 49.0665\n",
      "Epoch 96/100\n",
      "4/4 [==============================] - 0s 3ms/step - loss: 1.6431 - mae: 49.0711\n",
      "Epoch 97/100\n",
      "4/4 [==============================] - 0s 3ms/step - loss: 1.5945 - mae: 49.0757\n",
      "Epoch 98/100\n",
      "4/4 [==============================] - 0s 3ms/step - loss: 1.5467 - mae: 49.0803\n",
      "Epoch 99/100\n",
      "4/4 [==============================] - 0s 3ms/step - loss: 1.5045 - mae: 49.0849\n",
      "Epoch 100/100\n",
      "4/4 [==============================] - 0s 3ms/step - loss: 1.4585 - mae: 49.0897\n"
     ]
    },
    {
     "data": {
      "text/plain": [
       "<keras.callbacks.History at 0x1e2da7edda0>"
      ]
     },
     "execution_count": 376,
     "metadata": {},
     "output_type": "execute_result"
    }
   ],
   "source": [
    "low = 0\n",
    "high = 100\n",
    "xtrain = [[i,i*2] for i in range(low,high)]\n",
    "ytrain = [(lambda x: x*2-x+ np.random.normal(0,0.1))(i) for i in range(low,high)]\n",
    "ytrainclass = [1 if i%2==0 else 0 for i in range(low,high)]\n",
    "xtrain[:5]\n",
    "ytrain[:5]\n",
    "\n",
    "x_train = np.array(xtrain)\n",
    "y_train = np.array(ytrain)\n",
    "y_train_class = np.array(ytrainclass)\n",
    "X_train = tf.convert_to_tensor(x_train)\n",
    "\n",
    "class ActivityRegLayer(keras.layers.Layer):\n",
    "    def __init__(self, name):\n",
    "        super(ActivityRegLayer,self).__init__(name=name)\n",
    "        #self.name = name\n",
    "        \n",
    "    def call(self, inputs):\n",
    "        self.add_loss(0.0001*tf.reduce_sum(tf.square(inputs)))\n",
    "        return inputs\n",
    "    \n",
    "x = keras.Input(shape=(2,))\n",
    "layer1 = keras.layers.Dense(units=32, activation='relu',name='layer1')(x)\n",
    "# this or use add_loss as below\n",
    "activationReg = ActivityRegLayer(name='reg')(layer1)\n",
    "layer2 = keras.layers.Dense(units=32, activation='relu',name='layer2')(activationReg)\n",
    "layer3 = keras.layers.Dense(units=1, activation='linear',name='output')(layer2)\n",
    "model_functional = keras.Model(\n",
    "        inputs=x,\n",
    "        outputs=layer3\n",
    ")\n",
    "\n",
    "model_functional.add_loss( 0.0001*tf.reduce_sum(tf.square(layer2)))\n",
    "model_functional.losses\n",
    "model_functional.layers\n",
    "\n",
    "#model_functional.compile(loss='mse',optimizer='adam',metrics=['mae'],loss_weights={\"reg\": 2.0, \"output\": 1.0},)\n",
    "model_functional.compile(optimizer='adam',metrics=['mae'])\n",
    "model_functional.fit(x_train, y_train, epochs=100)    "
   ]
  },
  {
   "cell_type": "code",
   "execution_count": 305,
   "id": "852db8d5",
   "metadata": {
    "collapsed": true
   },
   "outputs": [
    {
     "ename": "AttributeError",
     "evalue": "Layer encoder_49 is not connected, no input to return.",
     "output_type": "error",
     "traceback": [
      "\u001b[1;31m---------------------------------------------------------------------------\u001b[0m",
      "\u001b[1;31mAttributeError\u001b[0m                            Traceback (most recent call last)",
      "\u001b[1;32m<ipython-input-305-6d38ba05fe99>\u001b[0m in \u001b[0;36m<module>\u001b[1;34m\u001b[0m\n\u001b[1;32m----> 1\u001b[1;33m \u001b[0mae\u001b[0m\u001b[1;33m.\u001b[0m\u001b[0mEncoder\u001b[0m\u001b[1;33m.\u001b[0m\u001b[0minput\u001b[0m\u001b[1;33m\u001b[0m\u001b[1;33m\u001b[0m\u001b[0m\n\u001b[0m",
      "\u001b[1;32m~\\Miniconda3\\envs\\base-tf\\lib\\site-packages\\keras\\engine\\base_layer.py\u001b[0m in \u001b[0;36minput\u001b[1;34m(self)\u001b[0m\n\u001b[0;32m   2075\u001b[0m     \u001b[1;32mif\u001b[0m \u001b[1;32mnot\u001b[0m \u001b[0mself\u001b[0m\u001b[1;33m.\u001b[0m\u001b[0m_inbound_nodes\u001b[0m\u001b[1;33m:\u001b[0m\u001b[1;33m\u001b[0m\u001b[1;33m\u001b[0m\u001b[0m\n\u001b[0;32m   2076\u001b[0m       raise AttributeError('Layer ' + self.name +\n\u001b[1;32m-> 2077\u001b[1;33m                            ' is not connected, no input to return.')\n\u001b[0m\u001b[0;32m   2078\u001b[0m     \u001b[1;32mreturn\u001b[0m \u001b[0mself\u001b[0m\u001b[1;33m.\u001b[0m\u001b[0m_get_node_attribute_at_index\u001b[0m\u001b[1;33m(\u001b[0m\u001b[1;36m0\u001b[0m\u001b[1;33m,\u001b[0m \u001b[1;34m'input_tensors'\u001b[0m\u001b[1;33m,\u001b[0m \u001b[1;34m'input'\u001b[0m\u001b[1;33m)\u001b[0m\u001b[1;33m\u001b[0m\u001b[1;33m\u001b[0m\u001b[0m\n\u001b[0;32m   2079\u001b[0m \u001b[1;33m\u001b[0m\u001b[0m\n",
      "\u001b[1;31mAttributeError\u001b[0m: Layer encoder_49 is not connected, no input to return."
     ]
    }
   ],
   "source": [
    "class CustomModel()"
   ]
  },
  {
   "cell_type": "code",
   "execution_count": 62,
   "id": "fef6bc33",
   "metadata": {
    "scrolled": true
   },
   "outputs": [
    {
     "data": {
      "text/plain": [
       "([50, 100], [81, 162], [56, 112], [12, 24], [1, 2])"
      ]
     },
     "execution_count": 62,
     "metadata": {},
     "output_type": "execute_result"
    },
    {
     "data": {
      "text/plain": [
       "(50, 81, 56, 12, 1)"
      ]
     },
     "execution_count": 62,
     "metadata": {},
     "output_type": "execute_result"
    },
    {
     "name": "stdout",
     "output_type": "stream",
     "text": [
      "Epoch 1/100\n",
      "4/4 [==============================] - 1s 3ms/step - loss: 2938.9834 - mae: 46.8176\n",
      "Epoch 2/100\n",
      "4/4 [==============================] - 0s 4ms/step - loss: 2709.7273 - mae: 44.9236\n",
      "Epoch 3/100\n",
      "4/4 [==============================] - 0s 5ms/step - loss: 2421.2441 - mae: 42.4980\n",
      "Epoch 4/100\n",
      "4/4 [==============================] - 0s 4ms/step - loss: 2108.1055 - mae: 39.5876\n",
      "Epoch 5/100\n",
      "4/4 [==============================] - 0s 4ms/step - loss: 1734.9929 - mae: 35.9176\n",
      "Epoch 6/100\n",
      "4/4 [==============================] - 0s 4ms/step - loss: 1338.7584 - mae: 31.5426\n",
      "Epoch 7/100\n",
      "4/4 [==============================] - 0s 4ms/step - loss: 922.6788 - mae: 26.1032\n",
      "Epoch 8/100\n",
      "4/4 [==============================] - 0s 4ms/step - loss: 512.7844 - mae: 19.4687\n",
      "Epoch 9/100\n",
      "4/4 [==============================] - 0s 4ms/step - loss: 195.7176 - mae: 11.7367\n",
      "Epoch 10/100\n",
      "4/4 [==============================] - 0s 3ms/step - loss: 22.5287 - mae: 3.4986\n",
      "Epoch 11/100\n",
      "4/4 [==============================] - 0s 3ms/step - loss: 21.9158 - mae: 3.9623\n",
      "Epoch 12/100\n",
      "4/4 [==============================] - 0s 4ms/step - loss: 55.2350 - mae: 6.5190\n",
      "Epoch 13/100\n",
      "4/4 [==============================] - 0s 4ms/step - loss: 28.2139 - mae: 4.6169\n",
      "Epoch 14/100\n",
      "4/4 [==============================] - 0s 3ms/step - loss: 1.8999 - mae: 1.0325\n",
      "Epoch 15/100\n",
      "4/4 [==============================] - 0s 3ms/step - loss: 6.2671 - mae: 2.0737\n",
      "Epoch 16/100\n",
      "4/4 [==============================] - 0s 4ms/step - loss: 9.1290 - mae: 2.5293\n",
      "Epoch 17/100\n",
      "4/4 [==============================] - 0s 4ms/step - loss: 2.1086 - mae: 1.1085\n",
      "Epoch 18/100\n",
      "4/4 [==============================] - 0s 3ms/step - loss: 0.5520 - mae: 0.6252\n",
      "Epoch 19/100\n",
      "4/4 [==============================] - 0s 3ms/step - loss: 2.3531 - mae: 1.4089\n",
      "Epoch 20/100\n",
      "4/4 [==============================] - 0s 3ms/step - loss: 1.3612 - mae: 1.0740\n",
      "Epoch 21/100\n",
      "4/4 [==============================] - 0s 4ms/step - loss: 0.1097 - mae: 0.2977\n",
      "Epoch 22/100\n",
      "4/4 [==============================] - 0s 3ms/step - loss: 0.3627 - mae: 0.4906\n",
      "Epoch 23/100\n",
      "4/4 [==============================] - 0s 4ms/step - loss: 0.4679 - mae: 0.5544\n",
      "Epoch 24/100\n",
      "4/4 [==============================] - 0s 4ms/step - loss: 0.1130 - mae: 0.2687\n",
      "Epoch 25/100\n",
      "4/4 [==============================] - 0s 3ms/step - loss: 0.0825 - mae: 0.2725\n",
      "Epoch 26/100\n",
      "4/4 [==============================] - 0s 3ms/step - loss: 0.1567 - mae: 0.3949\n",
      "Epoch 27/100\n",
      "4/4 [==============================] - 0s 4ms/step - loss: 0.0626 - mae: 0.2312\n",
      "Epoch 28/100\n",
      "4/4 [==============================] - 0s 3ms/step - loss: 0.0452 - mae: 0.1841\n",
      "Epoch 29/100\n",
      "4/4 [==============================] - 0s 4ms/step - loss: 0.0692 - mae: 0.2242\n",
      "Epoch 30/100\n",
      "4/4 [==============================] - 0s 4ms/step - loss: 0.0415 - mae: 0.1761\n",
      "Epoch 31/100\n",
      "4/4 [==============================] - 0s 3ms/step - loss: 0.0341 - mae: 0.1503\n",
      "Epoch 32/100\n",
      "4/4 [==============================] - 0s 3ms/step - loss: 0.0452 - mae: 0.1911\n",
      "Epoch 33/100\n",
      "4/4 [==============================] - 0s 4ms/step - loss: 0.0357 - mae: 0.1560\n",
      "Epoch 34/100\n",
      "4/4 [==============================] - 0s 4ms/step - loss: 0.0310 - mae: 0.1479\n",
      "Epoch 35/100\n",
      "4/4 [==============================] - 0s 3ms/step - loss: 0.0356 - mae: 0.1626\n",
      "Epoch 36/100\n",
      "4/4 [==============================] - 0s 4ms/step - loss: 0.0332 - mae: 0.1573\n",
      "Epoch 37/100\n",
      "4/4 [==============================] - 0s 4ms/step - loss: 0.0306 - mae: 0.1442\n",
      "Epoch 38/100\n",
      "4/4 [==============================] - 0s 3ms/step - loss: 0.0336 - mae: 0.1507\n",
      "Epoch 39/100\n",
      "4/4 [==============================] - 0s 5ms/step - loss: 0.0320 - mae: 0.1471\n",
      "Epoch 40/100\n",
      "4/4 [==============================] - 0s 5ms/step - loss: 0.0302 - mae: 0.1460\n",
      "Epoch 41/100\n",
      "4/4 [==============================] - 0s 5ms/step - loss: 0.0305 - mae: 0.1482\n",
      "Epoch 42/100\n",
      "4/4 [==============================] - 0s 5ms/step - loss: 0.0302 - mae: 0.1450\n",
      "Epoch 43/100\n",
      "4/4 [==============================] - 0s 5ms/step - loss: 0.0305 - mae: 0.1434\n",
      "Epoch 44/100\n",
      "4/4 [==============================] - 0s 3ms/step - loss: 0.0300 - mae: 0.1421\n",
      "Epoch 45/100\n",
      "4/4 [==============================] - 0s 3ms/step - loss: 0.0296 - mae: 0.1444\n",
      "Epoch 46/100\n",
      "4/4 [==============================] - 0s 3ms/step - loss: 0.0309 - mae: 0.1503\n",
      "Epoch 47/100\n",
      "4/4 [==============================] - 0s 3ms/step - loss: 0.0299 - mae: 0.1457\n",
      "Epoch 48/100\n",
      "4/4 [==============================] - 0s 3ms/step - loss: 0.0293 - mae: 0.1412\n",
      "Epoch 49/100\n",
      "4/4 [==============================] - 0s 3ms/step - loss: 0.0295 - mae: 0.1418\n",
      "Epoch 50/100\n",
      "4/4 [==============================] - 0s 3ms/step - loss: 0.0290 - mae: 0.1416\n",
      "Epoch 51/100\n",
      "4/4 [==============================] - 0s 3ms/step - loss: 0.0293 - mae: 0.1450\n",
      "Epoch 52/100\n",
      "4/4 [==============================] - 0s 3ms/step - loss: 0.0290 - mae: 0.1445\n",
      "Epoch 53/100\n",
      "4/4 [==============================] - 0s 3ms/step - loss: 0.0284 - mae: 0.1398\n",
      "Epoch 54/100\n",
      "4/4 [==============================] - 0s 3ms/step - loss: 0.0292 - mae: 0.1404\n",
      "Epoch 55/100\n",
      "4/4 [==============================] - 0s 3ms/step - loss: 0.0283 - mae: 0.1398\n",
      "Epoch 56/100\n",
      "4/4 [==============================] - 0s 3ms/step - loss: 0.0282 - mae: 0.1412\n",
      "Epoch 57/100\n",
      "4/4 [==============================] - 0s 3ms/step - loss: 0.0280 - mae: 0.1393\n",
      "Epoch 58/100\n",
      "4/4 [==============================] - 0s 4ms/step - loss: 0.0284 - mae: 0.1385\n",
      "Epoch 59/100\n",
      "4/4 [==============================] - 0s 3ms/step - loss: 0.0278 - mae: 0.1380\n",
      "Epoch 60/100\n",
      "4/4 [==============================] - 0s 3ms/step - loss: 0.0280 - mae: 0.1418\n",
      "Epoch 61/100\n",
      "4/4 [==============================] - 0s 4ms/step - loss: 0.0279 - mae: 0.1417\n",
      "Epoch 62/100\n",
      "4/4 [==============================] - 0s 3ms/step - loss: 0.0273 - mae: 0.1373\n",
      "Epoch 63/100\n",
      "4/4 [==============================] - 0s 4ms/step - loss: 0.0275 - mae: 0.1366\n",
      "Epoch 64/100\n",
      "4/4 [==============================] - 0s 3ms/step - loss: 0.0268 - mae: 0.1374\n",
      "Epoch 65/100\n",
      "4/4 [==============================] - 0s 3ms/step - loss: 0.0283 - mae: 0.1444\n",
      "Epoch 66/100\n",
      "4/4 [==============================] - 0s 3ms/step - loss: 0.0281 - mae: 0.1437\n",
      "Epoch 67/100\n",
      "4/4 [==============================] - 0s 4ms/step - loss: 0.0264 - mae: 0.1359\n",
      "Epoch 68/100\n",
      "4/4 [==============================] - 0s 3ms/step - loss: 0.0268 - mae: 0.1351\n",
      "Epoch 69/100\n",
      "4/4 [==============================] - 0s 3ms/step - loss: 0.0263 - mae: 0.1348\n",
      "Epoch 70/100\n",
      "4/4 [==============================] - 0s 5ms/step - loss: 0.0260 - mae: 0.1341\n",
      "Epoch 71/100\n",
      "4/4 [==============================] - 0s 4ms/step - loss: 0.0258 - mae: 0.1339\n",
      "Epoch 72/100\n",
      "4/4 [==============================] - 0s 4ms/step - loss: 0.0256 - mae: 0.1336\n",
      "Epoch 73/100\n",
      "4/4 [==============================] - 0s 4ms/step - loss: 0.0255 - mae: 0.1339\n",
      "Epoch 74/100\n",
      "4/4 [==============================] - 0s 4ms/step - loss: 0.0254 - mae: 0.1340\n",
      "Epoch 75/100\n",
      "4/4 [==============================] - 0s 5ms/step - loss: 0.0251 - mae: 0.1321\n",
      "Epoch 76/100\n",
      "4/4 [==============================] - 0s 4ms/step - loss: 0.0251 - mae: 0.1322\n",
      "Epoch 77/100\n",
      "4/4 [==============================] - 0s 2ms/step - loss: 0.0251 - mae: 0.1342\n",
      "Epoch 78/100\n",
      "4/4 [==============================] - 0s 2ms/step - loss: 0.0248 - mae: 0.1330\n",
      "Epoch 79/100\n",
      "4/4 [==============================] - 0s 3ms/step - loss: 0.0245 - mae: 0.1309\n",
      "Epoch 80/100\n",
      "4/4 [==============================] - 0s 4ms/step - loss: 0.0243 - mae: 0.1312\n",
      "Epoch 81/100\n",
      "4/4 [==============================] - 0s 3ms/step - loss: 0.0242 - mae: 0.1311\n",
      "Epoch 82/100\n",
      "4/4 [==============================] - 0s 2ms/step - loss: 0.0240 - mae: 0.1299\n",
      "Epoch 83/100\n",
      "4/4 [==============================] - 0s 3ms/step - loss: 0.0241 - mae: 0.1317\n",
      "Epoch 84/100\n",
      "4/4 [==============================] - 0s 3ms/step - loss: 0.0235 - mae: 0.1304\n",
      "Epoch 85/100\n",
      "4/4 [==============================] - 0s 3ms/step - loss: 0.0217 - mae: 0.1251\n",
      "Epoch 86/100\n",
      "4/4 [==============================] - 0s 4ms/step - loss: 0.0232 - mae: 0.1309\n",
      "Epoch 87/100\n",
      "4/4 [==============================] - 0s 4ms/step - loss: 0.0233 - mae: 0.1263\n",
      "Epoch 88/100\n"
     ]
    },
    {
     "name": "stdout",
     "output_type": "stream",
     "text": [
      "4/4 [==============================] - 0s 4ms/step - loss: 0.0217 - mae: 0.1245\n",
      "Epoch 89/100\n",
      "4/4 [==============================] - 0s 3ms/step - loss: 0.0228 - mae: 0.1302\n",
      "Epoch 90/100\n",
      "4/4 [==============================] - 0s 4ms/step - loss: 0.0213 - mae: 0.1235\n",
      "Epoch 91/100\n",
      "4/4 [==============================] - 0s 4ms/step - loss: 0.0219 - mae: 0.1228\n",
      "Epoch 92/100\n",
      "4/4 [==============================] - 0s 4ms/step - loss: 0.0213 - mae: 0.1212\n",
      "Epoch 93/100\n",
      "4/4 [==============================] - 0s 5ms/step - loss: 0.0215 - mae: 0.1257\n",
      "Epoch 94/100\n",
      "4/4 [==============================] - 0s 5ms/step - loss: 0.0220 - mae: 0.1286\n",
      "Epoch 95/100\n",
      "4/4 [==============================] - 0s 5ms/step - loss: 0.0207 - mae: 0.1206\n",
      "Epoch 96/100\n",
      "4/4 [==============================] - 0s 5ms/step - loss: 0.0223 - mae: 0.1240\n",
      "Epoch 97/100\n",
      "4/4 [==============================] - 0s 5ms/step - loss: 0.0189 - mae: 0.1168\n",
      "Epoch 98/100\n",
      "4/4 [==============================] - 0s 2ms/step - loss: 0.0230 - mae: 0.1328\n",
      "Epoch 99/100\n",
      "4/4 [==============================] - 0s 2ms/step - loss: 0.0197 - mae: 0.1214\n",
      "Epoch 100/100\n",
      "4/4 [==============================] - 0s 5ms/step - loss: 0.0182 - mae: 0.1126\n"
     ]
    },
    {
     "data": {
      "text/plain": [
       "<keras.callbacks.History at 0x1acadf962e8>"
      ]
     },
     "execution_count": 62,
     "metadata": {},
     "output_type": "execute_result"
    },
    {
     "data": {
      "text/plain": [
       "[<keras.metrics.Mean at 0x1acacd3ea20>,\n",
       " <keras.metrics.MeanMetricWrapper at 0x1acae01c908>]"
      ]
     },
     "execution_count": 62,
     "metadata": {},
     "output_type": "execute_result"
    }
   ],
   "source": [
    "low = 0\n",
    "high = 100\n",
    "xtrain = [[i,i*2] for i in range(low,high)]\n",
    "xtrain_ab = [[i,i*3] for i in range(3,5)]\n",
    "xtrain=xtrain+xtrain_ab\n",
    "#xtrain\n",
    "ytrain = [(lambda x: x*2 - x)(i) for i in range(low,high)]\n",
    "ytrainclass = [0 if (xtrain[i][1]-xtrain[i][0]==xtrain[i][0]) else 1 for i in range(low,len(xtrain))]\n",
    "\n",
    "import random\n",
    "c = list(zip(xtrain, ytrainclass, ytrain))\n",
    "\n",
    "random.shuffle(c)\n",
    "\n",
    "xtrain, ytrainclass, ytrain = zip(*c)\n",
    "xtrain[:5]\n",
    "ytrain[:5]\n",
    "#ytrainclass\n",
    "\n",
    "\n",
    "class Encoder(keras.layers.Layer):\n",
    "    def __init__(self):\n",
    "        super(Encoder, self).__init__()\n",
    "        self.layer1 = keras.layers.Dense(units=32, activation='relu',name=\"layer1\")\n",
    "        self.layer2 = keras.layers.Dense(units=32, activation='relu')\n",
    "        self.layer3 = keras.layers.Dense(units=8, activation='relu')\n",
    "        \n",
    "    def call(self, inputs):\n",
    "        x = self.layer1(inputs)\n",
    "        x = self.layer2(x)\n",
    "        x = self.layer3(x)\n",
    "        return x\n",
    "    \n",
    "class Decoder(keras.layers.Layer):\n",
    "    def __init__(self):\n",
    "        super(Decoder, self).__init__()\n",
    "        self.layer1 = keras.layers.Dense(units=32, activation='relu')\n",
    "        self.layer2 = keras.layers.Dense(units=32, activation='relu')\n",
    "        self.layer3 = keras.layers.Dense(units=1, activation='linear')\n",
    "        \n",
    "    def call(self, inputs):\n",
    "        #self.layer1 = keras.layers.Dense(units=32, input_shape=((2,)),activation='relu')\n",
    "        x = self.layer1(inputs)\n",
    "        x = self.layer2(x)\n",
    "        x = self.layer3(x)\n",
    "        return x\n",
    "    \n",
    "class AE(keras.Model):\n",
    "    def __init__(self):\n",
    "        super(AE, self).__init__()\n",
    "        self.Encoder = Encoder()\n",
    "        self.Decoder = Decoder()\n",
    "        \n",
    "    def call(self, inputs):\n",
    "        x = self.Encoder(inputs)\n",
    "        x = self.Decoder(x)\n",
    "        #print(\"yay\")\n",
    "        return x\n",
    "    \n",
    "    \n",
    "class AE_compiled_loss(AE):\n",
    "    def __init__(self):\n",
    "        super(AE_compiled_loss, self).__init__()\n",
    "        \n",
    "    def train_step(self, data):\n",
    "        x, y = data\n",
    "        \n",
    "        with tf.GradientTape() as tape:\n",
    "            #forward pass\n",
    "            y_pred = self(x, training = True)\n",
    "            # compute loss sent in compile()\n",
    "            loss = self.compiled_loss(y, y_pred, regularization_losses=self.losses)\n",
    "        \n",
    "        #gradients\n",
    "        trainable_vars = self.trainable_variables\n",
    "        gradient = tape.gradient(loss, trainable_vars)\n",
    "        \n",
    "        #update weights\n",
    "        self.optimizer.apply_gradients(zip(gradient, trainable_vars))\n",
    "        \n",
    "        #update metrics\n",
    "        self.compiled_metrics.update_state(y, y_pred)\n",
    "        \n",
    "        return {m.name: m.result() for m in self.metrics}\n",
    "        \n",
    "    \n",
    "ae = AE_compiled_loss()    \n",
    "ae.compile(loss='mse',optimizer='adam',metrics=['mae'])\n",
    "ae.fit(xtrain, ytrain, epochs=100) \n",
    "ae.metrics"
   ]
  },
  {
   "cell_type": "code",
   "execution_count": 34,
   "id": "aa45edfb",
   "metadata": {},
   "outputs": [
    {
     "name": "stdout",
     "output_type": "stream",
     "text": [
      "Epoch 1/300\n",
      "4/4 [==============================] - 1s 3ms/step - loss: 68.7240 - mae: 134694.3281\n",
      "Epoch 2/300\n",
      "4/4 [==============================] - 0s 3ms/step - loss: 50.6340 - mae: 67.6493\n",
      "Epoch 3/300\n",
      "4/4 [==============================] - 0s 3ms/step - loss: 49.7201 - mae: 67.7820\n",
      "Epoch 4/300\n",
      "4/4 [==============================] - 0s 2ms/step - loss: 47.2516 - mae: 41.1397\n",
      "Epoch 5/300\n",
      "4/4 [==============================] - 0s 3ms/step - loss: 56.1277 - mae: 35.9036\n",
      "Epoch 6/300\n",
      "4/4 [==============================] - 0s 3ms/step - loss: 50.6767 - mae: 57.2522\n",
      "Epoch 7/300\n",
      "4/4 [==============================] - 0s 3ms/step - loss: 47.2037 - mae: 41.2705\n",
      "Epoch 8/300\n",
      "4/4 [==============================] - 0s 2ms/step - loss: 49.6818 - mae: 23.9359\n",
      "Epoch 9/300\n",
      "4/4 [==============================] - 0s 2ms/step - loss: 48.8364 - mae: 27.2685\n",
      "Epoch 10/300\n",
      "4/4 [==============================] - 0s 3ms/step - loss: 49.5801 - mae: 31.6769\n",
      "Epoch 11/300\n",
      "4/4 [==============================] - 0s 3ms/step - loss: 49.5576 - mae: 56.6543\n",
      "Epoch 12/300\n",
      "4/4 [==============================] - 0s 3ms/step - loss: 56.0737 - mae: 99.5681\n",
      "Epoch 13/300\n",
      "4/4 [==============================] - 0s 3ms/step - loss: 41.4477 - mae: 129.5584\n",
      "Epoch 14/300\n",
      "4/4 [==============================] - 0s 4ms/step - loss: 75.0126 - mae: 71.7797\n",
      "Epoch 15/300\n",
      "4/4 [==============================] - 0s 3ms/step - loss: 49.5031 - mae: 101.0218\n",
      "Epoch 16/300\n",
      "4/4 [==============================] - 0s 3ms/step - loss: 49.2779 - mae: 43.9448\n",
      "Epoch 17/300\n",
      "4/4 [==============================] - 0s 3ms/step - loss: 50.1631 - mae: 74.0052\n",
      "Epoch 18/300\n",
      "4/4 [==============================] - 0s 3ms/step - loss: 52.1403 - mae: 36.4461\n",
      "Epoch 19/300\n",
      "4/4 [==============================] - 0s 4ms/step - loss: 48.8041 - mae: 42.5943\n",
      "Epoch 20/300\n",
      "4/4 [==============================] - 0s 3ms/step - loss: 47.3059 - mae: 42.2121\n",
      "Epoch 21/300\n",
      "4/4 [==============================] - 0s 4ms/step - loss: 48.9039 - mae: 34.1381\n",
      "Epoch 22/300\n",
      "4/4 [==============================] - 0s 3ms/step - loss: 52.7346 - mae: 28.4422\n",
      "Epoch 23/300\n",
      "4/4 [==============================] - 0s 4ms/step - loss: 49.5302 - mae: 29.1087\n",
      "Epoch 24/300\n",
      "4/4 [==============================] - 0s 3ms/step - loss: 48.6375 - mae: 35.4255\n",
      "Epoch 25/300\n",
      "4/4 [==============================] - 0s 3ms/step - loss: 47.3979 - mae: 29.1968\n",
      "Epoch 26/300\n",
      "4/4 [==============================] - 0s 4ms/step - loss: 50.3605 - mae: 36.2636\n",
      "Epoch 27/300\n",
      "4/4 [==============================] - 0s 3ms/step - loss: 49.1495 - mae: 29.6201\n",
      "Epoch 28/300\n",
      "4/4 [==============================] - 0s 3ms/step - loss: 47.6173 - mae: 41.1248\n",
      "Epoch 29/300\n",
      "4/4 [==============================] - 0s 3ms/step - loss: 50.5367 - mae: 27.8125\n",
      "Epoch 30/300\n",
      "4/4 [==============================] - 0s 3ms/step - loss: 52.2739 - mae: 32.5507\n",
      "Epoch 31/300\n",
      "4/4 [==============================] - 0s 3ms/step - loss: 50.0105 - mae: 23.4523\n",
      "Epoch 32/300\n",
      "4/4 [==============================] - 0s 3ms/step - loss: 49.1177 - mae: 25.7191\n",
      "Epoch 33/300\n",
      "4/4 [==============================] - 0s 3ms/step - loss: 49.3885 - mae: 24.6323\n",
      "Epoch 34/300\n",
      "4/4 [==============================] - 0s 3ms/step - loss: 49.4814 - mae: 22.8645\n",
      "Epoch 35/300\n",
      "4/4 [==============================] - 0s 3ms/step - loss: 49.5447 - mae: 25.3781\n",
      "Epoch 36/300\n",
      "4/4 [==============================] - 0s 3ms/step - loss: 50.1408 - mae: 25.6988\n",
      "Epoch 37/300\n",
      "4/4 [==============================] - 0s 3ms/step - loss: 47.5276 - mae: 38.2004\n",
      "Epoch 38/300\n",
      "4/4 [==============================] - 0s 3ms/step - loss: 49.9162 - mae: 45.5896\n",
      "Epoch 39/300\n",
      "4/4 [==============================] - 0s 3ms/step - loss: 48.9165 - mae: 34.1940\n",
      "Epoch 40/300\n",
      "4/4 [==============================] - 0s 3ms/step - loss: 49.0923 - mae: 27.1840\n",
      "Epoch 41/300\n",
      "4/4 [==============================] - 0s 3ms/step - loss: 49.3419 - mae: 21.3050\n",
      "Epoch 42/300\n",
      "4/4 [==============================] - 0s 3ms/step - loss: 48.3809 - mae: 29.2544\n",
      "Epoch 43/300\n",
      "4/4 [==============================] - 0s 3ms/step - loss: 49.7665 - mae: 24.8369\n",
      "Epoch 44/300\n",
      "4/4 [==============================] - 0s 3ms/step - loss: 49.3963 - mae: 27.0945\n",
      "Epoch 45/300\n",
      "4/4 [==============================] - 0s 3ms/step - loss: 48.4917 - mae: 36.6129\n",
      "Epoch 46/300\n",
      "4/4 [==============================] - 0s 4ms/step - loss: 48.3406 - mae: 33.3946\n",
      "Epoch 47/300\n",
      "4/4 [==============================] - 0s 3ms/step - loss: 46.9100 - mae: 46.2455\n",
      "Epoch 48/300\n",
      "4/4 [==============================] - 0s 3ms/step - loss: 44.1307 - mae: 61.7535\n",
      "Epoch 49/300\n",
      "4/4 [==============================] - 0s 3ms/step - loss: 49.5725 - mae: 64.8940\n",
      "Epoch 50/300\n",
      "4/4 [==============================] - 0s 3ms/step - loss: 50.9616 - mae: 62.8929\n",
      "Epoch 51/300\n",
      "4/4 [==============================] - 0s 3ms/step - loss: 50.3278 - mae: 34.8044\n",
      "Epoch 52/300\n",
      "4/4 [==============================] - 0s 3ms/step - loss: 47.5534 - mae: 40.5113\n",
      "Epoch 53/300\n",
      "4/4 [==============================] - 0s 4ms/step - loss: 46.0823 - mae: 59.2951\n",
      "Epoch 54/300\n",
      "4/4 [==============================] - 0s 3ms/step - loss: 46.2827 - mae: 65.1230\n",
      "Epoch 55/300\n",
      "4/4 [==============================] - 0s 3ms/step - loss: 49.0608 - mae: 49.9292\n",
      "Epoch 56/300\n",
      "4/4 [==============================] - 0s 4ms/step - loss: 47.8343 - mae: 31.2268\n",
      "Epoch 57/300\n",
      "4/4 [==============================] - 0s 3ms/step - loss: 49.7691 - mae: 27.7101\n",
      "Epoch 58/300\n",
      "4/4 [==============================] - 0s 3ms/step - loss: 47.4804 - mae: 34.3574\n",
      "Epoch 59/300\n",
      "4/4 [==============================] - 0s 4ms/step - loss: 45.8471 - mae: 41.4641\n",
      "Epoch 60/300\n",
      "4/4 [==============================] - 0s 4ms/step - loss: 48.2434 - mae: 43.3643\n",
      "Epoch 61/300\n",
      "4/4 [==============================] - 0s 4ms/step - loss: 47.5905 - mae: 31.3087\n",
      "Epoch 62/300\n",
      "4/4 [==============================] - 0s 3ms/step - loss: 49.4586 - mae: 25.4225\n",
      "Epoch 63/300\n",
      "4/4 [==============================] - 0s 4ms/step - loss: 49.5433 - mae: 24.8119\n",
      "Epoch 64/300\n",
      "4/4 [==============================] - 0s 4ms/step - loss: 48.8847 - mae: 25.2727\n",
      "Epoch 65/300\n",
      "4/4 [==============================] - 0s 4ms/step - loss: 46.7686 - mae: 38.3314\n",
      "Epoch 66/300\n",
      "4/4 [==============================] - 0s 4ms/step - loss: 50.3172 - mae: 42.7516\n",
      "Epoch 67/300\n",
      "4/4 [==============================] - 0s 4ms/step - loss: 50.4001 - mae: 29.0507\n",
      "Epoch 68/300\n",
      "4/4 [==============================] - 0s 3ms/step - loss: 49.5264 - mae: 23.7124\n",
      "Epoch 69/300\n",
      "4/4 [==============================] - 0s 4ms/step - loss: 50.0445 - mae: 28.5568\n",
      "Epoch 70/300\n",
      "4/4 [==============================] - 0s 4ms/step - loss: 48.8977 - mae: 27.0660\n",
      "Epoch 71/300\n",
      "4/4 [==============================] - 0s 3ms/step - loss: 50.2635 - mae: 38.6736\n",
      "Epoch 72/300\n",
      "4/4 [==============================] - 0s 3ms/step - loss: 47.4593 - mae: 42.9336\n",
      "Epoch 73/300\n",
      "4/4 [==============================] - 0s 4ms/step - loss: 52.8483 - mae: 38.6395\n",
      "Epoch 74/300\n",
      "4/4 [==============================] - 0s 3ms/step - loss: 50.2127 - mae: 27.5775\n",
      "Epoch 75/300\n",
      "4/4 [==============================] - 0s 4ms/step - loss: 48.9968 - mae: 33.9400\n",
      "Epoch 76/300\n",
      "4/4 [==============================] - 0s 3ms/step - loss: 46.2932 - mae: 54.6281\n",
      "Epoch 77/300\n",
      "4/4 [==============================] - 0s 3ms/step - loss: 56.7202 - mae: 53.3070\n",
      "Epoch 78/300\n",
      "4/4 [==============================] - 0s 3ms/step - loss: 49.2178 - mae: 34.5801\n",
      "Epoch 79/300\n",
      "4/4 [==============================] - 0s 3ms/step - loss: 49.0357 - mae: 34.3726\n",
      "Epoch 80/300\n",
      "4/4 [==============================] - 0s 3ms/step - loss: 50.7697 - mae: 57.8823\n",
      "Epoch 81/300\n",
      "4/4 [==============================] - 0s 3ms/step - loss: 51.6733 - mae: 56.8640\n",
      "Epoch 82/300\n",
      "4/4 [==============================] - 0s 4ms/step - loss: 50.1354 - mae: 34.6683\n",
      "Epoch 83/300\n",
      "4/4 [==============================] - 0s 3ms/step - loss: 47.3106 - mae: 32.5694\n",
      "Epoch 84/300\n",
      "4/4 [==============================] - 0s 3ms/step - loss: 42.9059 - mae: 51.1908\n",
      "Epoch 85/300\n",
      "4/4 [==============================] - 0s 3ms/step - loss: 45.6546 - mae: 67.8110\n",
      "Epoch 86/300\n",
      "4/4 [==============================] - 0s 3ms/step - loss: 50.5158 - mae: 67.4509\n",
      "Epoch 87/300\n"
     ]
    },
    {
     "name": "stdout",
     "output_type": "stream",
     "text": [
      "4/4 [==============================] - 0s 3ms/step - loss: 50.3385 - mae: 32.7765\n",
      "Epoch 88/300\n",
      "4/4 [==============================] - 0s 3ms/step - loss: 49.5274 - mae: 30.4052\n",
      "Epoch 89/300\n",
      "4/4 [==============================] - 0s 3ms/step - loss: 49.8599 - mae: 36.4860\n",
      "Epoch 90/300\n",
      "4/4 [==============================] - 0s 3ms/step - loss: 47.0855 - mae: 31.9690\n",
      "Epoch 91/300\n",
      "4/4 [==============================] - 0s 2ms/step - loss: 49.5517 - mae: 29.4382\n",
      "Epoch 92/300\n",
      "4/4 [==============================] - 0s 3ms/step - loss: 49.9330 - mae: 26.3955\n",
      "Epoch 93/300\n",
      "4/4 [==============================] - 0s 3ms/step - loss: 49.1662 - mae: 32.6357\n",
      "Epoch 94/300\n",
      "4/4 [==============================] - 0s 3ms/step - loss: 48.8732 - mae: 33.7470\n",
      "Epoch 95/300\n",
      "4/4 [==============================] - 0s 3ms/step - loss: 48.3497 - mae: 26.3246\n",
      "Epoch 96/300\n",
      "4/4 [==============================] - 0s 3ms/step - loss: 50.7020 - mae: 30.5653\n",
      "Epoch 97/300\n",
      "4/4 [==============================] - 0s 4ms/step - loss: 50.4034 - mae: 24.4356\n",
      "Epoch 98/300\n",
      "4/4 [==============================] - 0s 4ms/step - loss: 49.5633 - mae: 25.0327\n",
      "Epoch 99/300\n",
      "4/4 [==============================] - 0s 4ms/step - loss: 48.7990 - mae: 26.8801\n",
      "Epoch 100/300\n",
      "4/4 [==============================] - 0s 3ms/step - loss: 50.0578 - mae: 26.4354\n",
      "Epoch 101/300\n",
      "4/4 [==============================] - 0s 4ms/step - loss: 49.3228 - mae: 23.9279\n",
      "Epoch 102/300\n",
      "4/4 [==============================] - 0s 4ms/step - loss: 49.2121 - mae: 25.3163\n",
      "Epoch 103/300\n",
      "4/4 [==============================] - 0s 3ms/step - loss: 48.8607 - mae: 26.9828\n",
      "Epoch 104/300\n",
      "4/4 [==============================] - 0s 3ms/step - loss: 48.6676 - mae: 25.0702\n",
      "Epoch 105/300\n",
      "4/4 [==============================] - 0s 3ms/step - loss: 48.1081 - mae: 27.8482\n",
      "Epoch 106/300\n",
      "4/4 [==============================] - 0s 4ms/step - loss: 49.2989 - mae: 26.2409\n",
      "Epoch 107/300\n",
      "4/4 [==============================] - 0s 4ms/step - loss: 49.7918 - mae: 26.7283\n",
      "Epoch 108/300\n",
      "4/4 [==============================] - 0s 4ms/step - loss: 48.8240 - mae: 31.1017\n",
      "Epoch 109/300\n",
      "4/4 [==============================] - 0s 4ms/step - loss: 43.3780 - mae: 57.2834\n",
      "Epoch 110/300\n",
      "4/4 [==============================] - 0s 3ms/step - loss: 40.7583 - mae: 95.0115\n",
      "Epoch 111/300\n",
      "4/4 [==============================] - 0s 3ms/step - loss: 52.6452 - mae: 87.9555\n",
      "Epoch 112/300\n",
      "4/4 [==============================] - 0s 3ms/step - loss: 44.3840 - mae: 89.9976\n",
      "Epoch 113/300\n",
      "4/4 [==============================] - 0s 3ms/step - loss: 47.6112 - mae: 55.4545\n",
      "Epoch 114/300\n",
      "4/4 [==============================] - 0s 3ms/step - loss: 48.4906 - mae: 35.1316\n",
      "Epoch 115/300\n",
      "4/4 [==============================] - 0s 4ms/step - loss: 51.8032 - mae: 41.5949\n",
      "Epoch 116/300\n",
      "4/4 [==============================] - 0s 4ms/step - loss: 50.4901 - mae: 36.0770\n",
      "Epoch 117/300\n",
      "4/4 [==============================] - 0s 4ms/step - loss: 51.1273 - mae: 31.1874\n",
      "Epoch 118/300\n",
      "4/4 [==============================] - 0s 3ms/step - loss: 48.5168 - mae: 36.3973\n",
      "Epoch 119/300\n",
      "4/4 [==============================] - 0s 3ms/step - loss: 49.6250 - mae: 24.3642\n",
      "Epoch 120/300\n",
      "4/4 [==============================] - 0s 3ms/step - loss: 47.1331 - mae: 31.9185\n",
      "Epoch 121/300\n",
      "4/4 [==============================] - 0s 3ms/step - loss: 50.6288 - mae: 30.7528\n",
      "Epoch 122/300\n",
      "4/4 [==============================] - 0s 3ms/step - loss: 49.1960 - mae: 25.0377\n",
      "Epoch 123/300\n",
      "4/4 [==============================] - 0s 3ms/step - loss: 50.8453 - mae: 28.5048\n",
      "Epoch 124/300\n",
      "4/4 [==============================] - 0s 3ms/step - loss: 48.3013 - mae: 24.1390\n",
      "Epoch 125/300\n",
      "4/4 [==============================] - 0s 3ms/step - loss: 49.9080 - mae: 25.3541\n",
      "Epoch 126/300\n",
      "4/4 [==============================] - 0s 3ms/step - loss: 49.8489 - mae: 27.3599\n",
      "Epoch 127/300\n",
      "4/4 [==============================] - 0s 3ms/step - loss: 48.6216 - mae: 30.8883\n",
      "Epoch 128/300\n",
      "4/4 [==============================] - 0s 3ms/step - loss: 49.6073 - mae: 27.4741\n",
      "Epoch 129/300\n",
      "4/4 [==============================] - 0s 3ms/step - loss: 49.0095 - mae: 25.2116\n",
      "Epoch 130/300\n",
      "4/4 [==============================] - 0s 3ms/step - loss: 47.9514 - mae: 34.4917\n",
      "Epoch 131/300\n",
      "4/4 [==============================] - 0s 3ms/step - loss: 49.5101 - mae: 39.1176\n",
      "Epoch 132/300\n",
      "4/4 [==============================] - 0s 3ms/step - loss: 49.0328 - mae: 29.0442\n",
      "Epoch 133/300\n",
      "4/4 [==============================] - 0s 3ms/step - loss: 49.3779 - mae: 26.5159\n",
      "Epoch 134/300\n",
      "4/4 [==============================] - 0s 3ms/step - loss: 48.3838 - mae: 28.4250\n",
      "Epoch 135/300\n",
      "4/4 [==============================] - 0s 2ms/step - loss: 48.5543 - mae: 38.6465\n",
      "Epoch 136/300\n",
      "4/4 [==============================] - 0s 4ms/step - loss: 50.1932 - mae: 33.5034\n",
      "Epoch 137/300\n",
      "4/4 [==============================] - 0s 3ms/step - loss: 48.1907 - mae: 29.7473\n",
      "Epoch 138/300\n",
      "4/4 [==============================] - 0s 3ms/step - loss: 50.2793 - mae: 24.6709\n",
      "Epoch 139/300\n",
      "4/4 [==============================] - 0s 3ms/step - loss: 49.8370 - mae: 26.8260\n",
      "Epoch 140/300\n",
      "4/4 [==============================] - 0s 3ms/step - loss: 49.2931 - mae: 27.8311\n",
      "Epoch 141/300\n",
      "4/4 [==============================] - 0s 3ms/step - loss: 50.1026 - mae: 26.8163\n",
      "Epoch 142/300\n",
      "4/4 [==============================] - 0s 4ms/step - loss: 50.8719 - mae: 31.6664\n",
      "Epoch 143/300\n",
      "4/4 [==============================] - 0s 4ms/step - loss: 48.0999 - mae: 30.8165\n",
      "Epoch 144/300\n",
      "4/4 [==============================] - 0s 4ms/step - loss: 48.9025 - mae: 22.7616\n",
      "Epoch 145/300\n",
      "4/4 [==============================] - 0s 3ms/step - loss: 49.0902 - mae: 26.2278\n",
      "Epoch 146/300\n",
      "4/4 [==============================] - 0s 3ms/step - loss: 47.7669 - mae: 31.3218\n",
      "Epoch 147/300\n",
      "4/4 [==============================] - 0s 3ms/step - loss: 49.3820 - mae: 36.4430\n",
      "Epoch 148/300\n",
      "4/4 [==============================] - 0s 3ms/step - loss: 45.3054 - mae: 47.2343\n",
      "Epoch 149/300\n",
      "4/4 [==============================] - 0s 3ms/step - loss: 47.7819 - mae: 47.6702\n",
      "Epoch 150/300\n",
      "4/4 [==============================] - 0s 4ms/step - loss: 46.8341 - mae: 51.3216\n",
      "Epoch 151/300\n",
      "4/4 [==============================] - 0s 3ms/step - loss: 44.3732 - mae: 50.3692\n",
      "Epoch 152/300\n",
      "4/4 [==============================] - 0s 3ms/step - loss: 48.0228 - mae: 47.4782\n",
      "Epoch 153/300\n",
      "4/4 [==============================] - 0s 4ms/step - loss: 50.9570 - mae: 42.4284\n",
      "Epoch 154/300\n",
      "4/4 [==============================] - 0s 4ms/step - loss: 48.8174 - mae: 27.6430\n",
      "Epoch 155/300\n",
      "4/4 [==============================] - 0s 4ms/step - loss: 48.9018 - mae: 23.6742\n",
      "Epoch 156/300\n",
      "4/4 [==============================] - 0s 4ms/step - loss: 50.7329 - mae: 30.0397\n",
      "Epoch 157/300\n",
      "4/4 [==============================] - 0s 4ms/step - loss: 49.3022 - mae: 27.3492\n",
      "Epoch 158/300\n",
      "4/4 [==============================] - 0s 3ms/step - loss: 49.5418 - mae: 26.3438\n",
      "Epoch 159/300\n",
      "4/4 [==============================] - 0s 3ms/step - loss: 49.1107 - mae: 27.2420\n",
      "Epoch 160/300\n",
      "4/4 [==============================] - 0s 3ms/step - loss: 49.3613 - mae: 24.6383\n",
      "Epoch 161/300\n",
      "4/4 [==============================] - 0s 3ms/step - loss: 48.0426 - mae: 31.6865\n",
      "Epoch 162/300\n",
      "4/4 [==============================] - 0s 3ms/step - loss: 49.7262 - mae: 40.6856\n",
      "Epoch 163/300\n",
      "4/4 [==============================] - 0s 3ms/step - loss: 47.3878 - mae: 41.0202\n",
      "Epoch 164/300\n",
      "4/4 [==============================] - 0s 4ms/step - loss: 48.2142 - mae: 35.0377\n",
      "Epoch 165/300\n",
      "4/4 [==============================] - 0s 3ms/step - loss: 46.3783 - mae: 42.0338\n",
      "Epoch 166/300\n",
      "4/4 [==============================] - 0s 3ms/step - loss: 46.9197 - mae: 41.3014\n",
      "Epoch 167/300\n",
      "4/4 [==============================] - 0s 3ms/step - loss: 49.8335 - mae: 38.1974\n",
      "Epoch 168/300\n",
      "4/4 [==============================] - 0s 3ms/step - loss: 46.9710 - mae: 35.5947\n",
      "Epoch 169/300\n",
      "4/4 [==============================] - 0s 3ms/step - loss: 49.9791 - mae: 29.9852\n",
      "Epoch 170/300\n",
      "4/4 [==============================] - 0s 4ms/step - loss: 51.8385 - mae: 24.3887\n",
      "Epoch 171/300\n",
      "4/4 [==============================] - 0s 3ms/step - loss: 49.1546 - mae: 30.0966\n",
      "Epoch 172/300\n"
     ]
    },
    {
     "name": "stdout",
     "output_type": "stream",
     "text": [
      "4/4 [==============================] - 0s 4ms/step - loss: 50.9008 - mae: 44.0547\n",
      "Epoch 173/300\n",
      "4/4 [==============================] - 0s 3ms/step - loss: 48.3753 - mae: 34.3438\n",
      "Epoch 174/300\n",
      "4/4 [==============================] - 0s 4ms/step - loss: 49.9583 - mae: 29.5223\n",
      "Epoch 175/300\n",
      "4/4 [==============================] - 0s 3ms/step - loss: 49.6954 - mae: 24.7048\n",
      "Epoch 176/300\n",
      "4/4 [==============================] - 0s 3ms/step - loss: 50.6940 - mae: 40.2412\n",
      "Epoch 177/300\n",
      "4/4 [==============================] - 0s 3ms/step - loss: 54.0141 - mae: 36.1452\n",
      "Epoch 178/300\n",
      "4/4 [==============================] - 0s 3ms/step - loss: 49.2163 - mae: 26.0134\n",
      "Epoch 179/300\n",
      "4/4 [==============================] - 0s 3ms/step - loss: 48.8001 - mae: 26.7163\n",
      "Epoch 180/300\n",
      "4/4 [==============================] - 0s 3ms/step - loss: 48.7573 - mae: 35.1497\n",
      "Epoch 181/300\n",
      "4/4 [==============================] - 0s 3ms/step - loss: 48.9677 - mae: 36.1864\n",
      "Epoch 182/300\n",
      "4/4 [==============================] - 0s 3ms/step - loss: 50.9507 - mae: 33.0051\n",
      "Epoch 183/300\n",
      "4/4 [==============================] - 0s 3ms/step - loss: 49.3644 - mae: 29.1747\n",
      "Epoch 184/300\n",
      "4/4 [==============================] - 0s 3ms/step - loss: 51.0535 - mae: 28.2525\n",
      "Epoch 185/300\n",
      "4/4 [==============================] - 0s 3ms/step - loss: 49.2696 - mae: 28.3285\n",
      "Epoch 186/300\n",
      "4/4 [==============================] - 0s 3ms/step - loss: 49.6502 - mae: 25.5427\n",
      "Epoch 187/300\n",
      "4/4 [==============================] - 0s 3ms/step - loss: 46.1222 - mae: 36.2341\n",
      "Epoch 188/300\n",
      "4/4 [==============================] - 0s 3ms/step - loss: 50.2788 - mae: 38.2430\n",
      "Epoch 189/300\n",
      "4/4 [==============================] - 0s 4ms/step - loss: 47.5072 - mae: 45.4285\n",
      "Epoch 190/300\n",
      "4/4 [==============================] - 0s 3ms/step - loss: 41.5188 - mae: 56.1223\n",
      "Epoch 191/300\n",
      "4/4 [==============================] - 0s 4ms/step - loss: 54.1105 - mae: 54.0397\n",
      "Epoch 192/300\n",
      "4/4 [==============================] - 0s 4ms/step - loss: 46.6934 - mae: 43.4791\n",
      "Epoch 193/300\n",
      "4/4 [==============================] - 0s 3ms/step - loss: 49.8579 - mae: 31.9214\n",
      "Epoch 194/300\n",
      "4/4 [==============================] - 0s 4ms/step - loss: 49.2318 - mae: 29.8723\n",
      "Epoch 195/300\n",
      "4/4 [==============================] - 0s 3ms/step - loss: 49.5666 - mae: 27.5572\n",
      "Epoch 196/300\n",
      "4/4 [==============================] - 0s 4ms/step - loss: 50.4175 - mae: 29.8256\n",
      "Epoch 197/300\n",
      "4/4 [==============================] - 0s 3ms/step - loss: 49.2131 - mae: 25.1667\n",
      "Epoch 198/300\n",
      "4/4 [==============================] - 0s 4ms/step - loss: 49.4377 - mae: 24.2851\n",
      "Epoch 199/300\n",
      "4/4 [==============================] - 0s 4ms/step - loss: 48.6902 - mae: 39.0520\n",
      "Epoch 200/300\n",
      "4/4 [==============================] - 0s 3ms/step - loss: 50.1393 - mae: 33.7869\n",
      "Epoch 201/300\n",
      "4/4 [==============================] - 0s 3ms/step - loss: 50.4325 - mae: 23.1148\n",
      "Epoch 202/300\n",
      "4/4 [==============================] - 0s 3ms/step - loss: 50.5731 - mae: 27.5869\n",
      "Epoch 203/300\n",
      "4/4 [==============================] - 0s 3ms/step - loss: 50.1657 - mae: 31.3415\n",
      "Epoch 204/300\n",
      "4/4 [==============================] - 0s 3ms/step - loss: 49.4148 - mae: 28.7170\n",
      "Epoch 205/300\n",
      "4/4 [==============================] - 0s 3ms/step - loss: 49.6524 - mae: 27.0789\n",
      "Epoch 206/300\n",
      "4/4 [==============================] - 0s 3ms/step - loss: 48.0888 - mae: 27.8292\n",
      "Epoch 207/300\n",
      "4/4 [==============================] - 0s 4ms/step - loss: 49.1842 - mae: 25.9240\n",
      "Epoch 208/300\n",
      "4/4 [==============================] - 0s 4ms/step - loss: 48.5114 - mae: 34.7684\n",
      "Epoch 209/300\n",
      "4/4 [==============================] - 0s 4ms/step - loss: 44.3436 - mae: 54.3278\n",
      "Epoch 210/300\n",
      "4/4 [==============================] - 0s 4ms/step - loss: 57.4573 - mae: 74.7950\n",
      "Epoch 211/300\n",
      "4/4 [==============================] - 0s 5ms/step - loss: 48.5525 - mae: 62.1228\n",
      "Epoch 212/300\n",
      "4/4 [==============================] - 0s 3ms/step - loss: 49.7955 - mae: 31.0542\n",
      "Epoch 213/300\n",
      "4/4 [==============================] - 0s 4ms/step - loss: 49.7350 - mae: 29.6508\n",
      "Epoch 214/300\n",
      "4/4 [==============================] - 0s 4ms/step - loss: 47.5122 - mae: 38.1636\n",
      "Epoch 215/300\n",
      "4/4 [==============================] - 0s 4ms/step - loss: 47.4156 - mae: 37.6896\n",
      "Epoch 216/300\n",
      "4/4 [==============================] - 0s 3ms/step - loss: 46.0086 - mae: 41.1853\n",
      "Epoch 217/300\n",
      "4/4 [==============================] - 0s 3ms/step - loss: 50.5066 - mae: 39.5609\n",
      "Epoch 218/300\n",
      "4/4 [==============================] - 0s 3ms/step - loss: 47.5941 - mae: 32.6275\n",
      "Epoch 219/300\n",
      "4/4 [==============================] - 0s 3ms/step - loss: 48.9694 - mae: 28.9902\n",
      "Epoch 220/300\n",
      "4/4 [==============================] - 0s 3ms/step - loss: 49.1993 - mae: 27.7719\n",
      "Epoch 221/300\n",
      "4/4 [==============================] - 0s 3ms/step - loss: 49.0663 - mae: 25.0634\n",
      "Epoch 222/300\n",
      "4/4 [==============================] - 0s 3ms/step - loss: 49.5005 - mae: 27.2385\n",
      "Epoch 223/300\n",
      "4/4 [==============================] - 0s 3ms/step - loss: 48.5222 - mae: 26.2933\n",
      "Epoch 224/300\n",
      "4/4 [==============================] - 0s 3ms/step - loss: 48.1088 - mae: 33.3775\n",
      "Epoch 225/300\n",
      "4/4 [==============================] - 0s 3ms/step - loss: 50.0217 - mae: 45.5355\n",
      "Epoch 226/300\n",
      "4/4 [==============================] - 0s 3ms/step - loss: 46.2862 - mae: 37.3737\n",
      "Epoch 227/300\n",
      "4/4 [==============================] - 0s 3ms/step - loss: 51.7358 - mae: 30.5853\n",
      "Epoch 228/300\n",
      "4/4 [==============================] - 0s 3ms/step - loss: 49.3688 - mae: 32.4953\n",
      "Epoch 229/300\n",
      "4/4 [==============================] - 0s 3ms/step - loss: 47.3636 - mae: 35.6141\n",
      "Epoch 230/300\n",
      "4/4 [==============================] - 0s 3ms/step - loss: 49.4971 - mae: 35.2731\n",
      "Epoch 231/300\n",
      "4/4 [==============================] - 0s 3ms/step - loss: 49.3433 - mae: 34.6450\n",
      "Epoch 232/300\n",
      "4/4 [==============================] - 0s 3ms/step - loss: 47.4071 - mae: 41.9040\n",
      "Epoch 233/300\n",
      "4/4 [==============================] - 0s 3ms/step - loss: 43.4574 - mae: 63.4454\n",
      "Epoch 234/300\n",
      "4/4 [==============================] - 0s 3ms/step - loss: 46.1855 - mae: 54.6591\n",
      "Epoch 235/300\n",
      "4/4 [==============================] - 0s 3ms/step - loss: 47.7735 - mae: 40.3549\n",
      "Epoch 236/300\n",
      "4/4 [==============================] - 0s 3ms/step - loss: 51.0670 - mae: 21.7998\n",
      "Epoch 237/300\n",
      "4/4 [==============================] - 0s 3ms/step - loss: 46.5147 - mae: 48.5799\n",
      "Epoch 238/300\n",
      "4/4 [==============================] - 0s 4ms/step - loss: 52.8744 - mae: 43.9280\n",
      "Epoch 239/300\n",
      "4/4 [==============================] - 0s 2ms/step - loss: 49.4568 - mae: 28.9985\n",
      "Epoch 240/300\n",
      "4/4 [==============================] - 0s 3ms/step - loss: 52.0225 - mae: 43.2109\n",
      "Epoch 241/300\n",
      "4/4 [==============================] - 0s 2ms/step - loss: 48.3816 - mae: 28.5606\n",
      "Epoch 242/300\n",
      "4/4 [==============================] - 0s 3ms/step - loss: 49.4939 - mae: 24.7247\n",
      "Epoch 243/300\n",
      "4/4 [==============================] - 0s 2ms/step - loss: 50.5353 - mae: 27.7392\n",
      "Epoch 244/300\n",
      "4/4 [==============================] - 0s 3ms/step - loss: 49.8116 - mae: 27.2605\n",
      "Epoch 245/300\n",
      "4/4 [==============================] - 0s 2ms/step - loss: 49.2774 - mae: 26.1344\n",
      "Epoch 246/300\n",
      "4/4 [==============================] - 0s 3ms/step - loss: 49.7435 - mae: 27.1600\n",
      "Epoch 247/300\n",
      "4/4 [==============================] - 0s 2ms/step - loss: 49.0286 - mae: 34.3188\n",
      "Epoch 248/300\n",
      "4/4 [==============================] - 0s 2ms/step - loss: 51.6956 - mae: 35.3021\n",
      "Epoch 249/300\n",
      "4/4 [==============================] - 0s 3ms/step - loss: 49.4956 - mae: 28.7532\n",
      "Epoch 250/300\n",
      "4/4 [==============================] - 0s 3ms/step - loss: 54.2713 - mae: 41.8025\n",
      "Epoch 251/300\n",
      "4/4 [==============================] - 0s 3ms/step - loss: 48.1015 - mae: 33.0553\n",
      "Epoch 252/300\n",
      "4/4 [==============================] - 0s 3ms/step - loss: 47.2569 - mae: 39.3539\n",
      "Epoch 253/300\n",
      "4/4 [==============================] - 0s 4ms/step - loss: 56.3924 - mae: 47.7371\n",
      "Epoch 254/300\n",
      "4/4 [==============================] - 0s 3ms/step - loss: 47.6209 - mae: 38.0453\n",
      "Epoch 255/300\n",
      "4/4 [==============================] - 0s 3ms/step - loss: 51.1474 - mae: 29.9489\n",
      "Epoch 256/300\n",
      "4/4 [==============================] - 0s 3ms/step - loss: 49.0319 - mae: 29.8018\n",
      "Epoch 257/300\n"
     ]
    },
    {
     "name": "stdout",
     "output_type": "stream",
     "text": [
      "4/4 [==============================] - 0s 4ms/step - loss: 48.3502 - mae: 30.3055\n",
      "Epoch 258/300\n",
      "4/4 [==============================] - 0s 3ms/step - loss: 50.9355 - mae: 32.6981\n",
      "Epoch 259/300\n",
      "4/4 [==============================] - 0s 3ms/step - loss: 50.2736 - mae: 26.3573\n",
      "Epoch 260/300\n",
      "4/4 [==============================] - 0s 3ms/step - loss: 49.2912 - mae: 26.1557\n",
      "Epoch 261/300\n",
      "4/4 [==============================] - 0s 4ms/step - loss: 49.2827 - mae: 25.2378\n",
      "Epoch 262/300\n",
      "4/4 [==============================] - 0s 3ms/step - loss: 50.6689 - mae: 21.3615\n",
      "Epoch 263/300\n",
      "4/4 [==============================] - 0s 4ms/step - loss: 48.9241 - mae: 29.0289\n",
      "Epoch 264/300\n",
      "4/4 [==============================] - 0s 4ms/step - loss: 50.2011 - mae: 32.3125\n",
      "Epoch 265/300\n",
      "4/4 [==============================] - 0s 4ms/step - loss: 49.8636 - mae: 24.3276\n",
      "Epoch 266/300\n",
      "4/4 [==============================] - 0s 3ms/step - loss: 48.3889 - mae: 28.6760\n",
      "Epoch 267/300\n",
      "4/4 [==============================] - 0s 3ms/step - loss: 47.8358 - mae: 34.1114\n",
      "Epoch 268/300\n",
      "4/4 [==============================] - 0s 3ms/step - loss: 49.1733 - mae: 28.3656\n",
      "Epoch 269/300\n",
      "4/4 [==============================] - 0s 4ms/step - loss: 49.5951 - mae: 24.3156\n",
      "Epoch 270/300\n",
      "4/4 [==============================] - 0s 3ms/step - loss: 49.1408 - mae: 33.3474\n",
      "Epoch 271/300\n",
      "4/4 [==============================] - 0s 3ms/step - loss: 48.6753 - mae: 26.9323\n",
      "Epoch 272/300\n",
      "4/4 [==============================] - 0s 3ms/step - loss: 49.4536 - mae: 22.2026\n",
      "Epoch 273/300\n",
      "4/4 [==============================] - 0s 3ms/step - loss: 49.6653 - mae: 26.3241\n",
      "Epoch 274/300\n",
      "4/4 [==============================] - 0s 3ms/step - loss: 49.5784 - mae: 25.1662\n",
      "Epoch 275/300\n",
      "4/4 [==============================] - 0s 3ms/step - loss: 49.4296 - mae: 25.2045\n",
      "Epoch 276/300\n",
      "4/4 [==============================] - 0s 3ms/step - loss: 49.0465 - mae: 25.6013\n",
      "Epoch 277/300\n",
      "4/4 [==============================] - 0s 3ms/step - loss: 49.3984 - mae: 32.1830\n",
      "Epoch 278/300\n",
      "4/4 [==============================] - 0s 2ms/step - loss: 48.4691 - mae: 31.3029\n",
      "Epoch 279/300\n",
      "4/4 [==============================] - 0s 2ms/step - loss: 49.0555 - mae: 25.2320\n",
      "Epoch 280/300\n",
      "4/4 [==============================] - 0s 2ms/step - loss: 49.4218 - mae: 26.5720\n",
      "Epoch 281/300\n",
      "4/4 [==============================] - 0s 3ms/step - loss: 48.8654 - mae: 24.9212\n",
      "Epoch 282/300\n",
      "4/4 [==============================] - 0s 2ms/step - loss: 49.3891 - mae: 30.4054\n",
      "Epoch 283/300\n",
      "4/4 [==============================] - 0s 3ms/step - loss: 48.5175 - mae: 29.3903\n",
      "Epoch 284/300\n",
      "4/4 [==============================] - 0s 3ms/step - loss: 48.0369 - mae: 30.4110\n",
      "Epoch 285/300\n",
      "4/4 [==============================] - 0s 3ms/step - loss: 54.4978 - mae: 38.3877\n",
      "Epoch 286/300\n",
      "4/4 [==============================] - 0s 3ms/step - loss: 48.7092 - mae: 40.6705\n",
      "Epoch 287/300\n",
      "4/4 [==============================] - 0s 3ms/step - loss: 48.9638 - mae: 31.2530\n",
      "Epoch 288/300\n",
      "4/4 [==============================] - 0s 3ms/step - loss: 48.0459 - mae: 38.0530\n",
      "Epoch 289/300\n",
      "4/4 [==============================] - 0s 3ms/step - loss: 49.1055 - mae: 23.4909\n",
      "Epoch 290/300\n",
      "4/4 [==============================] - 0s 3ms/step - loss: 49.6017 - mae: 24.9794\n",
      "Epoch 291/300\n",
      "4/4 [==============================] - 0s 3ms/step - loss: 47.4998 - mae: 31.9510\n",
      "Epoch 292/300\n",
      "4/4 [==============================] - 0s 3ms/step - loss: 50.0120 - mae: 29.0991\n",
      "Epoch 293/300\n",
      "4/4 [==============================] - 0s 3ms/step - loss: 49.8230 - mae: 30.4279\n",
      "Epoch 294/300\n",
      "4/4 [==============================] - 0s 3ms/step - loss: 49.4000 - mae: 24.5823\n",
      "Epoch 295/300\n",
      "4/4 [==============================] - 0s 4ms/step - loss: 49.3908 - mae: 22.9949\n",
      "Epoch 296/300\n",
      "4/4 [==============================] - 0s 4ms/step - loss: 49.4171 - mae: 29.5624\n",
      "Epoch 297/300\n",
      "4/4 [==============================] - 0s 4ms/step - loss: 49.4093 - mae: 25.7023\n",
      "Epoch 298/300\n",
      "4/4 [==============================] - 0s 3ms/step - loss: 49.6305 - mae: 25.6749\n",
      "Epoch 299/300\n",
      "4/4 [==============================] - 0s 3ms/step - loss: 50.8258 - mae: 26.7659\n",
      "Epoch 300/300\n",
      "4/4 [==============================] - 0s 3ms/step - loss: 50.0913 - mae: 32.7140\n"
     ]
    },
    {
     "data": {
      "text/plain": [
       "<keras.callbacks.History at 0x2b9376087f0>"
      ]
     },
     "execution_count": 34,
     "metadata": {},
     "output_type": "execute_result"
    },
    {
     "data": {
      "text/plain": [
       "[<keras.metrics.Mean at 0x2b936354080>,\n",
       " <keras.metrics.MeanAbsoluteError at 0x2b9363540b8>]"
      ]
     },
     "execution_count": 34,
     "metadata": {},
     "output_type": "execute_result"
    }
   ],
   "source": [
    "low = 0\n",
    "high = 100\n",
    "xtrain = [[i,i*2] for i in range(low,high)]\n",
    "xtrain_ab = [[i,i*3] for i in range(3,5)]\n",
    "xtrain=xtrain+xtrain_ab\n",
    "ytrain = [(lambda x: x*2 - x)(i) for i in range(low,high)]\n",
    "ytrainclass = [0 if (xtrain[i][1]-xtrain[i][0]==xtrain[i][0]) else 1 for i in range(low,len(xtrain))]\n",
    "\n",
    "import random\n",
    "c = list(zip(xtrain, ytrain))\n",
    "\n",
    "random.shuffle(c)\n",
    "\n",
    "xtrain, ytrain = zip(*c)\n",
    "xtrain = np.array(xtrain)\n",
    "ytrain = np.array(ytrain)\n",
    "\n",
    "class Encoder(keras.layers.Layer):\n",
    "    def __init__(self):\n",
    "        super(Encoder, self).__init__()\n",
    "        self.layer1 = keras.layers.Dense(units=32, activation='relu',name=\"layer1\")\n",
    "        self.layer2 = keras.layers.Dense(units=32, activation='relu')\n",
    "        self.layer3 = keras.layers.Dense(units=8, activation='relu')\n",
    "        \n",
    "    def call(self, inputs):\n",
    "        x = self.layer1(inputs)\n",
    "        x = self.layer2(x)\n",
    "        x = self.layer3(x)\n",
    "        return x\n",
    "    \n",
    "class Decoder(keras.layers.Layer):\n",
    "    def __init__(self):\n",
    "        super(Decoder, self).__init__()\n",
    "        self.layer1 = keras.layers.Dense(units=32, activation='relu')\n",
    "        self.layer2 = keras.layers.Dense(units=32, activation='relu')\n",
    "        self.layer3 = keras.layers.Dense(units=1, activation='linear')\n",
    "        \n",
    "    def call(self, inputs):\n",
    "        #self.layer1 = keras.layers.Dense(units=32, input_shape=((2,)),activation='relu')\n",
    "        x = self.layer1(inputs)\n",
    "        x = self.layer2(x)\n",
    "        x = self.layer3(x)\n",
    "        return x\n",
    "       \n",
    "class AE(keras.Model):\n",
    "    def __init__(self):\n",
    "        super(AE, self).__init__()\n",
    "        self.Encoder = Encoder()\n",
    "        self.Decoder = Decoder()\n",
    "        \n",
    "    def call(self, inputs):\n",
    "        x = self.Encoder(inputs)\n",
    "        x = self.Decoder(x)\n",
    "        return x\n",
    "\n",
    "\n",
    "# keras.metric instance to track metrics and loss\n",
    "loss_tracker = keras.metrics.Mean(name=\"loss\")\n",
    "mae_metric = keras.metrics.MeanAbsoluteError(name=\"mae\")    \n",
    "    \n",
    "class AE_compute_loss(AE):\n",
    "    def __init__(self):\n",
    "        super(AE_compute_loss, self).__init__()    \n",
    "    \n",
    "    def train_step(self, data):\n",
    "        x, y = data\n",
    "        #tf.print(x)\n",
    "        #print()\n",
    "        #loss=0\n",
    "        \n",
    "        #loss_tracker.reset_states()\n",
    "        #mae_metric.reset_states()\n",
    "        \n",
    "        with tf.GradientTape() as tape:\n",
    "            #forward pass\n",
    "            y_pred = self(x, training = True)\n",
    "            # compute loss \n",
    "            loss = keras.losses.mean_squared_error(y, y_pred)\n",
    "            #loss = mse(y,y_pred)\n",
    "            #print(loss)\n",
    "            #tf.print(y)\n",
    "            #loss = np.mean(np.square(y.numpy() - y_pred), axis=-1)\n",
    "            #loss = tf.math.reduce_mean(tf.square(tf.cast(y,tf.float32) - y_pred))\n",
    "            \n",
    "            #tf.print(y_pred, y)\n",
    "        \n",
    "        #gradients\n",
    "        trainable_vars = self.trainable_variables\n",
    "        gradient = tape.gradient(loss, trainable_vars)\n",
    "        \n",
    "        #update weights\n",
    "        self.optimizer.apply_gradients(zip(gradient, trainable_vars))\n",
    "        \n",
    "        #update metrics\n",
    "        loss_tracker.update_state(y, y_pred)\n",
    "        mae_metric.update_state(y, y_pred)      \n",
    "        \n",
    "        #return {m.name: m.result() for m in self.metrics}\n",
    "        return {\"loss\": loss_tracker.result(), \"mae\": mae_metric.result()}\n",
    "    \n",
    "    @property\n",
    "    def metrics(self):\n",
    "        return [loss_tracker, mae_metric]\n",
    "        \n",
    "    \n",
    "ae = AE_compute_loss()  \n",
    "opt = keras.optimizers.Adam(learning_rate=0.9)\n",
    "ae.compile(optimizer=opt)\n",
    "ae.fit(xtrain, ytrain, epochs=300) \n",
    "ae.metrics"
   ]
  },
  {
   "cell_type": "code",
   "execution_count": null,
   "id": "783627bd",
   "metadata": {},
   "outputs": [],
   "source": []
  },
  {
   "cell_type": "code",
   "execution_count": 67,
   "id": "6924cf42",
   "metadata": {
    "collapsed": true
   },
   "outputs": [
    {
     "name": "stdout",
     "output_type": "stream",
     "text": [
      "Epoch 1/100\n",
      "4/4 [==============================] - 1s 3ms/step - loss: 66.0827 - mae: 44.0496\n",
      "Epoch 2/100\n",
      "4/4 [==============================] - 0s 2ms/step - loss: 65.8057 - mae: 46.3728\n",
      "Epoch 3/100\n",
      "4/4 [==============================] - 0s 2ms/step - loss: 65.7686 - mae: 32.9281\n",
      "Epoch 4/100\n",
      "4/4 [==============================] - 0s 2ms/step - loss: 66.4606 - mae: 28.0047\n",
      "Epoch 5/100\n",
      "4/4 [==============================] - 0s 3ms/step - loss: 66.2898 - mae: 22.9514\n",
      "Epoch 6/100\n",
      "4/4 [==============================] - 0s 2ms/step - loss: 66.0330 - mae: 12.6721\n",
      "Epoch 7/100\n",
      "4/4 [==============================] - 0s 3ms/step - loss: 66.1085 - mae: 5.9467\n",
      "Epoch 8/100\n",
      "4/4 [==============================] - 0s 3ms/step - loss: 66.2362 - mae: 3.3105\n",
      "Epoch 9/100\n",
      "4/4 [==============================] - 0s 3ms/step - loss: 66.2324 - mae: 5.9722\n",
      "Epoch 10/100\n",
      "4/4 [==============================] - 0s 3ms/step - loss: 66.2404 - mae: 7.8054\n",
      "Epoch 11/100\n",
      "4/4 [==============================] - 0s 3ms/step - loss: 66.1968 - mae: 11.2814\n",
      "Epoch 12/100\n",
      "4/4 [==============================] - 0s 3ms/step - loss: 66.1841 - mae: 13.5614\n",
      "Epoch 13/100\n",
      "4/4 [==============================] - 0s 3ms/step - loss: 66.1617 - mae: 14.8775\n",
      "Epoch 14/100\n",
      "4/4 [==============================] - 0s 3ms/step - loss: 66.1743 - mae: 13.7945\n",
      "Epoch 15/100\n",
      "4/4 [==============================] - 0s 3ms/step - loss: 66.1149 - mae: 11.0637\n",
      "Epoch 16/100\n",
      "4/4 [==============================] - 0s 3ms/step - loss: 66.1200 - mae: 9.7722\n",
      "Epoch 17/100\n",
      "4/4 [==============================] - 0s 3ms/step - loss: 66.1168 - mae: 11.3597\n",
      "Epoch 18/100\n",
      "4/4 [==============================] - 0s 3ms/step - loss: 66.0599 - mae: 12.7894\n",
      "Epoch 19/100\n",
      "4/4 [==============================] - 0s 3ms/step - loss: 66.0401 - mae: 14.2646\n",
      "Epoch 20/100\n",
      "4/4 [==============================] - 0s 3ms/step - loss: 66.0596 - mae: 13.0202\n",
      "Epoch 21/100\n",
      "4/4 [==============================] - 0s 5ms/step - loss: 66.0285 - mae: 7.9826\n",
      "Epoch 22/100\n",
      "4/4 [==============================] - 0s 5ms/step - loss: 66.0471 - mae: 8.6898\n",
      "Epoch 23/100\n",
      "4/4 [==============================] - 0s 5ms/step - loss: 66.0485 - mae: 11.0992\n",
      "Epoch 24/100\n",
      "4/4 [==============================] - 0s 5ms/step - loss: 65.9945 - mae: 10.1222\n",
      "Epoch 25/100\n",
      "4/4 [==============================] - 0s 5ms/step - loss: 65.9714 - mae: 12.0740\n",
      "Epoch 26/100\n",
      "4/4 [==============================] - 0s 5ms/step - loss: 65.9566 - mae: 13.4785\n",
      "Epoch 27/100\n",
      "4/4 [==============================] - 0s 6ms/step - loss: 65.9888 - mae: 10.4266\n",
      "Epoch 28/100\n",
      "4/4 [==============================] - 0s 6ms/step - loss: 65.9489 - mae: 9.9703\n",
      "Epoch 29/100\n",
      "4/4 [==============================] - 0s 3ms/step - loss: 65.9226 - mae: 8.9443\n",
      "Epoch 30/100\n",
      "4/4 [==============================] - 0s 4ms/step - loss: 65.9388 - mae: 10.1664\n",
      "Epoch 31/100\n",
      "4/4 [==============================] - 0s 3ms/step - loss: 65.8720 - mae: 11.0945\n",
      "Epoch 32/100\n",
      "4/4 [==============================] - 0s 4ms/step - loss: 65.8416 - mae: 14.1747\n",
      "Epoch 33/100\n",
      "4/4 [==============================] - 0s 4ms/step - loss: 65.8055 - mae: 14.8052\n",
      "Epoch 34/100\n",
      "4/4 [==============================] - 0s 3ms/step - loss: 65.8250 - mae: 9.0980\n",
      "Epoch 35/100\n",
      "4/4 [==============================] - 0s 3ms/step - loss: 65.8442 - mae: 8.5117\n",
      "Epoch 36/100\n",
      "4/4 [==============================] - 0s 4ms/step - loss: 65.8251 - mae: 7.8103\n",
      "Epoch 37/100\n",
      "4/4 [==============================] - 0s 4ms/step - loss: 65.8027 - mae: 9.3533\n",
      "Epoch 38/100\n",
      "4/4 [==============================] - 0s 3ms/step - loss: 65.7666 - mae: 12.7162\n",
      "Epoch 39/100\n",
      "4/4 [==============================] - 0s 4ms/step - loss: 65.7035 - mae: 14.8037\n",
      "Epoch 40/100\n",
      "4/4 [==============================] - 0s 4ms/step - loss: 65.7662 - mae: 12.0989\n",
      "Epoch 41/100\n",
      "4/4 [==============================] - 0s 4ms/step - loss: 65.7278 - mae: 9.2103\n",
      "Epoch 42/100\n",
      "4/4 [==============================] - 0s 4ms/step - loss: 65.7100 - mae: 9.1592\n",
      "Epoch 43/100\n",
      "4/4 [==============================] - 0s 4ms/step - loss: 65.7168 - mae: 9.6082\n",
      "Epoch 44/100\n",
      "4/4 [==============================] - 0s 3ms/step - loss: 65.6072 - mae: 12.0374\n",
      "Epoch 45/100\n",
      "4/4 [==============================] - 0s 3ms/step - loss: 65.5714 - mae: 14.3788\n",
      "Epoch 46/100\n",
      "4/4 [==============================] - 0s 4ms/step - loss: 65.5708 - mae: 11.6515\n",
      "Epoch 47/100\n",
      "4/4 [==============================] - 0s 4ms/step - loss: 65.5502 - mae: 10.1286\n",
      "Epoch 48/100\n",
      "4/4 [==============================] - 0s 3ms/step - loss: 65.5649 - mae: 10.8887\n",
      "Epoch 49/100\n",
      "4/4 [==============================] - 0s 3ms/step - loss: 65.5299 - mae: 10.7987\n",
      "Epoch 50/100\n",
      "4/4 [==============================] - 0s 5ms/step - loss: 65.5107 - mae: 10.9650\n",
      "Epoch 51/100\n",
      "4/4 [==============================] - 0s 5ms/step - loss: 65.4718 - mae: 12.2155\n",
      "Epoch 52/100\n",
      "4/4 [==============================] - 0s 5ms/step - loss: 65.4391 - mae: 11.9821\n",
      "Epoch 53/100\n",
      "4/4 [==============================] - 0s 5ms/step - loss: 65.4224 - mae: 11.6797\n",
      "Epoch 54/100\n",
      "4/4 [==============================] - 0s 5ms/step - loss: 65.3935 - mae: 11.9334\n",
      "Epoch 55/100\n",
      "4/4 [==============================] - 0s 5ms/step - loss: 65.3655 - mae: 9.7583\n",
      "Epoch 56/100\n",
      "4/4 [==============================] - 0s 5ms/step - loss: 65.3475 - mae: 10.8838\n",
      "Epoch 57/100\n",
      "4/4 [==============================] - 0s 4ms/step - loss: 65.3276 - mae: 10.5817\n",
      "Epoch 58/100\n",
      "4/4 [==============================] - 0s 6ms/step - loss: 65.2967 - mae: 12.6649\n",
      "Epoch 59/100\n",
      "4/4 [==============================] - 0s 5ms/step - loss: 65.2571 - mae: 10.8603\n",
      "Epoch 60/100\n",
      "4/4 [==============================] - 0s 5ms/step - loss: 65.2266 - mae: 10.6113\n",
      "Epoch 61/100\n",
      "4/4 [==============================] - 0s 5ms/step - loss: 65.1405 - mae: 12.1414\n",
      "Epoch 62/100\n",
      "4/4 [==============================] - 0s 5ms/step - loss: 65.0772 - mae: 13.5972\n",
      "Epoch 63/100\n",
      "4/4 [==============================] - 0s 5ms/step - loss: 65.0635 - mae: 13.9678\n",
      "Epoch 64/100\n",
      "4/4 [==============================] - 0s 5ms/step - loss: 65.1552 - mae: 9.0512\n",
      "Epoch 65/100\n",
      "4/4 [==============================] - 0s 6ms/step - loss: 65.0882 - mae: 8.2536\n",
      "Epoch 66/100\n",
      "4/4 [==============================] - 0s 6ms/step - loss: 65.0066 - mae: 10.6014\n",
      "Epoch 67/100\n",
      "4/4 [==============================] - 0s 6ms/step - loss: 64.8887 - mae: 11.8048\n",
      "Epoch 68/100\n",
      "4/4 [==============================] - 0s 5ms/step - loss: 64.8614 - mae: 12.3992\n",
      "Epoch 69/100\n",
      "4/4 [==============================] - 0s 6ms/step - loss: 64.9355 - mae: 10.3114\n",
      "Epoch 70/100\n",
      "4/4 [==============================] - 0s 6ms/step - loss: 64.8948 - mae: 8.9162\n",
      "Epoch 71/100\n",
      "4/4 [==============================] - 0s 6ms/step - loss: 64.7722 - mae: 9.7861\n",
      "Epoch 72/100\n",
      "4/4 [==============================] - 0s 4ms/step - loss: 64.7295 - mae: 10.1482\n",
      "Epoch 73/100\n",
      "4/4 [==============================] - 0s 4ms/step - loss: 64.6214 - mae: 12.6371\n",
      "Epoch 74/100\n",
      "4/4 [==============================] - 0s 4ms/step - loss: 64.4659 - mae: 9.4799\n",
      "Epoch 75/100\n",
      "4/4 [==============================] - 0s 4ms/step - loss: 64.5677 - mae: 9.8505\n",
      "Epoch 76/100\n",
      "4/4 [==============================] - 0s 4ms/step - loss: 64.4314 - mae: 11.3542\n",
      "Epoch 77/100\n",
      "4/4 [==============================] - 0s 4ms/step - loss: 64.2345 - mae: 12.3184\n",
      "Epoch 78/100\n",
      "4/4 [==============================] - 0s 4ms/step - loss: 64.2252 - mae: 13.2819\n",
      "Epoch 79/100\n",
      "4/4 [==============================] - 0s 4ms/step - loss: 64.2154 - mae: 11.6598\n",
      "Epoch 80/100\n",
      "4/4 [==============================] - 0s 4ms/step - loss: 64.2296 - mae: 7.6923\n",
      "Epoch 81/100\n",
      "4/4 [==============================] - 0s 4ms/step - loss: 64.0988 - mae: 10.0578\n",
      "Epoch 82/100\n",
      "4/4 [==============================] - 0s 4ms/step - loss: 63.7403 - mae: 14.7191\n",
      "Epoch 83/100\n",
      "4/4 [==============================] - 0s 4ms/step - loss: 63.6846 - mae: 11.4519\n",
      "Epoch 84/100\n",
      "4/4 [==============================] - 0s 5ms/step - loss: 63.5336 - mae: 14.2811\n",
      "Epoch 85/100\n",
      "4/4 [==============================] - 0s 4ms/step - loss: 63.5287 - mae: 12.6905\n",
      "Epoch 86/100\n",
      "4/4 [==============================] - 0s 4ms/step - loss: 63.6672 - mae: 5.0864\n",
      "Epoch 87/100\n"
     ]
    },
    {
     "name": "stdout",
     "output_type": "stream",
     "text": [
      "4/4 [==============================] - 0s 3ms/step - loss: 63.1743 - mae: 11.2695\n",
      "Epoch 88/100\n",
      "4/4 [==============================] - 0s 4ms/step - loss: 63.0548 - mae: 16.1318\n",
      "Epoch 89/100\n",
      "4/4 [==============================] - 0s 4ms/step - loss: 63.0354 - mae: 11.0005\n",
      "Epoch 90/100\n",
      "4/4 [==============================] - 0s 4ms/step - loss: 63.3530 - mae: 7.6289\n",
      "Epoch 91/100\n",
      "4/4 [==============================] - 0s 4ms/step - loss: 62.6512 - mae: 16.7760\n",
      "Epoch 92/100\n",
      "4/4 [==============================] - 0s 2ms/step - loss: 62.6539 - mae: 11.5689\n",
      "Epoch 93/100\n",
      "4/4 [==============================] - 0s 3ms/step - loss: 62.9611 - mae: 9.2222\n",
      "Epoch 94/100\n",
      "4/4 [==============================] - 0s 3ms/step - loss: 62.7434 - mae: 9.1693\n",
      "Epoch 95/100\n",
      "4/4 [==============================] - 0s 3ms/step - loss: 62.6921 - mae: 13.3577\n",
      "Epoch 96/100\n",
      "4/4 [==============================] - 0s 3ms/step - loss: 62.4087 - mae: 14.8005\n",
      "Epoch 97/100\n",
      "4/4 [==============================] - 0s 3ms/step - loss: 62.3847 - mae: 7.3519\n",
      "Epoch 98/100\n",
      "4/4 [==============================] - 0s 3ms/step - loss: 61.5829 - mae: 12.6423\n",
      "Epoch 99/100\n",
      "4/4 [==============================] - 0s 4ms/step - loss: 61.0886 - mae: 13.3012\n",
      "Epoch 100/100\n",
      "4/4 [==============================] - 0s 3ms/step - loss: 61.5730 - mae: 9.6862\n"
     ]
    },
    {
     "data": {
      "text/plain": [
       "<keras.callbacks.History at 0x1acb1856f98>"
      ]
     },
     "execution_count": 67,
     "metadata": {},
     "output_type": "execute_result"
    },
    {
     "data": {
      "text/plain": [
       "[<keras.metrics.Mean at 0x1acaf30e0f0>,\n",
       " <keras.metrics.MeanAbsoluteError at 0x1acaf30e0b8>]"
      ]
     },
     "execution_count": 67,
     "metadata": {},
     "output_type": "execute_result"
    }
   ],
   "source": [
    "low = 0\n",
    "high = 100\n",
    "xtrain = [[i,i*2] for i in range(low,high)]\n",
    "xtrain_ab = [[i,i*3] for i in range(3,5)]\n",
    "xtrain=xtrain+xtrain_ab\n",
    "#xtrain\n",
    "ytrain = [(lambda x: x*2 - x)(i) for i in range(low,high)]\n",
    "ytrainclass = [0 if (xtrain[i][1]-xtrain[i][0]==xtrain[i][0]) else 1 for i in range(low,len(xtrain))]\n",
    "\n",
    "import random\n",
    "c = list(zip(xtrain, ytrainclass, ytrain))\n",
    "\n",
    "random.shuffle(c)\n",
    "\n",
    "xtrain, ytrainclass, ytrain = zip(*c)\n",
    "#xtrain[:5]\n",
    "#ytrain[:5]\n",
    "#ytrainclass\n",
    "\n",
    "\n",
    "class Encoder(keras.layers.Layer):\n",
    "    def __init__(self):\n",
    "        super(Encoder, self).__init__()\n",
    "        self.layer1 = keras.layers.Dense(units=32, activation='relu',name=\"layer1\")\n",
    "        self.layer2 = keras.layers.Dense(units=32, activation='relu')\n",
    "        self.layer3 = keras.layers.Dense(units=8, activation='relu')\n",
    "        \n",
    "    def call(self, inputs):\n",
    "        x = self.layer1(inputs)\n",
    "        x = self.layer2(x)\n",
    "        x = self.layer3(x)\n",
    "        return x\n",
    "    \n",
    "class Decoder(keras.layers.Layer):\n",
    "    def __init__(self):\n",
    "        super(Decoder, self).__init__()\n",
    "        self.layer1 = keras.layers.Dense(units=32, activation='relu')\n",
    "        self.layer2 = keras.layers.Dense(units=32, activation='relu')\n",
    "        self.layer3 = keras.layers.Dense(units=1, activation='linear')\n",
    "        \n",
    "    def call(self, inputs):\n",
    "        #self.layer1 = keras.layers.Dense(units=32, input_shape=((2,)),activation='relu')\n",
    "        x = self.layer1(inputs)\n",
    "        x = self.layer2(x)\n",
    "        x = self.layer3(x)\n",
    "        return x\n",
    "\n",
    "class mean_squared_error_reg(keras.losses.Loss):\n",
    "    \n",
    "    def __init__(self, regularisation=0.0, name=\"custom_mse\"):\n",
    "        super().__init__(name=name)\n",
    "        self.regularisation = regularisation \n",
    "        \n",
    "    def call(self,y_true,y_pred):\n",
    "        return tf.math.reduce_mean(tf.square(float(y_true) - y_pred)) + self.regularisation    \n",
    "    \n",
    "# keras.metric instance to track metrics and loss\n",
    "loss_tracker = keras.metrics.Mean(name=\"loss\")\n",
    "mae_metric = keras.metrics.MeanAbsoluteError(name=\"mae\")\n",
    "    \n",
    "mse = mean_squared_error_reg()\n",
    "    \n",
    "class AE(keras.Model):\n",
    "    def __init__(self):\n",
    "        super(AE, self).__init__()\n",
    "        self.Encoder = Encoder()\n",
    "        self.Decoder = Decoder()\n",
    "        \n",
    "    def call(self, inputs):\n",
    "        x = self.Encoder(inputs)\n",
    "        x = self.Decoder(x)\n",
    "        return x\n",
    "\n",
    "class AE_custom_loss(AE):\n",
    "    def __init__(self):\n",
    "        super(AE_custom_loss, self).__init__()            \n",
    "    \n",
    "    def train_step(self, data):\n",
    "        x, y = data\n",
    "        #tf.print(x)\n",
    "        #print()\n",
    "        loss=0\n",
    "        with tf.GradientTape() as tape:\n",
    "            #forward pass\n",
    "            y_pred = self(x, training = True)\n",
    "            # compute loss \n",
    "            #loss = keras.losses.mean_squared_error(y, y_pred)\n",
    "            loss = mse(y,y_pred)\n",
    "            #print(loss)\n",
    "            #tf.print(y)\n",
    "            #loss = np.mean(np.square(y.numpy() - y_pred), axis=-1)\n",
    "            #loss = tf.math.reduce_mean(tf.square(tf.cast(y,tf.float32) - y_pred))\n",
    "            \n",
    "            #tf.print(y_pred, y)\n",
    "        \n",
    "        #gradients\n",
    "        trainable_vars = self.trainable_variables\n",
    "        gradient = tape.gradient(loss, trainable_vars)\n",
    "        \n",
    "        #update weights\n",
    "        self.optimizer.apply_gradients(zip(gradient, trainable_vars))\n",
    "        \n",
    "        #compute metrics\n",
    "        loss_tracker.update_state(y, y_pred)\n",
    "        mae_metric.update_state(y, y_pred)\n",
    "        \n",
    "        #return {m.name: m.result() for m in self.metrics}\n",
    "        return {\"loss\": loss_tracker.result(), \"mae\": mae_metric.result()}\n",
    "    \n",
    "    @property\n",
    "    def metrics(self):\n",
    "        return [loss_tracker, mae_metric]\n",
    "        \n",
    "    \n",
    "ae = AE_custom_loss()    \n",
    "ae.compile(optimizer='adam')\n",
    "ae.fit(xtrain, ytrain, epochs=100) \n",
    "ae.metrics"
   ]
  },
  {
   "cell_type": "code",
   "execution_count": null,
   "id": "93658cce",
   "metadata": {},
   "outputs": [],
   "source": []
  },
  {
   "cell_type": "code",
   "execution_count": null,
   "id": "5175c017",
   "metadata": {},
   "outputs": [],
   "source": []
  },
  {
   "cell_type": "code",
   "execution_count": 70,
   "id": "20128578",
   "metadata": {},
   "outputs": [
    {
     "data": {
      "text/plain": [
       "array([[0, 0],\n",
       "       [1, 2],\n",
       "       [2, 4],\n",
       "       [3, 6],\n",
       "       [4, 8]])"
      ]
     },
     "execution_count": 70,
     "metadata": {},
     "output_type": "execute_result"
    },
    {
     "data": {
      "text/plain": [
       "array([0, 1, 2, 3, 4])"
      ]
     },
     "execution_count": 70,
     "metadata": {},
     "output_type": "execute_result"
    },
    {
     "name": "stdout",
     "output_type": "stream",
     "text": [
      "\n",
      "Start of epoch 0\n",
      "xtrain:  (5, 2)\n"
     ]
    },
    {
     "data": {
      "text/plain": [
       "<tf.Variable 'UnreadVariable' shape=() dtype=int64, numpy=1>"
      ]
     },
     "execution_count": 70,
     "metadata": {},
     "output_type": "execute_result"
    },
    {
     "data": {
      "text/plain": [
       "<tf.Variable 'UnreadVariable' shape=() dtype=float32, numpy=1.0>"
      ]
     },
     "execution_count": 70,
     "metadata": {},
     "output_type": "execute_result"
    },
    {
     "name": "stdout",
     "output_type": "stream",
     "text": [
      "training loss for for one batch at step 0 : 5.7849\n",
      "seen so far: 5 samples\n",
      "training acc over epoch: 1.962127\n",
      "\n",
      "Start of epoch 1\n",
      "xtrain:  (5, 2)\n"
     ]
    },
    {
     "data": {
      "text/plain": [
       "<tf.Variable 'UnreadVariable' shape=() dtype=int64, numpy=2>"
      ]
     },
     "execution_count": 70,
     "metadata": {},
     "output_type": "execute_result"
    },
    {
     "data": {
      "text/plain": [
       "<tf.Variable 'UnreadVariable' shape=() dtype=float32, numpy=1.0>"
      ]
     },
     "execution_count": 70,
     "metadata": {},
     "output_type": "execute_result"
    },
    {
     "name": "stdout",
     "output_type": "stream",
     "text": [
      "training loss for for one batch at step 0 : 5.4896\n",
      "seen so far: 5 samples\n",
      "training acc over epoch: 1.911183\n",
      "\n",
      "Start of epoch 2\n",
      "xtrain:  (5, 2)\n"
     ]
    },
    {
     "data": {
      "text/plain": [
       "<tf.Variable 'UnreadVariable' shape=() dtype=int64, numpy=3>"
      ]
     },
     "execution_count": 70,
     "metadata": {},
     "output_type": "execute_result"
    },
    {
     "data": {
      "text/plain": [
       "<tf.Variable 'UnreadVariable' shape=() dtype=float32, numpy=1.0>"
      ]
     },
     "execution_count": 70,
     "metadata": {},
     "output_type": "execute_result"
    },
    {
     "name": "stdout",
     "output_type": "stream",
     "text": [
      "training loss for for one batch at step 0 : 5.2417\n",
      "seen so far: 5 samples\n",
      "training acc over epoch: 1.867259\n",
      "\n",
      "Start of epoch 3\n",
      "xtrain:  (5, 2)\n"
     ]
    },
    {
     "data": {
      "text/plain": [
       "<tf.Variable 'UnreadVariable' shape=() dtype=int64, numpy=4>"
      ]
     },
     "execution_count": 70,
     "metadata": {},
     "output_type": "execute_result"
    },
    {
     "data": {
      "text/plain": [
       "<tf.Variable 'UnreadVariable' shape=() dtype=float32, numpy=1.0>"
      ]
     },
     "execution_count": 70,
     "metadata": {},
     "output_type": "execute_result"
    },
    {
     "name": "stdout",
     "output_type": "stream",
     "text": [
      "training loss for for one batch at step 0 : 4.9967\n",
      "seen so far: 5 samples\n",
      "training acc over epoch: 1.822674\n",
      "\n",
      "Start of epoch 4\n",
      "xtrain:  (5, 2)\n"
     ]
    },
    {
     "data": {
      "text/plain": [
       "<tf.Variable 'UnreadVariable' shape=() dtype=int64, numpy=5>"
      ]
     },
     "execution_count": 70,
     "metadata": {},
     "output_type": "execute_result"
    },
    {
     "data": {
      "text/plain": [
       "<tf.Variable 'UnreadVariable' shape=() dtype=float32, numpy=1.0>"
      ]
     },
     "execution_count": 70,
     "metadata": {},
     "output_type": "execute_result"
    },
    {
     "name": "stdout",
     "output_type": "stream",
     "text": [
      "training loss for for one batch at step 0 : 4.7444\n",
      "seen so far: 5 samples\n",
      "training acc over epoch: 1.775973\n",
      "\n",
      "Start of epoch 5\n",
      "xtrain:  (5, 2)\n"
     ]
    },
    {
     "data": {
      "text/plain": [
       "<tf.Variable 'UnreadVariable' shape=() dtype=int64, numpy=6>"
      ]
     },
     "execution_count": 70,
     "metadata": {},
     "output_type": "execute_result"
    },
    {
     "data": {
      "text/plain": [
       "<tf.Variable 'UnreadVariable' shape=() dtype=float32, numpy=1.0>"
      ]
     },
     "execution_count": 70,
     "metadata": {},
     "output_type": "execute_result"
    },
    {
     "name": "stdout",
     "output_type": "stream",
     "text": [
      "training loss for for one batch at step 0 : 4.5184\n",
      "seen so far: 5 samples\n",
      "training acc over epoch: 1.733304\n",
      "\n",
      "Start of epoch 6\n",
      "xtrain:  (5, 2)\n"
     ]
    },
    {
     "data": {
      "text/plain": [
       "<tf.Variable 'UnreadVariable' shape=() dtype=int64, numpy=7>"
      ]
     },
     "execution_count": 70,
     "metadata": {},
     "output_type": "execute_result"
    },
    {
     "data": {
      "text/plain": [
       "<tf.Variable 'UnreadVariable' shape=() dtype=float32, numpy=1.0>"
      ]
     },
     "execution_count": 70,
     "metadata": {},
     "output_type": "execute_result"
    },
    {
     "name": "stdout",
     "output_type": "stream",
     "text": [
      "training loss for for one batch at step 0 : 4.2884\n",
      "seen so far: 5 samples\n",
      "training acc over epoch: 1.688366\n",
      "\n",
      "Start of epoch 7\n",
      "xtrain:  (5, 2)\n"
     ]
    },
    {
     "data": {
      "text/plain": [
       "<tf.Variable 'UnreadVariable' shape=() dtype=int64, numpy=8>"
      ]
     },
     "execution_count": 70,
     "metadata": {},
     "output_type": "execute_result"
    },
    {
     "data": {
      "text/plain": [
       "<tf.Variable 'UnreadVariable' shape=() dtype=float32, numpy=1.0>"
      ]
     },
     "execution_count": 70,
     "metadata": {},
     "output_type": "execute_result"
    },
    {
     "name": "stdout",
     "output_type": "stream",
     "text": [
      "training loss for for one batch at step 0 : 4.0489\n",
      "seen so far: 5 samples\n",
      "training acc over epoch: 1.640321\n",
      "\n",
      "Start of epoch 8\n",
      "xtrain:  (5, 2)\n"
     ]
    },
    {
     "data": {
      "text/plain": [
       "<tf.Variable 'UnreadVariable' shape=() dtype=int64, numpy=9>"
      ]
     },
     "execution_count": 70,
     "metadata": {},
     "output_type": "execute_result"
    },
    {
     "data": {
      "text/plain": [
       "<tf.Variable 'UnreadVariable' shape=() dtype=float32, numpy=1.0>"
      ]
     },
     "execution_count": 70,
     "metadata": {},
     "output_type": "execute_result"
    },
    {
     "name": "stdout",
     "output_type": "stream",
     "text": [
      "training loss for for one batch at step 0 : 3.8013\n",
      "seen so far: 5 samples\n",
      "training acc over epoch: 1.589387\n",
      "\n",
      "Start of epoch 9\n",
      "xtrain:  (5, 2)\n"
     ]
    },
    {
     "data": {
      "text/plain": [
       "<tf.Variable 'UnreadVariable' shape=() dtype=int64, numpy=10>"
      ]
     },
     "execution_count": 70,
     "metadata": {},
     "output_type": "execute_result"
    },
    {
     "data": {
      "text/plain": [
       "<tf.Variable 'UnreadVariable' shape=() dtype=float32, numpy=1.0>"
      ]
     },
     "execution_count": 70,
     "metadata": {},
     "output_type": "execute_result"
    },
    {
     "name": "stdout",
     "output_type": "stream",
     "text": [
      "training loss for for one batch at step 0 : 3.5536\n",
      "seen so far: 5 samples\n",
      "training acc over epoch: 1.537146\n",
      "\n",
      "Start of epoch 10\n",
      "xtrain:  (5, 2)\n"
     ]
    },
    {
     "data": {
      "text/plain": [
       "<tf.Variable 'UnreadVariable' shape=() dtype=int64, numpy=11>"
      ]
     },
     "execution_count": 70,
     "metadata": {},
     "output_type": "execute_result"
    },
    {
     "data": {
      "text/plain": [
       "<tf.Variable 'UnreadVariable' shape=() dtype=float32, numpy=1.0>"
      ]
     },
     "execution_count": 70,
     "metadata": {},
     "output_type": "execute_result"
    },
    {
     "name": "stdout",
     "output_type": "stream",
     "text": [
      "training loss for for one batch at step 0 : 3.3137\n",
      "seen so far: 5 samples\n",
      "training acc over epoch: 1.484294\n",
      "\n",
      "Start of epoch 11\n",
      "xtrain:  (5, 2)\n"
     ]
    },
    {
     "data": {
      "text/plain": [
       "<tf.Variable 'UnreadVariable' shape=() dtype=int64, numpy=12>"
      ]
     },
     "execution_count": 70,
     "metadata": {},
     "output_type": "execute_result"
    },
    {
     "data": {
      "text/plain": [
       "<tf.Variable 'UnreadVariable' shape=() dtype=float32, numpy=1.0>"
      ]
     },
     "execution_count": 70,
     "metadata": {},
     "output_type": "execute_result"
    },
    {
     "name": "stdout",
     "output_type": "stream",
     "text": [
      "training loss for for one batch at step 0 : 3.0656\n",
      "seen so far: 5 samples\n",
      "training acc over epoch: 1.427568\n",
      "\n",
      "Start of epoch 12\n",
      "xtrain:  (5, 2)\n"
     ]
    },
    {
     "data": {
      "text/plain": [
       "<tf.Variable 'UnreadVariable' shape=() dtype=int64, numpy=13>"
      ]
     },
     "execution_count": 70,
     "metadata": {},
     "output_type": "execute_result"
    },
    {
     "data": {
      "text/plain": [
       "<tf.Variable 'UnreadVariable' shape=() dtype=float32, numpy=1.0>"
      ]
     },
     "execution_count": 70,
     "metadata": {},
     "output_type": "execute_result"
    },
    {
     "name": "stdout",
     "output_type": "stream",
     "text": [
      "training loss for for one batch at step 0 : 2.8115\n",
      "seen so far: 5 samples\n",
      "training acc over epoch: 1.367029\n",
      "\n",
      "Start of epoch 13\n",
      "xtrain:  (5, 2)\n"
     ]
    },
    {
     "data": {
      "text/plain": [
       "<tf.Variable 'UnreadVariable' shape=() dtype=int64, numpy=14>"
      ]
     },
     "execution_count": 70,
     "metadata": {},
     "output_type": "execute_result"
    },
    {
     "data": {
      "text/plain": [
       "<tf.Variable 'UnreadVariable' shape=() dtype=float32, numpy=1.0>"
      ]
     },
     "execution_count": 70,
     "metadata": {},
     "output_type": "execute_result"
    },
    {
     "name": "stdout",
     "output_type": "stream",
     "text": [
      "training loss for for one batch at step 0 : 2.5535\n",
      "seen so far: 5 samples\n",
      "training acc over epoch: 1.302653\n",
      "\n",
      "Start of epoch 14\n",
      "xtrain:  (5, 2)\n"
     ]
    },
    {
     "data": {
      "text/plain": [
       "<tf.Variable 'UnreadVariable' shape=() dtype=int64, numpy=15>"
      ]
     },
     "execution_count": 70,
     "metadata": {},
     "output_type": "execute_result"
    },
    {
     "data": {
      "text/plain": [
       "<tf.Variable 'UnreadVariable' shape=() dtype=float32, numpy=1.0>"
      ]
     },
     "execution_count": 70,
     "metadata": {},
     "output_type": "execute_result"
    },
    {
     "name": "stdout",
     "output_type": "stream",
     "text": [
      "training loss for for one batch at step 0 : 2.2937\n",
      "seen so far: 5 samples\n",
      "training acc over epoch: 1.234420\n",
      "\n",
      "Start of epoch 15\n",
      "xtrain:  (5, 2)\n"
     ]
    },
    {
     "data": {
      "text/plain": [
       "<tf.Variable 'UnreadVariable' shape=() dtype=int64, numpy=16>"
      ]
     },
     "execution_count": 70,
     "metadata": {},
     "output_type": "execute_result"
    },
    {
     "data": {
      "text/plain": [
       "<tf.Variable 'UnreadVariable' shape=() dtype=float32, numpy=1.0>"
      ]
     },
     "execution_count": 70,
     "metadata": {},
     "output_type": "execute_result"
    },
    {
     "name": "stdout",
     "output_type": "stream",
     "text": [
      "training loss for for one batch at step 0 : 2.0336\n",
      "seen so far: 5 samples\n",
      "training acc over epoch: 1.162135\n",
      "\n",
      "Start of epoch 16\n",
      "xtrain:  (5, 2)\n"
     ]
    },
    {
     "data": {
      "text/plain": [
       "<tf.Variable 'UnreadVariable' shape=() dtype=int64, numpy=17>"
      ]
     },
     "execution_count": 70,
     "metadata": {},
     "output_type": "execute_result"
    },
    {
     "data": {
      "text/plain": [
       "<tf.Variable 'UnreadVariable' shape=() dtype=float32, numpy=1.0>"
      ]
     },
     "execution_count": 70,
     "metadata": {},
     "output_type": "execute_result"
    },
    {
     "name": "stdout",
     "output_type": "stream",
     "text": [
      "training loss for for one batch at step 0 : 1.7720\n",
      "seen so far: 5 samples\n",
      "training acc over epoch: 1.084731\n",
      "\n",
      "Start of epoch 17\n",
      "xtrain:  (5, 2)\n"
     ]
    },
    {
     "data": {
      "text/plain": [
       "<tf.Variable 'UnreadVariable' shape=() dtype=int64, numpy=18>"
      ]
     },
     "execution_count": 70,
     "metadata": {},
     "output_type": "execute_result"
    },
    {
     "data": {
      "text/plain": [
       "<tf.Variable 'UnreadVariable' shape=() dtype=float32, numpy=1.0>"
      ]
     },
     "execution_count": 70,
     "metadata": {},
     "output_type": "execute_result"
    },
    {
     "name": "stdout",
     "output_type": "stream",
     "text": [
      "training loss for for one batch at step 0 : 1.5181\n",
      "seen so far: 5 samples\n",
      "training acc over epoch: 1.004069\n",
      "\n",
      "Start of epoch 18\n",
      "xtrain:  (5, 2)\n"
     ]
    },
    {
     "data": {
      "text/plain": [
       "<tf.Variable 'UnreadVariable' shape=() dtype=int64, numpy=19>"
      ]
     },
     "execution_count": 70,
     "metadata": {},
     "output_type": "execute_result"
    },
    {
     "data": {
      "text/plain": [
       "<tf.Variable 'UnreadVariable' shape=() dtype=float32, numpy=1.0>"
      ]
     },
     "execution_count": 70,
     "metadata": {},
     "output_type": "execute_result"
    },
    {
     "name": "stdout",
     "output_type": "stream",
     "text": [
      "training loss for for one batch at step 0 : 1.2801\n",
      "seen so far: 5 samples\n",
      "training acc over epoch: 0.921489\n",
      "\n",
      "Start of epoch 19\n",
      "xtrain:  (5, 2)\n"
     ]
    },
    {
     "data": {
      "text/plain": [
       "<tf.Variable 'UnreadVariable' shape=() dtype=int64, numpy=20>"
      ]
     },
     "execution_count": 70,
     "metadata": {},
     "output_type": "execute_result"
    },
    {
     "data": {
      "text/plain": [
       "<tf.Variable 'UnreadVariable' shape=() dtype=float32, numpy=1.0>"
      ]
     },
     "execution_count": 70,
     "metadata": {},
     "output_type": "execute_result"
    },
    {
     "name": "stdout",
     "output_type": "stream",
     "text": [
      "training loss for for one batch at step 0 : 1.0536\n",
      "seen so far: 5 samples\n",
      "training acc over epoch: 0.835212\n",
      "\n",
      "Start of epoch 20\n",
      "xtrain:  (5, 2)\n"
     ]
    },
    {
     "data": {
      "text/plain": [
       "<tf.Variable 'UnreadVariable' shape=() dtype=int64, numpy=21>"
      ]
     },
     "execution_count": 70,
     "metadata": {},
     "output_type": "execute_result"
    },
    {
     "data": {
      "text/plain": [
       "<tf.Variable 'UnreadVariable' shape=() dtype=float32, numpy=1.0>"
      ]
     },
     "execution_count": 70,
     "metadata": {},
     "output_type": "execute_result"
    },
    {
     "name": "stdout",
     "output_type": "stream",
     "text": [
      "training loss for for one batch at step 0 : 0.8454\n",
      "seen so far: 5 samples\n",
      "training acc over epoch: 0.747208\n",
      "\n",
      "Start of epoch 21\n",
      "xtrain:  (5, 2)\n"
     ]
    },
    {
     "data": {
      "text/plain": [
       "<tf.Variable 'UnreadVariable' shape=() dtype=int64, numpy=22>"
      ]
     },
     "execution_count": 70,
     "metadata": {},
     "output_type": "execute_result"
    },
    {
     "data": {
      "text/plain": [
       "<tf.Variable 'UnreadVariable' shape=() dtype=float32, numpy=1.0>"
      ]
     },
     "execution_count": 70,
     "metadata": {},
     "output_type": "execute_result"
    },
    {
     "name": "stdout",
     "output_type": "stream",
     "text": [
      "training loss for for one batch at step 0 : 0.6566\n",
      "seen so far: 5 samples\n",
      "training acc over epoch: 0.656851\n",
      "\n",
      "Start of epoch 22\n",
      "xtrain:  (5, 2)\n"
     ]
    },
    {
     "data": {
      "text/plain": [
       "<tf.Variable 'UnreadVariable' shape=() dtype=int64, numpy=23>"
      ]
     },
     "execution_count": 70,
     "metadata": {},
     "output_type": "execute_result"
    },
    {
     "data": {
      "text/plain": [
       "<tf.Variable 'UnreadVariable' shape=() dtype=float32, numpy=1.0>"
      ]
     },
     "execution_count": 70,
     "metadata": {},
     "output_type": "execute_result"
    },
    {
     "name": "stdout",
     "output_type": "stream",
     "text": [
      "training loss for for one batch at step 0 : 0.4871\n",
      "seen so far: 5 samples\n",
      "training acc over epoch: 0.563259\n",
      "\n",
      "Start of epoch 23\n",
      "xtrain:  (5, 2)\n"
     ]
    },
    {
     "data": {
      "text/plain": [
       "<tf.Variable 'UnreadVariable' shape=() dtype=int64, numpy=24>"
      ]
     },
     "execution_count": 70,
     "metadata": {},
     "output_type": "execute_result"
    },
    {
     "data": {
      "text/plain": [
       "<tf.Variable 'UnreadVariable' shape=() dtype=float32, numpy=1.0>"
      ]
     },
     "execution_count": 70,
     "metadata": {},
     "output_type": "execute_result"
    },
    {
     "name": "stdout",
     "output_type": "stream",
     "text": [
      "training loss for for one batch at step 0 : 0.3404\n",
      "seen so far: 5 samples\n",
      "training acc over epoch: 0.466967\n",
      "\n",
      "Start of epoch 24\n",
      "xtrain:  (5, 2)\n"
     ]
    },
    {
     "data": {
      "text/plain": [
       "<tf.Variable 'UnreadVariable' shape=() dtype=int64, numpy=25>"
      ]
     },
     "execution_count": 70,
     "metadata": {},
     "output_type": "execute_result"
    },
    {
     "data": {
      "text/plain": [
       "<tf.Variable 'UnreadVariable' shape=() dtype=float32, numpy=1.0>"
      ]
     },
     "execution_count": 70,
     "metadata": {},
     "output_type": "execute_result"
    },
    {
     "name": "stdout",
     "output_type": "stream",
     "text": [
      "training loss for for one batch at step 0 : 0.2196\n",
      "seen so far: 5 samples\n",
      "training acc over epoch: 0.368761\n",
      "\n",
      "Start of epoch 25\n",
      "xtrain:  (5, 2)\n"
     ]
    },
    {
     "data": {
      "text/plain": [
       "<tf.Variable 'UnreadVariable' shape=() dtype=int64, numpy=26>"
      ]
     },
     "execution_count": 70,
     "metadata": {},
     "output_type": "execute_result"
    },
    {
     "data": {
      "text/plain": [
       "<tf.Variable 'UnreadVariable' shape=() dtype=float32, numpy=1.0>"
      ]
     },
     "execution_count": 70,
     "metadata": {},
     "output_type": "execute_result"
    },
    {
     "name": "stdout",
     "output_type": "stream",
     "text": [
      "training loss for for one batch at step 0 : 0.1273\n",
      "seen so far: 5 samples\n",
      "training acc over epoch: 0.273788\n",
      "\n",
      "Start of epoch 26\n",
      "xtrain:  (5, 2)\n"
     ]
    },
    {
     "data": {
      "text/plain": [
       "<tf.Variable 'UnreadVariable' shape=() dtype=int64, numpy=27>"
      ]
     },
     "execution_count": 70,
     "metadata": {},
     "output_type": "execute_result"
    },
    {
     "data": {
      "text/plain": [
       "<tf.Variable 'UnreadVariable' shape=() dtype=float32, numpy=1.0>"
      ]
     },
     "execution_count": 70,
     "metadata": {},
     "output_type": "execute_result"
    },
    {
     "name": "stdout",
     "output_type": "stream",
     "text": [
      "training loss for for one batch at step 0 : 0.0646\n",
      "seen so far: 5 samples\n",
      "training acc over epoch: 0.197793\n",
      "\n",
      "Start of epoch 27\n",
      "xtrain:  (5, 2)\n"
     ]
    },
    {
     "data": {
      "text/plain": [
       "<tf.Variable 'UnreadVariable' shape=() dtype=int64, numpy=28>"
      ]
     },
     "execution_count": 70,
     "metadata": {},
     "output_type": "execute_result"
    },
    {
     "data": {
      "text/plain": [
       "<tf.Variable 'UnreadVariable' shape=() dtype=float32, numpy=1.0>"
      ]
     },
     "execution_count": 70,
     "metadata": {},
     "output_type": "execute_result"
    },
    {
     "name": "stdout",
     "output_type": "stream",
     "text": [
      "training loss for for one batch at step 0 : 0.0310\n",
      "seen so far: 5 samples\n",
      "training acc over epoch: 0.125743\n",
      "\n",
      "Start of epoch 28\n",
      "xtrain:  (5, 2)\n"
     ]
    },
    {
     "data": {
      "text/plain": [
       "<tf.Variable 'UnreadVariable' shape=() dtype=int64, numpy=29>"
      ]
     },
     "execution_count": 70,
     "metadata": {},
     "output_type": "execute_result"
    },
    {
     "data": {
      "text/plain": [
       "<tf.Variable 'UnreadVariable' shape=() dtype=float32, numpy=1.0>"
      ]
     },
     "execution_count": 70,
     "metadata": {},
     "output_type": "execute_result"
    },
    {
     "name": "stdout",
     "output_type": "stream",
     "text": [
      "training loss for for one batch at step 0 : 0.0247\n",
      "seen so far: 5 samples\n",
      "training acc over epoch: 0.104082\n",
      "\n",
      "Start of epoch 29\n",
      "xtrain:  (5, 2)\n"
     ]
    },
    {
     "data": {
      "text/plain": [
       "<tf.Variable 'UnreadVariable' shape=() dtype=int64, numpy=30>"
      ]
     },
     "execution_count": 70,
     "metadata": {},
     "output_type": "execute_result"
    },
    {
     "data": {
      "text/plain": [
       "<tf.Variable 'UnreadVariable' shape=() dtype=float32, numpy=1.0>"
      ]
     },
     "execution_count": 70,
     "metadata": {},
     "output_type": "execute_result"
    },
    {
     "name": "stdout",
     "output_type": "stream",
     "text": [
      "training loss for for one batch at step 0 : 0.0404\n",
      "seen so far: 5 samples\n",
      "training acc over epoch: 0.172189\n",
      "\n",
      "Start of epoch 30\n",
      "xtrain:  (5, 2)\n"
     ]
    },
    {
     "data": {
      "text/plain": [
       "<tf.Variable 'UnreadVariable' shape=() dtype=int64, numpy=31>"
      ]
     },
     "execution_count": 70,
     "metadata": {},
     "output_type": "execute_result"
    },
    {
     "data": {
      "text/plain": [
       "<tf.Variable 'UnreadVariable' shape=() dtype=float32, numpy=1.0>"
      ]
     },
     "execution_count": 70,
     "metadata": {},
     "output_type": "execute_result"
    },
    {
     "name": "stdout",
     "output_type": "stream",
     "text": [
      "training loss for for one batch at step 0 : 0.0699\n",
      "seen so far: 5 samples\n",
      "training acc over epoch: 0.243112\n",
      "\n",
      "Start of epoch 31\n",
      "xtrain:  (5, 2)\n"
     ]
    },
    {
     "data": {
      "text/plain": [
       "<tf.Variable 'UnreadVariable' shape=() dtype=int64, numpy=32>"
      ]
     },
     "execution_count": 70,
     "metadata": {},
     "output_type": "execute_result"
    },
    {
     "data": {
      "text/plain": [
       "<tf.Variable 'UnreadVariable' shape=() dtype=float32, numpy=1.0>"
      ]
     },
     "execution_count": 70,
     "metadata": {},
     "output_type": "execute_result"
    },
    {
     "name": "stdout",
     "output_type": "stream",
     "text": [
      "training loss for for one batch at step 0 : 0.1048\n",
      "seen so far: 5 samples\n",
      "training acc over epoch: 0.300965\n",
      "\n",
      "Start of epoch 32\n",
      "xtrain:  (5, 2)\n"
     ]
    },
    {
     "data": {
      "text/plain": [
       "<tf.Variable 'UnreadVariable' shape=() dtype=int64, numpy=33>"
      ]
     },
     "execution_count": 70,
     "metadata": {},
     "output_type": "execute_result"
    },
    {
     "data": {
      "text/plain": [
       "<tf.Variable 'UnreadVariable' shape=() dtype=float32, numpy=1.0>"
      ]
     },
     "execution_count": 70,
     "metadata": {},
     "output_type": "execute_result"
    },
    {
     "name": "stdout",
     "output_type": "stream",
     "text": [
      "training loss for for one batch at step 0 : 0.1368\n",
      "seen so far: 5 samples\n",
      "training acc over epoch: 0.343231\n",
      "\n",
      "Start of epoch 33\n",
      "xtrain:  (5, 2)\n"
     ]
    },
    {
     "data": {
      "text/plain": [
       "<tf.Variable 'UnreadVariable' shape=() dtype=int64, numpy=34>"
      ]
     },
     "execution_count": 70,
     "metadata": {},
     "output_type": "execute_result"
    },
    {
     "data": {
      "text/plain": [
       "<tf.Variable 'UnreadVariable' shape=() dtype=float32, numpy=1.0>"
      ]
     },
     "execution_count": 70,
     "metadata": {},
     "output_type": "execute_result"
    },
    {
     "name": "stdout",
     "output_type": "stream",
     "text": [
      "training loss for for one batch at step 0 : 0.1588\n",
      "seen so far: 5 samples\n",
      "training acc over epoch: 0.368757\n",
      "\n",
      "Start of epoch 34\n",
      "xtrain:  (5, 2)\n"
     ]
    },
    {
     "data": {
      "text/plain": [
       "<tf.Variable 'UnreadVariable' shape=() dtype=int64, numpy=35>"
      ]
     },
     "execution_count": 70,
     "metadata": {},
     "output_type": "execute_result"
    },
    {
     "data": {
      "text/plain": [
       "<tf.Variable 'UnreadVariable' shape=() dtype=float32, numpy=1.0>"
      ]
     },
     "execution_count": 70,
     "metadata": {},
     "output_type": "execute_result"
    },
    {
     "name": "stdout",
     "output_type": "stream",
     "text": [
      "training loss for for one batch at step 0 : 0.1680\n",
      "seen so far: 5 samples\n",
      "training acc over epoch: 0.378538\n",
      "\n",
      "Start of epoch 35\n",
      "xtrain:  (5, 2)\n"
     ]
    },
    {
     "data": {
      "text/plain": [
       "<tf.Variable 'UnreadVariable' shape=() dtype=int64, numpy=36>"
      ]
     },
     "execution_count": 70,
     "metadata": {},
     "output_type": "execute_result"
    },
    {
     "data": {
      "text/plain": [
       "<tf.Variable 'UnreadVariable' shape=() dtype=float32, numpy=1.0>"
      ]
     },
     "execution_count": 70,
     "metadata": {},
     "output_type": "execute_result"
    },
    {
     "name": "stdout",
     "output_type": "stream",
     "text": [
      "training loss for for one batch at step 0 : 0.1643\n",
      "seen so far: 5 samples\n",
      "training acc over epoch: 0.373929\n",
      "\n",
      "Start of epoch 36\n",
      "xtrain:  (5, 2)\n"
     ]
    },
    {
     "data": {
      "text/plain": [
       "<tf.Variable 'UnreadVariable' shape=() dtype=int64, numpy=37>"
      ]
     },
     "execution_count": 70,
     "metadata": {},
     "output_type": "execute_result"
    },
    {
     "data": {
      "text/plain": [
       "<tf.Variable 'UnreadVariable' shape=() dtype=float32, numpy=1.0>"
      ]
     },
     "execution_count": 70,
     "metadata": {},
     "output_type": "execute_result"
    },
    {
     "name": "stdout",
     "output_type": "stream",
     "text": [
      "training loss for for one batch at step 0 : 0.1495\n",
      "seen so far: 5 samples\n",
      "training acc over epoch: 0.356515\n",
      "\n",
      "Start of epoch 37\n",
      "xtrain:  (5, 2)\n"
     ]
    },
    {
     "data": {
      "text/plain": [
       "<tf.Variable 'UnreadVariable' shape=() dtype=int64, numpy=38>"
      ]
     },
     "execution_count": 70,
     "metadata": {},
     "output_type": "execute_result"
    },
    {
     "data": {
      "text/plain": [
       "<tf.Variable 'UnreadVariable' shape=() dtype=float32, numpy=1.0>"
      ]
     },
     "execution_count": 70,
     "metadata": {},
     "output_type": "execute_result"
    },
    {
     "name": "stdout",
     "output_type": "stream",
     "text": [
      "training loss for for one batch at step 0 : 0.1270\n",
      "seen so far: 5 samples\n",
      "training acc over epoch: 0.328306\n",
      "\n",
      "Start of epoch 38\n",
      "xtrain:  (5, 2)\n"
     ]
    },
    {
     "data": {
      "text/plain": [
       "<tf.Variable 'UnreadVariable' shape=() dtype=int64, numpy=39>"
      ]
     },
     "execution_count": 70,
     "metadata": {},
     "output_type": "execute_result"
    },
    {
     "data": {
      "text/plain": [
       "<tf.Variable 'UnreadVariable' shape=() dtype=float32, numpy=1.0>"
      ]
     },
     "execution_count": 70,
     "metadata": {},
     "output_type": "execute_result"
    },
    {
     "name": "stdout",
     "output_type": "stream",
     "text": [
      "training loss for for one batch at step 0 : 0.1006\n",
      "seen so far: 5 samples\n",
      "training acc over epoch: 0.291553\n",
      "\n",
      "Start of epoch 39\n",
      "xtrain:  (5, 2)\n"
     ]
    },
    {
     "data": {
      "text/plain": [
       "<tf.Variable 'UnreadVariable' shape=() dtype=int64, numpy=40>"
      ]
     },
     "execution_count": 70,
     "metadata": {},
     "output_type": "execute_result"
    },
    {
     "data": {
      "text/plain": [
       "<tf.Variable 'UnreadVariable' shape=() dtype=float32, numpy=1.0>"
      ]
     },
     "execution_count": 70,
     "metadata": {},
     "output_type": "execute_result"
    },
    {
     "name": "stdout",
     "output_type": "stream",
     "text": [
      "training loss for for one batch at step 0 : 0.0744\n",
      "seen so far: 5 samples\n",
      "training acc over epoch: 0.248599\n",
      "\n",
      "Start of epoch 40\n",
      "xtrain:  (5, 2)\n"
     ]
    },
    {
     "data": {
      "text/plain": [
       "<tf.Variable 'UnreadVariable' shape=() dtype=int64, numpy=41>"
      ]
     },
     "execution_count": 70,
     "metadata": {},
     "output_type": "execute_result"
    },
    {
     "data": {
      "text/plain": [
       "<tf.Variable 'UnreadVariable' shape=() dtype=float32, numpy=1.0>"
      ]
     },
     "execution_count": 70,
     "metadata": {},
     "output_type": "execute_result"
    },
    {
     "name": "stdout",
     "output_type": "stream",
     "text": [
      "training loss for for one batch at step 0 : 0.0515\n",
      "seen so far: 5 samples\n",
      "training acc over epoch: 0.201691\n",
      "\n",
      "Start of epoch 41\n",
      "xtrain:  (5, 2)\n"
     ]
    },
    {
     "data": {
      "text/plain": [
       "<tf.Variable 'UnreadVariable' shape=() dtype=int64, numpy=42>"
      ]
     },
     "execution_count": 70,
     "metadata": {},
     "output_type": "execute_result"
    },
    {
     "data": {
      "text/plain": [
       "<tf.Variable 'UnreadVariable' shape=() dtype=float32, numpy=1.0>"
      ]
     },
     "execution_count": 70,
     "metadata": {},
     "output_type": "execute_result"
    },
    {
     "name": "stdout",
     "output_type": "stream",
     "text": [
      "training loss for for one batch at step 0 : 0.0340\n",
      "seen so far: 5 samples\n",
      "training acc over epoch: 0.153086\n",
      "\n",
      "Start of epoch 42\n",
      "xtrain:  (5, 2)\n"
     ]
    },
    {
     "data": {
      "text/plain": [
       "<tf.Variable 'UnreadVariable' shape=() dtype=int64, numpy=43>"
      ]
     },
     "execution_count": 70,
     "metadata": {},
     "output_type": "execute_result"
    },
    {
     "data": {
      "text/plain": [
       "<tf.Variable 'UnreadVariable' shape=() dtype=float32, numpy=1.0>"
      ]
     },
     "execution_count": 70,
     "metadata": {},
     "output_type": "execute_result"
    },
    {
     "name": "stdout",
     "output_type": "stream",
     "text": [
      "training loss for for one batch at step 0 : 0.0229\n",
      "seen so far: 5 samples\n",
      "training acc over epoch: 0.104851\n",
      "\n",
      "Start of epoch 43\n",
      "xtrain:  (5, 2)\n"
     ]
    },
    {
     "data": {
      "text/plain": [
       "<tf.Variable 'UnreadVariable' shape=() dtype=int64, numpy=44>"
      ]
     },
     "execution_count": 70,
     "metadata": {},
     "output_type": "execute_result"
    },
    {
     "data": {
      "text/plain": [
       "<tf.Variable 'UnreadVariable' shape=() dtype=float32, numpy=1.0>"
      ]
     },
     "execution_count": 70,
     "metadata": {},
     "output_type": "execute_result"
    },
    {
     "name": "stdout",
     "output_type": "stream",
     "text": [
      "training loss for for one batch at step 0 : 0.0181\n",
      "seen so far: 5 samples\n",
      "training acc over epoch: 0.078163\n",
      "\n",
      "Start of epoch 44\n",
      "xtrain:  (5, 2)\n"
     ]
    },
    {
     "data": {
      "text/plain": [
       "<tf.Variable 'UnreadVariable' shape=() dtype=int64, numpy=45>"
      ]
     },
     "execution_count": 70,
     "metadata": {},
     "output_type": "execute_result"
    },
    {
     "data": {
      "text/plain": [
       "<tf.Variable 'UnreadVariable' shape=() dtype=float32, numpy=1.0>"
      ]
     },
     "execution_count": 70,
     "metadata": {},
     "output_type": "execute_result"
    },
    {
     "name": "stdout",
     "output_type": "stream",
     "text": [
      "training loss for for one batch at step 0 : 0.0187\n",
      "seen so far: 5 samples\n",
      "training acc over epoch: 0.085244\n",
      "\n",
      "Start of epoch 45\n",
      "xtrain:  (5, 2)\n"
     ]
    },
    {
     "data": {
      "text/plain": [
       "<tf.Variable 'UnreadVariable' shape=() dtype=int64, numpy=46>"
      ]
     },
     "execution_count": 70,
     "metadata": {},
     "output_type": "execute_result"
    },
    {
     "data": {
      "text/plain": [
       "<tf.Variable 'UnreadVariable' shape=() dtype=float32, numpy=1.0>"
      ]
     },
     "execution_count": 70,
     "metadata": {},
     "output_type": "execute_result"
    },
    {
     "name": "stdout",
     "output_type": "stream",
     "text": [
      "training loss for for one batch at step 0 : 0.0231\n",
      "seen so far: 5 samples\n",
      "training acc over epoch: 0.096781\n",
      "\n",
      "Start of epoch 46\n",
      "xtrain:  (5, 2)\n"
     ]
    },
    {
     "data": {
      "text/plain": [
       "<tf.Variable 'UnreadVariable' shape=() dtype=int64, numpy=47>"
      ]
     },
     "execution_count": 70,
     "metadata": {},
     "output_type": "execute_result"
    },
    {
     "data": {
      "text/plain": [
       "<tf.Variable 'UnreadVariable' shape=() dtype=float32, numpy=1.0>"
      ]
     },
     "execution_count": 70,
     "metadata": {},
     "output_type": "execute_result"
    },
    {
     "name": "stdout",
     "output_type": "stream",
     "text": [
      "training loss for for one batch at step 0 : 0.0294\n",
      "seen so far: 5 samples\n",
      "training acc over epoch: 0.117566\n",
      "\n",
      "Start of epoch 47\n",
      "xtrain:  (5, 2)\n"
     ]
    },
    {
     "data": {
      "text/plain": [
       "<tf.Variable 'UnreadVariable' shape=() dtype=int64, numpy=48>"
      ]
     },
     "execution_count": 70,
     "metadata": {},
     "output_type": "execute_result"
    },
    {
     "data": {
      "text/plain": [
       "<tf.Variable 'UnreadVariable' shape=() dtype=float32, numpy=1.0>"
      ]
     },
     "execution_count": 70,
     "metadata": {},
     "output_type": "execute_result"
    },
    {
     "name": "stdout",
     "output_type": "stream",
     "text": [
      "training loss for for one batch at step 0 : 0.0360\n",
      "seen so far: 5 samples\n",
      "training acc over epoch: 0.133431\n",
      "\n",
      "Start of epoch 48\n",
      "xtrain:  (5, 2)\n"
     ]
    },
    {
     "data": {
      "text/plain": [
       "<tf.Variable 'UnreadVariable' shape=() dtype=int64, numpy=49>"
      ]
     },
     "execution_count": 70,
     "metadata": {},
     "output_type": "execute_result"
    },
    {
     "data": {
      "text/plain": [
       "<tf.Variable 'UnreadVariable' shape=() dtype=float32, numpy=1.0>"
      ]
     },
     "execution_count": 70,
     "metadata": {},
     "output_type": "execute_result"
    },
    {
     "name": "stdout",
     "output_type": "stream",
     "text": [
      "training loss for for one batch at step 0 : 0.0414\n",
      "seen so far: 5 samples\n",
      "training acc over epoch: 0.144123\n",
      "\n",
      "Start of epoch 49\n",
      "xtrain:  (5, 2)\n"
     ]
    },
    {
     "data": {
      "text/plain": [
       "<tf.Variable 'UnreadVariable' shape=() dtype=int64, numpy=50>"
      ]
     },
     "execution_count": 70,
     "metadata": {},
     "output_type": "execute_result"
    },
    {
     "data": {
      "text/plain": [
       "<tf.Variable 'UnreadVariable' shape=() dtype=float32, numpy=1.0>"
      ]
     },
     "execution_count": 70,
     "metadata": {},
     "output_type": "execute_result"
    },
    {
     "name": "stdout",
     "output_type": "stream",
     "text": [
      "training loss for for one batch at step 0 : 0.0446\n",
      "seen so far: 5 samples\n",
      "training acc over epoch: 0.149666\n",
      "\n",
      "Start of epoch 50\n",
      "xtrain:  (5, 2)\n"
     ]
    },
    {
     "data": {
      "text/plain": [
       "<tf.Variable 'UnreadVariable' shape=() dtype=int64, numpy=51>"
      ]
     },
     "execution_count": 70,
     "metadata": {},
     "output_type": "execute_result"
    },
    {
     "data": {
      "text/plain": [
       "<tf.Variable 'UnreadVariable' shape=() dtype=float32, numpy=1.0>"
      ]
     },
     "execution_count": 70,
     "metadata": {},
     "output_type": "execute_result"
    },
    {
     "name": "stdout",
     "output_type": "stream",
     "text": [
      "training loss for for one batch at step 0 : 0.0454\n",
      "seen so far: 5 samples\n",
      "training acc over epoch: 0.150226\n",
      "\n",
      "Start of epoch 51\n",
      "xtrain:  (5, 2)\n"
     ]
    },
    {
     "data": {
      "text/plain": [
       "<tf.Variable 'UnreadVariable' shape=() dtype=int64, numpy=52>"
      ]
     },
     "execution_count": 70,
     "metadata": {},
     "output_type": "execute_result"
    },
    {
     "data": {
      "text/plain": [
       "<tf.Variable 'UnreadVariable' shape=() dtype=float32, numpy=1.0>"
      ]
     },
     "execution_count": 70,
     "metadata": {},
     "output_type": "execute_result"
    },
    {
     "name": "stdout",
     "output_type": "stream",
     "text": [
      "training loss for for one batch at step 0 : 0.0436\n",
      "seen so far: 5 samples\n",
      "training acc over epoch: 0.146222\n",
      "\n",
      "Start of epoch 52\n",
      "xtrain:  (5, 2)\n"
     ]
    },
    {
     "data": {
      "text/plain": [
       "<tf.Variable 'UnreadVariable' shape=() dtype=int64, numpy=53>"
      ]
     },
     "execution_count": 70,
     "metadata": {},
     "output_type": "execute_result"
    },
    {
     "data": {
      "text/plain": [
       "<tf.Variable 'UnreadVariable' shape=() dtype=float32, numpy=1.0>"
      ]
     },
     "execution_count": 70,
     "metadata": {},
     "output_type": "execute_result"
    },
    {
     "name": "stdout",
     "output_type": "stream",
     "text": [
      "training loss for for one batch at step 0 : 0.0399\n",
      "seen so far: 5 samples\n",
      "training acc over epoch: 0.138267\n",
      "\n",
      "Start of epoch 53\n",
      "xtrain:  (5, 2)\n"
     ]
    },
    {
     "data": {
      "text/plain": [
       "<tf.Variable 'UnreadVariable' shape=() dtype=int64, numpy=54>"
      ]
     },
     "execution_count": 70,
     "metadata": {},
     "output_type": "execute_result"
    },
    {
     "data": {
      "text/plain": [
       "<tf.Variable 'UnreadVariable' shape=() dtype=float32, numpy=1.0>"
      ]
     },
     "execution_count": 70,
     "metadata": {},
     "output_type": "execute_result"
    },
    {
     "name": "stdout",
     "output_type": "stream",
     "text": [
      "training loss for for one batch at step 0 : 0.0349\n",
      "seen so far: 5 samples\n",
      "training acc over epoch: 0.126991\n",
      "\n",
      "Start of epoch 54\n",
      "xtrain:  (5, 2)\n"
     ]
    },
    {
     "data": {
      "text/plain": [
       "<tf.Variable 'UnreadVariable' shape=() dtype=int64, numpy=55>"
      ]
     },
     "execution_count": 70,
     "metadata": {},
     "output_type": "execute_result"
    },
    {
     "data": {
      "text/plain": [
       "<tf.Variable 'UnreadVariable' shape=() dtype=float32, numpy=1.0>"
      ]
     },
     "execution_count": 70,
     "metadata": {},
     "output_type": "execute_result"
    },
    {
     "name": "stdout",
     "output_type": "stream",
     "text": [
      "training loss for for one batch at step 0 : 0.0294\n",
      "seen so far: 5 samples\n",
      "training acc over epoch: 0.113035\n",
      "\n",
      "Start of epoch 55\n",
      "xtrain:  (5, 2)\n"
     ]
    },
    {
     "data": {
      "text/plain": [
       "<tf.Variable 'UnreadVariable' shape=() dtype=int64, numpy=56>"
      ]
     },
     "execution_count": 70,
     "metadata": {},
     "output_type": "execute_result"
    },
    {
     "data": {
      "text/plain": [
       "<tf.Variable 'UnreadVariable' shape=() dtype=float32, numpy=1.0>"
      ]
     },
     "execution_count": 70,
     "metadata": {},
     "output_type": "execute_result"
    },
    {
     "name": "stdout",
     "output_type": "stream",
     "text": [
      "training loss for for one batch at step 0 : 0.0242\n",
      "seen so far: 5 samples\n",
      "training acc over epoch: 0.097166\n",
      "\n",
      "Start of epoch 56\n",
      "xtrain:  (5, 2)\n"
     ]
    },
    {
     "data": {
      "text/plain": [
       "<tf.Variable 'UnreadVariable' shape=() dtype=int64, numpy=57>"
      ]
     },
     "execution_count": 70,
     "metadata": {},
     "output_type": "execute_result"
    },
    {
     "data": {
      "text/plain": [
       "<tf.Variable 'UnreadVariable' shape=() dtype=float32, numpy=1.0>"
      ]
     },
     "execution_count": 70,
     "metadata": {},
     "output_type": "execute_result"
    },
    {
     "name": "stdout",
     "output_type": "stream",
     "text": [
      "training loss for for one batch at step 0 : 0.0199\n",
      "seen so far: 5 samples\n",
      "training acc over epoch: 0.080743\n",
      "\n",
      "Start of epoch 57\n",
      "xtrain:  (5, 2)\n"
     ]
    },
    {
     "data": {
      "text/plain": [
       "<tf.Variable 'UnreadVariable' shape=() dtype=int64, numpy=58>"
      ]
     },
     "execution_count": 70,
     "metadata": {},
     "output_type": "execute_result"
    },
    {
     "data": {
      "text/plain": [
       "<tf.Variable 'UnreadVariable' shape=() dtype=float32, numpy=1.0>"
      ]
     },
     "execution_count": 70,
     "metadata": {},
     "output_type": "execute_result"
    },
    {
     "name": "stdout",
     "output_type": "stream",
     "text": [
      "training loss for for one batch at step 0 : 0.0168\n",
      "seen so far: 5 samples\n",
      "training acc over epoch: 0.072133\n",
      "\n",
      "Start of epoch 58\n",
      "xtrain:  (5, 2)\n"
     ]
    },
    {
     "data": {
      "text/plain": [
       "<tf.Variable 'UnreadVariable' shape=() dtype=int64, numpy=59>"
      ]
     },
     "execution_count": 70,
     "metadata": {},
     "output_type": "execute_result"
    },
    {
     "data": {
      "text/plain": [
       "<tf.Variable 'UnreadVariable' shape=() dtype=float32, numpy=1.0>"
      ]
     },
     "execution_count": 70,
     "metadata": {},
     "output_type": "execute_result"
    },
    {
     "name": "stdout",
     "output_type": "stream",
     "text": [
      "training loss for for one batch at step 0 : 0.0151\n",
      "seen so far: 5 samples\n",
      "training acc over epoch: 0.063631\n",
      "\n",
      "Start of epoch 59\n",
      "xtrain:  (5, 2)\n"
     ]
    },
    {
     "data": {
      "text/plain": [
       "<tf.Variable 'UnreadVariable' shape=() dtype=int64, numpy=60>"
      ]
     },
     "execution_count": 70,
     "metadata": {},
     "output_type": "execute_result"
    },
    {
     "data": {
      "text/plain": [
       "<tf.Variable 'UnreadVariable' shape=() dtype=float32, numpy=1.0>"
      ]
     },
     "execution_count": 70,
     "metadata": {},
     "output_type": "execute_result"
    },
    {
     "name": "stdout",
     "output_type": "stream",
     "text": [
      "training loss for for one batch at step 0 : 0.0148\n",
      "seen so far: 5 samples\n",
      "training acc over epoch: 0.058464\n",
      "\n",
      "Start of epoch 60\n",
      "xtrain:  (5, 2)\n"
     ]
    },
    {
     "data": {
      "text/plain": [
       "<tf.Variable 'UnreadVariable' shape=() dtype=int64, numpy=61>"
      ]
     },
     "execution_count": 70,
     "metadata": {},
     "output_type": "execute_result"
    },
    {
     "data": {
      "text/plain": [
       "<tf.Variable 'UnreadVariable' shape=() dtype=float32, numpy=1.0>"
      ]
     },
     "execution_count": 70,
     "metadata": {},
     "output_type": "execute_result"
    },
    {
     "name": "stdout",
     "output_type": "stream",
     "text": [
      "training loss for for one batch at step 0 : 0.0155\n",
      "seen so far: 5 samples\n",
      "training acc over epoch: 0.061752\n",
      "\n",
      "Start of epoch 61\n",
      "xtrain:  (5, 2)\n"
     ]
    },
    {
     "data": {
      "text/plain": [
       "<tf.Variable 'UnreadVariable' shape=() dtype=int64, numpy=62>"
      ]
     },
     "execution_count": 70,
     "metadata": {},
     "output_type": "execute_result"
    },
    {
     "data": {
      "text/plain": [
       "<tf.Variable 'UnreadVariable' shape=() dtype=float32, numpy=1.0>"
      ]
     },
     "execution_count": 70,
     "metadata": {},
     "output_type": "execute_result"
    },
    {
     "name": "stdout",
     "output_type": "stream",
     "text": [
      "training loss for for one batch at step 0 : 0.0168\n",
      "seen so far: 5 samples\n",
      "training acc over epoch: 0.069599\n",
      "\n",
      "Start of epoch 62\n",
      "xtrain:  (5, 2)\n"
     ]
    },
    {
     "data": {
      "text/plain": [
       "<tf.Variable 'UnreadVariable' shape=() dtype=int64, numpy=63>"
      ]
     },
     "execution_count": 70,
     "metadata": {},
     "output_type": "execute_result"
    },
    {
     "data": {
      "text/plain": [
       "<tf.Variable 'UnreadVariable' shape=() dtype=float32, numpy=1.0>"
      ]
     },
     "execution_count": 70,
     "metadata": {},
     "output_type": "execute_result"
    },
    {
     "name": "stdout",
     "output_type": "stream",
     "text": [
      "training loss for for one batch at step 0 : 0.0182\n",
      "seen so far: 5 samples\n",
      "training acc over epoch: 0.080318\n",
      "\n",
      "Start of epoch 63\n",
      "xtrain:  (5, 2)\n"
     ]
    },
    {
     "data": {
      "text/plain": [
       "<tf.Variable 'UnreadVariable' shape=() dtype=int64, numpy=64>"
      ]
     },
     "execution_count": 70,
     "metadata": {},
     "output_type": "execute_result"
    },
    {
     "data": {
      "text/plain": [
       "<tf.Variable 'UnreadVariable' shape=() dtype=float32, numpy=1.0>"
      ]
     },
     "execution_count": 70,
     "metadata": {},
     "output_type": "execute_result"
    },
    {
     "name": "stdout",
     "output_type": "stream",
     "text": [
      "training loss for for one batch at step 0 : 0.0193\n",
      "seen so far: 5 samples\n",
      "training acc over epoch: 0.087168\n",
      "\n",
      "Start of epoch 64\n",
      "xtrain:  (5, 2)\n"
     ]
    },
    {
     "data": {
      "text/plain": [
       "<tf.Variable 'UnreadVariable' shape=() dtype=int64, numpy=65>"
      ]
     },
     "execution_count": 70,
     "metadata": {},
     "output_type": "execute_result"
    },
    {
     "data": {
      "text/plain": [
       "<tf.Variable 'UnreadVariable' shape=() dtype=float32, numpy=1.0>"
      ]
     },
     "execution_count": 70,
     "metadata": {},
     "output_type": "execute_result"
    },
    {
     "name": "stdout",
     "output_type": "stream",
     "text": [
      "training loss for for one batch at step 0 : 0.0199\n",
      "seen so far: 5 samples\n",
      "training acc over epoch: 0.090095\n",
      "\n",
      "Start of epoch 65\n",
      "xtrain:  (5, 2)\n"
     ]
    },
    {
     "data": {
      "text/plain": [
       "<tf.Variable 'UnreadVariable' shape=() dtype=int64, numpy=66>"
      ]
     },
     "execution_count": 70,
     "metadata": {},
     "output_type": "execute_result"
    },
    {
     "data": {
      "text/plain": [
       "<tf.Variable 'UnreadVariable' shape=() dtype=float32, numpy=1.0>"
      ]
     },
     "execution_count": 70,
     "metadata": {},
     "output_type": "execute_result"
    },
    {
     "name": "stdout",
     "output_type": "stream",
     "text": [
      "training loss for for one batch at step 0 : 0.0198\n",
      "seen so far: 5 samples\n",
      "training acc over epoch: 0.089262\n",
      "\n",
      "Start of epoch 66\n",
      "xtrain:  (5, 2)\n"
     ]
    },
    {
     "data": {
      "text/plain": [
       "<tf.Variable 'UnreadVariable' shape=() dtype=int64, numpy=67>"
      ]
     },
     "execution_count": 70,
     "metadata": {},
     "output_type": "execute_result"
    },
    {
     "data": {
      "text/plain": [
       "<tf.Variable 'UnreadVariable' shape=() dtype=float32, numpy=1.0>"
      ]
     },
     "execution_count": 70,
     "metadata": {},
     "output_type": "execute_result"
    },
    {
     "name": "stdout",
     "output_type": "stream",
     "text": [
      "training loss for for one batch at step 0 : 0.0191\n",
      "seen so far: 5 samples\n",
      "training acc over epoch: 0.085028\n",
      "\n",
      "Start of epoch 67\n",
      "xtrain:  (5, 2)\n"
     ]
    },
    {
     "data": {
      "text/plain": [
       "<tf.Variable 'UnreadVariable' shape=() dtype=int64, numpy=68>"
      ]
     },
     "execution_count": 70,
     "metadata": {},
     "output_type": "execute_result"
    },
    {
     "data": {
      "text/plain": [
       "<tf.Variable 'UnreadVariable' shape=() dtype=float32, numpy=1.0>"
      ]
     },
     "execution_count": 70,
     "metadata": {},
     "output_type": "execute_result"
    },
    {
     "name": "stdout",
     "output_type": "stream",
     "text": [
      "training loss for for one batch at step 0 : 0.0180\n",
      "seen so far: 5 samples\n",
      "training acc over epoch: 0.077883\n",
      "\n",
      "Start of epoch 68\n",
      "xtrain:  (5, 2)\n"
     ]
    },
    {
     "data": {
      "text/plain": [
       "<tf.Variable 'UnreadVariable' shape=() dtype=int64, numpy=69>"
      ]
     },
     "execution_count": 70,
     "metadata": {},
     "output_type": "execute_result"
    },
    {
     "data": {
      "text/plain": [
       "<tf.Variable 'UnreadVariable' shape=() dtype=float32, numpy=1.0>"
      ]
     },
     "execution_count": 70,
     "metadata": {},
     "output_type": "execute_result"
    },
    {
     "name": "stdout",
     "output_type": "stream",
     "text": [
      "training loss for for one batch at step 0 : 0.0167\n",
      "seen so far: 5 samples\n",
      "training acc over epoch: 0.068397\n",
      "\n",
      "Start of epoch 69\n",
      "xtrain:  (5, 2)\n"
     ]
    },
    {
     "data": {
      "text/plain": [
       "<tf.Variable 'UnreadVariable' shape=() dtype=int64, numpy=70>"
      ]
     },
     "execution_count": 70,
     "metadata": {},
     "output_type": "execute_result"
    },
    {
     "data": {
      "text/plain": [
       "<tf.Variable 'UnreadVariable' shape=() dtype=float32, numpy=1.0>"
      ]
     },
     "execution_count": 70,
     "metadata": {},
     "output_type": "execute_result"
    },
    {
     "name": "stdout",
     "output_type": "stream",
     "text": [
      "training loss for for one batch at step 0 : 0.0155\n",
      "seen so far: 5 samples\n",
      "training acc over epoch: 0.057141\n",
      "\n",
      "Start of epoch 70\n",
      "xtrain:  (5, 2)\n"
     ]
    },
    {
     "data": {
      "text/plain": [
       "<tf.Variable 'UnreadVariable' shape=() dtype=int64, numpy=71>"
      ]
     },
     "execution_count": 70,
     "metadata": {},
     "output_type": "execute_result"
    },
    {
     "data": {
      "text/plain": [
       "<tf.Variable 'UnreadVariable' shape=() dtype=float32, numpy=1.0>"
      ]
     },
     "execution_count": 70,
     "metadata": {},
     "output_type": "execute_result"
    },
    {
     "name": "stdout",
     "output_type": "stream",
     "text": [
      "training loss for for one batch at step 0 : 0.0145\n",
      "seen so far: 5 samples\n",
      "training acc over epoch: 0.052169\n",
      "\n",
      "Start of epoch 71\n",
      "xtrain:  (5, 2)\n"
     ]
    },
    {
     "data": {
      "text/plain": [
       "<tf.Variable 'UnreadVariable' shape=() dtype=int64, numpy=72>"
      ]
     },
     "execution_count": 70,
     "metadata": {},
     "output_type": "execute_result"
    },
    {
     "data": {
      "text/plain": [
       "<tf.Variable 'UnreadVariable' shape=() dtype=float32, numpy=1.0>"
      ]
     },
     "execution_count": 70,
     "metadata": {},
     "output_type": "execute_result"
    },
    {
     "name": "stdout",
     "output_type": "stream",
     "text": [
      "training loss for for one batch at step 0 : 0.0139\n",
      "seen so far: 5 samples\n",
      "training acc over epoch: 0.048574\n",
      "\n",
      "Start of epoch 72\n",
      "xtrain:  (5, 2)\n"
     ]
    },
    {
     "data": {
      "text/plain": [
       "<tf.Variable 'UnreadVariable' shape=() dtype=int64, numpy=73>"
      ]
     },
     "execution_count": 70,
     "metadata": {},
     "output_type": "execute_result"
    },
    {
     "data": {
      "text/plain": [
       "<tf.Variable 'UnreadVariable' shape=() dtype=float32, numpy=1.0>"
      ]
     },
     "execution_count": 70,
     "metadata": {},
     "output_type": "execute_result"
    },
    {
     "name": "stdout",
     "output_type": "stream",
     "text": [
      "training loss for for one batch at step 0 : 0.0136\n",
      "seen so far: 5 samples\n",
      "training acc over epoch: 0.046675\n",
      "\n",
      "Start of epoch 73\n",
      "xtrain:  (5, 2)\n"
     ]
    },
    {
     "data": {
      "text/plain": [
       "<tf.Variable 'UnreadVariable' shape=() dtype=int64, numpy=74>"
      ]
     },
     "execution_count": 70,
     "metadata": {},
     "output_type": "execute_result"
    },
    {
     "data": {
      "text/plain": [
       "<tf.Variable 'UnreadVariable' shape=() dtype=float32, numpy=1.0>"
      ]
     },
     "execution_count": 70,
     "metadata": {},
     "output_type": "execute_result"
    },
    {
     "name": "stdout",
     "output_type": "stream",
     "text": [
      "training loss for for one batch at step 0 : 0.0135\n",
      "seen so far: 5 samples\n",
      "training acc over epoch: 0.048099\n",
      "\n",
      "Start of epoch 74\n",
      "xtrain:  (5, 2)\n"
     ]
    },
    {
     "data": {
      "text/plain": [
       "<tf.Variable 'UnreadVariable' shape=() dtype=int64, numpy=75>"
      ]
     },
     "execution_count": 70,
     "metadata": {},
     "output_type": "execute_result"
    },
    {
     "data": {
      "text/plain": [
       "<tf.Variable 'UnreadVariable' shape=() dtype=float32, numpy=1.0>"
      ]
     },
     "execution_count": 70,
     "metadata": {},
     "output_type": "execute_result"
    },
    {
     "name": "stdout",
     "output_type": "stream",
     "text": [
      "training loss for for one batch at step 0 : 0.0136\n",
      "seen so far: 5 samples\n",
      "training acc over epoch: 0.048795\n",
      "\n",
      "Start of epoch 75\n",
      "xtrain:  (5, 2)\n"
     ]
    },
    {
     "data": {
      "text/plain": [
       "<tf.Variable 'UnreadVariable' shape=() dtype=int64, numpy=76>"
      ]
     },
     "execution_count": 70,
     "metadata": {},
     "output_type": "execute_result"
    },
    {
     "data": {
      "text/plain": [
       "<tf.Variable 'UnreadVariable' shape=() dtype=float32, numpy=1.0>"
      ]
     },
     "execution_count": 70,
     "metadata": {},
     "output_type": "execute_result"
    },
    {
     "name": "stdout",
     "output_type": "stream",
     "text": [
      "training loss for for one batch at step 0 : 0.0139\n",
      "seen so far: 5 samples\n",
      "training acc over epoch: 0.049687\n",
      "\n",
      "Start of epoch 76\n",
      "xtrain:  (5, 2)\n"
     ]
    },
    {
     "data": {
      "text/plain": [
       "<tf.Variable 'UnreadVariable' shape=() dtype=int64, numpy=77>"
      ]
     },
     "execution_count": 70,
     "metadata": {},
     "output_type": "execute_result"
    },
    {
     "data": {
      "text/plain": [
       "<tf.Variable 'UnreadVariable' shape=() dtype=float32, numpy=1.0>"
      ]
     },
     "execution_count": 70,
     "metadata": {},
     "output_type": "execute_result"
    },
    {
     "name": "stdout",
     "output_type": "stream",
     "text": [
      "training loss for for one batch at step 0 : 0.0140\n",
      "seen so far: 5 samples\n",
      "training acc over epoch: 0.049276\n",
      "\n",
      "Start of epoch 77\n",
      "xtrain:  (5, 2)\n"
     ]
    },
    {
     "data": {
      "text/plain": [
       "<tf.Variable 'UnreadVariable' shape=() dtype=int64, numpy=78>"
      ]
     },
     "execution_count": 70,
     "metadata": {},
     "output_type": "execute_result"
    },
    {
     "data": {
      "text/plain": [
       "<tf.Variable 'UnreadVariable' shape=() dtype=float32, numpy=1.0>"
      ]
     },
     "execution_count": 70,
     "metadata": {},
     "output_type": "execute_result"
    },
    {
     "name": "stdout",
     "output_type": "stream",
     "text": [
      "training loss for for one batch at step 0 : 0.0140\n",
      "seen so far: 5 samples\n",
      "training acc over epoch: 0.047939\n",
      "\n",
      "Start of epoch 78\n",
      "xtrain:  (5, 2)\n"
     ]
    },
    {
     "data": {
      "text/plain": [
       "<tf.Variable 'UnreadVariable' shape=() dtype=int64, numpy=79>"
      ]
     },
     "execution_count": 70,
     "metadata": {},
     "output_type": "execute_result"
    },
    {
     "data": {
      "text/plain": [
       "<tf.Variable 'UnreadVariable' shape=() dtype=float32, numpy=1.0>"
      ]
     },
     "execution_count": 70,
     "metadata": {},
     "output_type": "execute_result"
    },
    {
     "name": "stdout",
     "output_type": "stream",
     "text": [
      "training loss for for one batch at step 0 : 0.0138\n",
      "seen so far: 5 samples\n",
      "training acc over epoch: 0.045666\n",
      "\n",
      "Start of epoch 79\n",
      "xtrain:  (5, 2)\n"
     ]
    },
    {
     "data": {
      "text/plain": [
       "<tf.Variable 'UnreadVariable' shape=() dtype=int64, numpy=80>"
      ]
     },
     "execution_count": 70,
     "metadata": {},
     "output_type": "execute_result"
    },
    {
     "data": {
      "text/plain": [
       "<tf.Variable 'UnreadVariable' shape=() dtype=float32, numpy=1.0>"
      ]
     },
     "execution_count": 70,
     "metadata": {},
     "output_type": "execute_result"
    },
    {
     "name": "stdout",
     "output_type": "stream",
     "text": [
      "training loss for for one batch at step 0 : 0.0133\n",
      "seen so far: 5 samples\n",
      "training acc over epoch: 0.042290\n",
      "\n",
      "Start of epoch 80\n",
      "xtrain:  (5, 2)\n"
     ]
    },
    {
     "data": {
      "text/plain": [
       "<tf.Variable 'UnreadVariable' shape=() dtype=int64, numpy=81>"
      ]
     },
     "execution_count": 70,
     "metadata": {},
     "output_type": "execute_result"
    },
    {
     "data": {
      "text/plain": [
       "<tf.Variable 'UnreadVariable' shape=() dtype=float32, numpy=1.0>"
      ]
     },
     "execution_count": 70,
     "metadata": {},
     "output_type": "execute_result"
    },
    {
     "name": "stdout",
     "output_type": "stream",
     "text": [
      "training loss for for one batch at step 0 : 0.0127\n",
      "seen so far: 5 samples\n",
      "training acc over epoch: 0.037332\n",
      "\n",
      "Start of epoch 81\n",
      "xtrain:  (5, 2)\n"
     ]
    },
    {
     "data": {
      "text/plain": [
       "<tf.Variable 'UnreadVariable' shape=() dtype=int64, numpy=82>"
      ]
     },
     "execution_count": 70,
     "metadata": {},
     "output_type": "execute_result"
    },
    {
     "data": {
      "text/plain": [
       "<tf.Variable 'UnreadVariable' shape=() dtype=float32, numpy=1.0>"
      ]
     },
     "execution_count": 70,
     "metadata": {},
     "output_type": "execute_result"
    },
    {
     "name": "stdout",
     "output_type": "stream",
     "text": [
      "training loss for for one batch at step 0 : 0.0120\n",
      "seen so far: 5 samples\n",
      "training acc over epoch: 0.031903\n",
      "\n",
      "Start of epoch 82\n",
      "xtrain:  (5, 2)\n"
     ]
    },
    {
     "data": {
      "text/plain": [
       "<tf.Variable 'UnreadVariable' shape=() dtype=int64, numpy=83>"
      ]
     },
     "execution_count": 70,
     "metadata": {},
     "output_type": "execute_result"
    },
    {
     "data": {
      "text/plain": [
       "<tf.Variable 'UnreadVariable' shape=() dtype=float32, numpy=1.0>"
      ]
     },
     "execution_count": 70,
     "metadata": {},
     "output_type": "execute_result"
    },
    {
     "name": "stdout",
     "output_type": "stream",
     "text": [
      "training loss for for one batch at step 0 : 0.0114\n",
      "seen so far: 5 samples\n",
      "training acc over epoch: 0.026078\n",
      "\n",
      "Start of epoch 83\n",
      "xtrain:  (5, 2)\n"
     ]
    },
    {
     "data": {
      "text/plain": [
       "<tf.Variable 'UnreadVariable' shape=() dtype=int64, numpy=84>"
      ]
     },
     "execution_count": 70,
     "metadata": {},
     "output_type": "execute_result"
    },
    {
     "data": {
      "text/plain": [
       "<tf.Variable 'UnreadVariable' shape=() dtype=float32, numpy=1.0>"
      ]
     },
     "execution_count": 70,
     "metadata": {},
     "output_type": "execute_result"
    },
    {
     "name": "stdout",
     "output_type": "stream",
     "text": [
      "training loss for for one batch at step 0 : 0.0109\n",
      "seen so far: 5 samples\n",
      "training acc over epoch: 0.020720\n",
      "\n",
      "Start of epoch 84\n",
      "xtrain:  (5, 2)\n"
     ]
    },
    {
     "data": {
      "text/plain": [
       "<tf.Variable 'UnreadVariable' shape=() dtype=int64, numpy=85>"
      ]
     },
     "execution_count": 70,
     "metadata": {},
     "output_type": "execute_result"
    },
    {
     "data": {
      "text/plain": [
       "<tf.Variable 'UnreadVariable' shape=() dtype=float32, numpy=1.0>"
      ]
     },
     "execution_count": 70,
     "metadata": {},
     "output_type": "execute_result"
    },
    {
     "name": "stdout",
     "output_type": "stream",
     "text": [
      "training loss for for one batch at step 0 : 0.0105\n",
      "seen so far: 5 samples\n",
      "training acc over epoch: 0.016377\n",
      "\n",
      "Start of epoch 85\n",
      "xtrain:  (5, 2)\n"
     ]
    },
    {
     "data": {
      "text/plain": [
       "<tf.Variable 'UnreadVariable' shape=() dtype=int64, numpy=86>"
      ]
     },
     "execution_count": 70,
     "metadata": {},
     "output_type": "execute_result"
    },
    {
     "data": {
      "text/plain": [
       "<tf.Variable 'UnreadVariable' shape=() dtype=float32, numpy=1.0>"
      ]
     },
     "execution_count": 70,
     "metadata": {},
     "output_type": "execute_result"
    },
    {
     "name": "stdout",
     "output_type": "stream",
     "text": [
      "training loss for for one batch at step 0 : 0.0103\n",
      "seen so far: 5 samples\n",
      "training acc over epoch: 0.014557\n",
      "\n",
      "Start of epoch 86\n",
      "xtrain:  (5, 2)\n"
     ]
    },
    {
     "data": {
      "text/plain": [
       "<tf.Variable 'UnreadVariable' shape=() dtype=int64, numpy=87>"
      ]
     },
     "execution_count": 70,
     "metadata": {},
     "output_type": "execute_result"
    },
    {
     "data": {
      "text/plain": [
       "<tf.Variable 'UnreadVariable' shape=() dtype=float32, numpy=1.0>"
      ]
     },
     "execution_count": 70,
     "metadata": {},
     "output_type": "execute_result"
    },
    {
     "name": "stdout",
     "output_type": "stream",
     "text": [
      "training loss for for one batch at step 0 : 0.0102\n",
      "seen so far: 5 samples\n",
      "training acc over epoch: 0.012780\n",
      "\n",
      "Start of epoch 87\n",
      "xtrain:  (5, 2)\n"
     ]
    },
    {
     "data": {
      "text/plain": [
       "<tf.Variable 'UnreadVariable' shape=() dtype=int64, numpy=88>"
      ]
     },
     "execution_count": 70,
     "metadata": {},
     "output_type": "execute_result"
    },
    {
     "data": {
      "text/plain": [
       "<tf.Variable 'UnreadVariable' shape=() dtype=float32, numpy=1.0>"
      ]
     },
     "execution_count": 70,
     "metadata": {},
     "output_type": "execute_result"
    },
    {
     "name": "stdout",
     "output_type": "stream",
     "text": [
      "training loss for for one batch at step 0 : 0.0101\n",
      "seen so far: 5 samples\n",
      "training acc over epoch: 0.011041\n",
      "\n",
      "Start of epoch 88\n",
      "xtrain:  (5, 2)\n"
     ]
    },
    {
     "data": {
      "text/plain": [
       "<tf.Variable 'UnreadVariable' shape=() dtype=int64, numpy=89>"
      ]
     },
     "execution_count": 70,
     "metadata": {},
     "output_type": "execute_result"
    },
    {
     "data": {
      "text/plain": [
       "<tf.Variable 'UnreadVariable' shape=() dtype=float32, numpy=1.0>"
      ]
     },
     "execution_count": 70,
     "metadata": {},
     "output_type": "execute_result"
    },
    {
     "name": "stdout",
     "output_type": "stream",
     "text": [
      "training loss for for one batch at step 0 : 0.0101\n",
      "seen so far: 5 samples\n",
      "training acc over epoch: 0.009393\n",
      "\n",
      "Start of epoch 89\n",
      "xtrain:  (5, 2)\n"
     ]
    },
    {
     "data": {
      "text/plain": [
       "<tf.Variable 'UnreadVariable' shape=() dtype=int64, numpy=90>"
      ]
     },
     "execution_count": 70,
     "metadata": {},
     "output_type": "execute_result"
    },
    {
     "data": {
      "text/plain": [
       "<tf.Variable 'UnreadVariable' shape=() dtype=float32, numpy=1.0>"
      ]
     },
     "execution_count": 70,
     "metadata": {},
     "output_type": "execute_result"
    },
    {
     "name": "stdout",
     "output_type": "stream",
     "text": [
      "training loss for for one batch at step 0 : 0.0101\n",
      "seen so far: 5 samples\n",
      "training acc over epoch: 0.007832\n",
      "\n",
      "Start of epoch 90\n",
      "xtrain:  (5, 2)\n"
     ]
    },
    {
     "data": {
      "text/plain": [
       "<tf.Variable 'UnreadVariable' shape=() dtype=int64, numpy=91>"
      ]
     },
     "execution_count": 70,
     "metadata": {},
     "output_type": "execute_result"
    },
    {
     "data": {
      "text/plain": [
       "<tf.Variable 'UnreadVariable' shape=() dtype=float32, numpy=1.0>"
      ]
     },
     "execution_count": 70,
     "metadata": {},
     "output_type": "execute_result"
    },
    {
     "name": "stdout",
     "output_type": "stream",
     "text": [
      "training loss for for one batch at step 0 : 0.0101\n",
      "seen so far: 5 samples\n",
      "training acc over epoch: 0.007909\n",
      "\n",
      "Start of epoch 91\n",
      "xtrain:  (5, 2)\n"
     ]
    },
    {
     "data": {
      "text/plain": [
       "<tf.Variable 'UnreadVariable' shape=() dtype=int64, numpy=92>"
      ]
     },
     "execution_count": 70,
     "metadata": {},
     "output_type": "execute_result"
    },
    {
     "data": {
      "text/plain": [
       "<tf.Variable 'UnreadVariable' shape=() dtype=float32, numpy=1.0>"
      ]
     },
     "execution_count": 70,
     "metadata": {},
     "output_type": "execute_result"
    },
    {
     "name": "stdout",
     "output_type": "stream",
     "text": [
      "training loss for for one batch at step 0 : 0.0101\n",
      "seen so far: 5 samples\n",
      "training acc over epoch: 0.006737\n",
      "\n",
      "Start of epoch 92\n",
      "xtrain:  (5, 2)\n"
     ]
    },
    {
     "data": {
      "text/plain": [
       "<tf.Variable 'UnreadVariable' shape=() dtype=int64, numpy=93>"
      ]
     },
     "execution_count": 70,
     "metadata": {},
     "output_type": "execute_result"
    },
    {
     "data": {
      "text/plain": [
       "<tf.Variable 'UnreadVariable' shape=() dtype=float32, numpy=1.0>"
      ]
     },
     "execution_count": 70,
     "metadata": {},
     "output_type": "execute_result"
    },
    {
     "name": "stdout",
     "output_type": "stream",
     "text": [
      "training loss for for one batch at step 0 : 0.0101\n",
      "seen so far: 5 samples\n",
      "training acc over epoch: 0.007998\n",
      "\n",
      "Start of epoch 93\n",
      "xtrain:  (5, 2)\n"
     ]
    },
    {
     "data": {
      "text/plain": [
       "<tf.Variable 'UnreadVariable' shape=() dtype=int64, numpy=94>"
      ]
     },
     "execution_count": 70,
     "metadata": {},
     "output_type": "execute_result"
    },
    {
     "data": {
      "text/plain": [
       "<tf.Variable 'UnreadVariable' shape=() dtype=float32, numpy=1.0>"
      ]
     },
     "execution_count": 70,
     "metadata": {},
     "output_type": "execute_result"
    },
    {
     "name": "stdout",
     "output_type": "stream",
     "text": [
      "training loss for for one batch at step 0 : 0.0101\n",
      "seen so far: 5 samples\n",
      "training acc over epoch: 0.008173\n",
      "\n",
      "Start of epoch 94\n",
      "xtrain:  (5, 2)\n"
     ]
    },
    {
     "data": {
      "text/plain": [
       "<tf.Variable 'UnreadVariable' shape=() dtype=int64, numpy=95>"
      ]
     },
     "execution_count": 70,
     "metadata": {},
     "output_type": "execute_result"
    },
    {
     "data": {
      "text/plain": [
       "<tf.Variable 'UnreadVariable' shape=() dtype=float32, numpy=1.0>"
      ]
     },
     "execution_count": 70,
     "metadata": {},
     "output_type": "execute_result"
    },
    {
     "name": "stdout",
     "output_type": "stream",
     "text": [
      "training loss for for one batch at step 0 : 0.0101\n",
      "seen so far: 5 samples\n",
      "training acc over epoch: 0.006438\n",
      "\n",
      "Start of epoch 95\n",
      "xtrain:  (5, 2)\n"
     ]
    },
    {
     "data": {
      "text/plain": [
       "<tf.Variable 'UnreadVariable' shape=() dtype=int64, numpy=96>"
      ]
     },
     "execution_count": 70,
     "metadata": {},
     "output_type": "execute_result"
    },
    {
     "data": {
      "text/plain": [
       "<tf.Variable 'UnreadVariable' shape=() dtype=float32, numpy=1.0>"
      ]
     },
     "execution_count": 70,
     "metadata": {},
     "output_type": "execute_result"
    },
    {
     "name": "stdout",
     "output_type": "stream",
     "text": [
      "training loss for for one batch at step 0 : 0.0101\n",
      "seen so far: 5 samples\n",
      "training acc over epoch: 0.006039\n",
      "\n",
      "Start of epoch 96\n",
      "xtrain:  (5, 2)\n"
     ]
    },
    {
     "data": {
      "text/plain": [
       "<tf.Variable 'UnreadVariable' shape=() dtype=int64, numpy=97>"
      ]
     },
     "execution_count": 70,
     "metadata": {},
     "output_type": "execute_result"
    },
    {
     "data": {
      "text/plain": [
       "<tf.Variable 'UnreadVariable' shape=() dtype=float32, numpy=1.0>"
      ]
     },
     "execution_count": 70,
     "metadata": {},
     "output_type": "execute_result"
    },
    {
     "name": "stdout",
     "output_type": "stream",
     "text": [
      "training loss for for one batch at step 0 : 0.0101\n",
      "seen so far: 5 samples\n",
      "training acc over epoch: 0.005809\n",
      "\n",
      "Start of epoch 97\n",
      "xtrain:  (5, 2)\n"
     ]
    },
    {
     "data": {
      "text/plain": [
       "<tf.Variable 'UnreadVariable' shape=() dtype=int64, numpy=98>"
      ]
     },
     "execution_count": 70,
     "metadata": {},
     "output_type": "execute_result"
    },
    {
     "data": {
      "text/plain": [
       "<tf.Variable 'UnreadVariable' shape=() dtype=float32, numpy=1.0>"
      ]
     },
     "execution_count": 70,
     "metadata": {},
     "output_type": "execute_result"
    },
    {
     "name": "stdout",
     "output_type": "stream",
     "text": [
      "training loss for for one batch at step 0 : 0.0100\n",
      "seen so far: 5 samples\n",
      "training acc over epoch: 0.004468\n",
      "\n",
      "Start of epoch 98\n",
      "xtrain:  (5, 2)\n"
     ]
    },
    {
     "data": {
      "text/plain": [
       "<tf.Variable 'UnreadVariable' shape=() dtype=int64, numpy=99>"
      ]
     },
     "execution_count": 70,
     "metadata": {},
     "output_type": "execute_result"
    },
    {
     "data": {
      "text/plain": [
       "<tf.Variable 'UnreadVariable' shape=() dtype=float32, numpy=1.0>"
      ]
     },
     "execution_count": 70,
     "metadata": {},
     "output_type": "execute_result"
    },
    {
     "name": "stdout",
     "output_type": "stream",
     "text": [
      "training loss for for one batch at step 0 : 0.0100\n",
      "seen so far: 5 samples\n",
      "training acc over epoch: 0.004673\n",
      "\n",
      "Start of epoch 99\n",
      "xtrain:  (5, 2)\n"
     ]
    },
    {
     "data": {
      "text/plain": [
       "<tf.Variable 'UnreadVariable' shape=() dtype=int64, numpy=100>"
      ]
     },
     "execution_count": 70,
     "metadata": {},
     "output_type": "execute_result"
    },
    {
     "data": {
      "text/plain": [
       "<tf.Variable 'UnreadVariable' shape=() dtype=float32, numpy=1.0>"
      ]
     },
     "execution_count": 70,
     "metadata": {},
     "output_type": "execute_result"
    },
    {
     "name": "stdout",
     "output_type": "stream",
     "text": [
      "training loss for for one batch at step 0 : 0.0100\n",
      "seen so far: 5 samples\n",
      "training acc over epoch: 0.004420\n",
      "\n",
      "Start of epoch 100\n",
      "xtrain:  (5, 2)\n"
     ]
    },
    {
     "data": {
      "text/plain": [
       "<tf.Variable 'UnreadVariable' shape=() dtype=int64, numpy=101>"
      ]
     },
     "execution_count": 70,
     "metadata": {},
     "output_type": "execute_result"
    },
    {
     "data": {
      "text/plain": [
       "<tf.Variable 'UnreadVariable' shape=() dtype=float32, numpy=1.0>"
      ]
     },
     "execution_count": 70,
     "metadata": {},
     "output_type": "execute_result"
    },
    {
     "name": "stdout",
     "output_type": "stream",
     "text": [
      "training loss for for one batch at step 0 : 0.0100\n",
      "seen so far: 5 samples\n",
      "training acc over epoch: 0.003867\n",
      "\n",
      "Start of epoch 101\n",
      "xtrain:  (5, 2)\n"
     ]
    },
    {
     "data": {
      "text/plain": [
       "<tf.Variable 'UnreadVariable' shape=() dtype=int64, numpy=102>"
      ]
     },
     "execution_count": 70,
     "metadata": {},
     "output_type": "execute_result"
    },
    {
     "data": {
      "text/plain": [
       "<tf.Variable 'UnreadVariable' shape=() dtype=float32, numpy=1.0>"
      ]
     },
     "execution_count": 70,
     "metadata": {},
     "output_type": "execute_result"
    },
    {
     "name": "stdout",
     "output_type": "stream",
     "text": [
      "training loss for for one batch at step 0 : 0.0100\n",
      "seen so far: 5 samples\n",
      "training acc over epoch: 0.003798\n",
      "\n",
      "Start of epoch 102\n",
      "xtrain:  (5, 2)\n"
     ]
    },
    {
     "data": {
      "text/plain": [
       "<tf.Variable 'UnreadVariable' shape=() dtype=int64, numpy=103>"
      ]
     },
     "execution_count": 70,
     "metadata": {},
     "output_type": "execute_result"
    },
    {
     "data": {
      "text/plain": [
       "<tf.Variable 'UnreadVariable' shape=() dtype=float32, numpy=1.0>"
      ]
     },
     "execution_count": 70,
     "metadata": {},
     "output_type": "execute_result"
    },
    {
     "name": "stdout",
     "output_type": "stream",
     "text": [
      "training loss for for one batch at step 0 : 0.0100\n",
      "seen so far: 5 samples\n",
      "training acc over epoch: 0.003766\n",
      "\n",
      "Start of epoch 103\n",
      "xtrain:  (5, 2)\n"
     ]
    },
    {
     "data": {
      "text/plain": [
       "<tf.Variable 'UnreadVariable' shape=() dtype=int64, numpy=104>"
      ]
     },
     "execution_count": 70,
     "metadata": {},
     "output_type": "execute_result"
    },
    {
     "data": {
      "text/plain": [
       "<tf.Variable 'UnreadVariable' shape=() dtype=float32, numpy=1.0>"
      ]
     },
     "execution_count": 70,
     "metadata": {},
     "output_type": "execute_result"
    },
    {
     "name": "stdout",
     "output_type": "stream",
     "text": [
      "training loss for for one batch at step 0 : 0.0100\n",
      "seen so far: 5 samples\n",
      "training acc over epoch: 0.003965\n",
      "\n",
      "Start of epoch 104\n",
      "xtrain:  (5, 2)\n"
     ]
    },
    {
     "data": {
      "text/plain": [
       "<tf.Variable 'UnreadVariable' shape=() dtype=int64, numpy=105>"
      ]
     },
     "execution_count": 70,
     "metadata": {},
     "output_type": "execute_result"
    },
    {
     "data": {
      "text/plain": [
       "<tf.Variable 'UnreadVariable' shape=() dtype=float32, numpy=1.0>"
      ]
     },
     "execution_count": 70,
     "metadata": {},
     "output_type": "execute_result"
    },
    {
     "name": "stdout",
     "output_type": "stream",
     "text": [
      "training loss for for one batch at step 0 : 0.0100\n",
      "seen so far: 5 samples\n",
      "training acc over epoch: 0.004423\n",
      "\n",
      "Start of epoch 105\n",
      "xtrain:  (5, 2)\n"
     ]
    },
    {
     "data": {
      "text/plain": [
       "<tf.Variable 'UnreadVariable' shape=() dtype=int64, numpy=106>"
      ]
     },
     "execution_count": 70,
     "metadata": {},
     "output_type": "execute_result"
    },
    {
     "data": {
      "text/plain": [
       "<tf.Variable 'UnreadVariable' shape=() dtype=float32, numpy=1.0>"
      ]
     },
     "execution_count": 70,
     "metadata": {},
     "output_type": "execute_result"
    },
    {
     "name": "stdout",
     "output_type": "stream",
     "text": [
      "training loss for for one batch at step 0 : 0.0100\n",
      "seen so far: 5 samples\n",
      "training acc over epoch: 0.004238\n",
      "\n",
      "Start of epoch 106\n",
      "xtrain:  (5, 2)\n"
     ]
    },
    {
     "data": {
      "text/plain": [
       "<tf.Variable 'UnreadVariable' shape=() dtype=int64, numpy=107>"
      ]
     },
     "execution_count": 70,
     "metadata": {},
     "output_type": "execute_result"
    },
    {
     "data": {
      "text/plain": [
       "<tf.Variable 'UnreadVariable' shape=() dtype=float32, numpy=1.0>"
      ]
     },
     "execution_count": 70,
     "metadata": {},
     "output_type": "execute_result"
    },
    {
     "name": "stdout",
     "output_type": "stream",
     "text": [
      "training loss for for one batch at step 0 : 0.0100\n",
      "seen so far: 5 samples\n",
      "training acc over epoch: 0.003641\n",
      "\n",
      "Start of epoch 107\n",
      "xtrain:  (5, 2)\n"
     ]
    },
    {
     "data": {
      "text/plain": [
       "<tf.Variable 'UnreadVariable' shape=() dtype=int64, numpy=108>"
      ]
     },
     "execution_count": 70,
     "metadata": {},
     "output_type": "execute_result"
    },
    {
     "data": {
      "text/plain": [
       "<tf.Variable 'UnreadVariable' shape=() dtype=float32, numpy=1.0>"
      ]
     },
     "execution_count": 70,
     "metadata": {},
     "output_type": "execute_result"
    },
    {
     "name": "stdout",
     "output_type": "stream",
     "text": [
      "training loss for for one batch at step 0 : 0.0100\n",
      "seen so far: 5 samples\n",
      "training acc over epoch: 0.003984\n",
      "\n",
      "Start of epoch 108\n",
      "xtrain:  (5, 2)\n"
     ]
    },
    {
     "data": {
      "text/plain": [
       "<tf.Variable 'UnreadVariable' shape=() dtype=int64, numpy=109>"
      ]
     },
     "execution_count": 70,
     "metadata": {},
     "output_type": "execute_result"
    },
    {
     "data": {
      "text/plain": [
       "<tf.Variable 'UnreadVariable' shape=() dtype=float32, numpy=1.0>"
      ]
     },
     "execution_count": 70,
     "metadata": {},
     "output_type": "execute_result"
    },
    {
     "name": "stdout",
     "output_type": "stream",
     "text": [
      "training loss for for one batch at step 0 : 0.0100\n",
      "seen so far: 5 samples\n",
      "training acc over epoch: 0.003396\n",
      "\n",
      "Start of epoch 109\n",
      "xtrain:  (5, 2)\n"
     ]
    },
    {
     "data": {
      "text/plain": [
       "<tf.Variable 'UnreadVariable' shape=() dtype=int64, numpy=110>"
      ]
     },
     "execution_count": 70,
     "metadata": {},
     "output_type": "execute_result"
    },
    {
     "data": {
      "text/plain": [
       "<tf.Variable 'UnreadVariable' shape=() dtype=float32, numpy=1.0>"
      ]
     },
     "execution_count": 70,
     "metadata": {},
     "output_type": "execute_result"
    },
    {
     "name": "stdout",
     "output_type": "stream",
     "text": [
      "training loss for for one batch at step 0 : 0.0100\n",
      "seen so far: 5 samples\n",
      "training acc over epoch: 0.003719\n",
      "\n",
      "Start of epoch 110\n",
      "xtrain:  (5, 2)\n"
     ]
    },
    {
     "data": {
      "text/plain": [
       "<tf.Variable 'UnreadVariable' shape=() dtype=int64, numpy=111>"
      ]
     },
     "execution_count": 70,
     "metadata": {},
     "output_type": "execute_result"
    },
    {
     "data": {
      "text/plain": [
       "<tf.Variable 'UnreadVariable' shape=() dtype=float32, numpy=1.0>"
      ]
     },
     "execution_count": 70,
     "metadata": {},
     "output_type": "execute_result"
    },
    {
     "name": "stdout",
     "output_type": "stream",
     "text": [
      "training loss for for one batch at step 0 : 0.0100\n",
      "seen so far: 5 samples\n",
      "training acc over epoch: 0.003779\n",
      "\n",
      "Start of epoch 111\n",
      "xtrain:  (5, 2)\n"
     ]
    },
    {
     "data": {
      "text/plain": [
       "<tf.Variable 'UnreadVariable' shape=() dtype=int64, numpy=112>"
      ]
     },
     "execution_count": 70,
     "metadata": {},
     "output_type": "execute_result"
    },
    {
     "data": {
      "text/plain": [
       "<tf.Variable 'UnreadVariable' shape=() dtype=float32, numpy=1.0>"
      ]
     },
     "execution_count": 70,
     "metadata": {},
     "output_type": "execute_result"
    },
    {
     "name": "stdout",
     "output_type": "stream",
     "text": [
      "training loss for for one batch at step 0 : 0.0100\n",
      "seen so far: 5 samples\n",
      "training acc over epoch: 0.003376\n",
      "\n",
      "Start of epoch 112\n",
      "xtrain:  (5, 2)\n"
     ]
    },
    {
     "data": {
      "text/plain": [
       "<tf.Variable 'UnreadVariable' shape=() dtype=int64, numpy=113>"
      ]
     },
     "execution_count": 70,
     "metadata": {},
     "output_type": "execute_result"
    },
    {
     "data": {
      "text/plain": [
       "<tf.Variable 'UnreadVariable' shape=() dtype=float32, numpy=1.0>"
      ]
     },
     "execution_count": 70,
     "metadata": {},
     "output_type": "execute_result"
    },
    {
     "name": "stdout",
     "output_type": "stream",
     "text": [
      "training loss for for one batch at step 0 : 0.0100\n",
      "seen so far: 5 samples\n",
      "training acc over epoch: 0.003034\n",
      "\n",
      "Start of epoch 113\n",
      "xtrain:  (5, 2)\n"
     ]
    },
    {
     "data": {
      "text/plain": [
       "<tf.Variable 'UnreadVariable' shape=() dtype=int64, numpy=114>"
      ]
     },
     "execution_count": 70,
     "metadata": {},
     "output_type": "execute_result"
    },
    {
     "data": {
      "text/plain": [
       "<tf.Variable 'UnreadVariable' shape=() dtype=float32, numpy=1.0>"
      ]
     },
     "execution_count": 70,
     "metadata": {},
     "output_type": "execute_result"
    },
    {
     "name": "stdout",
     "output_type": "stream",
     "text": [
      "training loss for for one batch at step 0 : 0.0100\n",
      "seen so far: 5 samples\n",
      "training acc over epoch: 0.003114\n",
      "\n",
      "Start of epoch 114\n",
      "xtrain:  (5, 2)\n"
     ]
    },
    {
     "data": {
      "text/plain": [
       "<tf.Variable 'UnreadVariable' shape=() dtype=int64, numpy=115>"
      ]
     },
     "execution_count": 70,
     "metadata": {},
     "output_type": "execute_result"
    },
    {
     "data": {
      "text/plain": [
       "<tf.Variable 'UnreadVariable' shape=() dtype=float32, numpy=1.0>"
      ]
     },
     "execution_count": 70,
     "metadata": {},
     "output_type": "execute_result"
    },
    {
     "name": "stdout",
     "output_type": "stream",
     "text": [
      "training loss for for one batch at step 0 : 0.0100\n",
      "seen so far: 5 samples\n",
      "training acc over epoch: 0.002653\n",
      "\n",
      "Start of epoch 115\n",
      "xtrain:  (5, 2)\n"
     ]
    },
    {
     "data": {
      "text/plain": [
       "<tf.Variable 'UnreadVariable' shape=() dtype=int64, numpy=116>"
      ]
     },
     "execution_count": 70,
     "metadata": {},
     "output_type": "execute_result"
    },
    {
     "data": {
      "text/plain": [
       "<tf.Variable 'UnreadVariable' shape=() dtype=float32, numpy=1.0>"
      ]
     },
     "execution_count": 70,
     "metadata": {},
     "output_type": "execute_result"
    },
    {
     "name": "stdout",
     "output_type": "stream",
     "text": [
      "training loss for for one batch at step 0 : 0.0100\n",
      "seen so far: 5 samples\n",
      "training acc over epoch: 0.002805\n",
      "\n",
      "Start of epoch 116\n",
      "xtrain:  (5, 2)\n"
     ]
    },
    {
     "data": {
      "text/plain": [
       "<tf.Variable 'UnreadVariable' shape=() dtype=int64, numpy=117>"
      ]
     },
     "execution_count": 70,
     "metadata": {},
     "output_type": "execute_result"
    },
    {
     "data": {
      "text/plain": [
       "<tf.Variable 'UnreadVariable' shape=() dtype=float32, numpy=1.0>"
      ]
     },
     "execution_count": 70,
     "metadata": {},
     "output_type": "execute_result"
    },
    {
     "name": "stdout",
     "output_type": "stream",
     "text": [
      "training loss for for one batch at step 0 : 0.0100\n",
      "seen so far: 5 samples\n",
      "training acc over epoch: 0.002667\n",
      "\n",
      "Start of epoch 117\n",
      "xtrain:  (5, 2)\n"
     ]
    },
    {
     "data": {
      "text/plain": [
       "<tf.Variable 'UnreadVariable' shape=() dtype=int64, numpy=118>"
      ]
     },
     "execution_count": 70,
     "metadata": {},
     "output_type": "execute_result"
    },
    {
     "data": {
      "text/plain": [
       "<tf.Variable 'UnreadVariable' shape=() dtype=float32, numpy=1.0>"
      ]
     },
     "execution_count": 70,
     "metadata": {},
     "output_type": "execute_result"
    },
    {
     "name": "stdout",
     "output_type": "stream",
     "text": [
      "training loss for for one batch at step 0 : 0.0100\n",
      "seen so far: 5 samples\n",
      "training acc over epoch: 0.002236\n",
      "\n",
      "Start of epoch 118\n",
      "xtrain:  (5, 2)\n"
     ]
    },
    {
     "data": {
      "text/plain": [
       "<tf.Variable 'UnreadVariable' shape=() dtype=int64, numpy=119>"
      ]
     },
     "execution_count": 70,
     "metadata": {},
     "output_type": "execute_result"
    },
    {
     "data": {
      "text/plain": [
       "<tf.Variable 'UnreadVariable' shape=() dtype=float32, numpy=1.0>"
      ]
     },
     "execution_count": 70,
     "metadata": {},
     "output_type": "execute_result"
    },
    {
     "name": "stdout",
     "output_type": "stream",
     "text": [
      "training loss for for one batch at step 0 : 0.0100\n",
      "seen so far: 5 samples\n",
      "training acc over epoch: 0.002185\n",
      "\n",
      "Start of epoch 119\n",
      "xtrain:  (5, 2)\n"
     ]
    },
    {
     "data": {
      "text/plain": [
       "<tf.Variable 'UnreadVariable' shape=() dtype=int64, numpy=120>"
      ]
     },
     "execution_count": 70,
     "metadata": {},
     "output_type": "execute_result"
    },
    {
     "data": {
      "text/plain": [
       "<tf.Variable 'UnreadVariable' shape=() dtype=float32, numpy=1.0>"
      ]
     },
     "execution_count": 70,
     "metadata": {},
     "output_type": "execute_result"
    },
    {
     "name": "stdout",
     "output_type": "stream",
     "text": [
      "training loss for for one batch at step 0 : 0.0100\n",
      "seen so far: 5 samples\n",
      "training acc over epoch: 0.001999\n",
      "\n",
      "Start of epoch 120\n",
      "xtrain:  (5, 2)\n"
     ]
    },
    {
     "data": {
      "text/plain": [
       "<tf.Variable 'UnreadVariable' shape=() dtype=int64, numpy=121>"
      ]
     },
     "execution_count": 70,
     "metadata": {},
     "output_type": "execute_result"
    },
    {
     "data": {
      "text/plain": [
       "<tf.Variable 'UnreadVariable' shape=() dtype=float32, numpy=1.0>"
      ]
     },
     "execution_count": 70,
     "metadata": {},
     "output_type": "execute_result"
    },
    {
     "name": "stdout",
     "output_type": "stream",
     "text": [
      "training loss for for one batch at step 0 : 0.0100\n",
      "seen so far: 5 samples\n",
      "training acc over epoch: 0.001789\n",
      "\n",
      "Start of epoch 121\n",
      "xtrain:  (5, 2)\n"
     ]
    },
    {
     "data": {
      "text/plain": [
       "<tf.Variable 'UnreadVariable' shape=() dtype=int64, numpy=122>"
      ]
     },
     "execution_count": 70,
     "metadata": {},
     "output_type": "execute_result"
    },
    {
     "data": {
      "text/plain": [
       "<tf.Variable 'UnreadVariable' shape=() dtype=float32, numpy=1.0>"
      ]
     },
     "execution_count": 70,
     "metadata": {},
     "output_type": "execute_result"
    },
    {
     "name": "stdout",
     "output_type": "stream",
     "text": [
      "training loss for for one batch at step 0 : 0.0100\n",
      "seen so far: 5 samples\n",
      "training acc over epoch: 0.001820\n",
      "\n",
      "Start of epoch 122\n",
      "xtrain:  (5, 2)\n"
     ]
    },
    {
     "data": {
      "text/plain": [
       "<tf.Variable 'UnreadVariable' shape=() dtype=int64, numpy=123>"
      ]
     },
     "execution_count": 70,
     "metadata": {},
     "output_type": "execute_result"
    },
    {
     "data": {
      "text/plain": [
       "<tf.Variable 'UnreadVariable' shape=() dtype=float32, numpy=1.0>"
      ]
     },
     "execution_count": 70,
     "metadata": {},
     "output_type": "execute_result"
    },
    {
     "name": "stdout",
     "output_type": "stream",
     "text": [
      "training loss for for one batch at step 0 : 0.0100\n",
      "seen so far: 5 samples\n",
      "training acc over epoch: 0.001596\n",
      "\n",
      "Start of epoch 123\n",
      "xtrain:  (5, 2)\n"
     ]
    },
    {
     "data": {
      "text/plain": [
       "<tf.Variable 'UnreadVariable' shape=() dtype=int64, numpy=124>"
      ]
     },
     "execution_count": 70,
     "metadata": {},
     "output_type": "execute_result"
    },
    {
     "data": {
      "text/plain": [
       "<tf.Variable 'UnreadVariable' shape=() dtype=float32, numpy=1.0>"
      ]
     },
     "execution_count": 70,
     "metadata": {},
     "output_type": "execute_result"
    },
    {
     "name": "stdout",
     "output_type": "stream",
     "text": [
      "training loss for for one batch at step 0 : 0.0100\n",
      "seen so far: 5 samples\n",
      "training acc over epoch: 0.001310\n",
      "\n",
      "Start of epoch 124\n",
      "xtrain:  (5, 2)\n"
     ]
    },
    {
     "data": {
      "text/plain": [
       "<tf.Variable 'UnreadVariable' shape=() dtype=int64, numpy=125>"
      ]
     },
     "execution_count": 70,
     "metadata": {},
     "output_type": "execute_result"
    },
    {
     "data": {
      "text/plain": [
       "<tf.Variable 'UnreadVariable' shape=() dtype=float32, numpy=1.0>"
      ]
     },
     "execution_count": 70,
     "metadata": {},
     "output_type": "execute_result"
    },
    {
     "name": "stdout",
     "output_type": "stream",
     "text": [
      "training loss for for one batch at step 0 : 0.0100\n",
      "seen so far: 5 samples\n",
      "training acc over epoch: 0.001338\n",
      "\n",
      "Start of epoch 125\n",
      "xtrain:  (5, 2)\n"
     ]
    },
    {
     "data": {
      "text/plain": [
       "<tf.Variable 'UnreadVariable' shape=() dtype=int64, numpy=126>"
      ]
     },
     "execution_count": 70,
     "metadata": {},
     "output_type": "execute_result"
    },
    {
     "data": {
      "text/plain": [
       "<tf.Variable 'UnreadVariable' shape=() dtype=float32, numpy=1.0>"
      ]
     },
     "execution_count": 70,
     "metadata": {},
     "output_type": "execute_result"
    },
    {
     "name": "stdout",
     "output_type": "stream",
     "text": [
      "training loss for for one batch at step 0 : 0.0100\n",
      "seen so far: 5 samples\n",
      "training acc over epoch: 0.001032\n",
      "\n",
      "Start of epoch 126\n",
      "xtrain:  (5, 2)\n"
     ]
    },
    {
     "data": {
      "text/plain": [
       "<tf.Variable 'UnreadVariable' shape=() dtype=int64, numpy=127>"
      ]
     },
     "execution_count": 70,
     "metadata": {},
     "output_type": "execute_result"
    },
    {
     "data": {
      "text/plain": [
       "<tf.Variable 'UnreadVariable' shape=() dtype=float32, numpy=1.0>"
      ]
     },
     "execution_count": 70,
     "metadata": {},
     "output_type": "execute_result"
    },
    {
     "name": "stdout",
     "output_type": "stream",
     "text": [
      "training loss for for one batch at step 0 : 0.0100\n",
      "seen so far: 5 samples\n",
      "training acc over epoch: 0.001076\n",
      "\n",
      "Start of epoch 127\n",
      "xtrain:  (5, 2)\n"
     ]
    },
    {
     "data": {
      "text/plain": [
       "<tf.Variable 'UnreadVariable' shape=() dtype=int64, numpy=128>"
      ]
     },
     "execution_count": 70,
     "metadata": {},
     "output_type": "execute_result"
    },
    {
     "data": {
      "text/plain": [
       "<tf.Variable 'UnreadVariable' shape=() dtype=float32, numpy=1.0>"
      ]
     },
     "execution_count": 70,
     "metadata": {},
     "output_type": "execute_result"
    },
    {
     "name": "stdout",
     "output_type": "stream",
     "text": [
      "training loss for for one batch at step 0 : 0.0100\n",
      "seen so far: 5 samples\n",
      "training acc over epoch: 0.000988\n",
      "\n",
      "Start of epoch 128\n",
      "xtrain:  (5, 2)\n"
     ]
    },
    {
     "data": {
      "text/plain": [
       "<tf.Variable 'UnreadVariable' shape=() dtype=int64, numpy=129>"
      ]
     },
     "execution_count": 70,
     "metadata": {},
     "output_type": "execute_result"
    },
    {
     "data": {
      "text/plain": [
       "<tf.Variable 'UnreadVariable' shape=() dtype=float32, numpy=1.0>"
      ]
     },
     "execution_count": 70,
     "metadata": {},
     "output_type": "execute_result"
    },
    {
     "name": "stdout",
     "output_type": "stream",
     "text": [
      "training loss for for one batch at step 0 : 0.0100\n",
      "seen so far: 5 samples\n",
      "training acc over epoch: 0.000686\n",
      "\n",
      "Start of epoch 129\n",
      "xtrain:  (5, 2)\n"
     ]
    },
    {
     "data": {
      "text/plain": [
       "<tf.Variable 'UnreadVariable' shape=() dtype=int64, numpy=130>"
      ]
     },
     "execution_count": 70,
     "metadata": {},
     "output_type": "execute_result"
    },
    {
     "data": {
      "text/plain": [
       "<tf.Variable 'UnreadVariable' shape=() dtype=float32, numpy=1.0>"
      ]
     },
     "execution_count": 70,
     "metadata": {},
     "output_type": "execute_result"
    },
    {
     "name": "stdout",
     "output_type": "stream",
     "text": [
      "training loss for for one batch at step 0 : 0.0100\n",
      "seen so far: 5 samples\n",
      "training acc over epoch: 0.000800\n",
      "\n",
      "Start of epoch 130\n",
      "xtrain:  (5, 2)\n"
     ]
    },
    {
     "data": {
      "text/plain": [
       "<tf.Variable 'UnreadVariable' shape=() dtype=int64, numpy=131>"
      ]
     },
     "execution_count": 70,
     "metadata": {},
     "output_type": "execute_result"
    },
    {
     "data": {
      "text/plain": [
       "<tf.Variable 'UnreadVariable' shape=() dtype=float32, numpy=1.0>"
      ]
     },
     "execution_count": 70,
     "metadata": {},
     "output_type": "execute_result"
    },
    {
     "name": "stdout",
     "output_type": "stream",
     "text": [
      "training loss for for one batch at step 0 : 0.0100\n",
      "seen so far: 5 samples\n",
      "training acc over epoch: 0.000665\n",
      "\n",
      "Start of epoch 131\n",
      "xtrain:  (5, 2)\n"
     ]
    },
    {
     "data": {
      "text/plain": [
       "<tf.Variable 'UnreadVariable' shape=() dtype=int64, numpy=132>"
      ]
     },
     "execution_count": 70,
     "metadata": {},
     "output_type": "execute_result"
    },
    {
     "data": {
      "text/plain": [
       "<tf.Variable 'UnreadVariable' shape=() dtype=float32, numpy=1.0>"
      ]
     },
     "execution_count": 70,
     "metadata": {},
     "output_type": "execute_result"
    },
    {
     "name": "stdout",
     "output_type": "stream",
     "text": [
      "training loss for for one batch at step 0 : 0.0100\n",
      "seen so far: 5 samples\n",
      "training acc over epoch: 0.000709\n",
      "\n",
      "Start of epoch 132\n",
      "xtrain:  (5, 2)\n"
     ]
    },
    {
     "data": {
      "text/plain": [
       "<tf.Variable 'UnreadVariable' shape=() dtype=int64, numpy=133>"
      ]
     },
     "execution_count": 70,
     "metadata": {},
     "output_type": "execute_result"
    },
    {
     "data": {
      "text/plain": [
       "<tf.Variable 'UnreadVariable' shape=() dtype=float32, numpy=1.0>"
      ]
     },
     "execution_count": 70,
     "metadata": {},
     "output_type": "execute_result"
    },
    {
     "name": "stdout",
     "output_type": "stream",
     "text": [
      "training loss for for one batch at step 0 : 0.0100\n",
      "seen so far: 5 samples\n",
      "training acc over epoch: 0.000728\n",
      "\n",
      "Start of epoch 133\n",
      "xtrain:  (5, 2)\n"
     ]
    },
    {
     "data": {
      "text/plain": [
       "<tf.Variable 'UnreadVariable' shape=() dtype=int64, numpy=134>"
      ]
     },
     "execution_count": 70,
     "metadata": {},
     "output_type": "execute_result"
    },
    {
     "data": {
      "text/plain": [
       "<tf.Variable 'UnreadVariable' shape=() dtype=float32, numpy=1.0>"
      ]
     },
     "execution_count": 70,
     "metadata": {},
     "output_type": "execute_result"
    },
    {
     "name": "stdout",
     "output_type": "stream",
     "text": [
      "training loss for for one batch at step 0 : 0.0100\n",
      "seen so far: 5 samples\n",
      "training acc over epoch: 0.000548\n",
      "\n",
      "Start of epoch 134\n",
      "xtrain:  (5, 2)\n"
     ]
    },
    {
     "data": {
      "text/plain": [
       "<tf.Variable 'UnreadVariable' shape=() dtype=int64, numpy=135>"
      ]
     },
     "execution_count": 70,
     "metadata": {},
     "output_type": "execute_result"
    },
    {
     "data": {
      "text/plain": [
       "<tf.Variable 'UnreadVariable' shape=() dtype=float32, numpy=1.0>"
      ]
     },
     "execution_count": 70,
     "metadata": {},
     "output_type": "execute_result"
    },
    {
     "name": "stdout",
     "output_type": "stream",
     "text": [
      "training loss for for one batch at step 0 : 0.0100\n",
      "seen so far: 5 samples\n",
      "training acc over epoch: 0.000726\n",
      "\n",
      "Start of epoch 135\n",
      "xtrain:  (5, 2)\n"
     ]
    },
    {
     "data": {
      "text/plain": [
       "<tf.Variable 'UnreadVariable' shape=() dtype=int64, numpy=136>"
      ]
     },
     "execution_count": 70,
     "metadata": {},
     "output_type": "execute_result"
    },
    {
     "data": {
      "text/plain": [
       "<tf.Variable 'UnreadVariable' shape=() dtype=float32, numpy=1.0>"
      ]
     },
     "execution_count": 70,
     "metadata": {},
     "output_type": "execute_result"
    },
    {
     "name": "stdout",
     "output_type": "stream",
     "text": [
      "training loss for for one batch at step 0 : 0.0100\n",
      "seen so far: 5 samples\n",
      "training acc over epoch: 0.000494\n",
      "\n",
      "Start of epoch 136\n",
      "xtrain:  (5, 2)\n"
     ]
    },
    {
     "data": {
      "text/plain": [
       "<tf.Variable 'UnreadVariable' shape=() dtype=int64, numpy=137>"
      ]
     },
     "execution_count": 70,
     "metadata": {},
     "output_type": "execute_result"
    },
    {
     "data": {
      "text/plain": [
       "<tf.Variable 'UnreadVariable' shape=() dtype=float32, numpy=1.0>"
      ]
     },
     "execution_count": 70,
     "metadata": {},
     "output_type": "execute_result"
    },
    {
     "name": "stdout",
     "output_type": "stream",
     "text": [
      "training loss for for one batch at step 0 : 0.0100\n",
      "seen so far: 5 samples\n",
      "training acc over epoch: 0.000546\n",
      "\n",
      "Start of epoch 137\n",
      "xtrain:  (5, 2)\n"
     ]
    },
    {
     "data": {
      "text/plain": [
       "<tf.Variable 'UnreadVariable' shape=() dtype=int64, numpy=138>"
      ]
     },
     "execution_count": 70,
     "metadata": {},
     "output_type": "execute_result"
    },
    {
     "data": {
      "text/plain": [
       "<tf.Variable 'UnreadVariable' shape=() dtype=float32, numpy=1.0>"
      ]
     },
     "execution_count": 70,
     "metadata": {},
     "output_type": "execute_result"
    },
    {
     "name": "stdout",
     "output_type": "stream",
     "text": [
      "training loss for for one batch at step 0 : 0.0100\n",
      "seen so far: 5 samples\n",
      "training acc over epoch: 0.000520\n",
      "\n",
      "Start of epoch 138\n",
      "xtrain:  (5, 2)\n"
     ]
    },
    {
     "data": {
      "text/plain": [
       "<tf.Variable 'UnreadVariable' shape=() dtype=int64, numpy=139>"
      ]
     },
     "execution_count": 70,
     "metadata": {},
     "output_type": "execute_result"
    },
    {
     "data": {
      "text/plain": [
       "<tf.Variable 'UnreadVariable' shape=() dtype=float32, numpy=1.0>"
      ]
     },
     "execution_count": 70,
     "metadata": {},
     "output_type": "execute_result"
    },
    {
     "name": "stdout",
     "output_type": "stream",
     "text": [
      "training loss for for one batch at step 0 : 0.0100\n",
      "seen so far: 5 samples\n",
      "training acc over epoch: 0.000364\n",
      "\n",
      "Start of epoch 139\n",
      "xtrain:  (5, 2)\n"
     ]
    },
    {
     "data": {
      "text/plain": [
       "<tf.Variable 'UnreadVariable' shape=() dtype=int64, numpy=140>"
      ]
     },
     "execution_count": 70,
     "metadata": {},
     "output_type": "execute_result"
    },
    {
     "data": {
      "text/plain": [
       "<tf.Variable 'UnreadVariable' shape=() dtype=float32, numpy=1.0>"
      ]
     },
     "execution_count": 70,
     "metadata": {},
     "output_type": "execute_result"
    },
    {
     "name": "stdout",
     "output_type": "stream",
     "text": [
      "training loss for for one batch at step 0 : 0.0100\n",
      "seen so far: 5 samples\n",
      "training acc over epoch: 0.000532\n",
      "\n",
      "Start of epoch 140\n",
      "xtrain:  (5, 2)\n"
     ]
    },
    {
     "data": {
      "text/plain": [
       "<tf.Variable 'UnreadVariable' shape=() dtype=int64, numpy=141>"
      ]
     },
     "execution_count": 70,
     "metadata": {},
     "output_type": "execute_result"
    },
    {
     "data": {
      "text/plain": [
       "<tf.Variable 'UnreadVariable' shape=() dtype=float32, numpy=1.0>"
      ]
     },
     "execution_count": 70,
     "metadata": {},
     "output_type": "execute_result"
    },
    {
     "name": "stdout",
     "output_type": "stream",
     "text": [
      "training loss for for one batch at step 0 : 0.0100\n",
      "seen so far: 5 samples\n",
      "training acc over epoch: 0.000240\n",
      "\n",
      "Start of epoch 141\n",
      "xtrain:  (5, 2)\n"
     ]
    },
    {
     "data": {
      "text/plain": [
       "<tf.Variable 'UnreadVariable' shape=() dtype=int64, numpy=142>"
      ]
     },
     "execution_count": 70,
     "metadata": {},
     "output_type": "execute_result"
    },
    {
     "data": {
      "text/plain": [
       "<tf.Variable 'UnreadVariable' shape=() dtype=float32, numpy=1.0>"
      ]
     },
     "execution_count": 70,
     "metadata": {},
     "output_type": "execute_result"
    },
    {
     "name": "stdout",
     "output_type": "stream",
     "text": [
      "training loss for for one batch at step 0 : 0.0100\n",
      "seen so far: 5 samples\n",
      "training acc over epoch: 0.000423\n",
      "\n",
      "Start of epoch 142\n",
      "xtrain:  (5, 2)\n"
     ]
    },
    {
     "data": {
      "text/plain": [
       "<tf.Variable 'UnreadVariable' shape=() dtype=int64, numpy=143>"
      ]
     },
     "execution_count": 70,
     "metadata": {},
     "output_type": "execute_result"
    },
    {
     "data": {
      "text/plain": [
       "<tf.Variable 'UnreadVariable' shape=() dtype=float32, numpy=1.0>"
      ]
     },
     "execution_count": 70,
     "metadata": {},
     "output_type": "execute_result"
    },
    {
     "name": "stdout",
     "output_type": "stream",
     "text": [
      "training loss for for one batch at step 0 : 0.0100\n",
      "seen so far: 5 samples\n",
      "training acc over epoch: 0.000343\n",
      "\n",
      "Start of epoch 143\n",
      "xtrain:  (5, 2)\n"
     ]
    },
    {
     "data": {
      "text/plain": [
       "<tf.Variable 'UnreadVariable' shape=() dtype=int64, numpy=144>"
      ]
     },
     "execution_count": 70,
     "metadata": {},
     "output_type": "execute_result"
    },
    {
     "data": {
      "text/plain": [
       "<tf.Variable 'UnreadVariable' shape=() dtype=float32, numpy=1.0>"
      ]
     },
     "execution_count": 70,
     "metadata": {},
     "output_type": "execute_result"
    },
    {
     "name": "stdout",
     "output_type": "stream",
     "text": [
      "training loss for for one batch at step 0 : 0.0100\n",
      "seen so far: 5 samples\n",
      "training acc over epoch: 0.000286\n",
      "\n",
      "Start of epoch 144\n",
      "xtrain:  (5, 2)\n"
     ]
    },
    {
     "data": {
      "text/plain": [
       "<tf.Variable 'UnreadVariable' shape=() dtype=int64, numpy=145>"
      ]
     },
     "execution_count": 70,
     "metadata": {},
     "output_type": "execute_result"
    },
    {
     "data": {
      "text/plain": [
       "<tf.Variable 'UnreadVariable' shape=() dtype=float32, numpy=1.0>"
      ]
     },
     "execution_count": 70,
     "metadata": {},
     "output_type": "execute_result"
    },
    {
     "name": "stdout",
     "output_type": "stream",
     "text": [
      "training loss for for one batch at step 0 : 0.0100\n",
      "seen so far: 5 samples\n",
      "training acc over epoch: 0.000347\n",
      "\n",
      "Start of epoch 145\n",
      "xtrain:  (5, 2)\n"
     ]
    },
    {
     "data": {
      "text/plain": [
       "<tf.Variable 'UnreadVariable' shape=() dtype=int64, numpy=146>"
      ]
     },
     "execution_count": 70,
     "metadata": {},
     "output_type": "execute_result"
    },
    {
     "data": {
      "text/plain": [
       "<tf.Variable 'UnreadVariable' shape=() dtype=float32, numpy=1.0>"
      ]
     },
     "execution_count": 70,
     "metadata": {},
     "output_type": "execute_result"
    },
    {
     "name": "stdout",
     "output_type": "stream",
     "text": [
      "training loss for for one batch at step 0 : 0.0100\n",
      "seen so far: 5 samples\n",
      "training acc over epoch: 0.000275\n",
      "\n",
      "Start of epoch 146\n",
      "xtrain:  (5, 2)\n"
     ]
    },
    {
     "data": {
      "text/plain": [
       "<tf.Variable 'UnreadVariable' shape=() dtype=int64, numpy=147>"
      ]
     },
     "execution_count": 70,
     "metadata": {},
     "output_type": "execute_result"
    },
    {
     "data": {
      "text/plain": [
       "<tf.Variable 'UnreadVariable' shape=() dtype=float32, numpy=1.0>"
      ]
     },
     "execution_count": 70,
     "metadata": {},
     "output_type": "execute_result"
    },
    {
     "name": "stdout",
     "output_type": "stream",
     "text": [
      "training loss for for one batch at step 0 : 0.0100\n",
      "seen so far: 5 samples\n",
      "training acc over epoch: 0.000401\n",
      "\n",
      "Start of epoch 147\n",
      "xtrain:  (5, 2)\n"
     ]
    },
    {
     "data": {
      "text/plain": [
       "<tf.Variable 'UnreadVariable' shape=() dtype=int64, numpy=148>"
      ]
     },
     "execution_count": 70,
     "metadata": {},
     "output_type": "execute_result"
    },
    {
     "data": {
      "text/plain": [
       "<tf.Variable 'UnreadVariable' shape=() dtype=float32, numpy=1.0>"
      ]
     },
     "execution_count": 70,
     "metadata": {},
     "output_type": "execute_result"
    },
    {
     "name": "stdout",
     "output_type": "stream",
     "text": [
      "training loss for for one batch at step 0 : 0.0100\n",
      "seen so far: 5 samples\n",
      "training acc over epoch: 0.000309\n",
      "\n",
      "Start of epoch 148\n",
      "xtrain:  (5, 2)\n"
     ]
    },
    {
     "data": {
      "text/plain": [
       "<tf.Variable 'UnreadVariable' shape=() dtype=int64, numpy=149>"
      ]
     },
     "execution_count": 70,
     "metadata": {},
     "output_type": "execute_result"
    },
    {
     "data": {
      "text/plain": [
       "<tf.Variable 'UnreadVariable' shape=() dtype=float32, numpy=1.0>"
      ]
     },
     "execution_count": 70,
     "metadata": {},
     "output_type": "execute_result"
    },
    {
     "name": "stdout",
     "output_type": "stream",
     "text": [
      "training loss for for one batch at step 0 : 0.0100\n",
      "seen so far: 5 samples\n",
      "training acc over epoch: 0.000362\n",
      "\n",
      "Start of epoch 149\n",
      "xtrain:  (5, 2)\n"
     ]
    },
    {
     "data": {
      "text/plain": [
       "<tf.Variable 'UnreadVariable' shape=() dtype=int64, numpy=150>"
      ]
     },
     "execution_count": 70,
     "metadata": {},
     "output_type": "execute_result"
    },
    {
     "data": {
      "text/plain": [
       "<tf.Variable 'UnreadVariable' shape=() dtype=float32, numpy=1.0>"
      ]
     },
     "execution_count": 70,
     "metadata": {},
     "output_type": "execute_result"
    },
    {
     "name": "stdout",
     "output_type": "stream",
     "text": [
      "training loss for for one batch at step 0 : 0.0100\n",
      "seen so far: 5 samples\n",
      "training acc over epoch: 0.000361\n",
      "\n",
      "Start of epoch 150\n",
      "xtrain:  (5, 2)\n"
     ]
    },
    {
     "data": {
      "text/plain": [
       "<tf.Variable 'UnreadVariable' shape=() dtype=int64, numpy=151>"
      ]
     },
     "execution_count": 70,
     "metadata": {},
     "output_type": "execute_result"
    },
    {
     "data": {
      "text/plain": [
       "<tf.Variable 'UnreadVariable' shape=() dtype=float32, numpy=1.0>"
      ]
     },
     "execution_count": 70,
     "metadata": {},
     "output_type": "execute_result"
    },
    {
     "name": "stdout",
     "output_type": "stream",
     "text": [
      "training loss for for one batch at step 0 : 0.0100\n",
      "seen so far: 5 samples\n",
      "training acc over epoch: 0.000330\n",
      "\n",
      "Start of epoch 151\n",
      "xtrain:  (5, 2)\n"
     ]
    },
    {
     "data": {
      "text/plain": [
       "<tf.Variable 'UnreadVariable' shape=() dtype=int64, numpy=152>"
      ]
     },
     "execution_count": 70,
     "metadata": {},
     "output_type": "execute_result"
    },
    {
     "data": {
      "text/plain": [
       "<tf.Variable 'UnreadVariable' shape=() dtype=float32, numpy=1.0>"
      ]
     },
     "execution_count": 70,
     "metadata": {},
     "output_type": "execute_result"
    },
    {
     "name": "stdout",
     "output_type": "stream",
     "text": [
      "training loss for for one batch at step 0 : 0.0100\n",
      "seen so far: 5 samples\n",
      "training acc over epoch: 0.000348\n",
      "\n",
      "Start of epoch 152\n",
      "xtrain:  (5, 2)\n"
     ]
    },
    {
     "data": {
      "text/plain": [
       "<tf.Variable 'UnreadVariable' shape=() dtype=int64, numpy=153>"
      ]
     },
     "execution_count": 70,
     "metadata": {},
     "output_type": "execute_result"
    },
    {
     "data": {
      "text/plain": [
       "<tf.Variable 'UnreadVariable' shape=() dtype=float32, numpy=1.0>"
      ]
     },
     "execution_count": 70,
     "metadata": {},
     "output_type": "execute_result"
    },
    {
     "name": "stdout",
     "output_type": "stream",
     "text": [
      "training loss for for one batch at step 0 : 0.0100\n",
      "seen so far: 5 samples\n",
      "training acc over epoch: 0.000314\n",
      "\n",
      "Start of epoch 153\n",
      "xtrain:  (5, 2)\n"
     ]
    },
    {
     "data": {
      "text/plain": [
       "<tf.Variable 'UnreadVariable' shape=() dtype=int64, numpy=154>"
      ]
     },
     "execution_count": 70,
     "metadata": {},
     "output_type": "execute_result"
    },
    {
     "data": {
      "text/plain": [
       "<tf.Variable 'UnreadVariable' shape=() dtype=float32, numpy=1.0>"
      ]
     },
     "execution_count": 70,
     "metadata": {},
     "output_type": "execute_result"
    },
    {
     "name": "stdout",
     "output_type": "stream",
     "text": [
      "training loss for for one batch at step 0 : 0.0100\n",
      "seen so far: 5 samples\n",
      "training acc over epoch: 0.000366\n",
      "\n",
      "Start of epoch 154\n",
      "xtrain:  (5, 2)\n"
     ]
    },
    {
     "data": {
      "text/plain": [
       "<tf.Variable 'UnreadVariable' shape=() dtype=int64, numpy=155>"
      ]
     },
     "execution_count": 70,
     "metadata": {},
     "output_type": "execute_result"
    },
    {
     "data": {
      "text/plain": [
       "<tf.Variable 'UnreadVariable' shape=() dtype=float32, numpy=1.0>"
      ]
     },
     "execution_count": 70,
     "metadata": {},
     "output_type": "execute_result"
    },
    {
     "name": "stdout",
     "output_type": "stream",
     "text": [
      "training loss for for one batch at step 0 : 0.0100\n",
      "seen so far: 5 samples\n",
      "training acc over epoch: 0.000329\n",
      "\n",
      "Start of epoch 155\n",
      "xtrain:  (5, 2)\n"
     ]
    },
    {
     "data": {
      "text/plain": [
       "<tf.Variable 'UnreadVariable' shape=() dtype=int64, numpy=156>"
      ]
     },
     "execution_count": 70,
     "metadata": {},
     "output_type": "execute_result"
    },
    {
     "data": {
      "text/plain": [
       "<tf.Variable 'UnreadVariable' shape=() dtype=float32, numpy=1.0>"
      ]
     },
     "execution_count": 70,
     "metadata": {},
     "output_type": "execute_result"
    },
    {
     "name": "stdout",
     "output_type": "stream",
     "text": [
      "training loss for for one batch at step 0 : 0.0100\n",
      "seen so far: 5 samples\n",
      "training acc over epoch: 0.000322\n",
      "\n",
      "Start of epoch 156\n",
      "xtrain:  (5, 2)\n"
     ]
    },
    {
     "data": {
      "text/plain": [
       "<tf.Variable 'UnreadVariable' shape=() dtype=int64, numpy=157>"
      ]
     },
     "execution_count": 70,
     "metadata": {},
     "output_type": "execute_result"
    },
    {
     "data": {
      "text/plain": [
       "<tf.Variable 'UnreadVariable' shape=() dtype=float32, numpy=1.0>"
      ]
     },
     "execution_count": 70,
     "metadata": {},
     "output_type": "execute_result"
    },
    {
     "name": "stdout",
     "output_type": "stream",
     "text": [
      "training loss for for one batch at step 0 : 0.0100\n",
      "seen so far: 5 samples\n",
      "training acc over epoch: 0.000314\n",
      "\n",
      "Start of epoch 157\n",
      "xtrain:  (5, 2)\n"
     ]
    },
    {
     "data": {
      "text/plain": [
       "<tf.Variable 'UnreadVariable' shape=() dtype=int64, numpy=158>"
      ]
     },
     "execution_count": 70,
     "metadata": {},
     "output_type": "execute_result"
    },
    {
     "data": {
      "text/plain": [
       "<tf.Variable 'UnreadVariable' shape=() dtype=float32, numpy=1.0>"
      ]
     },
     "execution_count": 70,
     "metadata": {},
     "output_type": "execute_result"
    },
    {
     "name": "stdout",
     "output_type": "stream",
     "text": [
      "training loss for for one batch at step 0 : 0.0100\n",
      "seen so far: 5 samples\n",
      "training acc over epoch: 0.000305\n",
      "\n",
      "Start of epoch 158\n",
      "xtrain:  (5, 2)\n"
     ]
    },
    {
     "data": {
      "text/plain": [
       "<tf.Variable 'UnreadVariable' shape=() dtype=int64, numpy=159>"
      ]
     },
     "execution_count": 70,
     "metadata": {},
     "output_type": "execute_result"
    },
    {
     "data": {
      "text/plain": [
       "<tf.Variable 'UnreadVariable' shape=() dtype=float32, numpy=1.0>"
      ]
     },
     "execution_count": 70,
     "metadata": {},
     "output_type": "execute_result"
    },
    {
     "name": "stdout",
     "output_type": "stream",
     "text": [
      "training loss for for one batch at step 0 : 0.0100\n",
      "seen so far: 5 samples\n",
      "training acc over epoch: 0.000318\n",
      "\n",
      "Start of epoch 159\n",
      "xtrain:  (5, 2)\n"
     ]
    },
    {
     "data": {
      "text/plain": [
       "<tf.Variable 'UnreadVariable' shape=() dtype=int64, numpy=160>"
      ]
     },
     "execution_count": 70,
     "metadata": {},
     "output_type": "execute_result"
    },
    {
     "data": {
      "text/plain": [
       "<tf.Variable 'UnreadVariable' shape=() dtype=float32, numpy=1.0>"
      ]
     },
     "execution_count": 70,
     "metadata": {},
     "output_type": "execute_result"
    },
    {
     "name": "stdout",
     "output_type": "stream",
     "text": [
      "training loss for for one batch at step 0 : 0.0100\n",
      "seen so far: 5 samples\n",
      "training acc over epoch: 0.000265\n",
      "\n",
      "Start of epoch 160\n",
      "xtrain:  (5, 2)\n"
     ]
    },
    {
     "data": {
      "text/plain": [
       "<tf.Variable 'UnreadVariable' shape=() dtype=int64, numpy=161>"
      ]
     },
     "execution_count": 70,
     "metadata": {},
     "output_type": "execute_result"
    },
    {
     "data": {
      "text/plain": [
       "<tf.Variable 'UnreadVariable' shape=() dtype=float32, numpy=1.0>"
      ]
     },
     "execution_count": 70,
     "metadata": {},
     "output_type": "execute_result"
    },
    {
     "name": "stdout",
     "output_type": "stream",
     "text": [
      "training loss for for one batch at step 0 : 0.0100\n",
      "seen so far: 5 samples\n",
      "training acc over epoch: 0.000275\n",
      "\n",
      "Start of epoch 161\n",
      "xtrain:  (5, 2)\n"
     ]
    },
    {
     "data": {
      "text/plain": [
       "<tf.Variable 'UnreadVariable' shape=() dtype=int64, numpy=162>"
      ]
     },
     "execution_count": 70,
     "metadata": {},
     "output_type": "execute_result"
    },
    {
     "data": {
      "text/plain": [
       "<tf.Variable 'UnreadVariable' shape=() dtype=float32, numpy=1.0>"
      ]
     },
     "execution_count": 70,
     "metadata": {},
     "output_type": "execute_result"
    },
    {
     "name": "stdout",
     "output_type": "stream",
     "text": [
      "training loss for for one batch at step 0 : 0.0100\n",
      "seen so far: 5 samples\n",
      "training acc over epoch: 0.000250\n",
      "\n",
      "Start of epoch 162\n",
      "xtrain:  (5, 2)\n"
     ]
    },
    {
     "data": {
      "text/plain": [
       "<tf.Variable 'UnreadVariable' shape=() dtype=int64, numpy=163>"
      ]
     },
     "execution_count": 70,
     "metadata": {},
     "output_type": "execute_result"
    },
    {
     "data": {
      "text/plain": [
       "<tf.Variable 'UnreadVariable' shape=() dtype=float32, numpy=1.0>"
      ]
     },
     "execution_count": 70,
     "metadata": {},
     "output_type": "execute_result"
    },
    {
     "name": "stdout",
     "output_type": "stream",
     "text": [
      "training loss for for one batch at step 0 : 0.0100\n",
      "seen so far: 5 samples\n",
      "training acc over epoch: 0.000259\n",
      "\n",
      "Start of epoch 163\n",
      "xtrain:  (5, 2)\n"
     ]
    },
    {
     "data": {
      "text/plain": [
       "<tf.Variable 'UnreadVariable' shape=() dtype=int64, numpy=164>"
      ]
     },
     "execution_count": 70,
     "metadata": {},
     "output_type": "execute_result"
    },
    {
     "data": {
      "text/plain": [
       "<tf.Variable 'UnreadVariable' shape=() dtype=float32, numpy=1.0>"
      ]
     },
     "execution_count": 70,
     "metadata": {},
     "output_type": "execute_result"
    },
    {
     "name": "stdout",
     "output_type": "stream",
     "text": [
      "training loss for for one batch at step 0 : 0.0100\n",
      "seen so far: 5 samples\n",
      "training acc over epoch: 0.000240\n",
      "\n",
      "Start of epoch 164\n",
      "xtrain:  (5, 2)\n"
     ]
    },
    {
     "data": {
      "text/plain": [
       "<tf.Variable 'UnreadVariable' shape=() dtype=int64, numpy=165>"
      ]
     },
     "execution_count": 70,
     "metadata": {},
     "output_type": "execute_result"
    },
    {
     "data": {
      "text/plain": [
       "<tf.Variable 'UnreadVariable' shape=() dtype=float32, numpy=1.0>"
      ]
     },
     "execution_count": 70,
     "metadata": {},
     "output_type": "execute_result"
    },
    {
     "name": "stdout",
     "output_type": "stream",
     "text": [
      "training loss for for one batch at step 0 : 0.0100\n",
      "seen so far: 5 samples\n",
      "training acc over epoch: 0.000215\n",
      "\n",
      "Start of epoch 165\n",
      "xtrain:  (5, 2)\n"
     ]
    },
    {
     "data": {
      "text/plain": [
       "<tf.Variable 'UnreadVariable' shape=() dtype=int64, numpy=166>"
      ]
     },
     "execution_count": 70,
     "metadata": {},
     "output_type": "execute_result"
    },
    {
     "data": {
      "text/plain": [
       "<tf.Variable 'UnreadVariable' shape=() dtype=float32, numpy=1.0>"
      ]
     },
     "execution_count": 70,
     "metadata": {},
     "output_type": "execute_result"
    },
    {
     "name": "stdout",
     "output_type": "stream",
     "text": [
      "training loss for for one batch at step 0 : 0.0100\n",
      "seen so far: 5 samples\n",
      "training acc over epoch: 0.000208\n",
      "\n",
      "Start of epoch 166\n",
      "xtrain:  (5, 2)\n"
     ]
    },
    {
     "data": {
      "text/plain": [
       "<tf.Variable 'UnreadVariable' shape=() dtype=int64, numpy=167>"
      ]
     },
     "execution_count": 70,
     "metadata": {},
     "output_type": "execute_result"
    },
    {
     "data": {
      "text/plain": [
       "<tf.Variable 'UnreadVariable' shape=() dtype=float32, numpy=1.0>"
      ]
     },
     "execution_count": 70,
     "metadata": {},
     "output_type": "execute_result"
    },
    {
     "name": "stdout",
     "output_type": "stream",
     "text": [
      "training loss for for one batch at step 0 : 0.0100\n",
      "seen so far: 5 samples\n",
      "training acc over epoch: 0.000183\n",
      "\n",
      "Start of epoch 167\n",
      "xtrain:  (5, 2)\n"
     ]
    },
    {
     "data": {
      "text/plain": [
       "<tf.Variable 'UnreadVariable' shape=() dtype=int64, numpy=168>"
      ]
     },
     "execution_count": 70,
     "metadata": {},
     "output_type": "execute_result"
    },
    {
     "data": {
      "text/plain": [
       "<tf.Variable 'UnreadVariable' shape=() dtype=float32, numpy=1.0>"
      ]
     },
     "execution_count": 70,
     "metadata": {},
     "output_type": "execute_result"
    },
    {
     "name": "stdout",
     "output_type": "stream",
     "text": [
      "training loss for for one batch at step 0 : 0.0100\n",
      "seen so far: 5 samples\n",
      "training acc over epoch: 0.000192\n",
      "\n",
      "Start of epoch 168\n",
      "xtrain:  (5, 2)\n"
     ]
    },
    {
     "data": {
      "text/plain": [
       "<tf.Variable 'UnreadVariable' shape=() dtype=int64, numpy=169>"
      ]
     },
     "execution_count": 70,
     "metadata": {},
     "output_type": "execute_result"
    },
    {
     "data": {
      "text/plain": [
       "<tf.Variable 'UnreadVariable' shape=() dtype=float32, numpy=1.0>"
      ]
     },
     "execution_count": 70,
     "metadata": {},
     "output_type": "execute_result"
    },
    {
     "name": "stdout",
     "output_type": "stream",
     "text": [
      "training loss for for one batch at step 0 : 0.0100\n",
      "seen so far: 5 samples\n",
      "training acc over epoch: 0.000155\n",
      "\n",
      "Start of epoch 169\n",
      "xtrain:  (5, 2)\n"
     ]
    },
    {
     "data": {
      "text/plain": [
       "<tf.Variable 'UnreadVariable' shape=() dtype=int64, numpy=170>"
      ]
     },
     "execution_count": 70,
     "metadata": {},
     "output_type": "execute_result"
    },
    {
     "data": {
      "text/plain": [
       "<tf.Variable 'UnreadVariable' shape=() dtype=float32, numpy=1.0>"
      ]
     },
     "execution_count": 70,
     "metadata": {},
     "output_type": "execute_result"
    },
    {
     "name": "stdout",
     "output_type": "stream",
     "text": [
      "training loss for for one batch at step 0 : 0.0100\n",
      "seen so far: 5 samples\n",
      "training acc over epoch: 0.000155\n",
      "\n",
      "Start of epoch 170\n",
      "xtrain:  (5, 2)\n"
     ]
    },
    {
     "data": {
      "text/plain": [
       "<tf.Variable 'UnreadVariable' shape=() dtype=int64, numpy=171>"
      ]
     },
     "execution_count": 70,
     "metadata": {},
     "output_type": "execute_result"
    },
    {
     "data": {
      "text/plain": [
       "<tf.Variable 'UnreadVariable' shape=() dtype=float32, numpy=1.0>"
      ]
     },
     "execution_count": 70,
     "metadata": {},
     "output_type": "execute_result"
    },
    {
     "name": "stdout",
     "output_type": "stream",
     "text": [
      "training loss for for one batch at step 0 : 0.0100\n",
      "seen so far: 5 samples\n",
      "training acc over epoch: 0.000136\n",
      "\n",
      "Start of epoch 171\n",
      "xtrain:  (5, 2)\n"
     ]
    },
    {
     "data": {
      "text/plain": [
       "<tf.Variable 'UnreadVariable' shape=() dtype=int64, numpy=172>"
      ]
     },
     "execution_count": 70,
     "metadata": {},
     "output_type": "execute_result"
    },
    {
     "data": {
      "text/plain": [
       "<tf.Variable 'UnreadVariable' shape=() dtype=float32, numpy=1.0>"
      ]
     },
     "execution_count": 70,
     "metadata": {},
     "output_type": "execute_result"
    },
    {
     "name": "stdout",
     "output_type": "stream",
     "text": [
      "training loss for for one batch at step 0 : 0.0100\n",
      "seen so far: 5 samples\n",
      "training acc over epoch: 0.000131\n",
      "\n",
      "Start of epoch 172\n",
      "xtrain:  (5, 2)\n"
     ]
    },
    {
     "data": {
      "text/plain": [
       "<tf.Variable 'UnreadVariable' shape=() dtype=int64, numpy=173>"
      ]
     },
     "execution_count": 70,
     "metadata": {},
     "output_type": "execute_result"
    },
    {
     "data": {
      "text/plain": [
       "<tf.Variable 'UnreadVariable' shape=() dtype=float32, numpy=1.0>"
      ]
     },
     "execution_count": 70,
     "metadata": {},
     "output_type": "execute_result"
    },
    {
     "name": "stdout",
     "output_type": "stream",
     "text": [
      "training loss for for one batch at step 0 : 0.0100\n",
      "seen so far: 5 samples\n",
      "training acc over epoch: 0.000120\n",
      "\n",
      "Start of epoch 173\n",
      "xtrain:  (5, 2)\n"
     ]
    },
    {
     "data": {
      "text/plain": [
       "<tf.Variable 'UnreadVariable' shape=() dtype=int64, numpy=174>"
      ]
     },
     "execution_count": 70,
     "metadata": {},
     "output_type": "execute_result"
    },
    {
     "data": {
      "text/plain": [
       "<tf.Variable 'UnreadVariable' shape=() dtype=float32, numpy=1.0>"
      ]
     },
     "execution_count": 70,
     "metadata": {},
     "output_type": "execute_result"
    },
    {
     "name": "stdout",
     "output_type": "stream",
     "text": [
      "training loss for for one batch at step 0 : 0.0100\n",
      "seen so far: 5 samples\n",
      "training acc over epoch: 0.000101\n",
      "\n",
      "Start of epoch 174\n",
      "xtrain:  (5, 2)\n"
     ]
    },
    {
     "data": {
      "text/plain": [
       "<tf.Variable 'UnreadVariable' shape=() dtype=int64, numpy=175>"
      ]
     },
     "execution_count": 70,
     "metadata": {},
     "output_type": "execute_result"
    },
    {
     "data": {
      "text/plain": [
       "<tf.Variable 'UnreadVariable' shape=() dtype=float32, numpy=1.0>"
      ]
     },
     "execution_count": 70,
     "metadata": {},
     "output_type": "execute_result"
    },
    {
     "name": "stdout",
     "output_type": "stream",
     "text": [
      "training loss for for one batch at step 0 : 0.0100\n",
      "seen so far: 5 samples\n",
      "training acc over epoch: 0.000103\n",
      "\n",
      "Start of epoch 175\n",
      "xtrain:  (5, 2)\n"
     ]
    },
    {
     "data": {
      "text/plain": [
       "<tf.Variable 'UnreadVariable' shape=() dtype=int64, numpy=176>"
      ]
     },
     "execution_count": 70,
     "metadata": {},
     "output_type": "execute_result"
    },
    {
     "data": {
      "text/plain": [
       "<tf.Variable 'UnreadVariable' shape=() dtype=float32, numpy=1.0>"
      ]
     },
     "execution_count": 70,
     "metadata": {},
     "output_type": "execute_result"
    },
    {
     "name": "stdout",
     "output_type": "stream",
     "text": [
      "training loss for for one batch at step 0 : 0.0100\n",
      "seen so far: 5 samples\n",
      "training acc over epoch: 0.000074\n",
      "\n",
      "Start of epoch 176\n",
      "xtrain:  (5, 2)\n"
     ]
    },
    {
     "data": {
      "text/plain": [
       "<tf.Variable 'UnreadVariable' shape=() dtype=int64, numpy=177>"
      ]
     },
     "execution_count": 70,
     "metadata": {},
     "output_type": "execute_result"
    },
    {
     "data": {
      "text/plain": [
       "<tf.Variable 'UnreadVariable' shape=() dtype=float32, numpy=1.0>"
      ]
     },
     "execution_count": 70,
     "metadata": {},
     "output_type": "execute_result"
    },
    {
     "name": "stdout",
     "output_type": "stream",
     "text": [
      "training loss for for one batch at step 0 : 0.0100\n",
      "seen so far: 5 samples\n",
      "training acc over epoch: 0.000079\n",
      "\n",
      "Start of epoch 177\n",
      "xtrain:  (5, 2)\n"
     ]
    },
    {
     "data": {
      "text/plain": [
       "<tf.Variable 'UnreadVariable' shape=() dtype=int64, numpy=178>"
      ]
     },
     "execution_count": 70,
     "metadata": {},
     "output_type": "execute_result"
    },
    {
     "data": {
      "text/plain": [
       "<tf.Variable 'UnreadVariable' shape=() dtype=float32, numpy=1.0>"
      ]
     },
     "execution_count": 70,
     "metadata": {},
     "output_type": "execute_result"
    },
    {
     "name": "stdout",
     "output_type": "stream",
     "text": [
      "training loss for for one batch at step 0 : 0.0100\n",
      "seen so far: 5 samples\n",
      "training acc over epoch: 0.000056\n",
      "\n",
      "Start of epoch 178\n",
      "xtrain:  (5, 2)\n"
     ]
    },
    {
     "data": {
      "text/plain": [
       "<tf.Variable 'UnreadVariable' shape=() dtype=int64, numpy=179>"
      ]
     },
     "execution_count": 70,
     "metadata": {},
     "output_type": "execute_result"
    },
    {
     "data": {
      "text/plain": [
       "<tf.Variable 'UnreadVariable' shape=() dtype=float32, numpy=1.0>"
      ]
     },
     "execution_count": 70,
     "metadata": {},
     "output_type": "execute_result"
    },
    {
     "name": "stdout",
     "output_type": "stream",
     "text": [
      "training loss for for one batch at step 0 : 0.0100\n",
      "seen so far: 5 samples\n",
      "training acc over epoch: 0.000075\n",
      "\n",
      "Start of epoch 179\n",
      "xtrain:  (5, 2)\n"
     ]
    },
    {
     "data": {
      "text/plain": [
       "<tf.Variable 'UnreadVariable' shape=() dtype=int64, numpy=180>"
      ]
     },
     "execution_count": 70,
     "metadata": {},
     "output_type": "execute_result"
    },
    {
     "data": {
      "text/plain": [
       "<tf.Variable 'UnreadVariable' shape=() dtype=float32, numpy=1.0>"
      ]
     },
     "execution_count": 70,
     "metadata": {},
     "output_type": "execute_result"
    },
    {
     "name": "stdout",
     "output_type": "stream",
     "text": [
      "training loss for for one batch at step 0 : 0.0100\n",
      "seen so far: 5 samples\n",
      "training acc over epoch: 0.000054\n",
      "\n",
      "Start of epoch 180\n",
      "xtrain:  (5, 2)\n"
     ]
    },
    {
     "data": {
      "text/plain": [
       "<tf.Variable 'UnreadVariable' shape=() dtype=int64, numpy=181>"
      ]
     },
     "execution_count": 70,
     "metadata": {},
     "output_type": "execute_result"
    },
    {
     "data": {
      "text/plain": [
       "<tf.Variable 'UnreadVariable' shape=() dtype=float32, numpy=1.0>"
      ]
     },
     "execution_count": 70,
     "metadata": {},
     "output_type": "execute_result"
    },
    {
     "name": "stdout",
     "output_type": "stream",
     "text": [
      "training loss for for one batch at step 0 : 0.0100\n",
      "seen so far: 5 samples\n",
      "training acc over epoch: 0.000062\n",
      "\n",
      "Start of epoch 181\n",
      "xtrain:  (5, 2)\n"
     ]
    },
    {
     "data": {
      "text/plain": [
       "<tf.Variable 'UnreadVariable' shape=() dtype=int64, numpy=182>"
      ]
     },
     "execution_count": 70,
     "metadata": {},
     "output_type": "execute_result"
    },
    {
     "data": {
      "text/plain": [
       "<tf.Variable 'UnreadVariable' shape=() dtype=float32, numpy=1.0>"
      ]
     },
     "execution_count": 70,
     "metadata": {},
     "output_type": "execute_result"
    },
    {
     "name": "stdout",
     "output_type": "stream",
     "text": [
      "training loss for for one batch at step 0 : 0.0100\n",
      "seen so far: 5 samples\n",
      "training acc over epoch: 0.000057\n",
      "\n",
      "Start of epoch 182\n",
      "xtrain:  (5, 2)\n"
     ]
    },
    {
     "data": {
      "text/plain": [
       "<tf.Variable 'UnreadVariable' shape=() dtype=int64, numpy=183>"
      ]
     },
     "execution_count": 70,
     "metadata": {},
     "output_type": "execute_result"
    },
    {
     "data": {
      "text/plain": [
       "<tf.Variable 'UnreadVariable' shape=() dtype=float32, numpy=1.0>"
      ]
     },
     "execution_count": 70,
     "metadata": {},
     "output_type": "execute_result"
    },
    {
     "name": "stdout",
     "output_type": "stream",
     "text": [
      "training loss for for one batch at step 0 : 0.0100\n",
      "seen so far: 5 samples\n",
      "training acc over epoch: 0.000057\n",
      "\n",
      "Start of epoch 183\n",
      "xtrain:  (5, 2)\n"
     ]
    },
    {
     "data": {
      "text/plain": [
       "<tf.Variable 'UnreadVariable' shape=() dtype=int64, numpy=184>"
      ]
     },
     "execution_count": 70,
     "metadata": {},
     "output_type": "execute_result"
    },
    {
     "data": {
      "text/plain": [
       "<tf.Variable 'UnreadVariable' shape=() dtype=float32, numpy=1.0>"
      ]
     },
     "execution_count": 70,
     "metadata": {},
     "output_type": "execute_result"
    },
    {
     "name": "stdout",
     "output_type": "stream",
     "text": [
      "training loss for for one batch at step 0 : 0.0100\n",
      "seen so far: 5 samples\n",
      "training acc over epoch: 0.000061\n",
      "\n",
      "Start of epoch 184\n",
      "xtrain:  (5, 2)\n"
     ]
    },
    {
     "data": {
      "text/plain": [
       "<tf.Variable 'UnreadVariable' shape=() dtype=int64, numpy=185>"
      ]
     },
     "execution_count": 70,
     "metadata": {},
     "output_type": "execute_result"
    },
    {
     "data": {
      "text/plain": [
       "<tf.Variable 'UnreadVariable' shape=() dtype=float32, numpy=1.0>"
      ]
     },
     "execution_count": 70,
     "metadata": {},
     "output_type": "execute_result"
    },
    {
     "name": "stdout",
     "output_type": "stream",
     "text": [
      "training loss for for one batch at step 0 : 0.0100\n",
      "seen so far: 5 samples\n",
      "training acc over epoch: 0.000040\n",
      "\n",
      "Start of epoch 185\n",
      "xtrain:  (5, 2)\n"
     ]
    },
    {
     "data": {
      "text/plain": [
       "<tf.Variable 'UnreadVariable' shape=() dtype=int64, numpy=186>"
      ]
     },
     "execution_count": 70,
     "metadata": {},
     "output_type": "execute_result"
    },
    {
     "data": {
      "text/plain": [
       "<tf.Variable 'UnreadVariable' shape=() dtype=float32, numpy=1.0>"
      ]
     },
     "execution_count": 70,
     "metadata": {},
     "output_type": "execute_result"
    },
    {
     "name": "stdout",
     "output_type": "stream",
     "text": [
      "training loss for for one batch at step 0 : 0.0100\n",
      "seen so far: 5 samples\n",
      "training acc over epoch: 0.000050\n",
      "\n",
      "Start of epoch 186\n",
      "xtrain:  (5, 2)\n"
     ]
    },
    {
     "data": {
      "text/plain": [
       "<tf.Variable 'UnreadVariable' shape=() dtype=int64, numpy=187>"
      ]
     },
     "execution_count": 70,
     "metadata": {},
     "output_type": "execute_result"
    },
    {
     "data": {
      "text/plain": [
       "<tf.Variable 'UnreadVariable' shape=() dtype=float32, numpy=1.0>"
      ]
     },
     "execution_count": 70,
     "metadata": {},
     "output_type": "execute_result"
    },
    {
     "name": "stdout",
     "output_type": "stream",
     "text": [
      "training loss for for one batch at step 0 : 0.0100\n",
      "seen so far: 5 samples\n",
      "training acc over epoch: 0.000036\n",
      "\n",
      "Start of epoch 187\n",
      "xtrain:  (5, 2)\n"
     ]
    },
    {
     "data": {
      "text/plain": [
       "<tf.Variable 'UnreadVariable' shape=() dtype=int64, numpy=188>"
      ]
     },
     "execution_count": 70,
     "metadata": {},
     "output_type": "execute_result"
    },
    {
     "data": {
      "text/plain": [
       "<tf.Variable 'UnreadVariable' shape=() dtype=float32, numpy=1.0>"
      ]
     },
     "execution_count": 70,
     "metadata": {},
     "output_type": "execute_result"
    },
    {
     "name": "stdout",
     "output_type": "stream",
     "text": [
      "training loss for for one batch at step 0 : 0.0100\n",
      "seen so far: 5 samples\n",
      "training acc over epoch: 0.000051\n",
      "\n",
      "Start of epoch 188\n",
      "xtrain:  (5, 2)\n"
     ]
    },
    {
     "data": {
      "text/plain": [
       "<tf.Variable 'UnreadVariable' shape=() dtype=int64, numpy=189>"
      ]
     },
     "execution_count": 70,
     "metadata": {},
     "output_type": "execute_result"
    },
    {
     "data": {
      "text/plain": [
       "<tf.Variable 'UnreadVariable' shape=() dtype=float32, numpy=1.0>"
      ]
     },
     "execution_count": 70,
     "metadata": {},
     "output_type": "execute_result"
    },
    {
     "name": "stdout",
     "output_type": "stream",
     "text": [
      "training loss for for one batch at step 0 : 0.0100\n",
      "seen so far: 5 samples\n",
      "training acc over epoch: 0.000032\n",
      "\n",
      "Start of epoch 189\n",
      "xtrain:  (5, 2)\n"
     ]
    },
    {
     "data": {
      "text/plain": [
       "<tf.Variable 'UnreadVariable' shape=() dtype=int64, numpy=190>"
      ]
     },
     "execution_count": 70,
     "metadata": {},
     "output_type": "execute_result"
    },
    {
     "data": {
      "text/plain": [
       "<tf.Variable 'UnreadVariable' shape=() dtype=float32, numpy=1.0>"
      ]
     },
     "execution_count": 70,
     "metadata": {},
     "output_type": "execute_result"
    },
    {
     "name": "stdout",
     "output_type": "stream",
     "text": [
      "training loss for for one batch at step 0 : 0.0100\n",
      "seen so far: 5 samples\n",
      "training acc over epoch: 0.000034\n",
      "\n",
      "Start of epoch 190\n",
      "xtrain:  (5, 2)\n"
     ]
    },
    {
     "data": {
      "text/plain": [
       "<tf.Variable 'UnreadVariable' shape=() dtype=int64, numpy=191>"
      ]
     },
     "execution_count": 70,
     "metadata": {},
     "output_type": "execute_result"
    },
    {
     "data": {
      "text/plain": [
       "<tf.Variable 'UnreadVariable' shape=() dtype=float32, numpy=1.0>"
      ]
     },
     "execution_count": 70,
     "metadata": {},
     "output_type": "execute_result"
    },
    {
     "name": "stdout",
     "output_type": "stream",
     "text": [
      "training loss for for one batch at step 0 : 0.0100\n",
      "seen so far: 5 samples\n",
      "training acc over epoch: 0.000023\n",
      "\n",
      "Start of epoch 191\n",
      "xtrain:  (5, 2)\n"
     ]
    },
    {
     "data": {
      "text/plain": [
       "<tf.Variable 'UnreadVariable' shape=() dtype=int64, numpy=192>"
      ]
     },
     "execution_count": 70,
     "metadata": {},
     "output_type": "execute_result"
    },
    {
     "data": {
      "text/plain": [
       "<tf.Variable 'UnreadVariable' shape=() dtype=float32, numpy=1.0>"
      ]
     },
     "execution_count": 70,
     "metadata": {},
     "output_type": "execute_result"
    },
    {
     "name": "stdout",
     "output_type": "stream",
     "text": [
      "training loss for for one batch at step 0 : 0.0100\n",
      "seen so far: 5 samples\n",
      "training acc over epoch: 0.000039\n",
      "\n",
      "Start of epoch 192\n",
      "xtrain:  (5, 2)\n"
     ]
    },
    {
     "data": {
      "text/plain": [
       "<tf.Variable 'UnreadVariable' shape=() dtype=int64, numpy=193>"
      ]
     },
     "execution_count": 70,
     "metadata": {},
     "output_type": "execute_result"
    },
    {
     "data": {
      "text/plain": [
       "<tf.Variable 'UnreadVariable' shape=() dtype=float32, numpy=1.0>"
      ]
     },
     "execution_count": 70,
     "metadata": {},
     "output_type": "execute_result"
    },
    {
     "name": "stdout",
     "output_type": "stream",
     "text": [
      "training loss for for one batch at step 0 : 0.0100\n",
      "seen so far: 5 samples\n",
      "training acc over epoch: 0.000038\n",
      "\n",
      "Start of epoch 193\n",
      "xtrain:  (5, 2)\n"
     ]
    },
    {
     "data": {
      "text/plain": [
       "<tf.Variable 'UnreadVariable' shape=() dtype=int64, numpy=194>"
      ]
     },
     "execution_count": 70,
     "metadata": {},
     "output_type": "execute_result"
    },
    {
     "data": {
      "text/plain": [
       "<tf.Variable 'UnreadVariable' shape=() dtype=float32, numpy=1.0>"
      ]
     },
     "execution_count": 70,
     "metadata": {},
     "output_type": "execute_result"
    },
    {
     "name": "stdout",
     "output_type": "stream",
     "text": [
      "training loss for for one batch at step 0 : 0.0100\n",
      "seen so far: 5 samples\n",
      "training acc over epoch: 0.000032\n",
      "\n",
      "Start of epoch 194\n",
      "xtrain:  (5, 2)\n"
     ]
    },
    {
     "data": {
      "text/plain": [
       "<tf.Variable 'UnreadVariable' shape=() dtype=int64, numpy=195>"
      ]
     },
     "execution_count": 70,
     "metadata": {},
     "output_type": "execute_result"
    },
    {
     "data": {
      "text/plain": [
       "<tf.Variable 'UnreadVariable' shape=() dtype=float32, numpy=1.0>"
      ]
     },
     "execution_count": 70,
     "metadata": {},
     "output_type": "execute_result"
    },
    {
     "name": "stdout",
     "output_type": "stream",
     "text": [
      "training loss for for one batch at step 0 : 0.0100\n",
      "seen so far: 5 samples\n",
      "training acc over epoch: 0.000035\n",
      "\n",
      "Start of epoch 195\n",
      "xtrain:  (5, 2)\n"
     ]
    },
    {
     "data": {
      "text/plain": [
       "<tf.Variable 'UnreadVariable' shape=() dtype=int64, numpy=196>"
      ]
     },
     "execution_count": 70,
     "metadata": {},
     "output_type": "execute_result"
    },
    {
     "data": {
      "text/plain": [
       "<tf.Variable 'UnreadVariable' shape=() dtype=float32, numpy=1.0>"
      ]
     },
     "execution_count": 70,
     "metadata": {},
     "output_type": "execute_result"
    },
    {
     "name": "stdout",
     "output_type": "stream",
     "text": [
      "training loss for for one batch at step 0 : 0.0100\n",
      "seen so far: 5 samples\n",
      "training acc over epoch: 0.000038\n",
      "\n",
      "Start of epoch 196\n",
      "xtrain:  (5, 2)\n"
     ]
    },
    {
     "data": {
      "text/plain": [
       "<tf.Variable 'UnreadVariable' shape=() dtype=int64, numpy=197>"
      ]
     },
     "execution_count": 70,
     "metadata": {},
     "output_type": "execute_result"
    },
    {
     "data": {
      "text/plain": [
       "<tf.Variable 'UnreadVariable' shape=() dtype=float32, numpy=1.0>"
      ]
     },
     "execution_count": 70,
     "metadata": {},
     "output_type": "execute_result"
    },
    {
     "name": "stdout",
     "output_type": "stream",
     "text": [
      "training loss for for one batch at step 0 : 0.0100\n",
      "seen so far: 5 samples\n",
      "training acc over epoch: 0.000044\n",
      "\n",
      "Start of epoch 197\n",
      "xtrain:  (5, 2)\n"
     ]
    },
    {
     "data": {
      "text/plain": [
       "<tf.Variable 'UnreadVariable' shape=() dtype=int64, numpy=198>"
      ]
     },
     "execution_count": 70,
     "metadata": {},
     "output_type": "execute_result"
    },
    {
     "data": {
      "text/plain": [
       "<tf.Variable 'UnreadVariable' shape=() dtype=float32, numpy=1.0>"
      ]
     },
     "execution_count": 70,
     "metadata": {},
     "output_type": "execute_result"
    },
    {
     "name": "stdout",
     "output_type": "stream",
     "text": [
      "training loss for for one batch at step 0 : 0.0100\n",
      "seen so far: 5 samples\n",
      "training acc over epoch: 0.000034\n",
      "\n",
      "Start of epoch 198\n",
      "xtrain:  (5, 2)\n"
     ]
    },
    {
     "data": {
      "text/plain": [
       "<tf.Variable 'UnreadVariable' shape=() dtype=int64, numpy=199>"
      ]
     },
     "execution_count": 70,
     "metadata": {},
     "output_type": "execute_result"
    },
    {
     "data": {
      "text/plain": [
       "<tf.Variable 'UnreadVariable' shape=() dtype=float32, numpy=1.0>"
      ]
     },
     "execution_count": 70,
     "metadata": {},
     "output_type": "execute_result"
    },
    {
     "name": "stdout",
     "output_type": "stream",
     "text": [
      "training loss for for one batch at step 0 : 0.0100\n",
      "seen so far: 5 samples\n",
      "training acc over epoch: 0.000039\n",
      "\n",
      "Start of epoch 199\n",
      "xtrain:  (5, 2)\n"
     ]
    },
    {
     "data": {
      "text/plain": [
       "<tf.Variable 'UnreadVariable' shape=() dtype=int64, numpy=200>"
      ]
     },
     "execution_count": 70,
     "metadata": {},
     "output_type": "execute_result"
    },
    {
     "data": {
      "text/plain": [
       "<tf.Variable 'UnreadVariable' shape=() dtype=float32, numpy=1.0>"
      ]
     },
     "execution_count": 70,
     "metadata": {},
     "output_type": "execute_result"
    },
    {
     "name": "stdout",
     "output_type": "stream",
     "text": [
      "training loss for for one batch at step 0 : 0.0100\n",
      "seen so far: 5 samples\n",
      "training acc over epoch: 0.000035\n"
     ]
    },
    {
     "data": {
      "text/plain": [
       "[<matplotlib.lines.Line2D at 0x2b93bf94390>]"
      ]
     },
     "execution_count": 70,
     "metadata": {},
     "output_type": "execute_result"
    },
    {
     "data": {
      "text/plain": [
       "{'step': [0,\n",
       "  1,\n",
       "  2,\n",
       "  3,\n",
       "  4,\n",
       "  5,\n",
       "  6,\n",
       "  7,\n",
       "  8,\n",
       "  9,\n",
       "  10,\n",
       "  11,\n",
       "  12,\n",
       "  13,\n",
       "  14,\n",
       "  15,\n",
       "  16,\n",
       "  17,\n",
       "  18,\n",
       "  19,\n",
       "  20,\n",
       "  21,\n",
       "  22,\n",
       "  23,\n",
       "  24,\n",
       "  25,\n",
       "  26,\n",
       "  27,\n",
       "  28,\n",
       "  29,\n",
       "  30,\n",
       "  31,\n",
       "  32,\n",
       "  33,\n",
       "  34,\n",
       "  35,\n",
       "  36,\n",
       "  37,\n",
       "  38,\n",
       "  39,\n",
       "  40,\n",
       "  41,\n",
       "  42,\n",
       "  43,\n",
       "  44,\n",
       "  45,\n",
       "  46,\n",
       "  47,\n",
       "  48,\n",
       "  49,\n",
       "  50,\n",
       "  51,\n",
       "  52,\n",
       "  53,\n",
       "  54,\n",
       "  55,\n",
       "  56,\n",
       "  57,\n",
       "  58,\n",
       "  59,\n",
       "  60,\n",
       "  61,\n",
       "  62,\n",
       "  63,\n",
       "  64,\n",
       "  65,\n",
       "  66,\n",
       "  67,\n",
       "  68,\n",
       "  69,\n",
       "  70,\n",
       "  71,\n",
       "  72,\n",
       "  73,\n",
       "  74,\n",
       "  75,\n",
       "  76,\n",
       "  77,\n",
       "  78,\n",
       "  79,\n",
       "  80,\n",
       "  81,\n",
       "  82,\n",
       "  83,\n",
       "  84,\n",
       "  85,\n",
       "  86,\n",
       "  87,\n",
       "  88,\n",
       "  89,\n",
       "  90,\n",
       "  91,\n",
       "  92,\n",
       "  93,\n",
       "  94,\n",
       "  95,\n",
       "  96,\n",
       "  97,\n",
       "  98,\n",
       "  99,\n",
       "  100,\n",
       "  101,\n",
       "  102,\n",
       "  103,\n",
       "  104,\n",
       "  105,\n",
       "  106,\n",
       "  107,\n",
       "  108,\n",
       "  109,\n",
       "  110,\n",
       "  111,\n",
       "  112,\n",
       "  113,\n",
       "  114,\n",
       "  115,\n",
       "  116,\n",
       "  117,\n",
       "  118,\n",
       "  119,\n",
       "  120,\n",
       "  121,\n",
       "  122,\n",
       "  123,\n",
       "  124,\n",
       "  125,\n",
       "  126,\n",
       "  127,\n",
       "  128,\n",
       "  129,\n",
       "  130,\n",
       "  131,\n",
       "  132,\n",
       "  133,\n",
       "  134,\n",
       "  135,\n",
       "  136,\n",
       "  137,\n",
       "  138,\n",
       "  139,\n",
       "  140,\n",
       "  141,\n",
       "  142,\n",
       "  143,\n",
       "  144,\n",
       "  145,\n",
       "  146,\n",
       "  147,\n",
       "  148,\n",
       "  149,\n",
       "  150,\n",
       "  151,\n",
       "  152,\n",
       "  153,\n",
       "  154,\n",
       "  155,\n",
       "  156,\n",
       "  157,\n",
       "  158,\n",
       "  159,\n",
       "  160,\n",
       "  161,\n",
       "  162,\n",
       "  163,\n",
       "  164,\n",
       "  165,\n",
       "  166,\n",
       "  167,\n",
       "  168,\n",
       "  169,\n",
       "  170,\n",
       "  171,\n",
       "  172,\n",
       "  173,\n",
       "  174,\n",
       "  175,\n",
       "  176,\n",
       "  177,\n",
       "  178,\n",
       "  179,\n",
       "  180,\n",
       "  181,\n",
       "  182,\n",
       "  183,\n",
       "  184,\n",
       "  185,\n",
       "  186,\n",
       "  187,\n",
       "  188,\n",
       "  189,\n",
       "  190,\n",
       "  191,\n",
       "  192,\n",
       "  193,\n",
       "  194,\n",
       "  195,\n",
       "  196,\n",
       "  197,\n",
       "  198,\n",
       "  199],\n",
       " 'loss': [<tf.Tensor: shape=(1,), dtype=float32, numpy=array([5.784913], dtype=float32)>,\n",
       "  <tf.Tensor: shape=(1,), dtype=float32, numpy=array([5.489627], dtype=float32)>,\n",
       "  <tf.Tensor: shape=(1,), dtype=float32, numpy=array([5.2417173], dtype=float32)>,\n",
       "  <tf.Tensor: shape=(1,), dtype=float32, numpy=array([4.9966764], dtype=float32)>,\n",
       "  <tf.Tensor: shape=(1,), dtype=float32, numpy=array([4.744435], dtype=float32)>,\n",
       "  <tf.Tensor: shape=(1,), dtype=float32, numpy=array([4.518441], dtype=float32)>,\n",
       "  <tf.Tensor: shape=(1,), dtype=float32, numpy=array([4.288361], dtype=float32)>,\n",
       "  <tf.Tensor: shape=(1,), dtype=float32, numpy=array([4.048923], dtype=float32)>,\n",
       "  <tf.Tensor: shape=(1,), dtype=float32, numpy=array([3.801301], dtype=float32)>,\n",
       "  <tf.Tensor: shape=(1,), dtype=float32, numpy=array([3.5536351], dtype=float32)>,\n",
       "  <tf.Tensor: shape=(1,), dtype=float32, numpy=array([3.3137467], dtype=float32)>,\n",
       "  <tf.Tensor: shape=(1,), dtype=float32, numpy=array([3.065605], dtype=float32)>,\n",
       "  <tf.Tensor: shape=(1,), dtype=float32, numpy=array([2.8114765], dtype=float32)>,\n",
       "  <tf.Tensor: shape=(1,), dtype=float32, numpy=array([2.5534596], dtype=float32)>,\n",
       "  <tf.Tensor: shape=(1,), dtype=float32, numpy=array([2.2936733], dtype=float32)>,\n",
       "  <tf.Tensor: shape=(1,), dtype=float32, numpy=array([2.0336075], dtype=float32)>,\n",
       "  <tf.Tensor: shape=(1,), dtype=float32, numpy=array([1.77198], dtype=float32)>,\n",
       "  <tf.Tensor: shape=(1,), dtype=float32, numpy=array([1.5181235], dtype=float32)>,\n",
       "  <tf.Tensor: shape=(1,), dtype=float32, numpy=array([1.2800797], dtype=float32)>,\n",
       "  <tf.Tensor: shape=(1,), dtype=float32, numpy=array([1.0535617], dtype=float32)>,\n",
       "  <tf.Tensor: shape=(1,), dtype=float32, numpy=array([0.8453751], dtype=float32)>,\n",
       "  <tf.Tensor: shape=(1,), dtype=float32, numpy=array([0.65658796], dtype=float32)>,\n",
       "  <tf.Tensor: shape=(1,), dtype=float32, numpy=array([0.48714605], dtype=float32)>,\n",
       "  <tf.Tensor: shape=(1,), dtype=float32, numpy=array([0.34043026], dtype=float32)>,\n",
       "  <tf.Tensor: shape=(1,), dtype=float32, numpy=array([0.21957737], dtype=float32)>,\n",
       "  <tf.Tensor: shape=(1,), dtype=float32, numpy=array([0.12730524], dtype=float32)>,\n",
       "  <tf.Tensor: shape=(1,), dtype=float32, numpy=array([0.0645538], dtype=float32)>,\n",
       "  <tf.Tensor: shape=(1,), dtype=float32, numpy=array([0.03103775], dtype=float32)>,\n",
       "  <tf.Tensor: shape=(1,), dtype=float32, numpy=array([0.0246583], dtype=float32)>,\n",
       "  <tf.Tensor: shape=(1,), dtype=float32, numpy=array([0.04041054], dtype=float32)>,\n",
       "  <tf.Tensor: shape=(1,), dtype=float32, numpy=array([0.06985558], dtype=float32)>,\n",
       "  <tf.Tensor: shape=(1,), dtype=float32, numpy=array([0.1048143], dtype=float32)>,\n",
       "  <tf.Tensor: shape=(1,), dtype=float32, numpy=array([0.13675131], dtype=float32)>,\n",
       "  <tf.Tensor: shape=(1,), dtype=float32, numpy=array([0.15876897], dtype=float32)>,\n",
       "  <tf.Tensor: shape=(1,), dtype=float32, numpy=array([0.16799518], dtype=float32)>,\n",
       "  <tf.Tensor: shape=(1,), dtype=float32, numpy=array([0.16431202], dtype=float32)>,\n",
       "  <tf.Tensor: shape=(1,), dtype=float32, numpy=array([0.14952447], dtype=float32)>,\n",
       "  <tf.Tensor: shape=(1,), dtype=float32, numpy=array([0.12697084], dtype=float32)>,\n",
       "  <tf.Tensor: shape=(1,), dtype=float32, numpy=array([0.10064881], dtype=float32)>,\n",
       "  <tf.Tensor: shape=(1,), dtype=float32, numpy=array([0.07443777], dtype=float32)>,\n",
       "  <tf.Tensor: shape=(1,), dtype=float32, numpy=array([0.05148463], dtype=float32)>,\n",
       "  <tf.Tensor: shape=(1,), dtype=float32, numpy=array([0.03395935], dtype=float32)>,\n",
       "  <tf.Tensor: shape=(1,), dtype=float32, numpy=array([0.02286002], dtype=float32)>,\n",
       "  <tf.Tensor: shape=(1,), dtype=float32, numpy=array([0.01809337], dtype=float32)>,\n",
       "  <tf.Tensor: shape=(1,), dtype=float32, numpy=array([0.01867742], dtype=float32)>,\n",
       "  <tf.Tensor: shape=(1,), dtype=float32, numpy=array([0.02305039], dtype=float32)>,\n",
       "  <tf.Tensor: shape=(1,), dtype=float32, numpy=array([0.02939264], dtype=float32)>,\n",
       "  <tf.Tensor: shape=(1,), dtype=float32, numpy=array([0.03598176], dtype=float32)>,\n",
       "  <tf.Tensor: shape=(1,), dtype=float32, numpy=array([0.04138022], dtype=float32)>,\n",
       "  <tf.Tensor: shape=(1,), dtype=float32, numpy=array([0.04464185], dtype=float32)>,\n",
       "  <tf.Tensor: shape=(1,), dtype=float32, numpy=array([0.04535618], dtype=float32)>,\n",
       "  <tf.Tensor: shape=(1,), dtype=float32, numpy=array([0.04361465], dtype=float32)>,\n",
       "  <tf.Tensor: shape=(1,), dtype=float32, numpy=array([0.03989984], dtype=float32)>,\n",
       "  <tf.Tensor: shape=(1,), dtype=float32, numpy=array([0.03491477], dtype=float32)>,\n",
       "  <tf.Tensor: shape=(1,), dtype=float32, numpy=array([0.02942939], dtype=float32)>,\n",
       "  <tf.Tensor: shape=(1,), dtype=float32, numpy=array([0.024203], dtype=float32)>,\n",
       "  <tf.Tensor: shape=(1,), dtype=float32, numpy=array([0.01985579], dtype=float32)>,\n",
       "  <tf.Tensor: shape=(1,), dtype=float32, numpy=array([0.01678112], dtype=float32)>,\n",
       "  <tf.Tensor: shape=(1,), dtype=float32, numpy=array([0.01513652], dtype=float32)>,\n",
       "  <tf.Tensor: shape=(1,), dtype=float32, numpy=array([0.01482614], dtype=float32)>,\n",
       "  <tf.Tensor: shape=(1,), dtype=float32, numpy=array([0.01554136], dtype=float32)>,\n",
       "  <tf.Tensor: shape=(1,), dtype=float32, numpy=array([0.0168406], dtype=float32)>,\n",
       "  <tf.Tensor: shape=(1,), dtype=float32, numpy=array([0.01823706], dtype=float32)>,\n",
       "  <tf.Tensor: shape=(1,), dtype=float32, numpy=array([0.01933673], dtype=float32)>,\n",
       "  <tf.Tensor: shape=(1,), dtype=float32, numpy=array([0.0198828], dtype=float32)>,\n",
       "  <tf.Tensor: shape=(1,), dtype=float32, numpy=array([0.01977831], dtype=float32)>,\n",
       "  <tf.Tensor: shape=(1,), dtype=float32, numpy=array([0.01908808], dtype=float32)>,\n",
       "  <tf.Tensor: shape=(1,), dtype=float32, numpy=array([0.01798742], dtype=float32)>,\n",
       "  <tf.Tensor: shape=(1,), dtype=float32, numpy=array([0.01670651], dtype=float32)>,\n",
       "  <tf.Tensor: shape=(1,), dtype=float32, numpy=array([0.01547354], dtype=float32)>,\n",
       "  <tf.Tensor: shape=(1,), dtype=float32, numpy=array([0.01450634], dtype=float32)>,\n",
       "  <tf.Tensor: shape=(1,), dtype=float32, numpy=array([0.01392321], dtype=float32)>,\n",
       "  <tf.Tensor: shape=(1,), dtype=float32, numpy=array([0.01361711], dtype=float32)>,\n",
       "  <tf.Tensor: shape=(1,), dtype=float32, numpy=array([0.01352019], dtype=float32)>,\n",
       "  <tf.Tensor: shape=(1,), dtype=float32, numpy=array([0.0136285], dtype=float32)>,\n",
       "  <tf.Tensor: shape=(1,), dtype=float32, numpy=array([0.01385178], dtype=float32)>,\n",
       "  <tf.Tensor: shape=(1,), dtype=float32, numpy=array([0.01401219], dtype=float32)>,\n",
       "  <tf.Tensor: shape=(1,), dtype=float32, numpy=array([0.01399065], dtype=float32)>,\n",
       "  <tf.Tensor: shape=(1,), dtype=float32, numpy=array([0.013762], dtype=float32)>,\n",
       "  <tf.Tensor: shape=(1,), dtype=float32, numpy=array([0.01331408], dtype=float32)>,\n",
       "  <tf.Tensor: shape=(1,), dtype=float32, numpy=array([0.01268596], dtype=float32)>,\n",
       "  <tf.Tensor: shape=(1,), dtype=float32, numpy=array([0.01200667], dtype=float32)>,\n",
       "  <tf.Tensor: shape=(1,), dtype=float32, numpy=array([0.01137609], dtype=float32)>,\n",
       "  <tf.Tensor: shape=(1,), dtype=float32, numpy=array([0.01085605], dtype=float32)>,\n",
       "  <tf.Tensor: shape=(1,), dtype=float32, numpy=array([0.0104931], dtype=float32)>,\n",
       "  <tf.Tensor: shape=(1,), dtype=float32, numpy=array([0.01028563], dtype=float32)>,\n",
       "  <tf.Tensor: shape=(1,), dtype=float32, numpy=array([0.01018377], dtype=float32)>,\n",
       "  <tf.Tensor: shape=(1,), dtype=float32, numpy=array([0.01014022], dtype=float32)>,\n",
       "  <tf.Tensor: shape=(1,), dtype=float32, numpy=array([0.01010788], dtype=float32)>,\n",
       "  <tf.Tensor: shape=(1,), dtype=float32, numpy=array([0.01010497], dtype=float32)>,\n",
       "  <tf.Tensor: shape=(1,), dtype=float32, numpy=array([0.01010335], dtype=float32)>,\n",
       "  <tf.Tensor: shape=(1,), dtype=float32, numpy=array([0.01008208], dtype=float32)>,\n",
       "  <tf.Tensor: shape=(1,), dtype=float32, numpy=array([0.0100796], dtype=float32)>,\n",
       "  <tf.Tensor: shape=(1,), dtype=float32, numpy=array([0.01007771], dtype=float32)>,\n",
       "  <tf.Tensor: shape=(1,), dtype=float32, numpy=array([0.01005928], dtype=float32)>,\n",
       "  <tf.Tensor: shape=(1,), dtype=float32, numpy=array([0.01005454], dtype=float32)>,\n",
       "  <tf.Tensor: shape=(1,), dtype=float32, numpy=array([0.01005257], dtype=float32)>,\n",
       "  <tf.Tensor: shape=(1,), dtype=float32, numpy=array([0.01003614], dtype=float32)>,\n",
       "  <tf.Tensor: shape=(1,), dtype=float32, numpy=array([0.010034], dtype=float32)>,\n",
       "  <tf.Tensor: shape=(1,), dtype=float32, numpy=array([0.01003174], dtype=float32)>,\n",
       "  <tf.Tensor: shape=(1,), dtype=float32, numpy=array([0.01002242], dtype=float32)>,\n",
       "  <tf.Tensor: shape=(1,), dtype=float32, numpy=array([0.01002503], dtype=float32)>,\n",
       "  <tf.Tensor: shape=(1,), dtype=float32, numpy=array([0.01002357], dtype=float32)>,\n",
       "  <tf.Tensor: shape=(1,), dtype=float32, numpy=array([0.01002], dtype=float32)>,\n",
       "  <tf.Tensor: shape=(1,), dtype=float32, numpy=array([0.01002439], dtype=float32)>,\n",
       "  <tf.Tensor: shape=(1,), dtype=float32, numpy=array([0.01002302], dtype=float32)>,\n",
       "  <tf.Tensor: shape=(1,), dtype=float32, numpy=array([0.01002181], dtype=float32)>,\n",
       "  <tf.Tensor: shape=(1,), dtype=float32, numpy=array([0.01002443], dtype=float32)>,\n",
       "  <tf.Tensor: shape=(1,), dtype=float32, numpy=array([0.01002186], dtype=float32)>,\n",
       "  <tf.Tensor: shape=(1,), dtype=float32, numpy=array([0.01002083], dtype=float32)>,\n",
       "  <tf.Tensor: shape=(1,), dtype=float32, numpy=array([0.01002133], dtype=float32)>,\n",
       "  <tf.Tensor: shape=(1,), dtype=float32, numpy=array([0.01001801], dtype=float32)>,\n",
       "  <tf.Tensor: shape=(1,), dtype=float32, numpy=array([0.01001684], dtype=float32)>,\n",
       "  <tf.Tensor: shape=(1,), dtype=float32, numpy=array([0.01001596], dtype=float32)>,\n",
       "  <tf.Tensor: shape=(1,), dtype=float32, numpy=array([0.01001277], dtype=float32)>,\n",
       "  <tf.Tensor: shape=(1,), dtype=float32, numpy=array([0.0100118], dtype=float32)>,\n",
       "  <tf.Tensor: shape=(1,), dtype=float32, numpy=array([0.0100104], dtype=float32)>,\n",
       "  <tf.Tensor: shape=(1,), dtype=float32, numpy=array([0.01000792], dtype=float32)>,\n",
       "  <tf.Tensor: shape=(1,), dtype=float32, numpy=array([0.01000733], dtype=float32)>,\n",
       "  <tf.Tensor: shape=(1,), dtype=float32, numpy=array([0.01000597], dtype=float32)>,\n",
       "  <tf.Tensor: shape=(1,), dtype=float32, numpy=array([0.01000442], dtype=float32)>,\n",
       "  <tf.Tensor: shape=(1,), dtype=float32, numpy=array([0.01000422], dtype=float32)>,\n",
       "  <tf.Tensor: shape=(1,), dtype=float32, numpy=array([0.01000313], dtype=float32)>,\n",
       "  <tf.Tensor: shape=(1,), dtype=float32, numpy=array([0.01000231], dtype=float32)>,\n",
       "  <tf.Tensor: shape=(1,), dtype=float32, numpy=array([0.01000236], dtype=float32)>,\n",
       "  <tf.Tensor: shape=(1,), dtype=float32, numpy=array([0.01000145], dtype=float32)>,\n",
       "  <tf.Tensor: shape=(1,), dtype=float32, numpy=array([0.01000147], dtype=float32)>,\n",
       "  <tf.Tensor: shape=(1,), dtype=float32, numpy=array([0.01000137], dtype=float32)>,\n",
       "  <tf.Tensor: shape=(1,), dtype=float32, numpy=array([0.01000079], dtype=float32)>,\n",
       "  <tf.Tensor: shape=(1,), dtype=float32, numpy=array([0.01000103], dtype=float32)>,\n",
       "  <tf.Tensor: shape=(1,), dtype=float32, numpy=array([0.0100007], dtype=float32)>,\n",
       "  <tf.Tensor: shape=(1,), dtype=float32, numpy=array([0.01000064], dtype=float32)>,\n",
       "  <tf.Tensor: shape=(1,), dtype=float32, numpy=array([0.0100007], dtype=float32)>,\n",
       "  <tf.Tensor: shape=(1,), dtype=float32, numpy=array([0.01000041], dtype=float32)>,\n",
       "  <tf.Tensor: shape=(1,), dtype=float32, numpy=array([0.01000059], dtype=float32)>,\n",
       "  <tf.Tensor: shape=(1,), dtype=float32, numpy=array([0.01000036], dtype=float32)>,\n",
       "  <tf.Tensor: shape=(1,), dtype=float32, numpy=array([0.0100004], dtype=float32)>,\n",
       "  <tf.Tensor: shape=(1,), dtype=float32, numpy=array([0.01000036], dtype=float32)>,\n",
       "  <tf.Tensor: shape=(1,), dtype=float32, numpy=array([0.01000023], dtype=float32)>,\n",
       "  <tf.Tensor: shape=(1,), dtype=float32, numpy=array([0.01000032], dtype=float32)>,\n",
       "  <tf.Tensor: shape=(1,), dtype=float32, numpy=array([0.01000016], dtype=float32)>,\n",
       "  <tf.Tensor: shape=(1,), dtype=float32, numpy=array([0.01000023], dtype=float32)>,\n",
       "  <tf.Tensor: shape=(1,), dtype=float32, numpy=array([0.01000016], dtype=float32)>,\n",
       "  <tf.Tensor: shape=(1,), dtype=float32, numpy=array([0.01000015], dtype=float32)>,\n",
       "  <tf.Tensor: shape=(1,), dtype=float32, numpy=array([0.01000018], dtype=float32)>,\n",
       "  <tf.Tensor: shape=(1,), dtype=float32, numpy=array([0.01000011], dtype=float32)>,\n",
       "  <tf.Tensor: shape=(1,), dtype=float32, numpy=array([0.01000018], dtype=float32)>,\n",
       "  <tf.Tensor: shape=(1,), dtype=float32, numpy=array([0.01000012], dtype=float32)>,\n",
       "  <tf.Tensor: shape=(1,), dtype=float32, numpy=array([0.01000016], dtype=float32)>,\n",
       "  <tf.Tensor: shape=(1,), dtype=float32, numpy=array([0.01000015], dtype=float32)>,\n",
       "  <tf.Tensor: shape=(1,), dtype=float32, numpy=array([0.01000014], dtype=float32)>,\n",
       "  <tf.Tensor: shape=(1,), dtype=float32, numpy=array([0.01000018], dtype=float32)>,\n",
       "  <tf.Tensor: shape=(1,), dtype=float32, numpy=array([0.01000014], dtype=float32)>,\n",
       "  <tf.Tensor: shape=(1,), dtype=float32, numpy=array([0.01000017], dtype=float32)>,\n",
       "  <tf.Tensor: shape=(1,), dtype=float32, numpy=array([0.01000015], dtype=float32)>,\n",
       "  <tf.Tensor: shape=(1,), dtype=float32, numpy=array([0.01000016], dtype=float32)>,\n",
       "  <tf.Tensor: shape=(1,), dtype=float32, numpy=array([0.01000015], dtype=float32)>,\n",
       "  <tf.Tensor: shape=(1,), dtype=float32, numpy=array([0.01000013], dtype=float32)>,\n",
       "  <tf.Tensor: shape=(1,), dtype=float32, numpy=array([0.01000014], dtype=float32)>,\n",
       "  <tf.Tensor: shape=(1,), dtype=float32, numpy=array([0.01000011], dtype=float32)>,\n",
       "  <tf.Tensor: shape=(1,), dtype=float32, numpy=array([0.01000012], dtype=float32)>,\n",
       "  <tf.Tensor: shape=(1,), dtype=float32, numpy=array([0.01000009], dtype=float32)>,\n",
       "  <tf.Tensor: shape=(1,), dtype=float32, numpy=array([0.01000009], dtype=float32)>,\n",
       "  <tf.Tensor: shape=(1,), dtype=float32, numpy=array([0.01000008], dtype=float32)>,\n",
       "  <tf.Tensor: shape=(1,), dtype=float32, numpy=array([0.01000007], dtype=float32)>,\n",
       "  <tf.Tensor: shape=(1,), dtype=float32, numpy=array([0.01000006], dtype=float32)>,\n",
       "  <tf.Tensor: shape=(1,), dtype=float32, numpy=array([0.01000005], dtype=float32)>,\n",
       "  <tf.Tensor: shape=(1,), dtype=float32, numpy=array([0.01000005], dtype=float32)>,\n",
       "  <tf.Tensor: shape=(1,), dtype=float32, numpy=array([0.01000003], dtype=float32)>,\n",
       "  <tf.Tensor: shape=(1,), dtype=float32, numpy=array([0.01000003], dtype=float32)>,\n",
       "  <tf.Tensor: shape=(1,), dtype=float32, numpy=array([0.01000002], dtype=float32)>,\n",
       "  <tf.Tensor: shape=(1,), dtype=float32, numpy=array([0.01000002], dtype=float32)>,\n",
       "  <tf.Tensor: shape=(1,), dtype=float32, numpy=array([0.01000002], dtype=float32)>,\n",
       "  <tf.Tensor: shape=(1,), dtype=float32, numpy=array([0.01000001], dtype=float32)>,\n",
       "  <tf.Tensor: shape=(1,), dtype=float32, numpy=array([0.01000001], dtype=float32)>,\n",
       "  <tf.Tensor: shape=(1,), dtype=float32, numpy=array([0.01000001], dtype=float32)>,\n",
       "  <tf.Tensor: shape=(1,), dtype=float32, numpy=array([0.01000001], dtype=float32)>,\n",
       "  <tf.Tensor: shape=(1,), dtype=float32, numpy=array([0.01000001], dtype=float32)>,\n",
       "  <tf.Tensor: shape=(1,), dtype=float32, numpy=array([0.01000001], dtype=float32)>,\n",
       "  <tf.Tensor: shape=(1,), dtype=float32, numpy=array([0.01000001], dtype=float32)>,\n",
       "  <tf.Tensor: shape=(1,), dtype=float32, numpy=array([0.01000001], dtype=float32)>,\n",
       "  <tf.Tensor: shape=(1,), dtype=float32, numpy=array([0.01], dtype=float32)>,\n",
       "  <tf.Tensor: shape=(1,), dtype=float32, numpy=array([0.01], dtype=float32)>,\n",
       "  <tf.Tensor: shape=(1,), dtype=float32, numpy=array([0.01], dtype=float32)>,\n",
       "  <tf.Tensor: shape=(1,), dtype=float32, numpy=array([0.01], dtype=float32)>,\n",
       "  <tf.Tensor: shape=(1,), dtype=float32, numpy=array([0.01], dtype=float32)>,\n",
       "  <tf.Tensor: shape=(1,), dtype=float32, numpy=array([0.01], dtype=float32)>,\n",
       "  <tf.Tensor: shape=(1,), dtype=float32, numpy=array([0.01], dtype=float32)>,\n",
       "  <tf.Tensor: shape=(1,), dtype=float32, numpy=array([0.01], dtype=float32)>,\n",
       "  <tf.Tensor: shape=(1,), dtype=float32, numpy=array([0.01], dtype=float32)>,\n",
       "  <tf.Tensor: shape=(1,), dtype=float32, numpy=array([0.01], dtype=float32)>,\n",
       "  <tf.Tensor: shape=(1,), dtype=float32, numpy=array([0.01], dtype=float32)>,\n",
       "  <tf.Tensor: shape=(1,), dtype=float32, numpy=array([0.01], dtype=float32)>,\n",
       "  <tf.Tensor: shape=(1,), dtype=float32, numpy=array([0.01], dtype=float32)>,\n",
       "  <tf.Tensor: shape=(1,), dtype=float32, numpy=array([0.01], dtype=float32)>,\n",
       "  <tf.Tensor: shape=(1,), dtype=float32, numpy=array([0.01], dtype=float32)>,\n",
       "  <tf.Tensor: shape=(1,), dtype=float32, numpy=array([0.01], dtype=float32)>,\n",
       "  <tf.Tensor: shape=(1,), dtype=float32, numpy=array([0.01], dtype=float32)>,\n",
       "  <tf.Tensor: shape=(1,), dtype=float32, numpy=array([0.01], dtype=float32)>,\n",
       "  <tf.Tensor: shape=(1,), dtype=float32, numpy=array([0.01], dtype=float32)>]}"
      ]
     },
     "execution_count": 70,
     "metadata": {},
     "output_type": "execute_result"
    },
    {
     "data": {
      "image/png": "[encoded data removed]",
      "text/plain": [
       "<Figure size 432x288 with 1 Axes>"
      ]
     },
     "metadata": {
      "needs_background": "light"
     },
     "output_type": "display_data"
    }
   ],
   "source": [
    "low = 0\n",
    "high = 5\n",
    "xtrain = [[i,i*2] for i in range(low,high)]\n",
    "xtrain_ab = [[i,i*3] for i in range(3,5)]\n",
    "xtrain=xtrain+xtrain_ab\n",
    "ytrain = [(lambda x: x*2 - x)(i) for i in range(low,high)]\n",
    "ytrainclass = [0 if (xtrain[i][1]-xtrain[i][0]==xtrain[i][0]) else 1 for i in range(low,len(xtrain))]\n",
    "\n",
    "import random\n",
    "c = list(zip(xtrain, ytrainclass, ytrain))\n",
    "#random.shuffle(c)\n",
    "xtrain, ytrainclass, ytrain = zip(*c)\n",
    "\n",
    "xtrain = np.array(xtrain)\n",
    "ytrain = np.array(ytrain)\n",
    "\n",
    "batch_size = len(ytrain)\n",
    "#batch_size = 10\n",
    "xtrain\n",
    "ytrain\n",
    "train_dataset = tf.data.Dataset.from_tensors((xtrain, ytrain))\n",
    "\n",
    "#for i in train_dataset:\n",
    "#    tf.print(i)\n",
    "class ActivityRegLayer(keras.layers.Layer):\n",
    "    def __init__(self, name):\n",
    "        super(ActivityRegLayer,self).__init__(name=name)\n",
    "        #self.name = name\n",
    "        \n",
    "    def call(self, inputs):\n",
    "        self.add_loss(0.01)\n",
    "        return inputs\n",
    "    \n",
    "class Encoder(keras.layers.Layer):\n",
    "    def __init__(self):\n",
    "        super(Encoder, self).__init__()\n",
    "        self.inputs = keras.Input(shape=(2,))\n",
    "        self.layer1 = keras.layers.Dense(units=32, activation='relu',name=\"layer1\",input_shape=(2,))\n",
    "        self.reg    = ActivityRegLayer(name=\"reg\")\n",
    "        self.layer2 = keras.layers.Dense(units=32, activation='relu')\n",
    "        self.layer3 = keras.layers.Dense(units=8, activation='relu')\n",
    "        \n",
    "    def call(self, inputs):\n",
    "        x = self.layer1(inputs)\n",
    "        x = self.reg(x)\n",
    "        x = self.layer2(x)\n",
    "        x = self.layer3(x)\n",
    "        return x\n",
    "    \n",
    "class Decoder(keras.layers.Layer):\n",
    "    def __init__(self):\n",
    "        super(Decoder, self).__init__()\n",
    "        self.layer1 = keras.layers.Dense(units=32, activation='relu')\n",
    "        self.layer2 = keras.layers.Dense(units=32, activation='relu')\n",
    "        self.layer3 = keras.layers.Dense(units=1, activation='linear')\n",
    "        \n",
    "    def call(self, inputs):\n",
    "        #self.layer1 = keras.layers.Dense(units=32, input_shape=((2,)),activation='relu')\n",
    "        x = self.layer1(inputs)\n",
    "        x = self.layer2(x)\n",
    "        x = self.layer3(x)\n",
    "        return x\n",
    "    \n",
    "class AE(keras.Model):\n",
    "    def __init__(self):\n",
    "        super(AE, self).__init__()\n",
    "        self.Encoder = Encoder()\n",
    "        self.Decoder = Decoder()\n",
    "        \n",
    "    def call(self, inputs):\n",
    "        x = self.Encoder(inputs)\n",
    "        x = self.Decoder(x)\n",
    "        #print(\"yay\")\n",
    "        return x\n",
    "    \n",
    "# Instantiate an optimizer.\n",
    "optimizer = keras.optimizers.Adam(learning_rate=1e-3)\n",
    "# Instantiate a loss function.\n",
    "loss_fn = keras.losses.MeanSquaredError() \n",
    "# Prepare metric\n",
    "mae_metric = keras.metrics.MeanAbsoluteError(name=\"mae\")\n",
    "\n",
    "model = AE()\n",
    "\n",
    "epochs=200\n",
    "\n",
    "plt_loss = {\"step\":[],\"loss\":[]}\n",
    "\n",
    "for epoch in range(epochs):\n",
    "    print(\"\\nStart of epoch %d\" % (epoch,))\n",
    "    \n",
    "    for step, (xtrainb,ytrainb) in enumerate(train_dataset):\n",
    "        print(\"xtrain: \",xtrain.shape)\n",
    "        with tf.GradientTape() as tape:\n",
    "            y_pred = model(xtrainb, training=True)\n",
    "            loss_value = loss_fn(ytrainb, y_pred)\n",
    "            loss_value += model.losses\n",
    "        grads = tape.gradient(loss_value, model.trainable_weights)\n",
    "        optimizer.apply_gradients(zip(grads, model.trainable_weights))\n",
    "        \n",
    "        mae_metric.update_state(ytrainb, y_pred)\n",
    "        \n",
    "        \n",
    "        if step % 5==0:\n",
    "            print(\"training loss for for one batch at step %d : %.4f\"%(step, float(loss_value)))\n",
    "        print(\"seen so far: %d samples\"%((step+1)*batch_size))\n",
    "        \n",
    "    train_acc = mae_metric.result()\n",
    "    print(\"training acc over epoch: %4f\"%(float(train_acc)))\n",
    "    \n",
    "    mae_metric.reset_states()\n",
    "    \n",
    "    plt_loss[\"step\"].append(epoch)\n",
    "    plt_loss[\"loss\"].append(loss_value) \n",
    "    \n",
    "import matplotlib.pyplot as plt    \n",
    "plt.plot(plt_loss[\"step\"],plt_loss[\"loss\"])    \n",
    "plt_loss"
   ]
  },
  {
   "cell_type": "code",
   "execution_count": 79,
   "id": "acb29c3c",
   "metadata": {},
   "outputs": [
    {
     "data": {
      "text/plain": [
       "([0, 0], [1, 2], [2, 4], [3, 6], [4, 8])"
      ]
     },
     "execution_count": 79,
     "metadata": {},
     "output_type": "execute_result"
    },
    {
     "name": "stdout",
     "output_type": "stream",
     "text": [
      "([[0 0]\n",
      " [1 2]], [0 1])\n",
      "([[2 4]\n",
      " [3 6]], [2 3])\n",
      "([[4 8]], [4])\n"
     ]
    }
   ],
   "source": [
    "low = 0\n",
    "high = 5\n",
    "xtrain = [[i,i*2] for i in range(low,high)]\n",
    "#xtrain\n",
    "xtrain_ab = [[i,i*3] for i in range(3,5)]\n",
    "#xtrain_ab\n",
    "xtrain=xtrain+xtrain_ab\n",
    "#xtrain\n",
    "ytrain = [(lambda x: x*2 - x)(i) for i in range(low,high)]\n",
    "ytrainclass = [0 if (xtrain[i][1]-xtrain[i][0]==xtrain[i][0]) else 1 for i in range(low,len(xtrain))]\n",
    "\n",
    "import random\n",
    "c = list(zip(xtrain, ytrainclass, ytrain))\n",
    "#random.shuffle(c)\n",
    "xtrain, ytrainclass, ytrain = zip(*c)\n",
    "xtrain\n",
    "xtrain = np.array(xtrain)\n",
    "ytrain = np.array(ytrain)\n",
    "#xtrain\n",
    "#ytrain[:5]\n",
    "\n",
    "train_dataset = tf.data.Dataset.from_tensor_slices((xtrain,ytrain)).batch(2)\n",
    "\n",
    "for i in train_dataset:\n",
    "    tf.print(i)\n",
    "    \n",
    "epochs = 2\n",
    "\n",
    "#for epoch in range(epochs):\n",
    "    \n",
    "    \n",
    "    \n",
    "    #break\n",
    "    "
   ]
  },
  {
   "cell_type": "code",
   "execution_count": 81,
   "id": "57418468",
   "metadata": {},
   "outputs": [
    {
     "name": "stdout",
     "output_type": "stream",
     "text": [
      "(<tf.Tensor: shape=(5, 2), dtype=int32, numpy=\n",
      "array([[0, 0],\n",
      "       [1, 2],\n",
      "       [2, 4],\n",
      "       [3, 6],\n",
      "       [4, 8]])>, <tf.Tensor: shape=(5,), dtype=int32, numpy=array([0, 1, 2, 3, 4])>)\n"
     ]
    },
    {
     "data": {
      "text/plain": [
       "<TensorSliceDataset shapes: ((2,), ()), types: (tf.int32, tf.int32)>"
      ]
     },
     "execution_count": 81,
     "metadata": {},
     "output_type": "execute_result"
    },
    {
     "data": {
      "text/plain": [
       "<TensorDataset shapes: ((5, 2), (5,)), types: (tf.int32, tf.int32)>"
      ]
     },
     "execution_count": 81,
     "metadata": {},
     "output_type": "execute_result"
    }
   ],
   "source": [
    "train_dataset = tf.data.Dataset.from_tensor_slices((xtrain, ytrain))\n",
    "atrain_dataset = tf.data.Dataset.from_tensors((xtrain, ytrain))\n",
    "for i in atrain_dataset:\n",
    "    print(i)\n",
    "    \n",
    "train_dataset \n",
    "atrain_dataset"
   ]
  },
  {
   "cell_type": "code",
   "execution_count": 138,
   "id": "93598f0e",
   "metadata": {},
   "outputs": [
    {
     "data": {
      "text/plain": [
       "([0, 0], [1, 2], [2, 4], [3, 6], [4, 8])"
      ]
     },
     "execution_count": 138,
     "metadata": {},
     "output_type": "execute_result"
    },
    {
     "data": {
      "text/plain": [
       "(0, 1, 2, 3, 4)"
      ]
     },
     "execution_count": 138,
     "metadata": {},
     "output_type": "execute_result"
    },
    {
     "data": {
      "text/plain": [
       "array([[0, 0],\n",
       "       [1, 2],\n",
       "       [2, 4],\n",
       "       [3, 6],\n",
       "       [4, 8]])"
      ]
     },
     "execution_count": 138,
     "metadata": {},
     "output_type": "execute_result"
    },
    {
     "data": {
      "text/plain": [
       "array([0, 1, 2, 3, 4])"
      ]
     },
     "execution_count": 138,
     "metadata": {},
     "output_type": "execute_result"
    },
    {
     "data": {
      "text/plain": [
       "<BatchDataset shapes: ((None, 2), (None,)), types: (tf.int32, tf.int32)>"
      ]
     },
     "execution_count": 138,
     "metadata": {},
     "output_type": "execute_result"
    },
    {
     "name": "stdout",
     "output_type": "stream",
     "text": [
      "Epoch 1/100\n",
      "Inputs are: \n",
      "[[0 0]\n",
      " [1 2]\n",
      " [2 4]]\n",
      "1/2 [==============>...............] - ETA: 5s - loss: 1.4599 - mae: 0.9359Inputs are: \n",
      "[[3 6]\n",
      " [4 8]]\n",
      "2/2 [==============================] - 5s 7ms/step - loss: 5.0447 - mae: 1.8398\n",
      "Epoch 2/100\n",
      "Inputs are: \n",
      "[[0 0]\n",
      " [1 2]\n",
      " [2 4]]\n",
      "1/2 [==============>...............] - ETA: 0s - loss: 1.3174 - mae: 0.8922Inputs are: \n",
      "[[3 6]\n",
      " [4 8]]\n",
      "2/2 [==============================] - 0s 8ms/step - loss: 4.6390 - mae: 1.7634\n",
      "Epoch 3/100\n",
      "Inputs are: \n",
      "[[0 0]\n",
      " [1 2]\n",
      " [2 4]]\n",
      "1/2 [==============>...............] - ETA: 0s - loss: 1.1927 - mae: 0.8522Inputs are: \n",
      "[[3 6]\n",
      " [4 8]]\n",
      "2/2 [==============================] - 0s 10ms/step - loss: 4.2223 - mae: 1.6834\n",
      "Epoch 4/100\n",
      "Inputs are: \n",
      "[[0 0]\n",
      " [1 2]\n",
      " [2 4]]\n",
      "1/2 [==============>...............] - ETA: 0s - loss: 1.0708 - mae: 0.8112Inputs are: \n",
      "[[3 6]\n",
      " [4 8]]\n",
      "2/2 [==============================] - 0s 11ms/step - loss: 3.8100 - mae: 1.6006\n",
      "Epoch 5/100\n",
      "Inputs are: \n",
      "[[0 0]\n",
      " [1 2]\n",
      " [2 4]]\n",
      "1/2 [==============>...............] - ETA: 0s - loss: 0.9482 - mae: 0.7672Inputs are: \n",
      "[[3 6]\n",
      " [4 8]]\n",
      "2/2 [==============================] - 0s 13ms/step - loss: 3.3953 - mae: 1.5123\n",
      "Epoch 6/100\n",
      "Inputs are: \n",
      "[[0 0]\n",
      " [1 2]\n",
      " [2 4]]\n",
      "1/2 [==============>...............] - ETA: 0s - loss: 0.8248 - mae: 0.7199Inputs are: \n",
      "[[3 6]\n",
      " [4 8]]\n",
      "2/2 [==============================] - 0s 11ms/step - loss: 2.9791 - mae: 1.4180\n",
      "Epoch 7/100\n",
      "Inputs are: \n",
      "[[0 0]\n",
      " [1 2]\n",
      " [2 4]]\n",
      "1/2 [==============>...............] - ETA: 0s - loss: 0.7030 - mae: 0.6693Inputs are: \n",
      "[[3 6]\n",
      " [4 8]]\n",
      "2/2 [==============================] - 0s 11ms/step - loss: 2.5596 - mae: 1.3161\n",
      "Epoch 8/100\n",
      "Inputs are: \n",
      "[[0 0]\n",
      " [1 2]\n",
      " [2 4]]\n",
      "1/2 [==============>...............] - ETA: 0s - loss: 0.5817 - mae: 0.6141Inputs are: \n",
      "[[3 6]\n",
      " [4 8]]\n",
      "2/2 [==============================] - 0s 10ms/step - loss: 2.1389 - mae: 1.2050\n",
      "Epoch 9/100\n",
      "Inputs are: \n",
      "[[0 0]\n",
      " [1 2]\n",
      " [2 4]]\n",
      "1/2 [==============>...............] - ETA: 0s - loss: 0.4638 - mae: 0.5540Inputs are: \n",
      "[[3 6]\n",
      " [4 8]]\n",
      "2/2 [==============================] - 0s 13ms/step - loss: 1.7260 - mae: 1.0845\n",
      "Epoch 10/100\n",
      "Inputs are: \n",
      "[[0 0]\n",
      " [1 2]\n",
      " [2 4]]\n",
      "1/2 [==============>...............] - ETA: 0s - loss: 0.3524 - mae: 0.4894Inputs are: \n",
      "[[3 6]\n",
      " [4 8]]\n",
      "2/2 [==============================] - 0s 11ms/step - loss: 1.3307 - mae: 0.9546\n",
      "Epoch 11/100\n",
      "Inputs are: \n",
      "[[0 0]\n",
      " [1 2]\n",
      " [2 4]]\n",
      "1/2 [==============>...............] - ETA: 0s - loss: 0.2521 - mae: 0.4208Inputs are: \n",
      "[[3 6]\n",
      " [4 8]]\n",
      "2/2 [==============================] - 0s 11ms/step - loss: 0.9675 - mae: 0.8166\n",
      "Epoch 12/100\n",
      "Inputs are: \n",
      "[[0 0]\n",
      " [1 2]\n",
      " [2 4]]\n",
      "1/2 [==============>...............] - ETA: 0s - loss: 0.1664 - mae: 0.3485Inputs are: \n",
      "[[3 6]\n",
      " [4 8]]\n",
      "2/2 [==============================] - 0s 12ms/step - loss: 0.6506 - mae: 0.6719\n",
      "Epoch 13/100\n",
      "Inputs are: \n",
      "[[0 0]\n",
      " [1 2]\n",
      " [2 4]]\n",
      "1/2 [==============>...............] - ETA: 0s - loss: 0.0984 - mae: 0.2726Inputs are: \n",
      "[[3 6]\n",
      " [4 8]]\n",
      "2/2 [==============================] - 0s 11ms/step - loss: 0.3884 - mae: 0.5207\n",
      "Epoch 14/100\n",
      "Inputs are: \n",
      "[[0 0]\n",
      " [1 2]\n",
      " [2 4]]\n",
      "1/2 [==============>...............] - ETA: 0s - loss: 0.0516 - mae: 0.1943Inputs are: \n",
      "[[3 6]\n",
      " [4 8]]\n",
      "2/2 [==============================] - 0s 11ms/step - loss: 0.1927 - mae: 0.3659\n",
      "Epoch 15/100\n",
      "Inputs are: \n",
      "[[0 0]\n",
      " [1 2]\n",
      " [2 4]]\n",
      "1/2 [==============>...............] - ETA: 0s - loss: 0.0282 - mae: 0.1498Inputs are: \n",
      "[[3 6]\n",
      " [4 8]]\n",
      "2/2 [==============================] - 0s 13ms/step - loss: 0.0709 - mae: 0.2323\n",
      "Epoch 16/100\n",
      "Inputs are: \n",
      "[[0 0]\n",
      " [1 2]\n",
      " [2 4]]\n",
      "1/2 [==============>...............] - ETA: 0s - loss: 0.0279 - mae: 0.1323Inputs are: \n",
      "[[3 6]\n",
      " [4 8]]\n",
      "2/2 [==============================] - 0s 11ms/step - loss: 0.0223 - mae: 0.1204\n",
      "Epoch 17/100\n",
      "Inputs are: \n",
      "[[0 0]\n",
      " [1 2]\n",
      " [2 4]]\n",
      "1/2 [==============>...............] - ETA: 0s - loss: 0.0465 - mae: 0.2084Inputs are: \n",
      "[[3 6]\n",
      " [4 8]]\n",
      "2/2 [==============================] - 0s 11ms/step - loss: 0.0340 - mae: 0.1734\n",
      "Epoch 18/100\n",
      "Inputs are: \n",
      "[[0 0]\n",
      " [1 2]\n",
      " [2 4]]\n",
      "1/2 [==============>...............] - ETA: 0s - loss: 0.0757 - mae: 0.2748Inputs are: \n",
      "[[3 6]\n",
      " [4 8]]\n",
      "2/2 [==============================] - 0s 13ms/step - loss: 0.0802 - mae: 0.2829\n",
      "Epoch 19/100\n",
      "Inputs are: \n",
      "[[0 0]\n",
      " [1 2]\n",
      " [2 4]]\n",
      "1/2 [==============>...............] - ETA: 0s - loss: 0.1053 - mae: 0.3239Inputs are: \n",
      "[[3 6]\n",
      " [4 8]]\n",
      "2/2 [==============================] - 0s 11ms/step - loss: 0.1317 - mae: 0.3598\n",
      "Epoch 20/100\n",
      "Inputs are: \n",
      "[[0 0]\n",
      " [1 2]\n",
      " [2 4]]\n",
      "1/2 [==============>...............] - ETA: 0s - loss: 0.1260 - mae: 0.3527Inputs are: \n",
      "[[3 6]\n",
      " [4 8]]\n",
      "2/2 [==============================] - 0s 11ms/step - loss: 0.1646 - mae: 0.4001\n",
      "Epoch 21/100\n",
      "Inputs are: \n",
      "[[0 0]\n",
      " [1 2]\n",
      " [2 4]]\n",
      "1/2 [==============>...............] - ETA: 0s - loss: 0.1323 - mae: 0.3609Inputs are: \n",
      "[[3 6]\n",
      " [4 8]]\n",
      "2/2 [==============================] - 0s 10ms/step - loss: 0.1682 - mae: 0.4049\n",
      "Epoch 22/100\n",
      "Inputs are: \n",
      "[[0 0]\n",
      " [1 2]\n",
      " [2 4]]\n",
      "1/2 [==============>...............] - ETA: 0s - loss: 0.1249 - mae: 0.3511Inputs are: \n",
      "[[3 6]\n",
      " [4 8]]\n",
      "2/2 [==============================] - 0s 10ms/step - loss: 0.1466 - mae: 0.3799\n",
      "Epoch 23/100\n",
      "Inputs are: \n",
      "[[0 0]\n",
      " [1 2]\n",
      " [2 4]]\n",
      "1/2 [==============>...............] - ETA: 0s - loss: 0.1076 - mae: 0.3270Inputs are: \n",
      "[[3 6]\n",
      " [4 8]]\n",
      "2/2 [==============================] - 0s 10ms/step - loss: 0.1111 - mae: 0.3326\n",
      "Epoch 24/100\n",
      "Inputs are: \n",
      "[[0 0]\n",
      " [1 2]\n",
      " [2 4]]\n",
      "1/2 [==============>...............] - ETA: 0s - loss: 0.0864 - mae: 0.2939Inputs are: \n",
      "[[3 6]\n",
      " [4 8]]\n",
      "2/2 [==============================] - 0s 11ms/step - loss: 0.0745 - mae: 0.2715\n",
      "Epoch 25/100\n",
      "Inputs are: \n",
      "[[0 0]\n",
      " [1 2]\n",
      " [2 4]]\n",
      "1/2 [==============>...............] - ETA: 0s - loss: 0.0662 - mae: 0.2566Inputs are: \n",
      "[[3 6]\n",
      " [4 8]]\n",
      "2/2 [==============================] - 0s 10ms/step - loss: 0.0466 - mae: 0.2056\n",
      "Epoch 26/100\n",
      "Inputs are: \n",
      "[[0 0]\n",
      " [1 2]\n",
      " [2 4]]\n",
      "1/2 [==============>...............] - ETA: 0s - loss: 0.0498 - mae: 0.2194Inputs are: \n",
      "[[3 6]\n",
      " [4 8]]\n",
      "2/2 [==============================] - 0s 11ms/step - loss: 0.0307 - mae: 0.1464\n",
      "Epoch 27/100\n",
      "Inputs are: \n",
      "[[0 0]\n",
      " [1 2]\n",
      " [2 4]]\n",
      "1/2 [==============>...............] - ETA: 0s - loss: 0.0381 - mae: 0.1854Inputs are: \n",
      "[[3 6]\n",
      " [4 8]]\n",
      "2/2 [==============================] - 0s 10ms/step - loss: 0.0255 - mae: 0.1372\n",
      "Epoch 28/100\n",
      "Inputs are: \n",
      "[[0 0]\n",
      " [1 2]\n",
      " [2 4]]\n",
      "1/2 [==============>...............] - ETA: 0s - loss: 0.0307 - mae: 0.1571Inputs are: \n",
      "[[3 6]\n",
      " [4 8]]\n",
      "2/2 [==============================] - 0s 12ms/step - loss: 0.0271 - mae: 0.1484\n",
      "Epoch 29/100\n",
      "Inputs are: \n",
      "[[0 0]\n",
      " [1 2]\n",
      " [2 4]]\n",
      "1/2 [==============>...............] - ETA: 0s - loss: 0.0265 - mae: 0.1357Inputs are: \n",
      "[[3 6]\n",
      " [4 8]]\n",
      "2/2 [==============================] - 0s 11ms/step - loss: 0.0311 - mae: 0.1550\n",
      "Epoch 30/100\n",
      "Inputs are: \n",
      "[[0 0]\n",
      " [1 2]\n",
      " [2 4]]\n",
      "1/2 [==============>...............] - ETA: 0s - loss: 0.0244 - mae: 0.1227Inputs are: \n",
      "[[3 6]\n",
      " [4 8]]\n",
      "2/2 [==============================] - 0s 11ms/step - loss: 0.0342 - mae: 0.1579\n",
      "Epoch 31/100\n",
      "Inputs are: \n",
      "[[0 0]\n",
      " [1 2]\n",
      " [2 4]]\n",
      "1/2 [==============>...............] - ETA: 0s - loss: 0.0233 - mae: 0.1229Inputs are: \n",
      "[[3 6]\n",
      " [4 8]]\n",
      "2/2 [==============================] - 0s 10ms/step - loss: 0.0347 - mae: 0.1606\n",
      "Epoch 32/100\n",
      "Inputs are: \n",
      "[[0 0]\n",
      " [1 2]\n",
      " [2 4]]\n",
      "1/2 [==============>...............] - ETA: 0s - loss: 0.0230 - mae: 0.1218Inputs are: \n",
      "[[3 6]\n",
      " [4 8]]\n",
      "2/2 [==============================] - 0s 9ms/step - loss: 0.0326 - mae: 0.1558\n",
      "Epoch 33/100\n",
      "Inputs are: \n",
      "[[0 0]\n",
      " [1 2]\n",
      " [2 4]]\n",
      "1/2 [==============>...............] - ETA: 0s - loss: 0.0232 - mae: 0.1198Inputs are: \n",
      "[[3 6]\n",
      " [4 8]]\n",
      "2/2 [==============================] - 0s 11ms/step - loss: 0.0289 - mae: 0.1451\n",
      "Epoch 34/100\n",
      "Inputs are: \n",
      "[[0 0]\n",
      " [1 2]\n",
      " [2 4]]\n",
      "1/2 [==============>...............] - ETA: 0s - loss: 0.0239 - mae: 0.1266Inputs are: \n",
      "[[3 6]\n",
      " [4 8]]\n",
      "2/2 [==============================] - 0s 11ms/step - loss: 0.0248 - mae: 0.1362\n",
      "Epoch 35/100\n",
      "Inputs are: \n",
      "[[0 0]\n",
      " [1 2]\n",
      " [2 4]]\n",
      "1/2 [==============>...............] - ETA: 0s - loss: 0.0252 - mae: 0.1369Inputs are: \n",
      "[[3 6]\n",
      " [4 8]]\n",
      "2/2 [==============================] - 0s 28ms/step - loss: 0.0214 - mae: 0.1275\n",
      "Epoch 36/100\n",
      "Inputs are: \n",
      "[[0 0]\n",
      " [1 2]\n",
      " [2 4]]\n"
     ]
    },
    {
     "name": "stdout",
     "output_type": "stream",
     "text": [
      "1/2 [==============>...............] - ETA: 0s - loss: 0.0271 - mae: 0.1480Inputs are: \n",
      "[[3 6]\n",
      " [4 8]]\n",
      "2/2 [==============================] - 0s 10ms/step - loss: 0.0194 - mae: 0.1189\n",
      "Epoch 37/100\n",
      "Inputs are: \n",
      "[[0 0]\n",
      " [1 2]\n",
      " [2 4]]\n",
      "1/2 [==============>...............] - ETA: 0s - loss: 0.0292 - mae: 0.1588Inputs are: \n",
      "[[3 6]\n",
      " [4 8]]\n",
      "2/2 [==============================] - 0s 9ms/step - loss: 0.0189 - mae: 0.1122\n",
      "Epoch 38/100\n",
      "Inputs are: \n",
      "[[0 0]\n",
      " [1 2]\n",
      " [2 4]]\n",
      "1/2 [==============>...............] - ETA: 0s - loss: 0.0313 - mae: 0.1680Inputs are: \n",
      "[[3 6]\n",
      " [4 8]]\n",
      "2/2 [==============================] - 0s 11ms/step - loss: 0.0194 - mae: 0.1160\n",
      "Epoch 39/100\n",
      "Inputs are: \n",
      "[[0 0]\n",
      " [1 2]\n",
      " [2 4]]\n",
      "1/2 [==============>...............] - ETA: 0s - loss: 0.0331 - mae: 0.1749Inputs are: \n",
      "[[3 6]\n",
      " [4 8]]\n",
      "2/2 [==============================] - 0s 11ms/step - loss: 0.0204 - mae: 0.1189\n",
      "Epoch 40/100\n",
      "Inputs are: \n",
      "[[0 0]\n",
      " [1 2]\n",
      " [2 4]]\n",
      "1/2 [==============>...............] - ETA: 0s - loss: 0.0341 - mae: 0.1791Inputs are: \n",
      "[[3 6]\n",
      " [4 8]]\n",
      "2/2 [==============================] - 0s 11ms/step - loss: 0.0211 - mae: 0.1206\n",
      "Epoch 41/100\n",
      "Inputs are: \n",
      "[[0 0]\n",
      " [1 2]\n",
      " [2 4]]\n",
      "1/2 [==============>...............] - ETA: 0s - loss: 0.0344 - mae: 0.1803Inputs are: \n",
      "[[3 6]\n",
      " [4 8]]\n",
      "2/2 [==============================] - 0s 12ms/step - loss: 0.0214 - mae: 0.1209\n",
      "Epoch 42/100\n",
      "Inputs are: \n",
      "[[0 0]\n",
      " [1 2]\n",
      " [2 4]]\n",
      "1/2 [==============>...............] - ETA: 0s - loss: 0.0338 - mae: 0.1788Inputs are: \n",
      "[[3 6]\n",
      " [4 8]]\n",
      "2/2 [==============================] - 0s 10ms/step - loss: 0.0209 - mae: 0.1201\n",
      "Epoch 43/100\n",
      "Inputs are: \n",
      "[[0 0]\n",
      " [1 2]\n",
      " [2 4]]\n",
      "1/2 [==============>...............] - ETA: 0s - loss: 0.0325 - mae: 0.1750Inputs are: \n",
      "[[3 6]\n",
      " [4 8]]\n",
      "2/2 [==============================] - 0s 10ms/step - loss: 0.0200 - mae: 0.1181\n",
      "Epoch 44/100\n",
      "Inputs are: \n",
      "[[0 0]\n",
      " [1 2]\n",
      " [2 4]]\n",
      "1/2 [==============>...............] - ETA: 0s - loss: 0.0308 - mae: 0.1696Inputs are: \n",
      "[[3 6]\n",
      " [4 8]]\n",
      "2/2 [==============================] - 0s 10ms/step - loss: 0.0190 - mae: 0.1155\n",
      "Epoch 45/100\n",
      "Inputs are: \n",
      "[[0 0]\n",
      " [1 2]\n",
      " [2 4]]\n",
      "1/2 [==============>...............] - ETA: 0s - loss: 0.0290 - mae: 0.1633Inputs are: \n",
      "[[3 6]\n",
      " [4 8]]\n",
      "2/2 [==============================] - 0s 11ms/step - loss: 0.0180 - mae: 0.1123\n",
      "Epoch 46/100\n",
      "Inputs are: \n",
      "[[0 0]\n",
      " [1 2]\n",
      " [2 4]]\n",
      "1/2 [==============>...............] - ETA: 0s - loss: 0.0271 - mae: 0.1568Inputs are: \n",
      "[[3 6]\n",
      " [4 8]]\n",
      "2/2 [==============================] - 0s 11ms/step - loss: 0.0171 - mae: 0.1091\n",
      "Epoch 47/100\n",
      "Inputs are: \n",
      "[[0 0]\n",
      " [1 2]\n",
      " [2 4]]\n",
      "1/2 [==============>...............] - ETA: 0s - loss: 0.0255 - mae: 0.1507Inputs are: \n",
      "[[3 6]\n",
      " [4 8]]\n",
      "2/2 [==============================] - 0s 11ms/step - loss: 0.0165 - mae: 0.1059\n",
      "Epoch 48/100\n",
      "Inputs are: \n",
      "[[0 0]\n",
      " [1 2]\n",
      " [2 4]]\n",
      "1/2 [==============>...............] - ETA: 0s - loss: 0.0241 - mae: 0.1453Inputs are: \n",
      "[[3 6]\n",
      " [4 8]]\n",
      "2/2 [==============================] - 0s 11ms/step - loss: 0.0160 - mae: 0.1065\n",
      "Epoch 49/100\n",
      "Inputs are: \n",
      "[[0 0]\n",
      " [1 2]\n",
      " [2 4]]\n",
      "1/2 [==============>...............] - ETA: 0s - loss: 0.0230 - mae: 0.1411Inputs are: \n",
      "[[3 6]\n",
      " [4 8]]\n",
      "2/2 [==============================] - 0s 11ms/step - loss: 0.0156 - mae: 0.1063\n",
      "Epoch 50/100\n",
      "Inputs are: \n",
      "[[0 0]\n",
      " [1 2]\n",
      " [2 4]]\n",
      "1/2 [==============>...............] - ETA: 0s - loss: 0.0222 - mae: 0.1380Inputs are: \n",
      "[[3 6]\n",
      " [4 8]]\n",
      "2/2 [==============================] - 0s 10ms/step - loss: 0.0153 - mae: 0.1054\n",
      "Epoch 51/100\n",
      "Inputs are: \n",
      "[[0 0]\n",
      " [1 2]\n",
      " [2 4]]\n",
      "1/2 [==============>...............] - ETA: 0s - loss: 0.0217 - mae: 0.1361Inputs are: \n",
      "[[3 6]\n",
      " [4 8]]\n",
      "2/2 [==============================] - 0s 11ms/step - loss: 0.0149 - mae: 0.1039\n",
      "Epoch 52/100\n",
      "Inputs are: \n",
      "[[0 0]\n",
      " [1 2]\n",
      " [2 4]]\n",
      "1/2 [==============>...............] - ETA: 0s - loss: 0.0213 - mae: 0.1352Inputs are: \n",
      "[[3 6]\n",
      " [4 8]]\n",
      "2/2 [==============================] - 0s 12ms/step - loss: 0.0145 - mae: 0.1019\n",
      "Epoch 53/100\n",
      "Inputs are: \n",
      "[[0 0]\n",
      " [1 2]\n",
      " [2 4]]\n",
      "1/2 [==============>...............] - ETA: 0s - loss: 0.0211 - mae: 0.1351Inputs are: \n",
      "[[3 6]\n",
      " [4 8]]\n",
      "2/2 [==============================] - 0s 11ms/step - loss: 0.0141 - mae: 0.0996\n",
      "Epoch 54/100\n",
      "Inputs are: \n",
      "[[0 0]\n",
      " [1 2]\n",
      " [2 4]]\n",
      "1/2 [==============>...............] - ETA: 0s - loss: 0.0210 - mae: 0.1354Inputs are: \n",
      "[[3 6]\n",
      " [4 8]]\n",
      "2/2 [==============================] - 0s 12ms/step - loss: 0.0138 - mae: 0.0972\n",
      "Epoch 55/100\n",
      "Inputs are: \n",
      "[[0 0]\n",
      " [1 2]\n",
      " [2 4]]\n",
      "1/2 [==============>...............] - ETA: 0s - loss: 0.0209 - mae: 0.1358Inputs are: \n",
      "[[3 6]\n",
      " [4 8]]\n",
      "2/2 [==============================] - 0s 15ms/step - loss: 0.0135 - mae: 0.0956\n",
      "Epoch 56/100\n",
      "Inputs are: \n",
      "[[0 0]\n",
      " [1 2]\n",
      " [2 4]]\n",
      "1/2 [==============>...............] - ETA: 0s - loss: 0.0208 - mae: 0.1362Inputs are: \n",
      "[[3 6]\n",
      " [4 8]]\n",
      "2/2 [==============================] - 0s 12ms/step - loss: 0.0133 - mae: 0.0954\n",
      "Epoch 57/100\n",
      "Inputs are: \n",
      "[[0 0]\n",
      " [1 2]\n",
      " [2 4]]\n",
      "1/2 [==============>...............] - ETA: 0s - loss: 0.0206 - mae: 0.1362Inputs are: \n",
      "[[3 6]\n",
      " [4 8]]\n",
      "2/2 [==============================] - 0s 12ms/step - loss: 0.0130 - mae: 0.0950\n",
      "Epoch 58/100\n",
      "Inputs are: \n",
      "[[0 0]\n",
      " [1 2]\n",
      " [2 4]]\n",
      "1/2 [==============>...............] - ETA: 0s - loss: 0.0204 - mae: 0.1357Inputs are: \n",
      "[[3 6]\n",
      " [4 8]]\n",
      "2/2 [==============================] - 0s 13ms/step - loss: 0.0128 - mae: 0.0944\n",
      "Epoch 59/100\n",
      "Inputs are: \n",
      "[[0 0]\n",
      " [1 2]\n",
      " [2 4]]\n",
      "1/2 [==============>...............] - ETA: 0s - loss: 0.0201 - mae: 0.1347Inputs are: \n",
      "[[3 6]\n",
      " [4 8]]\n",
      "2/2 [==============================] - 0s 10ms/step - loss: 0.0126 - mae: 0.0936\n",
      "Epoch 60/100\n",
      "Inputs are: \n",
      "[[0 0]\n",
      " [1 2]\n",
      " [2 4]]\n",
      "1/2 [==============>...............] - ETA: 0s - loss: 0.0196 - mae: 0.1332Inputs are: \n",
      "[[3 6]\n",
      " [4 8]]\n",
      "2/2 [==============================] - 0s 12ms/step - loss: 0.0123 - mae: 0.0926\n",
      "Epoch 61/100\n",
      "Inputs are: \n",
      "[[0 0]\n",
      " [1 2]\n",
      " [2 4]]\n",
      "1/2 [==============>...............] - ETA: 0s - loss: 0.0191 - mae: 0.1313Inputs are: \n",
      "[[3 6]\n",
      " [4 8]]\n",
      "2/2 [==============================] - 0s 11ms/step - loss: 0.0120 - mae: 0.0914\n",
      "Epoch 62/100\n",
      "Inputs are: \n",
      "[[0 0]\n",
      " [1 2]\n",
      " [2 4]]\n",
      "1/2 [==============>...............] - ETA: 0s - loss: 0.0185 - mae: 0.1291Inputs are: \n",
      "[[3 6]\n",
      " [4 8]]\n",
      "2/2 [==============================] - 0s 10ms/step - loss: 0.0117 - mae: 0.0900\n",
      "Epoch 63/100\n",
      "Inputs are: \n",
      "[[0 0]\n",
      " [1 2]\n",
      " [2 4]]\n",
      "1/2 [==============>...............] - ETA: 0s - loss: 0.0179 - mae: 0.1268Inputs are: \n",
      "[[3 6]\n",
      " [4 8]]\n",
      "2/2 [==============================] - 0s 10ms/step - loss: 0.0114 - mae: 0.0886\n",
      "Epoch 64/100\n",
      "Inputs are: \n",
      "[[0 0]\n",
      " [1 2]\n",
      " [2 4]]\n",
      "1/2 [==============>...............] - ETA: 0s - loss: 0.0173 - mae: 0.1244Inputs are: \n",
      "[[3 6]\n",
      " [4 8]]\n",
      "2/2 [==============================] - 0s 11ms/step - loss: 0.0110 - mae: 0.0871\n",
      "Epoch 65/100\n",
      "Inputs are: \n",
      "[[0 0]\n",
      " [1 2]\n",
      " [2 4]]\n",
      "1/2 [==============>...............] - ETA: 0s - loss: 0.0167 - mae: 0.1221Inputs are: \n",
      "[[3 6]\n",
      " [4 8]]\n",
      "2/2 [==============================] - 0s 10ms/step - loss: 0.0107 - mae: 0.0857\n",
      "Epoch 66/100\n",
      "Inputs are: \n",
      "[[0 0]\n",
      " [1 2]\n",
      " [2 4]]\n",
      "1/2 [==============>...............] - ETA: 0s - loss: 0.0162 - mae: 0.1200Inputs are: \n",
      "[[3 6]\n",
      " [4 8]]\n",
      "2/2 [==============================] - 0s 10ms/step - loss: 0.0104 - mae: 0.0844\n",
      "Epoch 67/100\n",
      "Inputs are: \n",
      "[[0 0]\n",
      " [1 2]\n",
      " [2 4]]\n",
      "1/2 [==============>...............] - ETA: 0s - loss: 0.0157 - mae: 0.1181Inputs are: \n",
      "[[3 6]\n",
      " [4 8]]\n",
      "2/2 [==============================] - 0s 10ms/step - loss: 0.0102 - mae: 0.0831\n",
      "Epoch 68/100\n",
      "Inputs are: \n",
      "[[0 0]\n",
      " [1 2]\n",
      " [2 4]]\n",
      "1/2 [==============>...............] - ETA: 0s - loss: 0.0153 - mae: 0.1164Inputs are: \n",
      "[[3 6]\n",
      " [4 8]]\n",
      "2/2 [==============================] - 0s 11ms/step - loss: 0.0099 - mae: 0.0820\n",
      "Epoch 69/100\n",
      "Inputs are: \n",
      "[[0 0]\n",
      " [1 2]\n",
      " [2 4]]\n",
      "1/2 [==============>...............] - ETA: 0s - loss: 0.0149 - mae: 0.1150Inputs are: \n",
      "[[3 6]\n",
      " [4 8]]\n",
      "2/2 [==============================] - 0s 9ms/step - loss: 0.0096 - mae: 0.0810\n",
      "Epoch 70/100\n",
      "Inputs are: \n",
      "[[0 0]\n",
      " [1 2]\n",
      " [2 4]]\n",
      "1/2 [==============>...............] - ETA: 0s - loss: 0.0145 - mae: 0.1137Inputs are: \n",
      "[[3 6]\n",
      " [4 8]]\n",
      "2/2 [==============================] - 0s 9ms/step - loss: 0.0094 - mae: 0.0800\n",
      "Epoch 71/100\n",
      "Inputs are: \n",
      "[[0 0]\n",
      " [1 2]\n",
      " [2 4]]\n",
      "1/2 [==============>...............] - ETA: 0s - loss: 0.0142 - mae: 0.1125Inputs are: \n"
     ]
    },
    {
     "name": "stdout",
     "output_type": "stream",
     "text": [
      "[[3 6]\n",
      " [4 8]]\n",
      "2/2 [==============================] - 0s 11ms/step - loss: 0.0091 - mae: 0.0790\n",
      "Epoch 72/100\n",
      "Inputs are: \n",
      "[[0 0]\n",
      " [1 2]\n",
      " [2 4]]\n",
      "1/2 [==============>...............] - ETA: 0s - loss: 0.0138 - mae: 0.1112Inputs are: \n",
      "[[3 6]\n",
      " [4 8]]\n",
      "2/2 [==============================] - 0s 11ms/step - loss: 0.0089 - mae: 0.0781\n",
      "Epoch 73/100\n",
      "Inputs are: \n",
      "[[0 0]\n",
      " [1 2]\n",
      " [2 4]]\n",
      "1/2 [==============>...............] - ETA: 0s - loss: 0.0135 - mae: 0.1099Inputs are: \n",
      "[[3 6]\n",
      " [4 8]]\n",
      "2/2 [==============================] - 0s 13ms/step - loss: 0.0086 - mae: 0.0771\n",
      "Epoch 74/100\n",
      "Inputs are: \n",
      "[[0 0]\n",
      " [1 2]\n",
      " [2 4]]\n",
      "1/2 [==============>...............] - ETA: 0s - loss: 0.0131 - mae: 0.1084Inputs are: \n",
      "[[3 6]\n",
      " [4 8]]\n",
      "2/2 [==============================] - 0s 10ms/step - loss: 0.0083 - mae: 0.0760\n",
      "Epoch 75/100\n",
      "Inputs are: \n",
      "[[0 0]\n",
      " [1 2]\n",
      " [2 4]]\n",
      "1/2 [==============>...............] - ETA: 0s - loss: 0.0126 - mae: 0.1067Inputs are: \n",
      "[[3 6]\n",
      " [4 8]]\n",
      "2/2 [==============================] - 0s 11ms/step - loss: 0.0080 - mae: 0.0748\n",
      "Epoch 76/100\n",
      "Inputs are: \n",
      "[[0 0]\n",
      " [1 2]\n",
      " [2 4]]\n",
      "1/2 [==============>...............] - ETA: 0s - loss: 0.0121 - mae: 0.1048Inputs are: \n",
      "[[3 6]\n",
      " [4 8]]\n",
      "2/2 [==============================] - 0s 11ms/step - loss: 0.0078 - mae: 0.0735\n",
      "Epoch 77/100\n",
      "Inputs are: \n",
      "[[0 0]\n",
      " [1 2]\n",
      " [2 4]]\n",
      "1/2 [==============>...............] - ETA: 0s - loss: 0.0117 - mae: 0.1028Inputs are: \n",
      "[[3 6]\n",
      " [4 8]]\n",
      "2/2 [==============================] - 0s 11ms/step - loss: 0.0075 - mae: 0.0722\n",
      "Epoch 78/100\n",
      "Inputs are: \n",
      "[[0 0]\n",
      " [1 2]\n",
      " [2 4]]\n",
      "1/2 [==============>...............] - ETA: 0s - loss: 0.0112 - mae: 0.1008Inputs are: \n",
      "[[3 6]\n",
      " [4 8]]\n",
      "2/2 [==============================] - 0s 13ms/step - loss: 0.0072 - mae: 0.0709\n",
      "Epoch 79/100\n",
      "Inputs are: \n",
      "[[0 0]\n",
      " [1 2]\n",
      " [2 4]]\n",
      "1/2 [==============>...............] - ETA: 0s - loss: 0.0107 - mae: 0.0986Inputs are: \n",
      "[[3 6]\n",
      " [4 8]]\n",
      "2/2 [==============================] - 0s 13ms/step - loss: 0.0068 - mae: 0.0694\n",
      "Epoch 80/100\n",
      "Inputs are: \n",
      "[[0 0]\n",
      " [1 2]\n",
      " [2 4]]\n",
      "1/2 [==============>...............] - ETA: 0s - loss: 0.0100 - mae: 0.0958Inputs are: \n",
      "[[3 6]\n",
      " [4 8]]\n",
      "2/2 [==============================] - 0s 16ms/step - loss: 0.0065 - mae: 0.0675\n",
      "Epoch 81/100\n",
      "Inputs are: \n",
      "[[0 0]\n",
      " [1 2]\n",
      " [2 4]]\n",
      "1/2 [==============>...............] - ETA: 0s - loss: 0.0093 - mae: 0.0919Inputs are: \n",
      "[[3 6]\n",
      " [4 8]]\n",
      "2/2 [==============================] - 0s 14ms/step - loss: 0.0061 - mae: 0.0660\n",
      "Epoch 82/100\n",
      "Inputs are: \n",
      "[[0 0]\n",
      " [1 2]\n",
      " [2 4]]\n",
      "1/2 [==============>...............] - ETA: 0s - loss: 0.0087 - mae: 0.0885Inputs are: \n",
      "[[3 6]\n",
      " [4 8]]\n",
      "2/2 [==============================] - 0s 13ms/step - loss: 0.0058 - mae: 0.0644\n",
      "Epoch 83/100\n",
      "Inputs are: \n",
      "[[0 0]\n",
      " [1 2]\n",
      " [2 4]]\n",
      "1/2 [==============>...............] - ETA: 0s - loss: 0.0082 - mae: 0.0861Inputs are: \n",
      "[[3 6]\n",
      " [4 8]]\n",
      "2/2 [==============================] - 0s 14ms/step - loss: 0.0055 - mae: 0.0624\n",
      "Epoch 84/100\n",
      "Inputs are: \n",
      "[[0 0]\n",
      " [1 2]\n",
      " [2 4]]\n",
      "1/2 [==============>...............] - ETA: 0s - loss: 0.0078 - mae: 0.0845Inputs are: \n",
      "[[3 6]\n",
      " [4 8]]\n",
      "2/2 [==============================] - 0s 14ms/step - loss: 0.0052 - mae: 0.0602\n",
      "Epoch 85/100\n",
      "Inputs are: \n",
      "[[0 0]\n",
      " [1 2]\n",
      " [2 4]]\n",
      "1/2 [==============>...............] - ETA: 0s - loss: 0.0076 - mae: 0.0834Inputs are: \n",
      "[[3 6]\n",
      " [4 8]]\n",
      "2/2 [==============================] - 0s 14ms/step - loss: 0.0049 - mae: 0.0592\n",
      "Epoch 86/100\n",
      "Inputs are: \n",
      "[[0 0]\n",
      " [1 2]\n",
      " [2 4]]\n",
      "1/2 [==============>...............] - ETA: 0s - loss: 0.0073 - mae: 0.0823Inputs are: \n",
      "[[3 6]\n",
      " [4 8]]\n",
      "2/2 [==============================] - 0s 12ms/step - loss: 0.0047 - mae: 0.0582\n",
      "Epoch 87/100\n",
      "Inputs are: \n",
      "[[0 0]\n",
      " [1 2]\n",
      " [2 4]]\n",
      "1/2 [==============>...............] - ETA: 0s - loss: 0.0069 - mae: 0.0804Inputs are: \n",
      "[[3 6]\n",
      " [4 8]]\n",
      "2/2 [==============================] - 0s 15ms/step - loss: 0.0044 - mae: 0.0568\n",
      "Epoch 88/100\n",
      "Inputs are: \n",
      "[[0 0]\n",
      " [1 2]\n",
      " [2 4]]\n",
      "1/2 [==============>...............] - ETA: 0s - loss: 0.0065 - mae: 0.0778Inputs are: \n",
      "[[3 6]\n",
      " [4 8]]\n",
      "2/2 [==============================] - 0s 12ms/step - loss: 0.0041 - mae: 0.0551\n",
      "Epoch 89/100\n",
      "Inputs are: \n",
      "[[0 0]\n",
      " [1 2]\n",
      " [2 4]]\n",
      "1/2 [==============>...............] - ETA: 0s - loss: 0.0059 - mae: 0.0747Inputs are: \n",
      "[[3 6]\n",
      " [4 8]]\n",
      "2/2 [==============================] - 0s 13ms/step - loss: 0.0038 - mae: 0.0531\n",
      "Epoch 90/100\n",
      "Inputs are: \n",
      "[[0 0]\n",
      " [1 2]\n",
      " [2 4]]\n",
      "1/2 [==============>...............] - ETA: 0s - loss: 0.0054 - mae: 0.0712Inputs are: \n",
      "[[3 6]\n",
      " [4 8]]\n",
      "2/2 [==============================] - 0s 13ms/step - loss: 0.0035 - mae: 0.0509\n",
      "Epoch 91/100\n",
      "Inputs are: \n",
      "[[0 0]\n",
      " [1 2]\n",
      " [2 4]]\n",
      "1/2 [==============>...............] - ETA: 0s - loss: 0.0048 - mae: 0.0674Inputs are: \n",
      "[[3 6]\n",
      " [4 8]]\n",
      "2/2 [==============================] - 0s 12ms/step - loss: 0.0031 - mae: 0.0485\n",
      "Epoch 92/100\n",
      "Inputs are: \n",
      "[[0 0]\n",
      " [1 2]\n",
      " [2 4]]\n",
      "1/2 [==============>...............] - ETA: 0s - loss: 0.0041 - mae: 0.0619Inputs are: \n",
      "[[3 6]\n",
      " [4 8]]\n",
      "2/2 [==============================] - 0s 12ms/step - loss: 0.0027 - mae: 0.0451\n",
      "Epoch 93/100\n",
      "Inputs are: \n",
      "[[0 0]\n",
      " [1 2]\n",
      " [2 4]]\n",
      "1/2 [==============>...............] - ETA: 0s - loss: 0.0034 - mae: 0.0556Inputs are: \n",
      "[[3 6]\n",
      " [4 8]]\n",
      "2/2 [==============================] - 0s 13ms/step - loss: 0.0023 - mae: 0.0405\n",
      "Epoch 94/100\n",
      "Inputs are: \n",
      "[[0 0]\n",
      " [1 2]\n",
      " [2 4]]\n",
      "1/2 [==============>...............] - ETA: 0s - loss: 0.0028 - mae: 0.0496Inputs are: \n",
      "[[3 6]\n",
      " [4 8]]\n",
      "2/2 [==============================] - 0s 12ms/step - loss: 0.0020 - mae: 0.0388\n",
      "Epoch 95/100\n",
      "Inputs are: \n",
      "[[0 0]\n",
      " [1 2]\n",
      " [2 4]]\n",
      "1/2 [==============>...............] - ETA: 0s - loss: 0.0024 - mae: 0.0452Inputs are: \n",
      "[[3 6]\n",
      " [4 8]]\n",
      "2/2 [==============================] - 0s 11ms/step - loss: 0.0017 - mae: 0.0361\n",
      "Epoch 96/100\n",
      "Inputs are: \n",
      "[[0 0]\n",
      " [1 2]\n",
      " [2 4]]\n",
      "1/2 [==============>...............] - ETA: 0s - loss: 0.0022 - mae: 0.0433Inputs are: \n",
      "[[3 6]\n",
      " [4 8]]\n",
      "2/2 [==============================] - 0s 13ms/step - loss: 0.0015 - mae: 0.0324\n",
      "Epoch 97/100\n",
      "Inputs are: \n",
      "[[0 0]\n",
      " [1 2]\n",
      " [2 4]]\n",
      "1/2 [==============>...............] - ETA: 0s - loss: 0.0021 - mae: 0.0425Inputs are: \n",
      "[[3 6]\n",
      " [4 8]]\n",
      "2/2 [==============================] - 0s 15ms/step - loss: 0.0013 - mae: 0.0297\n",
      "Epoch 98/100\n",
      "Inputs are: \n",
      "[[0 0]\n",
      " [1 2]\n",
      " [2 4]]\n",
      "1/2 [==============>...............] - ETA: 0s - loss: 0.0019 - mae: 0.0418Inputs are: \n",
      "[[3 6]\n",
      " [4 8]]\n",
      "2/2 [==============================] - 0s 12ms/step - loss: 0.0012 - mae: 0.0287\n",
      "Epoch 99/100\n",
      "Inputs are: \n",
      "[[0 0]\n",
      " [1 2]\n",
      " [2 4]]\n",
      "1/2 [==============>...............] - ETA: 0s - loss: 0.0017 - mae: 0.0394Inputs are: \n",
      "[[3 6]\n",
      " [4 8]]\n",
      "2/2 [==============================] - 0s 16ms/step - loss: 0.0011 - mae: 0.0270\n",
      "Epoch 100/100\n",
      "Inputs are: \n",
      "[[0 0]\n",
      " [1 2]\n",
      " [2 4]]\n",
      "1/2 [==============>...............] - ETA: 0s - loss: 0.0014 - mae: 0.0348Inputs are: \n",
      "[[3 6]\n",
      " [4 8]]\n",
      "2/2 [==============================] - 0s 17ms/step - loss: 8.7246e-04 - mae: 0.0237\n"
     ]
    },
    {
     "data": {
      "text/plain": [
       "<keras.callbacks.History at 0x2b943fb4940>"
      ]
     },
     "execution_count": 138,
     "metadata": {},
     "output_type": "execute_result"
    }
   ],
   "source": [
    "low = 0\n",
    "high = 5\n",
    "xtrain = [[i,i*2] for i in range(low,high)]\n",
    "xtrain_ab = [[i,i*3] for i in range(3,5)]\n",
    "xtrain=xtrain+xtrain_ab\n",
    "#xtrain\n",
    "ytrain = [(lambda x: x*2 - x)(i) for i in range(low,high)]\n",
    "ytrainclass = [0 if (xtrain[i][1]-xtrain[i][0]==xtrain[i][0]) else 1 for i in range(low,len(xtrain))]\n",
    "\n",
    "import random\n",
    "c = list(zip(xtrain, ytrainclass, ytrain))\n",
    "\n",
    "#random.shuffle(c)\n",
    "\n",
    "xtrain, ytrainclass, ytrain = zip(*c)\n",
    "xtrain\n",
    "ytrain\n",
    "#ytrainclass\n",
    "xtrain = np.array(xtrain)\n",
    "ytrain = np.array(ytrain)\n",
    "batch = len(xtrain)\n",
    "xtrain\n",
    "ytrain\n",
    "train_dataset = tf.data.Dataset.from_tensor_slices((xtrain,ytrain)).batch(3)\n",
    "train_dataset\n",
    "\n",
    "# define your custom callback for prediction\n",
    "class InputCallback(tf.keras.callbacks.Callback): \n",
    "    def __init__(self, patience=0):\n",
    "        super(InputCallback, self).__init__()\n",
    "        \n",
    "    def on_train_batch_begin(self, epoch, logs=None):\n",
    "        tf.print(\"Inputs are: \",self.model.)\n",
    "        #tf.print(self.model.layers[0].input)\n",
    "\n",
    "InputCallback_object = InputCallback()        \n",
    "        \n",
    "class Encoder(keras.layers.Layer):\n",
    "    def __init__(self):\n",
    "        super(Encoder, self).__init__()\n",
    "        self.layer1 = keras.layers.Dense(units=32, activation='relu',name=\"layer1\")\n",
    "        self.layer2 = keras.layers.Dense(units=32, activation='relu')\n",
    "        self.layer3 = keras.layers.Dense(units=8, activation='relu')\n",
    "        \n",
    "    def call(self, inputs):\n",
    "        x = self.layer1(inputs)\n",
    "        x = self.layer2(x)\n",
    "        x = self.layer3(x)\n",
    "        return x\n",
    "    \n",
    "class Decoder(keras.layers.Layer):\n",
    "    def __init__(self):\n",
    "        super(Decoder, self).__init__()\n",
    "        self.layer1 = keras.layers.Dense(units=32, activation='relu')\n",
    "        self.layer2 = keras.layers.Dense(units=32, activation='relu')\n",
    "        self.layer3 = keras.layers.Dense(units=1, activation='linear')\n",
    "        \n",
    "    def call(self, inputs):\n",
    "        #self.layer1 = keras.layers.Dense(units=32, input_shape=((2,)),activation='relu')\n",
    "        x = self.layer1(inputs)\n",
    "        x = self.layer2(x)\n",
    "        x = self.layer3(x)\n",
    "        return x\n",
    "    \n",
    "class AE(keras.Model):\n",
    "    def __init__(self):\n",
    "        super(AE, self).__init__()\n",
    "        self.Encoder = Encoder()\n",
    "        self.Decoder = Decoder()\n",
    "        \n",
    "    def call(self, inputs):\n",
    "        #tf.print(inputs)\n",
    "        x = self.Encoder(inputs)\n",
    "        x = self.Decoder(x)\n",
    "        return x\n",
    "    \n",
    "class AE_(AE):\n",
    "    def __init__(self):\n",
    "        super(AE_,self).__init__()\n",
    "        \n",
    "    def call(self, inputs):\n",
    "        #tf.print(\"I am in\")\n",
    "        tf.print(inputs)\n",
    "        return super(AE_,self).call(inputs)\n",
    "    \n",
    "ae = AE_()\n",
    "ae.compile(loss='mse',optimizer='adam',metrics=['mae'])\n",
    "ae.fit(train_dataset, epochs=100,shuffle=False, callbacks=[InputCallback_object])    "
   ]
  },
  {
   "cell_type": "markdown",
   "id": "f7b5c3d9",
   "metadata": {},
   "source": [
    "ae.predict([[10,20]])"
   ]
  },
  {
   "cell_type": "code",
   "execution_count": 137,
   "id": "b161fa91",
   "metadata": {},
   "outputs": [
    {
     "data": {
      "text/plain": [
       "array([[9.827684]], dtype=float32)"
      ]
     },
     "execution_count": 137,
     "metadata": {},
     "output_type": "execute_result"
    }
   ],
   "source": [
    "ae.predict([[10,20]])"
   ]
  },
  {
   "cell_type": "code",
   "execution_count": 127,
   "id": "e0790830",
   "metadata": {},
   "outputs": [
    {
     "ename": "AttributeError",
     "evalue": "Layer encoder_76 is not connected, no input to return.",
     "output_type": "error",
     "traceback": [
      "\u001b[1;31m---------------------------------------------------------------------------\u001b[0m",
      "\u001b[1;31mAttributeError\u001b[0m                            Traceback (most recent call last)",
      "\u001b[1;32m<ipython-input-127-96f449eb70b8>\u001b[0m in \u001b[0;36m<module>\u001b[1;34m\u001b[0m\n\u001b[1;32m----> 1\u001b[1;33m \u001b[0mprint\u001b[0m\u001b[1;33m(\u001b[0m\u001b[0mae\u001b[0m\u001b[1;33m.\u001b[0m\u001b[0mlayers\u001b[0m\u001b[1;33m[\u001b[0m\u001b[1;36m0\u001b[0m\u001b[1;33m]\u001b[0m\u001b[1;33m.\u001b[0m\u001b[0minput\u001b[0m\u001b[1;33m)\u001b[0m\u001b[1;33m\u001b[0m\u001b[1;33m\u001b[0m\u001b[0m\n\u001b[0m",
      "\u001b[1;32m~\\Miniconda3\\envs\\base-tf\\lib\\site-packages\\keras\\engine\\base_layer.py\u001b[0m in \u001b[0;36minput\u001b[1;34m(self)\u001b[0m\n\u001b[0;32m   2075\u001b[0m     \u001b[1;32mif\u001b[0m \u001b[1;32mnot\u001b[0m \u001b[0mself\u001b[0m\u001b[1;33m.\u001b[0m\u001b[0m_inbound_nodes\u001b[0m\u001b[1;33m:\u001b[0m\u001b[1;33m\u001b[0m\u001b[1;33m\u001b[0m\u001b[0m\n\u001b[0;32m   2076\u001b[0m       raise AttributeError('Layer ' + self.name +\n\u001b[1;32m-> 2077\u001b[1;33m                            ' is not connected, no input to return.')\n\u001b[0m\u001b[0;32m   2078\u001b[0m     \u001b[1;32mreturn\u001b[0m \u001b[0mself\u001b[0m\u001b[1;33m.\u001b[0m\u001b[0m_get_node_attribute_at_index\u001b[0m\u001b[1;33m(\u001b[0m\u001b[1;36m0\u001b[0m\u001b[1;33m,\u001b[0m \u001b[1;34m'input_tensors'\u001b[0m\u001b[1;33m,\u001b[0m \u001b[1;34m'input'\u001b[0m\u001b[1;33m)\u001b[0m\u001b[1;33m\u001b[0m\u001b[1;33m\u001b[0m\u001b[0m\n\u001b[0;32m   2079\u001b[0m \u001b[1;33m\u001b[0m\u001b[0m\n",
      "\u001b[1;31mAttributeError\u001b[0m: Layer encoder_76 is not connected, no input to return."
     ]
    }
   ],
   "source": [
    "print(ae.layers[0].input)"
   ]
  },
  {
   "cell_type": "code",
   "execution_count": null,
   "id": "8973a5c0",
   "metadata": {},
   "outputs": [],
   "source": []
  },
  {
   "cell_type": "code",
   "execution_count": null,
   "id": "f2f2bd7e",
   "metadata": {},
   "outputs": [],
   "source": []
  },
  {
   "cell_type": "code",
   "execution_count": null,
   "id": "67e1d1fe",
   "metadata": {},
   "outputs": [],
   "source": []
  },
  {
   "cell_type": "code",
   "execution_count": null,
   "id": "c7446ba0",
   "metadata": {},
   "outputs": [],
   "source": []
  }
 ],
 "metadata": {
  "kernelspec": {
   "display_name": "Python 3",
   "language": "python",
   "name": "python3"
  },
  "language_info": {
   "codemirror_mode": {
    "name": "ipython",
    "version": 3
   },
   "file_extension": ".py",
   "mimetype": "text/x-python",
   "name": "python",
   "nbconvert_exporter": "python",
   "pygments_lexer": "ipython3",
   "version": "3.6.13"
  }
 },
 "nbformat": 4,
 "nbformat_minor": 5
}
