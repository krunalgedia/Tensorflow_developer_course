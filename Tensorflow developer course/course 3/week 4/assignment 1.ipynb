{
 "cells": [
  {
   "cell_type": "code",
   "execution_count": 1,
   "id": "cd8ebf16",
   "metadata": {},
   "outputs": [],
   "source": [
    "import numpy as np \n",
    "import matplotlib.pyplot as plt\n",
    "from tensorflow.keras.models import Sequential\n",
    "from tensorflow.keras.utils import to_categorical \n",
    "from tensorflow.keras.preprocessing.text import Tokenizer\n",
    "from tensorflow.keras.preprocessing.sequence import pad_sequences\n",
    "from tensorflow.keras.layers import Embedding, LSTM, Dense, Bidirectional"
   ]
  },
  {
   "cell_type": "code",
   "execution_count": 2,
   "id": "33621557",
   "metadata": {},
   "outputs": [
    {
     "name": "stdout",
     "output_type": "stream",
     "text": [
      "There are 2159 lines of sonnets\n",
      "\n",
      "The first 5 lines look like this:\n",
      "\n",
      "from fairest creatures we desire increase,\n",
      "that thereby beauty's rose might never die,\n",
      "but as the riper should by time decease,\n",
      "his tender heir might bear his memory:\n",
      "but thou, contracted to thine own bright eyes,\n",
      "ERROR! Session/line number was not unique in database. History logging moved to new session 133\n"
     ]
    }
   ],
   "source": [
    "# Define path for file with sonnets\n",
    "SONNETS_FILE = './../sonnets.txt'\n",
    "\n",
    "# Read the data\n",
    "with open(SONNETS_FILE) as f:\n",
    "    data = f.read()\n",
    "\n",
    "# Convert to lower case and save as a list\n",
    "corpus = data.lower().split(\"\\n\")\n",
    "\n",
    "print(f\"There are {len(corpus)} lines of sonnets\\n\")\n",
    "print(f\"The first 5 lines look like this:\\n\")\n",
    "for i in range(5):\n",
    "    print(corpus[i])"
   ]
  },
  {
   "cell_type": "code",
   "execution_count": 3,
   "id": "d522fefe",
   "metadata": {},
   "outputs": [],
   "source": [
    "tokenizer = Tokenizer()\n",
    "tokenizer.fit_on_texts(corpus)\n",
    "total_words = len(tokenizer.word_index) + 1"
   ]
  },
  {
   "cell_type": "code",
   "execution_count": 4,
   "id": "df8807e3",
   "metadata": {},
   "outputs": [
    {
     "data": {
      "text/plain": [
       "'from fairest creatures we desire increase,'"
      ]
     },
     "execution_count": 4,
     "metadata": {},
     "output_type": "execute_result"
    }
   ],
   "source": [
    "corpus[0]"
   ]
  },
  {
   "cell_type": "code",
   "execution_count": 5,
   "id": "be87dfd9",
   "metadata": {
    "collapsed": true
   },
   "outputs": [
    {
     "data": {
      "text/plain": [
       "[[],\n",
       " [],\n",
       " [58],\n",
       " [],\n",
       " [],\n",
       " [],\n",
       " [17],\n",
       " [6],\n",
       " [],\n",
       " [],\n",
       " [],\n",
       " [],\n",
       " [],\n",
       " [],\n",
       " [],\n",
       " [],\n",
       " [17],\n",
       " [],\n",
       " [],\n",
       " [],\n",
       " [],\n",
       " [],\n",
       " [],\n",
       " [],\n",
       " [],\n",
       " [],\n",
       " [],\n",
       " [],\n",
       " [],\n",
       " [6],\n",
       " [],\n",
       " [],\n",
       " [],\n",
       " [6],\n",
       " [],\n",
       " [],\n",
       " [],\n",
       " [],\n",
       " [17],\n",
       " [],\n",
       " [],\n",
       " []]"
      ]
     },
     "execution_count": 5,
     "metadata": {},
     "output_type": "execute_result"
    }
   ],
   "source": [
    "tokenizer.texts_to_sequences(corpus[0])"
   ]
  },
  {
   "cell_type": "code",
   "execution_count": 6,
   "id": "b8c9fa0a",
   "metadata": {},
   "outputs": [
    {
     "data": {
      "text/plain": [
       "[[34, 417, 877, 166, 213, 517]]"
      ]
     },
     "execution_count": 6,
     "metadata": {},
     "output_type": "execute_result"
    }
   ],
   "source": [
    "tokenizer.texts_to_sequences([corpus[0]])"
   ]
  },
  {
   "cell_type": "code",
   "execution_count": 8,
   "id": "9e2dd722",
   "metadata": {},
   "outputs": [
    {
     "data": {
      "text/plain": [
       "[34, 417, 877, 166, 213, 517]"
      ]
     },
     "execution_count": 8,
     "metadata": {},
     "output_type": "execute_result"
    }
   ],
   "source": [
    "tokenizer.texts_to_sequences([corpus[0]])[0]"
   ]
  },
  {
   "cell_type": "code",
   "execution_count": 75,
   "id": "975efd68",
   "metadata": {},
   "outputs": [],
   "source": [
    "# GRADED FUNCTION: n_gram_seqs\n",
    "def n_gram_seqs(corpus, tokenizer):\n",
    "    \"\"\"\n",
    "    Generates a list of n-gram sequences\n",
    "    \n",
    "    Args:\n",
    "        corpus (list of string): lines of texts to generate n-grams for\n",
    "        tokenizer (object): an instance of the Tokenizer class containing the word-index dictionary\n",
    "    \n",
    "    Returns:\n",
    "        input_sequences (list of int): the n-gram sequences for each line in the corpus\n",
    "    \"\"\"\n",
    "    input_sequences = []\n",
    "    \n",
    "    ### START CODE HERE\n",
    "    for line in corpus:\n",
    "        seq_line = tokenizer.texts_to_sequences([line])\n",
    "        for word in range(2,len(seq_line[0])+1):\n",
    "            #print(word)\n",
    "            input_sequences.append(seq_line[0][:word])\n",
    "    ### END CODE HERE\n",
    "    \n",
    "    return input_sequences"
   ]
  },
  {
   "cell_type": "code",
   "execution_count": 76,
   "id": "339c85fe",
   "metadata": {},
   "outputs": [
    {
     "name": "stdout",
     "output_type": "stream",
     "text": [
      "n_gram sequences for first example look like this:\n",
      "\n"
     ]
    },
    {
     "data": {
      "text/plain": [
       "[[34, 417],\n",
       " [34, 417, 877],\n",
       " [34, 417, 877, 166],\n",
       " [34, 417, 877, 166, 213],\n",
       " [34, 417, 877, 166, 213, 517]]"
      ]
     },
     "execution_count": 76,
     "metadata": {},
     "output_type": "execute_result"
    }
   ],
   "source": [
    "# Test your function with one example\n",
    "first_example_sequence = n_gram_seqs([corpus[0]], tokenizer)\n",
    "\n",
    "print(\"n_gram sequences for first example look like this:\\n\")\n",
    "first_example_sequence"
   ]
  },
  {
   "cell_type": "code",
   "execution_count": 77,
   "id": "2a26f7c4",
   "metadata": {},
   "outputs": [
    {
     "name": "stdout",
     "output_type": "stream",
     "text": [
      "n_gram sequences for next 3 examples look like this:\n",
      "\n"
     ]
    },
    {
     "data": {
      "text/plain": [
       "[[8, 878],\n",
       " [8, 878, 134],\n",
       " [8, 878, 134, 351],\n",
       " [8, 878, 134, 351, 102],\n",
       " [8, 878, 134, 351, 102, 156],\n",
       " [8, 878, 134, 351, 102, 156, 199],\n",
       " [16, 22],\n",
       " [16, 22, 2],\n",
       " [16, 22, 2, 879],\n",
       " [16, 22, 2, 879, 61],\n",
       " [16, 22, 2, 879, 61, 30],\n",
       " [16, 22, 2, 879, 61, 30, 48],\n",
       " [16, 22, 2, 879, 61, 30, 48, 634],\n",
       " [25, 311],\n",
       " [25, 311, 635],\n",
       " [25, 311, 635, 102],\n",
       " [25, 311, 635, 102, 200],\n",
       " [25, 311, 635, 102, 200, 25],\n",
       " [25, 311, 635, 102, 200, 25, 278]]"
      ]
     },
     "execution_count": 77,
     "metadata": {},
     "output_type": "execute_result"
    }
   ],
   "source": [
    "# Test your function with a bigger corpus\n",
    "next_3_examples_sequence = n_gram_seqs(corpus[1:4], tokenizer)\n",
    "\n",
    "print(\"n_gram sequences for next 3 examples look like this:\\n\")\n",
    "next_3_examples_sequence"
   ]
  },
  {
   "cell_type": "code",
   "execution_count": 78,
   "id": "d75cd43c",
   "metadata": {},
   "outputs": [
    {
     "name": "stdout",
     "output_type": "stream",
     "text": [
      "n_grams of input_sequences have length: 15462\n",
      "maximum length of sequences is: 11\n"
     ]
    }
   ],
   "source": [
    "# Apply the n_gram_seqs transformation to the whole corpus\n",
    "input_sequences = n_gram_seqs(corpus, tokenizer)\n",
    "\n",
    "# Save max length \n",
    "max_sequence_len = max([len(x) for x in input_sequences])\n",
    "\n",
    "print(f\"n_grams of input_sequences have length: {len(input_sequences)}\")\n",
    "print(f\"maximum length of sequences is: {max_sequence_len}\")"
   ]
  },
  {
   "cell_type": "code",
   "execution_count": 79,
   "id": "54a908c3",
   "metadata": {},
   "outputs": [],
   "source": [
    "# GRADED FUNCTION: pad_seqs\n",
    "def pad_seqs(input_sequences, maxlen):\n",
    "    \"\"\"\n",
    "    Pads tokenized sequences to the same length\n",
    "    \n",
    "    Args:\n",
    "        input_sequences (list of int): tokenized sequences to pad\n",
    "        maxlen (int): maximum length of the token sequences\n",
    "    \n",
    "    Returns:\n",
    "        padded_sequences (array of int): tokenized sequences padded to the same length\n",
    "    \"\"\"\n",
    "    ### START CODE HERE\n",
    "    padded_sequences = pad_sequences(input_sequences, maxlen=maxlen, padding=\"pre\", truncating=\"pre\")\n",
    "    \n",
    "    return padded_sequences\n",
    "    ### END CODE HERE"
   ]
  },
  {
   "cell_type": "code",
   "execution_count": 80,
   "id": "2a1840db",
   "metadata": {},
   "outputs": [
    {
     "data": {
      "text/plain": [
       "array([[  0,   0,   0,  34, 417],\n",
       "       [  0,   0,  34, 417, 877],\n",
       "       [  0,  34, 417, 877, 166],\n",
       "       [ 34, 417, 877, 166, 213],\n",
       "       [417, 877, 166, 213, 517]])"
      ]
     },
     "execution_count": 80,
     "metadata": {},
     "output_type": "execute_result"
    }
   ],
   "source": [
    "# Test your function with the n_grams_seq of the first example\n",
    "first_padded_seq = pad_seqs(first_example_sequence, len(first_example_sequence))\n",
    "first_padded_seq"
   ]
  },
  {
   "cell_type": "code",
   "execution_count": 81,
   "id": "ad2015e8",
   "metadata": {},
   "outputs": [
    {
     "data": {
      "text/plain": [
       "array([[  0,   0,   0,   0,   0,   0,   8, 878],\n",
       "       [  0,   0,   0,   0,   0,   8, 878, 134],\n",
       "       [  0,   0,   0,   0,   8, 878, 134, 351],\n",
       "       [  0,   0,   0,   8, 878, 134, 351, 102],\n",
       "       [  0,   0,   8, 878, 134, 351, 102, 156],\n",
       "       [  0,   8, 878, 134, 351, 102, 156, 199],\n",
       "       [  0,   0,   0,   0,   0,   0,  16,  22],\n",
       "       [  0,   0,   0,   0,   0,  16,  22,   2],\n",
       "       [  0,   0,   0,   0,  16,  22,   2, 879],\n",
       "       [  0,   0,   0,  16,  22,   2, 879,  61],\n",
       "       [  0,   0,  16,  22,   2, 879,  61,  30],\n",
       "       [  0,  16,  22,   2, 879,  61,  30,  48],\n",
       "       [ 16,  22,   2, 879,  61,  30,  48, 634],\n",
       "       [  0,   0,   0,   0,   0,   0,  25, 311],\n",
       "       [  0,   0,   0,   0,   0,  25, 311, 635],\n",
       "       [  0,   0,   0,   0,  25, 311, 635, 102],\n",
       "       [  0,   0,   0,  25, 311, 635, 102, 200],\n",
       "       [  0,   0,  25, 311, 635, 102, 200,  25],\n",
       "       [  0,  25, 311, 635, 102, 200,  25, 278]])"
      ]
     },
     "execution_count": 81,
     "metadata": {},
     "output_type": "execute_result"
    }
   ],
   "source": [
    "# Test your function with the n_grams_seq of the next 3 examples\n",
    "next_3_padded_seq = pad_seqs(next_3_examples_sequence, max([len(s) for s in next_3_examples_sequence]))\n",
    "next_3_padded_seq"
   ]
  },
  {
   "cell_type": "code",
   "execution_count": 82,
   "id": "8916b946",
   "metadata": {},
   "outputs": [
    {
     "name": "stdout",
     "output_type": "stream",
     "text": [
      "padded corpus has shape: (15462, 11)\n"
     ]
    }
   ],
   "source": [
    "# Pad the whole corpus\n",
    "input_sequences = pad_seqs(input_sequences, max_sequence_len)\n",
    "\n",
    "print(f\"padded corpus has shape: {input_sequences.shape}\")"
   ]
  },
  {
   "cell_type": "code",
   "execution_count": 95,
   "id": "d7564c79",
   "metadata": {},
   "outputs": [],
   "source": [
    "# GRADED FUNCTION: features_and_labels\n",
    "def features_and_labels(input_sequences, total_words):\n",
    "    \"\"\"\n",
    "    Generates features and labels from n-grams\n",
    "    \n",
    "    Args:\n",
    "        input_sequences (list of int): sequences to split features and labels from\n",
    "        total_words (int): vocabulary size\n",
    "    \n",
    "    Returns:\n",
    "        features, one_hot_labels (array of int, array of int): arrays of features and one-hot encoded labels\n",
    "    \"\"\"\n",
    "    ### START CODE HERE\n",
    "    features = np.array([element[:-1] for element in input_sequences])\n",
    "    labels = [element[-1] for element in input_sequences]\n",
    "    one_hot_labels = to_categorical(labels, num_classes=total_words)\n",
    "    ### END CODE HERE\n",
    "    \n",
    "    return features, one_hot_labels\n"
   ]
  },
  {
   "cell_type": "code",
   "execution_count": 96,
   "id": "a9ae8fed",
   "metadata": {},
   "outputs": [
    {
     "name": "stdout",
     "output_type": "stream",
     "text": [
      "labels have shape: (5, 3211)\n",
      "\n",
      "features look like this:\n",
      "\n"
     ]
    },
    {
     "data": {
      "text/plain": [
       "array([[  0,   0,   0,  34],\n",
       "       [  0,   0,  34, 417],\n",
       "       [  0,  34, 417, 877],\n",
       "       [ 34, 417, 877, 166],\n",
       "       [417, 877, 166, 213]])"
      ]
     },
     "execution_count": 96,
     "metadata": {},
     "output_type": "execute_result"
    }
   ],
   "source": [
    "# Test your function with the padded n_grams_seq of the first example\n",
    "first_features, first_labels = features_and_labels(first_padded_seq, total_words)\n",
    "\n",
    "print(f\"labels have shape: {first_labels.shape}\")\n",
    "print(\"\\nfeatures look like this:\\n\")\n",
    "np.array(first_features)"
   ]
  },
  {
   "cell_type": "code",
   "execution_count": 97,
   "id": "619355ce",
   "metadata": {},
   "outputs": [
    {
     "name": "stdout",
     "output_type": "stream",
     "text": [
      "features have shape: (15462, 10)\n",
      "labels have shape: (15462, 3211)\n"
     ]
    }
   ],
   "source": [
    "# Split the whole corpus\n",
    "features, labels = features_and_labels(input_sequences, total_words)\n",
    "\n",
    "print(f\"features have shape: {features.shape}\")\n",
    "print(f\"labels have shape: {labels.shape}\")"
   ]
  },
  {
   "cell_type": "code",
   "execution_count": 112,
   "id": "a14e7364",
   "metadata": {},
   "outputs": [],
   "source": [
    "# GRADED FUNCTION: create_model\n",
    "def create_model(total_words, max_sequence_len):\n",
    "    \"\"\"\n",
    "    Creates a text generator model\n",
    "    \n",
    "    Args:\n",
    "        total_words (int): size of the vocabulary for the Embedding layer input\n",
    "        max_sequence_len (int): length of the input sequences\n",
    "    \n",
    "    Returns:\n",
    "        model (tf.keras Model): the text generator model\n",
    "    \"\"\"\n",
    "    model = Sequential()\n",
    "    ### START CODE HERE\n",
    "    model.add(Embedding(total_words, 100, input_length=max_sequence_len-1))\n",
    "    model.add(Bidirectional(LSTM(128))),\n",
    "    model.add(Dense(total_words, activation='softmax'))\n",
    "\n",
    "\n",
    "    # Compile the model\n",
    "    model.compile(loss=\"categorical_crossentropy\",\n",
    "                  optimizer=\"adam\",\n",
    "                  metrics=['accuracy'])\n",
    "    \n",
    "    ### END CODE HERE\n",
    "\n",
    "    return model"
   ]
  },
  {
   "cell_type": "code",
   "execution_count": 113,
   "id": "5ecde999",
   "metadata": {},
   "outputs": [
    {
     "name": "stdout",
     "output_type": "stream",
     "text": [
      "ERROR! Session/line number was not unique in database. History logging moved to new session 144\n",
      "Train on 15462 samples\n",
      "Epoch 1/50\n",
      "15462/15462 [==============================] - 17s 1ms/sample - loss: 6.8856 - accuracy: 0.0232\n",
      "Epoch 2/50\n",
      "15462/15462 [==============================] - 13s 824us/sample - loss: 6.4383 - accuracy: 0.0310\n",
      "Epoch 3/50\n",
      "15462/15462 [==============================] - 12s 792us/sample - loss: 6.2059 - accuracy: 0.0407\n",
      "Epoch 4/50\n",
      "15462/15462 [==============================] - 13s 816us/sample - loss: 5.9545 - accuracy: 0.0496\n",
      "Epoch 5/50\n",
      "15462/15462 [==============================] - 13s 817us/sample - loss: 5.6634 - accuracy: 0.0598\n",
      "Epoch 6/50\n",
      "15462/15462 [==============================] - 13s 830us/sample - loss: 5.3271 - accuracy: 0.0751\n",
      "Epoch 7/50\n",
      "15462/15462 [==============================] - 13s 818us/sample - loss: 4.9608 - accuracy: 0.0936\n",
      "Epoch 8/50\n",
      "15462/15462 [==============================] - 12s 803us/sample - loss: 4.5881 - accuracy: 0.1173\n",
      "Epoch 9/50\n",
      "15462/15462 [==============================] - 13s 848us/sample - loss: 4.2069 - accuracy: 0.1621\n",
      "Epoch 10/50\n",
      "15462/15462 [==============================] - 14s 920us/sample - loss: 3.8421 - accuracy: 0.2155\n",
      "Epoch 11/50\n",
      "15462/15462 [==============================] - 13s 814us/sample - loss: 3.5030 - accuracy: 0.2739\n",
      "Epoch 12/50\n",
      "15462/15462 [==============================] - 12s 799us/sample - loss: 3.1883 - accuracy: 0.3328\n",
      "Epoch 13/50\n",
      "15462/15462 [==============================] - 13s 824us/sample - loss: 2.9001 - accuracy: 0.3872\n",
      "Epoch 14/50\n",
      "15462/15462 [==============================] - 12s 799us/sample - loss: 2.6466 - accuracy: 0.4395\n",
      "Epoch 15/50\n",
      "15462/15462 [==============================] - 13s 817us/sample - loss: 2.4158 - accuracy: 0.4872\n",
      "Epoch 16/50\n",
      "15462/15462 [==============================] - 12s 802us/sample - loss: 2.2090 - accuracy: 0.5338\n",
      "Epoch 17/50\n",
      "15462/15462 [==============================] - 13s 813us/sample - loss: 2.0259 - accuracy: 0.5717\n",
      "Epoch 18/50\n",
      "15462/15462 [==============================] - 13s 852us/sample - loss: 1.8593 - accuracy: 0.6070\n",
      "Epoch 19/50\n",
      "15462/15462 [==============================] - 16s 1ms/sample - loss: 1.7157 - accuracy: 0.6407\n",
      "Epoch 20/50\n",
      "15462/15462 [==============================] - 13s 812us/sample - loss: 1.5795 - accuracy: 0.6705\n",
      "Epoch 21/50\n",
      "15462/15462 [==============================] - 14s 877us/sample - loss: 1.4580 - accuracy: 0.6965\n",
      "Epoch 22/50\n",
      "15462/15462 [==============================] - 13s 849us/sample - loss: 1.3485 - accuracy: 0.7229\n",
      "Epoch 23/50\n",
      "15462/15462 [==============================] - 13s 872us/sample - loss: 1.2434 - accuracy: 0.7446\n",
      "Epoch 24/50\n",
      "15462/15462 [==============================] - 14s 882us/sample - loss: 1.1511 - accuracy: 0.7653\n",
      "Epoch 25/50\n",
      "15462/15462 [==============================] - 13s 851us/sample - loss: 1.0810 - accuracy: 0.7767\n",
      "Epoch 26/50\n",
      "15462/15462 [==============================] - 13s 854us/sample - loss: 1.0127 - accuracy: 0.7906\n",
      "Epoch 27/50\n",
      "15462/15462 [==============================] - 13s 852us/sample - loss: 0.9486 - accuracy: 0.8028\n",
      "Epoch 28/50\n",
      "15462/15462 [==============================] - 13s 861us/sample - loss: 0.8933 - accuracy: 0.8124\n",
      "Epoch 29/50\n",
      "15462/15462 [==============================] - 13s 866us/sample - loss: 0.8506 - accuracy: 0.8197\n",
      "Epoch 30/50\n",
      "15462/15462 [==============================] - 13s 834us/sample - loss: 0.8182 - accuracy: 0.8225\n",
      "Epoch 31/50\n",
      "15462/15462 [==============================] - 12s 762us/sample - loss: 0.7742 - accuracy: 0.8301\n",
      "Epoch 32/50\n",
      "15462/15462 [==============================] - 12s 763us/sample - loss: 0.7532 - accuracy: 0.8338\n",
      "Epoch 33/50\n",
      "15462/15462 [==============================] - 14s 875us/sample - loss: 0.7265 - accuracy: 0.8362\n",
      "Epoch 34/50\n",
      "15462/15462 [==============================] - 15s 960us/sample - loss: 0.6972 - accuracy: 0.8423\n",
      "Epoch 35/50\n",
      "15462/15462 [==============================] - 12s 772us/sample - loss: 0.6830 - accuracy: 0.8409\n",
      "Epoch 36/50\n",
      "15462/15462 [==============================] - 11s 721us/sample - loss: 0.6707 - accuracy: 0.8447\n",
      "Epoch 37/50\n",
      "15462/15462 [==============================] - 12s 808us/sample - loss: 0.6608 - accuracy: 0.8438\n",
      "Epoch 38/50\n",
      "15462/15462 [==============================] - 13s 852us/sample - loss: 0.6427 - accuracy: 0.8461\n",
      "Epoch 39/50\n",
      "15462/15462 [==============================] - 15s 956us/sample - loss: 0.6306 - accuracy: 0.8462\n",
      "Epoch 40/50\n",
      "15462/15462 [==============================] - 13s 822us/sample - loss: 0.6215 - accuracy: 0.8465\n",
      "Epoch 41/50\n",
      "15462/15462 [==============================] - 13s 852us/sample - loss: 0.6194 - accuracy: 0.8467\n",
      "Epoch 42/50\n",
      "15462/15462 [==============================] - 13s 821us/sample - loss: 0.6072 - accuracy: 0.8482\n",
      "Epoch 43/50\n",
      "15462/15462 [==============================] - 14s 892us/sample - loss: 0.6019 - accuracy: 0.8476\n",
      "Epoch 44/50\n",
      "15462/15462 [==============================] - 12s 788us/sample - loss: 0.6006 - accuracy: 0.8453\n",
      "Epoch 45/50\n",
      "15462/15462 [==============================] - 13s 834us/sample - loss: 0.5894 - accuracy: 0.8483\n",
      "Epoch 46/50\n",
      "15462/15462 [==============================] - 10s 664us/sample - loss: 0.5897 - accuracy: 0.8476\n",
      "Epoch 47/50\n",
      "15462/15462 [==============================] - 11s 681us/sample - loss: 0.5848 - accuracy: 0.8481\n",
      "Epoch 48/50\n",
      "15462/15462 [==============================] - 10s 666us/sample - loss: 0.5813 - accuracy: 0.8471\n",
      "Epoch 49/50\n",
      "15462/15462 [==============================] - 11s 705us/sample - loss: 0.5751 - accuracy: 0.8498\n",
      "Epoch 50/50\n",
      "15462/15462 [==============================] - 10s 675us/sample - loss: 0.5772 - accuracy: 0.8481\n"
     ]
    }
   ],
   "source": [
    "# Get the untrained model\n",
    "model = create_model(total_words, max_sequence_len)\n",
    "\n",
    "features.shape\n",
    "\n",
    "# Train the model\n",
    "history = model.fit(features, labels, epochs=50, verbose=1)"
   ]
  },
  {
   "cell_type": "code",
   "execution_count": 114,
   "id": "9086f9bb",
   "metadata": {},
   "outputs": [
    {
     "data": {
      "image/png": "[encoded data removed]",
      "text/plain": [
       "<Figure size 432x288 with 1 Axes>"
      ]
     },
     "metadata": {
      "needs_background": "light"
     },
     "output_type": "display_data"
    },
    {
     "data": {
      "image/png": "[encoded data removed]",
      "text/plain": [
       "<Figure size 432x288 with 1 Axes>"
      ]
     },
     "metadata": {
      "needs_background": "light"
     },
     "output_type": "display_data"
    }
   ],
   "source": [
    "# Take a look at the training curves of your model\n",
    "\n",
    "acc = history.history['accuracy']\n",
    "loss = history.history['loss']\n",
    "\n",
    "epochs = range(len(acc))\n",
    "\n",
    "plt.plot(epochs, acc, 'b', label='Training accuracy')\n",
    "plt.title('Training accuracy')\n",
    "\n",
    "plt.figure()\n",
    "\n",
    "plt.plot(epochs, loss, 'b', label='Training Loss')\n",
    "plt.title('Training loss')\n",
    "plt.legend()\n",
    "\n",
    "plt.show()"
   ]
  },
  {
   "cell_type": "code",
   "execution_count": 121,
   "id": "c6d7c10f",
   "metadata": {},
   "outputs": [
    {
     "name": "stdout",
     "output_type": "stream",
     "text": [
      "[[7.8616740e-12 6.3455996e-06 7.1581209e-01 ... 7.3367241e-12\n",
      "  1.4927731e-09 9.5615027e-16]]\n",
      "0\n",
      "2\n",
      "Help me Obi Wan Kenobi, you're my only hope the\n"
     ]
    }
   ],
   "source": [
    "seed_text = \"Help me Obi Wan Kenobi, you're my only hope\"\n",
    "next_words = 1\n",
    "  \n",
    "for _ in range(next_words):\n",
    "\t# Convert the text into sequences\n",
    "\ttoken_list = tokenizer.texts_to_sequences([seed_text])[0]\n",
    "\t# Pad the sequences\n",
    "\ttoken_list = pad_sequences([token_list], maxlen=max_sequence_len-1, padding='pre')\n",
    "\t# Get the probabilities of predicting a word\n",
    "\tpredicted = model.predict(token_list, verbose=0)\n",
    "\t# Choose the next word based on the maximum probability\n",
    "\tprint(predicted)    \n",
    "\tpredicted = np.argmax(predicted, axis=-1).item()\n",
    "\tprint(np.argmax(predicted, axis=-1))\n",
    "\tprint(predicted)\n",
    "\t# Get the actual word from the word index\n",
    "\toutput_word = tokenizer.index_word[predicted]\n",
    "\t# Append to the current text\n",
    "\tseed_text += \" \" + output_word\n",
    "\n",
    "print(seed_text)"
   ]
  },
  {
   "cell_type": "code",
   "execution_count": null,
   "id": "00c47fc7",
   "metadata": {},
   "outputs": [],
   "source": []
  },
  {
   "cell_type": "code",
   "execution_count": null,
   "id": "13cd67b5",
   "metadata": {},
   "outputs": [],
   "source": []
  }
 ],
 "metadata": {
  "kernelspec": {
   "display_name": "Python 3",
   "language": "python",
   "name": "python3"
  },
  "language_info": {
   "codemirror_mode": {
    "name": "ipython",
    "version": 3
   },
   "file_extension": ".py",
   "mimetype": "text/x-python",
   "name": "python",
   "nbconvert_exporter": "python",
   "pygments_lexer": "ipython3",
   "version": "3.6.13"
  }
 },
 "nbformat": 4,
 "nbformat_minor": 5
}
