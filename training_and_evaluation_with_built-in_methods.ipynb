{
 "cells": [
  {
   "cell_type": "code",
   "execution_count": 1,
   "metadata": {},
   "outputs": [
    {
     "name": "stdout",
     "output_type": "stream",
     "text": [
      "Using TensorFlow version 2.3.0\n"
     ]
    }
   ],
   "source": [
    "import tensorflow as tf\n",
    "import numpy as np\n",
    "import matplotlib.pyplot as plt\n",
    "from IPython.core.interactiveshell import InteractiveShell\n",
    "InteractiveShell.ast_node_interactivity = 'all'\n",
    "import timeit\n",
    "from datetime import datetime\n",
    "from tensorflow import keras\n",
    "from tensorflow.keras import layers\n",
    "\n",
    "%load_ext tensorboard\n",
    "\n",
    "print(\"Using TensorFlow version %s\" % tf.__version__)\n",
    "#import tensorflow.experimental.numpy as tnp"
   ]
  },
  {
   "cell_type": "code",
   "execution_count": 2,
   "metadata": {},
   "outputs": [],
   "source": [
    "#Model training and evaluation is same for any keras models-> Sequential, Functional APIs, subclassing models\n",
    "#Input can be NumPy, tf.Numpy, eager tensors, tf.data.Datasets, pd.dataframe, python generators yielding batch of data and label\n",
    "# Input data: Small & fits in memory-> NumPy arrays \n",
    "#             Large & distributed training needed -> tf.data Dataset objects\n",
    "#             Large & lot of custom python modules needed for data preprocessing -> keras.utils.Sequence\n",
    "\n",
    "# Training -> optimizers, losses, metrics\n",
    "\n",
    "# Consider following Functional end-to-end MNIST dataset loaded as NumPy ararys:"
   ]
  },
  {
   "cell_type": "code",
   "execution_count": 3,
   "metadata": {},
   "outputs": [
    {
     "name": "stdout",
     "output_type": "stream",
     "text": [
      "Fit model on training data\n",
      "Epoch 1/2\n",
      "782/782 [==============================] - 2s 3ms/step - loss: 0.3424 - sparse_categorical_accuracy: 0.9028 - val_loss: 0.3438 - val_sparse_categorical_accuracy: 0.8922\n",
      "Epoch 2/2\n",
      "782/782 [==============================] - 2s 3ms/step - loss: 0.1708 - sparse_categorical_accuracy: 0.9493 - val_loss: 0.1515 - val_sparse_categorical_accuracy: 0.9583\n"
     ]
    },
    {
     "data": {
      "text/plain": [
       "{'loss': [0.34237003326416016, 0.1707540601491928],\n",
       " 'sparse_categorical_accuracy': [0.9028000235557556, 0.9493399858474731],\n",
       " 'val_loss': [0.34384363889694214, 0.15149162709712982],\n",
       " 'val_sparse_categorical_accuracy': [0.8921999931335449, 0.958299994468689]}"
      ]
     },
     "execution_count": 3,
     "metadata": {},
     "output_type": "execute_result"
    },
    {
     "name": "stdout",
     "output_type": "stream",
     "text": [
      "Evaluate on test data\n",
      "79/79 [==============================] - 0s 2ms/step - loss: 0.1565 - sparse_categorical_accuracy: 0.9518\n",
      "test loss, test acc: [0.15645146369934082, 0.9517999887466431]\n",
      "Generate predictions for 3 samples\n",
      "predictions shape: (3, 10)\n"
     ]
    }
   ],
   "source": [
    "# end to end example\n",
    "# Functional Model\n",
    "inputs = keras.Input(shape=(784,), name=\"digits\")\n",
    "x = layers.Dense(64, activation=\"relu\", name=\"dense_1\")(inputs)\n",
    "x = layers.Dense(64, activation=\"relu\", name=\"dense_2\")(x)\n",
    "outputs = layers.Dense(10, activation=\"softmax\", name=\"predictions\")(x)\n",
    "\n",
    "model = keras.Model(inputs=inputs, outputs=outputs)\n",
    "\n",
    "# Load data and pre-process\n",
    "(x_train, y_train), (x_test, y_test) = keras.datasets.mnist.load_data()\n",
    "\n",
    "# Preprocess the data (these are NumPy arrays)\n",
    "x_train = x_train.reshape(60000, 784).astype(\"float32\") / 255\n",
    "x_test = x_test.reshape(10000, 784).astype(\"float32\") / 255\n",
    "\n",
    "y_train = y_train.astype(\"float32\")\n",
    "y_test = y_test.astype(\"float32\")\n",
    "\n",
    "# Reserve 10,000 samples for validation\n",
    "x_val = x_train[-10000:]\n",
    "y_val = y_train[-10000:]\n",
    "x_train = x_train[:-10000]\n",
    "y_train = y_train[:-10000]\n",
    "\n",
    "# Training configuration\n",
    "model.compile(\n",
    "    optimizer=keras.optimizers.RMSprop(),  # Optimizer\n",
    "    # Loss function to minimize\n",
    "    loss=keras.losses.SparseCategoricalCrossentropy(),\n",
    "    # List of metrics to monitor\n",
    "    metrics=[keras.metrics.SparseCategoricalAccuracy()],\n",
    ")\n",
    "\n",
    "# fit -> train model by slicing train set into 'batches' of 'batch_size' and iterate over the entire dataset for given 'epochs'\n",
    "print(\"Fit model on training data\")\n",
    "history = model.fit(\n",
    "    x_train,\n",
    "    y_train,\n",
    "    batch_size=64,\n",
    "    epochs=2,\n",
    "    # We pass some validation for\n",
    "    # monitoring validation loss and metrics\n",
    "    # at the end of each epoch\n",
    "    validation_data=(x_val, y_val),\n",
    ")\n",
    "\n",
    "# loss value and metric values during training\n",
    "history.history \n",
    "\n",
    "# Evaluate the model on the test data using `evaluate`\n",
    "print(\"Evaluate on test data\")\n",
    "results = model.evaluate(x_test, y_test, batch_size=128)\n",
    "print(\"test loss, test acc:\", results)\n",
    "\n",
    "# Generate predictions (probabilities -- the output of the last layer)\n",
    "# on new data using `predict`\n",
    "print(\"Generate predictions for 3 samples\")\n",
    "predictions = model.predict(x_test[:3])\n",
    "print(\"predictions shape:\", predictions.shape)"
   ]
  },
  {
   "cell_type": "code",
   "execution_count": 4,
   "metadata": {},
   "outputs": [],
   "source": [
    "# compile()\n",
    "# loss function, optimizer and metric(in list format)\n",
    "model.compile(\n",
    "    optimizer=keras.optimizers.RMSprop(learning_rate=1e-3),\n",
    "    loss=keras.losses.SparseCategoricalCrossentropy(),\n",
    "    metrics=[keras.metrics.SparseCategoricalAccuracy()],\n",
    ")\n",
    "\n",
    "# some string identfiers also exists:\n",
    "model.compile(\n",
    "    optimizer=\"rmsprop\",\n",
    "    loss=\"sparse_categorical_crossentropy\",\n",
    "    metrics=[\"sparse_categorical_accuracy\"],\n",
    ")"
   ]
  },
  {
   "cell_type": "code",
   "execution_count": 5,
   "metadata": {},
   "outputs": [],
   "source": [
    "# compiled and uncomplied model functions for later usage:\n",
    "def get_uncompiled_model():\n",
    "    inputs = keras.Input(shape=(784,), name=\"digits\")\n",
    "    x = layers.Dense(64, activation=\"relu\", name=\"dense_1\")(inputs)\n",
    "    x = layers.Dense(64, activation=\"relu\", name=\"dense_2\")(x)\n",
    "    outputs = layers.Dense(10, activation=\"softmax\", name=\"predictions\")(x)\n",
    "    model = keras.Model(inputs=inputs, outputs=outputs)\n",
    "    return model\n",
    "\n",
    "\n",
    "def get_compiled_model():\n",
    "    model = get_uncompiled_model()\n",
    "    model.compile(\n",
    "        optimizer=\"rmsprop\",\n",
    "        loss=\"sparse_categorical_crossentropy\",\n",
    "        metrics=[\"sparse_categorical_accuracy\"],\n",
    "    )\n",
    "    return model"
   ]
  },
  {
   "cell_type": "code",
   "execution_count": 6,
   "metadata": {},
   "outputs": [
    {
     "name": "stdout",
     "output_type": "stream",
     "text": [
      "782/782 [==============================] - 2s 2ms/step - loss: 0.0161\n"
     ]
    },
    {
     "data": {
      "text/plain": [
       "<tensorflow.python.keras.callbacks.History at 0x236dfd36160>"
      ]
     },
     "execution_count": 6,
     "metadata": {},
     "output_type": "execute_result"
    },
    {
     "name": "stdout",
     "output_type": "stream",
     "text": [
      "782/782 [==============================] - 2s 2ms/step - loss: 0.0385\n"
     ]
    },
    {
     "data": {
      "text/plain": [
       "<tensorflow.python.keras.callbacks.History at 0x236e015f2e0>"
      ]
     },
     "execution_count": 6,
     "metadata": {},
     "output_type": "execute_result"
    },
    {
     "name": "stdout",
     "output_type": "stream",
     "text": [
      "Epoch 1/3\n",
      "  1/782 [..............................] - ETA: 0s - loss: 2.2851 - categorical_true_positives: 9.0000WARNING:tensorflow:Callbacks method `on_train_batch_begin` is slow compared to the batch time (batch time: 0.0020s vs `on_train_batch_begin` time: 0.0051s). Check your callbacks.\n",
      "782/782 [==============================] - 2s 2ms/step - loss: 0.3406 - categorical_true_positives: 45094.0000\n",
      "Epoch 2/3\n",
      "782/782 [==============================] - 2s 2ms/step - loss: 0.1581 - categorical_true_positives: 47645.0000\n",
      "Epoch 3/3\n",
      "782/782 [==============================] - 2s 2ms/step - loss: 0.1169 - categorical_true_positives: 48211.0000\n"
     ]
    },
    {
     "data": {
      "text/plain": [
       "<tensorflow.python.keras.callbacks.History at 0x236e0665940>"
      ]
     },
     "execution_count": 6,
     "metadata": {},
     "output_type": "execute_result"
    }
   ],
   "source": [
    "# Custom losses -> Two ways depending how you calculate loss:\n",
    "# 1. If only y_pred and y_true reguired -> function method\n",
    "# 2. If any extra parameter need other than y_{true,pred} -> function by sub-classing\n",
    "\n",
    "# example for 1.\n",
    "def custom_mean_squared_error(y_true, y_pred):\n",
    "    return tf.math.reduce_mean(tf.square(y_true - y_pred))\n",
    "\n",
    "model = get_uncompiled_model()\n",
    "model.compile(optimizer=keras.optimizers.Adam(), loss=custom_mean_squared_error)\n",
    "\n",
    "# We need to one-hot encode the labels to use MSE\n",
    "y_train_one_hot = tf.one_hot(y_train, depth=10)\n",
    "model.fit(x_train, y_train_one_hot, batch_size=64, epochs=1)\n",
    "\n",
    "# Example for 2. Subclassing tf.keras.Loss requires __init__ and call:\n",
    "class CustomMSE(keras.losses.Loss):\n",
    "    def __init__(self, regularization_factor=0.1, name=\"custom_mse\"):\n",
    "        super().__init__(name=name)\n",
    "        self.regularization_factor = regularization_factor\n",
    "\n",
    "    def call(self, y_true, y_pred):\n",
    "        mse = tf.math.reduce_mean(tf.square(y_true - y_pred))\n",
    "        reg = tf.math.reduce_mean(tf.square(0.5 - y_pred))\n",
    "        return mse + reg * self.regularization_factor\n",
    "\n",
    "\n",
    "model = get_uncompiled_model()\n",
    "model.compile(optimizer=keras.optimizers.Adam(), loss=CustomMSE())\n",
    "\n",
    "y_train_one_hot = tf.one_hot(y_train, depth=10)\n",
    "model.fit(x_train, y_train_one_hot, batch_size=64, epochs=1)\n",
    "\n",
    "# Custom metrics\n",
    "# Subclassing tf.keras.metrics.Metric class with __init__, update_state, result, reset_states\n",
    "# following metric computes number of gtrue positives\n",
    "\n",
    "class CategoricalTruePositives(keras.metrics.Metric):\n",
    "    def __init__(self, name=\"categorical_true_positives\", **kwargs):\n",
    "        super(CategoricalTruePositives, self).__init__(name=name, **kwargs)\n",
    "        self.true_positives = self.add_weight(name=\"ctp\", initializer=\"zeros\")\n",
    "\n",
    "    def update_state(self, y_true, y_pred, sample_weight=None):\n",
    "        y_pred = tf.reshape(tf.argmax(y_pred, axis=1), shape=(-1, 1))\n",
    "        values = tf.cast(y_true, \"int32\") == tf.cast(y_pred, \"int32\")\n",
    "        values = tf.cast(values, \"float32\")\n",
    "        if sample_weight is not None:\n",
    "            sample_weight = tf.cast(sample_weight, \"float32\")\n",
    "            values = tf.multiply(values, sample_weight)\n",
    "        self.true_positives.assign_add(tf.reduce_sum(values))\n",
    "\n",
    "    def result(self):\n",
    "        return self.true_positives\n",
    "\n",
    "    def reset_states(self):\n",
    "        # The state of the metric will be reset at the start of each epoch.\n",
    "        self.true_positives.assign(0.0)\n",
    "\n",
    "\n",
    "model = get_uncompiled_model()\n",
    "model.compile(\n",
    "    optimizer=keras.optimizers.RMSprop(learning_rate=1e-3),\n",
    "    loss=keras.losses.SparseCategoricalCrossentropy(),\n",
    "    metrics=[CategoricalTruePositives()],\n",
    ")\n",
    "model.fit(x_train, y_train, batch_size=64, epochs=3)\n"
   ]
  },
  {
   "cell_type": "code",
   "execution_count": 7,
   "metadata": {},
   "outputs": [
    {
     "name": "stdout",
     "output_type": "stream",
     "text": [
      "782/782 [==============================] - 2s 2ms/step - loss: 2.5176\n"
     ]
    },
    {
     "data": {
      "text/plain": [
       "<tensorflow.python.keras.callbacks.History at 0x236e09d5580>"
      ]
     },
     "execution_count": 7,
     "metadata": {},
     "output_type": "execute_result"
    },
    {
     "name": "stdout",
     "output_type": "stream",
     "text": [
      "782/782 [==============================] - 2s 2ms/step - loss: 0.3385 - std_of_activation: 1.0215\n"
     ]
    },
    {
     "data": {
      "text/plain": [
       "<tensorflow.python.keras.callbacks.History at 0x236e0d21550>"
      ]
     },
     "execution_count": 7,
     "metadata": {},
     "output_type": "execute_result"
    },
    {
     "name": "stdout",
     "output_type": "stream",
     "text": [
      "782/782 [==============================] - 2s 2ms/step - loss: 2.5052 - std_of_activation: 0.0020\n"
     ]
    },
    {
     "data": {
      "text/plain": [
       "<tensorflow.python.keras.callbacks.History at 0x236dffed940>"
      ]
     },
     "execution_count": 7,
     "metadata": {},
     "output_type": "execute_result"
    }
   ],
   "source": [
    "# add_loss and add_metric -> define them in a sub-class layer and add the layer while building model or add them in the end on the complete model\n",
    "\n",
    "# losses and metrics which require non-standard signature\n",
    "# Eg: loss from activation layer instead of output y_pred! \n",
    "# activity regularization loss example (built-in do exist):\n",
    "# Method 1\n",
    "class ActivityRegularizationLayer(layers.Layer):\n",
    "    def call(self, inputs):\n",
    "        self.add_loss(tf.reduce_sum(inputs) * 0.1)\n",
    "        return inputs  # Pass-through layer.\n",
    "\n",
    "\n",
    "inputs = keras.Input(shape=(784,), name=\"digits\")\n",
    "x = layers.Dense(64, activation=\"relu\", name=\"dense_1\")(inputs)\n",
    "\n",
    "# Insert activity regularization as a layer\n",
    "x = ActivityRegularizationLayer()(x)\n",
    "\n",
    "x = layers.Dense(64, activation=\"relu\", name=\"dense_2\")(x)\n",
    "outputs = layers.Dense(10, name=\"predictions\")(x)\n",
    "\n",
    "model = keras.Model(inputs=inputs, outputs=outputs)\n",
    "model.compile(\n",
    "    optimizer=keras.optimizers.RMSprop(learning_rate=1e-3),\n",
    "    loss=keras.losses.SparseCategoricalCrossentropy(from_logits=True),\n",
    ")\n",
    "\n",
    "# The displayed loss will be much higher than before\n",
    "# due to the regularization component.\n",
    "model.fit(x_train, y_train, batch_size=64, epochs=1)\n",
    "\n",
    "# add_metric:\n",
    "class MetricLoggingLayer(layers.Layer):\n",
    "    def call(self, inputs):\n",
    "        # The `aggregation` argument defines\n",
    "        # how to aggregate the per-batch values\n",
    "        # over each epoch:\n",
    "        # in this case we simply average them.\n",
    "        self.add_metric(\n",
    "            keras.backend.std(inputs), name=\"std_of_activation\", aggregation=\"mean\"\n",
    "        )\n",
    "        return inputs  # Pass-through layer.\n",
    "\n",
    "\n",
    "inputs = keras.Input(shape=(784,), name=\"digits\")\n",
    "x = layers.Dense(64, activation=\"relu\", name=\"dense_1\")(inputs)\n",
    "\n",
    "# Insert std logging as a layer.\n",
    "x = MetricLoggingLayer()(x)\n",
    "\n",
    "x = layers.Dense(64, activation=\"relu\", name=\"dense_2\")(x)\n",
    "outputs = layers.Dense(10, name=\"predictions\")(x)\n",
    "\n",
    "model = keras.Model(inputs=inputs, outputs=outputs)\n",
    "model.compile(\n",
    "    optimizer=keras.optimizers.RMSprop(learning_rate=1e-3),\n",
    "    loss=keras.losses.SparseCategoricalCrossentropy(from_logits=True),\n",
    ")\n",
    "model.fit(x_train, y_train, batch_size=64, epochs=1)\n",
    "\n",
    "# Method 2\n",
    "# However, in functional API, easier way to implement this is:\n",
    "inputs = keras.Input(shape=(784,), name=\"digits\")\n",
    "x1 = layers.Dense(64, activation=\"relu\", name=\"dense_1\")(inputs)\n",
    "x2 = layers.Dense(64, activation=\"relu\", name=\"dense_2\")(x1)\n",
    "outputs = layers.Dense(10, name=\"predictions\")(x2)\n",
    "model = keras.Model(inputs=inputs, outputs=outputs)\n",
    "\n",
    "model.add_loss(tf.reduce_sum(x1) * 0.1)\n",
    "\n",
    "model.add_metric(keras.backend.std(x1), name=\"std_of_activation\", aggregation=\"mean\")\n",
    "\n",
    "model.compile(\n",
    "    optimizer=keras.optimizers.RMSprop(1e-3),\n",
    "    loss=keras.losses.SparseCategoricalCrossentropy(from_logits=True),\n",
    ")\n",
    "model.fit(x_train, y_train, batch_size=64, epochs=1)"
   ]
  },
  {
   "cell_type": "code",
   "execution_count": 8,
   "metadata": {},
   "outputs": [
    {
     "name": "stdout",
     "output_type": "stream",
     "text": [
      "1/1 [==============================] - 0s 2ms/step - loss: 1.0913 - binary_accuracy: 0.0000e+00\n"
     ]
    },
    {
     "data": {
      "text/plain": [
       "<tensorflow.python.keras.callbacks.History at 0x236e0ea61c0>"
      ]
     },
     "execution_count": 8,
     "metadata": {},
     "output_type": "execute_result"
    }
   ],
   "source": [
    "# Consider a last layer which has metric and loss function in it. It takes logits and target as input \n",
    "\n",
    "class LogisticEndpoint(keras.layers.Layer):\n",
    "    def __init__(self, name=None):\n",
    "        super(LogisticEndpoint, self).__init__(name=name)\n",
    "        self.loss_fn = keras.losses.BinaryCrossentropy(from_logits=True)\n",
    "        self.accuracy_fn = keras.metrics.BinaryAccuracy()\n",
    "\n",
    "    def call(self, targets, logits, sample_weights=None):\n",
    "        # Compute the training-time loss value and add it\n",
    "        # to the layer using `self.add_loss()`.\n",
    "        loss = self.loss_fn(targets, logits, sample_weights)\n",
    "        self.add_loss(loss)\n",
    "\n",
    "        # Log accuracy as a metric and add it\n",
    "        # to the layer using `self.add_metric()`.\n",
    "        acc = self.accuracy_fn(targets, logits, sample_weights)\n",
    "        self.add_metric(acc, name=\"accuracy\")\n",
    "\n",
    "        # Return the inference-time prediction tensor (for `.predict()`).\n",
    "        return tf.nn.softmax(logits)\n",
    "    \n",
    "import numpy as np\n",
    "\n",
    "inputs = keras.Input(shape=(3,), name=\"inputs\")\n",
    "targets = keras.Input(shape=(10,), name=\"targets\")\n",
    "logits = keras.layers.Dense(10)(inputs)\n",
    "# Next us\n",
    "predictions = LogisticEndpoint(name=\"predictions\")(logits, targets)\n",
    "\n",
    "model = keras.Model(inputs=[inputs, targets], outputs=predictions)\n",
    "model.compile(optimizer=\"adam\")  # No loss argument!\n",
    "\n",
    "data = {\n",
    "    \"inputs\": np.random.random((3, 3)),\n",
    "    \"targets\": np.random.random((3, 10)),\n",
    "}\n",
    "model.fit(data)    "
   ]
  },
  {
   "cell_type": "code",
   "execution_count": 9,
   "metadata": {},
   "outputs": [
    {
     "name": "stdout",
     "output_type": "stream",
     "text": [
      "625/625 [==============================] - 2s 3ms/step - loss: 0.3722 - sparse_categorical_accuracy: 0.8943 - val_loss: 0.2492 - val_sparse_categorical_accuracy: 0.9245\n"
     ]
    },
    {
     "data": {
      "text/plain": [
       "<tensorflow.python.keras.callbacks.History at 0x236e116a7c0>"
      ]
     },
     "execution_count": 9,
     "metadata": {},
     "output_type": "execute_result"
    }
   ],
   "source": [
    "# If you use NumPy, you can use validation_split, else validation data option always available\n",
    "model = get_compiled_model()\n",
    "model.fit(x_train, y_train, batch_size=64, validation_split=0.2, epochs=1)"
   ]
  },
  {
   "cell_type": "code",
   "execution_count": 10,
   "metadata": {},
   "outputs": [
    {
     "name": "stdout",
     "output_type": "stream",
     "text": [
      "771/782 [============================>.] - ETA: 0s - loss: 0.3441 - sparse_categorical_accuracy: 0.9023WARNING:tensorflow:Callbacks method `on_test_batch_end` is slow compared to the batch time (batch time: 0.0000s vs `on_test_batch_end` time: 0.0081s). Check your callbacks.\n",
      "782/782 [==============================] - 3s 4ms/step - loss: 0.3425 - sparse_categorical_accuracy: 0.9027 - val_loss: 0.2065 - val_sparse_categorical_accuracy: 0.9418\n"
     ]
    },
    {
     "data": {
      "text/plain": [
       "<tensorflow.python.keras.callbacks.History at 0x236e24ae820>"
      ]
     },
     "execution_count": 10,
     "metadata": {},
     "output_type": "execute_result"
    },
    {
     "name": "stdout",
     "output_type": "stream",
     "text": [
      "Evaluate\n",
      "157/157 [==============================] - 1s 4ms/step - loss: 0.2147 - sparse_categorical_accuracy: 0.9337\n"
     ]
    },
    {
     "data": {
      "text/plain": [
       "{'loss': 0.21471908688545227,\n",
       " 'sparse_categorical_accuracy': 0.9337000250816345}"
      ]
     },
     "execution_count": 10,
     "metadata": {},
     "output_type": "execute_result"
    },
    {
     "name": "stdout",
     "output_type": "stream",
     "text": [
      "Epoch 1/3\n",
      "100/100 [==============================] - 0s 3ms/step - loss: 0.8293 - sparse_categorical_accuracy: 0.7909\n",
      "Epoch 2/3\n",
      "100/100 [==============================] - 0s 3ms/step - loss: 0.3830 - sparse_categorical_accuracy: 0.8922\n",
      "Epoch 3/3\n",
      "100/100 [==============================] - 0s 3ms/step - loss: 0.3095 - sparse_categorical_accuracy: 0.9075\n"
     ]
    },
    {
     "data": {
      "text/plain": [
       "<tensorflow.python.keras.callbacks.History at 0x236dffeb430>"
      ]
     },
     "execution_count": 10,
     "metadata": {},
     "output_type": "execute_result"
    }
   ],
   "source": [
    "# tf.data API\n",
    "# Using tf.data.Dataset objects data\n",
    "model = get_compiled_model()\n",
    "\n",
    "# First, let's create a training Dataset instance.\n",
    "# For the sake of our example, we'll use the same MNIST data as before.\n",
    "# NumPy to tf.data.Dataset\n",
    "train_dataset = tf.data.Dataset.from_tensor_slices((x_train, y_train))\n",
    "# Shuffle and slice the dataset. datasets keeps getting reset at the end of epoch\n",
    "train_dataset = train_dataset.shuffle(buffer_size=1024).batch(64)\n",
    "\n",
    "# Prepare the validation dataset\n",
    "val_dataset = tf.data.Dataset.from_tensor_slices((x_val, y_val))\n",
    "val_dataset = val_dataset.batch(64)\n",
    "\n",
    "# Now we get a test dataset.\n",
    "test_dataset = tf.data.Dataset.from_tensor_slices((x_test, y_test))\n",
    "test_dataset = test_dataset.batch(64)\n",
    "\n",
    "# Since the dataset already takes care of batching,\n",
    "# we don't pass a `batch_size` argument.\n",
    "#model.fit(train_dataset, epochs=3)\n",
    "model.fit(train_dataset, epochs=1, validation_data=val_dataset)\n",
    "# validation_steps=10 can be used but not validation_split for tf.data.Dataset\n",
    "\n",
    "# You can also evaluate or predict on a dataset.\n",
    "print(\"Evaluate\")\n",
    "result = model.evaluate(test_dataset)\n",
    "dict(zip(model.metrics_names, result))\n",
    "\n",
    "### Use only 100 batches per epoch -> steps_per_epoch\n",
    "model = get_compiled_model()\n",
    "\n",
    "# Prepare the training dataset\n",
    "train_dataset = tf.data.Dataset.from_tensor_slices((x_train, y_train))\n",
    "train_dataset = train_dataset.shuffle(buffer_size=1024).batch(64)\n",
    "\n",
    "# Only use the 100 batches per epoch (that's 64 * 100 samples)\n",
    "model.fit(train_dataset, epochs=3, steps_per_epoch=100)\n"
   ]
  },
  {
   "cell_type": "code",
   "execution_count": 11,
   "metadata": {},
   "outputs": [
    {
     "ename": "NameError",
     "evalue": "name 'filenames' is not defined",
     "output_type": "error",
     "traceback": [
      "\u001b[1;31m---------------------------------------------------------------------------\u001b[0m",
      "\u001b[1;31mNameError\u001b[0m                                 Traceback (most recent call last)",
      "\u001b[1;32m<ipython-input-11-25bcfd32fba5>\u001b[0m in \u001b[0;36m<module>\u001b[1;34m\u001b[0m\n\u001b[0;32m     22\u001b[0m                for filename in batch_x]), np.array(batch_y)\n\u001b[0;32m     23\u001b[0m \u001b[1;33m\u001b[0m\u001b[0m\n\u001b[1;32m---> 24\u001b[1;33m \u001b[0msequence\u001b[0m \u001b[1;33m=\u001b[0m \u001b[0mCIFAR10Sequence\u001b[0m\u001b[1;33m(\u001b[0m\u001b[0mfilenames\u001b[0m\u001b[1;33m,\u001b[0m \u001b[0mlabels\u001b[0m\u001b[1;33m,\u001b[0m \u001b[0mbatch_size\u001b[0m\u001b[1;33m)\u001b[0m\u001b[1;33m\u001b[0m\u001b[1;33m\u001b[0m\u001b[0m\n\u001b[0m\u001b[0;32m     25\u001b[0m \u001b[0mmodel\u001b[0m\u001b[1;33m.\u001b[0m\u001b[0mfit\u001b[0m\u001b[1;33m(\u001b[0m\u001b[0msequence\u001b[0m\u001b[1;33m,\u001b[0m \u001b[0mepochs\u001b[0m\u001b[1;33m=\u001b[0m\u001b[1;36m10\u001b[0m\u001b[1;33m)\u001b[0m\u001b[1;33m\u001b[0m\u001b[1;33m\u001b[0m\u001b[0m\n",
      "\u001b[1;31mNameError\u001b[0m: name 'filenames' is not defined"
     ]
    }
   ],
   "source": [
    "# keras.utils.Sequence object as input -> multiprocessing and shuffle!\n",
    "# subclass it to get python generator with '__getitem__' and '__len__'\n",
    "# __getitem__ should return complete batch\n",
    "# if you want to modify data in between, implement on_epoch_end\n",
    "# example: \n",
    "# Here, `filenames` is list of path to the images\n",
    "# and `labels` are the associated labels.\n",
    "\n",
    "class CIFAR10Sequence(tf.keras.utils.Sequence):\n",
    "    def __init__(self, filenames, labels, batch_size):\n",
    "        self.filenames, self.labels = filenames, labels\n",
    "        self.batch_size = batch_size\n",
    "\n",
    "    def __len__(self):\n",
    "        return int(np.ceil(len(self.filenames) / float(self.batch_size)))\n",
    "\n",
    "    def __getitem__(self, idx):\n",
    "        batch_x = self.filenames[idx * self.batch_size:(idx + 1) * self.batch_size]\n",
    "        batch_y = self.labels[idx * self.batch_size:(idx + 1) * self.batch_size]\n",
    "        return np.array([\n",
    "            resize(imread(filename), (200, 200))\n",
    "               for filename in batch_x]), np.array(batch_y)\n",
    "\n",
    "sequence = CIFAR10Sequence(filenames, labels, batch_size)\n",
    "model.fit(sequence, epochs=10)"
   ]
  },
  {
   "cell_type": "code",
   "execution_count": 12,
   "metadata": {},
   "outputs": [],
   "source": [
    "from skimage.io import imread\n",
    "from skimage.transform import resize\n",
    "import numpy as np\n"
   ]
  },
  {
   "cell_type": "code",
   "execution_count": 13,
   "metadata": {},
   "outputs": [
    {
     "name": "stdout",
     "output_type": "stream",
     "text": [
      "Fit with class weight\n",
      "782/782 [==============================] - 3s 3ms/step - loss: 0.3678 - sparse_categorical_accuracy: 0.9037\n"
     ]
    },
    {
     "data": {
      "text/plain": [
       "<tensorflow.python.keras.callbacks.History at 0x236810e9430>"
      ]
     },
     "execution_count": 13,
     "metadata": {},
     "output_type": "execute_result"
    },
    {
     "name": "stdout",
     "output_type": "stream",
     "text": [
      "Fit with sample weight\n",
      "782/782 [==============================] - 2s 3ms/step - loss: 0.3657 - sparse_categorical_accuracy: 0.9040\n"
     ]
    },
    {
     "data": {
      "text/plain": [
       "<tensorflow.python.keras.callbacks.History at 0x2368243cbb0>"
      ]
     },
     "execution_count": 13,
     "metadata": {},
     "output_type": "execute_result"
    },
    {
     "name": "stdout",
     "output_type": "stream",
     "text": [
      "782/782 [==============================] - 3s 3ms/step - loss: 0.3634 - sparse_categorical_accuracy: 0.9040\n"
     ]
    },
    {
     "data": {
      "text/plain": [
       "<tensorflow.python.keras.callbacks.History at 0x2368278ac40>"
      ]
     },
     "execution_count": 13,
     "metadata": {},
     "output_type": "execute_result"
    }
   ],
   "source": [
    "# sample weights and class weights in model.fit(..class_weight={0:0.5})\n",
    "#---------------------------------\n",
    "\n",
    "# Need of class weights: give more imp, no need for balancing classes without respampling\n",
    "# NumPy example of class weights:\n",
    "\n",
    "import numpy as np\n",
    "\n",
    "class_weight = {\n",
    "    0: 1.0,\n",
    "    1: 1.0,\n",
    "    2: 1.0,\n",
    "    3: 1.0,\n",
    "    4: 1.0,\n",
    "    # Set weight \"2\" for class \"5\",\n",
    "    # making this class 2x more important\n",
    "    5: 2.0,\n",
    "    6: 1.0,\n",
    "    7: 1.0,\n",
    "    8: 1.0,\n",
    "    9: 1.0,\n",
    "}\n",
    "\n",
    "print(\"Fit with class weight\")\n",
    "model = get_compiled_model()\n",
    "model.fit(x_train, y_train, class_weight=class_weight, batch_size=64, epochs=1)\n",
    "\n",
    "#---------------------------------\n",
    "\n",
    "# Sample weights (array of numbers on how much weight each sample gets)\n",
    "# NumPy data -> Model.fit(sample_weight)\n",
    "# tf.data or any other iterator -> yield (input_batch, label_batch, sample_weights)\n",
    "\n",
    "# Use: class imbalance, masking particular samples or classes in loss!\n",
    "\n",
    "# NumPy input example:\n",
    "sample_weight = np.ones(shape=(len(y_train),))\n",
    "sample_weight[y_train == 5] = 2.0\n",
    "\n",
    "print(\"Fit with sample weight\")\n",
    "model = get_compiled_model()\n",
    "model.fit(x_train, y_train, sample_weight=sample_weight, batch_size=64, epochs=1)\n",
    "\n",
    "# tf.data.Dataset example:\n",
    "sample_weight = np.ones(shape=(len(y_train),))\n",
    "sample_weight[y_train == 5] = 2.0\n",
    "\n",
    "# Create a Dataset that includes sample weights\n",
    "# (3rd element in the return tuple).\n",
    "train_dataset = tf.data.Dataset.from_tensor_slices((x_train, y_train, sample_weight))\n",
    "\n",
    "# Shuffle and slice the dataset.\n",
    "train_dataset = train_dataset.shuffle(buffer_size=1024).batch(64)\n",
    "\n",
    "model = get_compiled_model()\n",
    "model.fit(train_dataset, epochs=1)\n"
   ]
  },
  {
   "cell_type": "code",
   "execution_count": 14,
   "metadata": {},
   "outputs": [
    {
     "data": {
      "image/png": "[encoded data removed]",
      "text/plain": [
       "<IPython.core.display.Image object>"
      ]
     },
     "execution_count": 14,
     "metadata": {},
     "output_type": "execute_result"
    },
    {
     "name": "stdout",
     "output_type": "stream",
     "text": [
      "4/4 [==============================] - 0s 7ms/step - loss: 19.3151 - score_output_loss: 1.5346 - class_output_loss: 17.7805\n"
     ]
    },
    {
     "data": {
      "text/plain": [
       "<tensorflow.python.keras.callbacks.History at 0x236e258fdf0>"
      ]
     },
     "execution_count": 14,
     "metadata": {},
     "output_type": "execute_result"
    },
    {
     "name": "stdout",
     "output_type": "stream",
     "text": [
      "4/4 [==============================] - 0s 7ms/step - loss: 18.6697 - score_output_loss: 0.9466 - class_output_loss: 17.7231\n"
     ]
    },
    {
     "data": {
      "text/plain": [
       "<tensorflow.python.keras.callbacks.History at 0x236840c54f0>"
      ]
     },
     "execution_count": 14,
     "metadata": {},
     "output_type": "execute_result"
    }
   ],
   "source": [
    "# Multi-input multi-output end-to-end example\n",
    "# single input (764,) and single output example seen (10,)\n",
    "# what if input is image (32,32,3) and timeseries steps (None, 10)..None=timesteps 10=features\n",
    "# and output is score (1,) and probability distribution over 5 classes (5,)\n",
    "\n",
    "#---------------------------------\n",
    "image_input = keras.Input(shape=(32, 32, 3), name=\"img_input\")\n",
    "timeseries_input = keras.Input(shape=(None, 10), name=\"ts_input\")\n",
    "\n",
    "x1 = layers.Conv2D(3, 3)(image_input)\n",
    "x1 = layers.GlobalMaxPooling2D()(x1)\n",
    "\n",
    "x2 = layers.Conv1D(3, 3)(timeseries_input)\n",
    "x2 = layers.GlobalMaxPooling1D()(x2)\n",
    "\n",
    "x = layers.concatenate([x1, x2])\n",
    "\n",
    "score_output = layers.Dense(1, name=\"score_output\")(x)\n",
    "class_output = layers.Dense(5, name=\"class_output\")(x)\n",
    "\n",
    "model = keras.Model(\n",
    "    inputs=[image_input, timeseries_input], outputs=[score_output, class_output]\n",
    ")\n",
    "keras.utils.plot_model(model, \"multi_input_and_output_model.png\", show_shapes=True)\n",
    "\n",
    "#---------------------------------\n",
    "# List Version\n",
    "#model.compile(\n",
    "#    optimizer=keras.optimizers.RMSprop(1e-3),\n",
    "#    loss=[keras.losses.MeanSquaredError(), keras.losses.CategoricalCrossentropy()],\n",
    "#    metrics=[\n",
    "#        [\n",
    "#            keras.metrics.MeanAbsolutePercentageError(),\n",
    "#            keras.metrics.MeanAbsoluteError(),\n",
    "#        ],\n",
    "#        [keras.metrics.CategoricalAccuracy()],\n",
    "#    ],\n",
    "#)\n",
    "\n",
    "# Dict version!\n",
    "# better way since we gave names to output layer\n",
    "model.compile(\n",
    "    optimizer=keras.optimizers.RMSprop(1e-3),\n",
    "    loss={\n",
    "        \"score_output\": keras.losses.MeanSquaredError(),\n",
    "        \"class_output\": keras.losses.CategoricalCrossentropy(),\n",
    "    },\n",
    "    metrics={\n",
    "        \"score_output\": [\n",
    "            keras.metrics.MeanAbsolutePercentageError(),\n",
    "            keras.metrics.MeanAbsoluteError(),\n",
    "        ],\n",
    "        \"class_output\": [keras.metrics.CategoricalAccuracy()],\n",
    "    },\n",
    "    # GIVING weights to different losses in total loss!!\n",
    "    loss_weights={\"score_output\": 2.0, \"class_output\": 1.0},\n",
    ")\n",
    "\n",
    "#---------------------------------\n",
    "# If you don't want to train some particular output node:\n",
    "\n",
    "# List loss version\n",
    "model.compile(\n",
    "    optimizer=keras.optimizers.RMSprop(1e-3),\n",
    "    loss=[None, keras.losses.CategoricalCrossentropy()],\n",
    ")\n",
    "\n",
    "# Or dict loss version\n",
    "model.compile(\n",
    "    optimizer=keras.optimizers.RMSprop(1e-3),\n",
    "    loss={\"class_output\": keras.losses.CategoricalCrossentropy()},\n",
    ")\n",
    "\n",
    "#--------------------------------\n",
    "# Passing data either as dict names as named in the layers or as list\n",
    "model.compile(\n",
    "    optimizer=keras.optimizers.RMSprop(1e-3),\n",
    "    loss=[keras.losses.MeanSquaredError(), keras.losses.CategoricalCrossentropy()],\n",
    ")\n",
    "\n",
    "# Generate dummy NumPy data\n",
    "img_data = np.random.random_sample(size=(100, 32, 32, 3))\n",
    "ts_data = np.random.random_sample(size=(100, 20, 10))\n",
    "score_targets = np.random.random_sample(size=(100, 1))\n",
    "class_targets = np.random.random_sample(size=(100, 5))\n",
    "\n",
    "# Fit on lists\n",
    "model.fit([img_data, ts_data], [score_targets, class_targets], batch_size=32, epochs=1)\n",
    "\n",
    "# Alternatively, fit on dicts\n",
    "model.fit(\n",
    "    {\"img_input\": img_data, \"ts_input\": ts_data},\n",
    "    {\"score_output\": score_targets, \"class_output\": class_targets},\n",
    "    batch_size=32,\n",
    "    epochs=1,\n",
    ")\n"
   ]
  },
  {
   "cell_type": "code",
   "execution_count": 15,
   "metadata": {},
   "outputs": [
    {
     "name": "stdout",
     "output_type": "stream",
     "text": [
      "Epoch 1/20\n",
      "625/625 [==============================] - 2s 3ms/step - loss: 0.3814 - sparse_categorical_accuracy: 0.8923 - val_loss: 0.2377 - val_sparse_categorical_accuracy: 0.9295\n",
      "Epoch 2/20\n",
      "625/625 [==============================] - 2s 3ms/step - loss: 0.1814 - sparse_categorical_accuracy: 0.9459 - val_loss: 0.1880 - val_sparse_categorical_accuracy: 0.9427\n",
      "Epoch 3/20\n",
      "625/625 [==============================] - 2s 3ms/step - loss: 0.1297 - sparse_categorical_accuracy: 0.9608 - val_loss: 0.1606 - val_sparse_categorical_accuracy: 0.9513\n",
      "Epoch 4/20\n",
      "625/625 [==============================] - 2s 3ms/step - loss: 0.0997 - sparse_categorical_accuracy: 0.9706 - val_loss: 0.1626 - val_sparse_categorical_accuracy: 0.9521\n",
      "Epoch 5/20\n",
      "625/625 [==============================] - 2s 3ms/step - loss: 0.0834 - sparse_categorical_accuracy: 0.9750 - val_loss: 0.1422 - val_sparse_categorical_accuracy: 0.9570\n",
      "Epoch 6/20\n",
      "625/625 [==============================] - 2s 3ms/step - loss: 0.0705 - sparse_categorical_accuracy: 0.9794 - val_loss: 0.1526 - val_sparse_categorical_accuracy: 0.9567\n",
      "Epoch 7/20\n",
      "625/625 [==============================] - 2s 3ms/step - loss: 0.0607 - sparse_categorical_accuracy: 0.9814 - val_loss: 0.1441 - val_sparse_categorical_accuracy: 0.9608\n",
      "Epoch 00007: early stopping\n"
     ]
    },
    {
     "data": {
      "text/plain": [
       "<tensorflow.python.keras.callbacks.History at 0x236854faa00>"
      ]
     },
     "execution_count": 15,
     "metadata": {},
     "output_type": "execute_result"
    },
    {
     "name": "stdout",
     "output_type": "stream",
     "text": [
      "Epoch 1/2\n",
      "623/625 [============================>.] - ETA: 0s - loss: 0.3769 - sparse_categorical_accuracy: 0.8940\n",
      "Epoch 00001: val_loss improved from inf to 0.26152, saving model to mymodel_1\n",
      "WARNING:tensorflow:From c:\\users\\kbged\\miniconda3\\envs\\tf\\lib\\site-packages\\tensorflow\\python\\training\\tracking\\tracking.py:111: Model.state_updates (from tensorflow.python.keras.engine.training) is deprecated and will be removed in a future version.\n",
      "Instructions for updating:\n",
      "This property should not be used in TensorFlow 2.0, as updates are applied automatically.\n",
      "WARNING:tensorflow:From c:\\users\\kbged\\miniconda3\\envs\\tf\\lib\\site-packages\\tensorflow\\python\\training\\tracking\\tracking.py:111: Layer.updates (from tensorflow.python.keras.engine.base_layer) is deprecated and will be removed in a future version.\n",
      "Instructions for updating:\n",
      "This property should not be used in TensorFlow 2.0, as updates are applied automatically.\n",
      "INFO:tensorflow:Assets written to: mymodel_1\\assets\n",
      "625/625 [==============================] - 4s 6ms/step - loss: 0.3767 - sparse_categorical_accuracy: 0.8940 - val_loss: 0.2615 - val_sparse_categorical_accuracy: 0.9239\n",
      "Epoch 2/2\n",
      "608/625 [============================>.] - ETA: 0s - loss: 0.1838 - sparse_categorical_accuracy: 0.9460\n",
      "Epoch 00002: val_loss improved from 0.26152 to 0.19222, saving model to mymodel_2\n",
      "INFO:tensorflow:Assets written to: mymodel_2\\assets\n",
      "625/625 [==============================] - 5s 7ms/step - loss: 0.1830 - sparse_categorical_accuracy: 0.9463 - val_loss: 0.1922 - val_sparse_categorical_accuracy: 0.9413\n"
     ]
    },
    {
     "data": {
      "text/plain": [
       "<tensorflow.python.keras.callbacks.History at 0x23685940370>"
      ]
     },
     "execution_count": 15,
     "metadata": {},
     "output_type": "execute_result"
    },
    {
     "name": "stdout",
     "output_type": "stream",
     "text": [
      "Restoring from ./ckpt/ckpt-loss=0.31\n",
      "  87/1563 [>.............................] - ETA: 3s - loss: 0.1677 - sparse_categorical_accuracy: 0.9461INFO:tensorflow:Assets written to: ./ckpt\\ckpt-loss=0.17\\assets\n",
      " 196/1563 [==>...........................] - ETA: 19s - loss: 0.1711 - sparse_categorical_accuracy: 0.9474INFO:tensorflow:Assets written to: ./ckpt\\ckpt-loss=0.17\\assets\n",
      " 291/1563 [====>.........................] - ETA: 24s - loss: 0.1778 - sparse_categorical_accuracy: 0.9462INFO:tensorflow:Assets written to: ./ckpt\\ckpt-loss=0.18\\assets\n",
      " 388/1563 [======>.......................] - ETA: 23s - loss: 0.1730 - sparse_categorical_accuracy: 0.9477INFO:tensorflow:Assets written to: ./ckpt\\ckpt-loss=0.17\\assets\n",
      " 485/1563 [========>.....................] - ETA: 22s - loss: 0.1699 - sparse_categorical_accuracy: 0.9492INFO:tensorflow:Assets written to: ./ckpt\\ckpt-loss=0.17\\assets\n",
      " 597/1563 [==========>...................] - ETA: 19s - loss: 0.1673 - sparse_categorical_accuracy: 0.9501INFO:tensorflow:Assets written to: ./ckpt\\ckpt-loss=0.17\\assets\n",
      " 683/1563 [============>.................] - ETA: 18s - loss: 0.1659 - sparse_categorical_accuracy: 0.9506INFO:tensorflow:Assets written to: ./ckpt\\ckpt-loss=0.16\\assets\n",
      " 788/1563 [==============>...............] - ETA: 16s - loss: 0.1623 - sparse_categorical_accuracy: 0.9517INFO:tensorflow:Assets written to: ./ckpt\\ckpt-loss=0.16\\assets\n",
      " 889/1563 [================>.............] - ETA: 14s - loss: 0.1600 - sparse_categorical_accuracy: 0.9523INFO:tensorflow:Assets written to: ./ckpt\\ckpt-loss=0.16\\assets\n",
      " 988/1563 [=================>............] - ETA: 12s - loss: 0.1568 - sparse_categorical_accuracy: 0.9533INFO:tensorflow:Assets written to: ./ckpt\\ckpt-loss=0.16\\assets\n",
      "1087/1563 [===================>..........] - ETA: 10s - loss: 0.1564 - sparse_categorical_accuracy: 0.9535INFO:tensorflow:Assets written to: ./ckpt\\ckpt-loss=0.16\\assets\n",
      "1191/1563 [=====================>........] - ETA: 8s - loss: 0.1528 - sparse_categorical_accuracy: 0.9548INFO:tensorflow:Assets written to: ./ckpt\\ckpt-loss=0.15\\assets\n",
      "1299/1563 [=======================>......] - ETA: 6s - loss: 0.1521 - sparse_categorical_accuracy: 0.9549INFO:tensorflow:Assets written to: ./ckpt\\ckpt-loss=0.15\\assets\n",
      "1382/1563 [=========================>....] - ETA: 4s - loss: 0.1506 - sparse_categorical_accuracy: 0.9556INFO:tensorflow:Assets written to: ./ckpt\\ckpt-loss=0.15\\assets\n",
      "1486/1563 [===========================>..] - ETA: 1s - loss: 0.1488 - sparse_categorical_accuracy: 0.9559INFO:tensorflow:Assets written to: ./ckpt\\ckpt-loss=0.15\\assets\n",
      "1563/1563 [==============================] - 38s 24ms/step - loss: 0.1482 - sparse_categorical_accuracy: 0.9561\n"
     ]
    },
    {
     "data": {
      "text/plain": [
       "<tensorflow.python.keras.callbacks.History at 0x236824d87c0>"
      ]
     },
     "execution_count": 15,
     "metadata": {},
     "output_type": "execute_result"
    }
   ],
   "source": [
    "# Callbacks: Objects that are called at different points during training (start of epoch, end of batch, end of epoch)\n",
    "# Need: validation at different points, checkpoint at some threshold crossing, changing learing rates in between, fine-tune layers in between, e=send email when done!!\n",
    "# send it in Model.fit()\n",
    "\n",
    "#-------------------------\n",
    "# eg: EarlyStopping\n",
    "callbacks = [\n",
    "    keras.callbacks.EarlyStopping(\n",
    "        # Stop training when `val_loss` is no longer improving\n",
    "        monitor=\"val_loss\",\n",
    "        # \"no longer improving\" being defined as \"no better than 1e-2 less\"\n",
    "        min_delta=1e-2,\n",
    "        # \"no longer improving\" being further defined as \"for at least 2 epochs\"\n",
    "        patience=2,\n",
    "        verbose=1,\n",
    "    )\n",
    "]\n",
    "model = get_compiled_model()\n",
    "model.fit(\n",
    "    x_train,\n",
    "    y_train,\n",
    "    epochs=20,\n",
    "    batch_size=64,\n",
    "    callbacks=callbacks,\n",
    "    validation_split=0.2,\n",
    ")\n",
    "\n",
    "#---------------\n",
    "# eg: checkpoint model when some metric improves\n",
    "\n",
    "model = get_compiled_model()\n",
    "\n",
    "callbacks = [\n",
    "    keras.callbacks.ModelCheckpoint(\n",
    "        # Path where to save the model\n",
    "        # The two parameters below mean that we will overwrite\n",
    "        # the current checkpoint if and only if\n",
    "        # the `val_loss` score has improved.\n",
    "        # The saved model name will include the current epoch.\n",
    "        filepath=\"mymodel_{epoch}\",\n",
    "        save_best_only=True,  # Only save a model if `val_loss` has improved.\n",
    "        monitor=\"val_loss\",\n",
    "        verbose=1,\n",
    "    )\n",
    "]\n",
    "model.fit(\n",
    "    x_train, y_train, epochs=2, batch_size=64, callbacks=callbacks, validation_split=0.2\n",
    ")\n",
    "\n",
    "#----------------------------------------\n",
    "# eg: checkpoint for fault-tolerance i.e restart if training stopped mid-way\n",
    "import os\n",
    "\n",
    "# Prepare a directory to store all the checkpoints.\n",
    "checkpoint_dir = \"./ckpt\"\n",
    "if not os.path.exists(checkpoint_dir):\n",
    "    os.makedirs(checkpoint_dir)\n",
    "\n",
    "\n",
    "def make_or_restore_model():\n",
    "    # Either restore the latest model, or create a fresh one\n",
    "    # if there is no checkpoint available.\n",
    "    checkpoints = [checkpoint_dir + \"/\" + name for name in os.listdir(checkpoint_dir)]\n",
    "    if checkpoints:\n",
    "        latest_checkpoint = max(checkpoints, key=os.path.getctime)\n",
    "        print(\"Restoring from\", latest_checkpoint)\n",
    "        return keras.models.load_model(latest_checkpoint)\n",
    "    print(\"Creating a new model\")\n",
    "    return get_compiled_model()\n",
    "\n",
    "\n",
    "model = make_or_restore_model()\n",
    "callbacks = [\n",
    "    # This callback saves a SavedModel every 100 batches.\n",
    "    # We include the training loss in the saved model name.\n",
    "    keras.callbacks.ModelCheckpoint(\n",
    "        filepath=checkpoint_dir + \"/ckpt-loss={loss:.2f}\", save_freq=100\n",
    "    )\n",
    "]\n",
    "model.fit(x_train, y_train, epochs=1, callbacks=callbacks)\n",
    "\n",
    "\n",
    "#--------------------\n",
    "# eg: writing your own callback for saving a list of per-batch loss values\n",
    "class LossHistory(keras.callbacks.Callback):\n",
    "    def on_train_begin(self, logs):\n",
    "        self.per_batch_losses = []\n",
    "\n",
    "    def on_batch_end(self, batch, logs):\n",
    "        self.per_batch_losses.append(logs.get(\"loss\"))\n",
    "\n",
    "\n"
   ]
  },
  {
   "cell_type": "code",
   "execution_count": 16,
   "metadata": {},
   "outputs": [],
   "source": [
    "#------------------\n",
    "# Learning rates -> Static (scheduler method)and dynamic (callback method)\n",
    "# static decay : Pass schedule to an optimizer\n",
    "initial_learning_rate = 0.1\n",
    "lr_schedule = keras.optimizers.schedules.ExponentialDecay(\n",
    "    initial_learning_rate, decay_steps=100000, decay_rate=0.96, staircase=True\n",
    ")\n",
    "\n",
    "optimizer = keras.optimizers.RMSprop(learning_rate=lr_schedule)\n",
    "\n",
    "# dynamic decay: implement call back (ReduceLROnPlateau)"
   ]
  },
  {
   "cell_type": "code",
   "execution_count": null,
   "metadata": {},
   "outputs": [],
   "source": []
  },
  {
   "cell_type": "code",
   "execution_count": 24,
   "metadata": {},
   "outputs": [
    {
     "data": {
      "text/plain": [
       "<tensorflow.python.keras.callbacks.TensorBoard at 0x23681250a00>"
      ]
     },
     "execution_count": 24,
     "metadata": {},
     "output_type": "execute_result"
    },
    {
     "name": "stdout",
     "output_type": "stream",
     "text": [
      "  43/1563 [..............................] - ETA: 3s - loss: 0.0581 - sparse_categorical_accuracy: 0.9826INFO:tensorflow:Assets written to: ./ckpt\\ckpt-loss=0.06\\assets\n",
      " 122/1563 [=>............................] - ETA: 24s - loss: 0.0633 - sparse_categorical_accuracy: 0.9826INFO:tensorflow:Assets written to: ./ckpt\\ckpt-loss=0.07\\assets\n",
      " 239/1563 [===>..........................] - ETA: 25s - loss: 0.0600 - sparse_categorical_accuracy: 0.9831INFO:tensorflow:Assets written to: ./ckpt\\ckpt-loss=0.06\\assets\n",
      " 334/1563 [=====>........................] - ETA: 25s - loss: 0.0598 - sparse_categorical_accuracy: 0.9830INFO:tensorflow:Assets written to: ./ckpt\\ckpt-loss=0.06\\assets\n",
      " 439/1563 [=======>......................] - ETA: 24s - loss: 0.0575 - sparse_categorical_accuracy: 0.9837INFO:tensorflow:Assets written to: ./ckpt\\ckpt-loss=0.06\\assets\n",
      " 527/1563 [=========>....................] - ETA: 23s - loss: 0.0585 - sparse_categorical_accuracy: 0.9832INFO:tensorflow:Assets written to: ./ckpt\\ckpt-loss=0.06\\assets\n",
      " 646/1563 [===========>..................] - ETA: 20s - loss: 0.0614 - sparse_categorical_accuracy: 0.9821INFO:tensorflow:Assets written to: ./ckpt\\ckpt-loss=0.06\\assets\n",
      " 730/1563 [=============>................] - ETA: 18s - loss: 0.0621 - sparse_categorical_accuracy: 0.9820INFO:tensorflow:Assets written to: ./ckpt\\ckpt-loss=0.06\\assets\n",
      " 847/1563 [===============>..............] - ETA: 17s - loss: 0.0613 - sparse_categorical_accuracy: 0.9824INFO:tensorflow:Assets written to: ./ckpt\\ckpt-loss=0.06\\assets\n",
      " 942/1563 [=================>............] - ETA: 16s - loss: 0.0638 - sparse_categorical_accuracy: 0.9814INFO:tensorflow:Assets written to: ./ckpt\\ckpt-loss=0.06\\assets\n",
      "1019/1563 [==================>...........] - ETA: 15s - loss: 0.0628 - sparse_categorical_accuracy: 0.9816INFO:tensorflow:Assets written to: ./ckpt\\ckpt-loss=0.06\\assets\n",
      "1136/1563 [====================>.........] - ETA: 11s - loss: 0.0638 - sparse_categorical_accuracy: 0.9815INFO:tensorflow:Assets written to: ./ckpt\\ckpt-loss=0.06\\assets\n",
      "1230/1563 [======================>.......] - ETA: 9s - loss: 0.0653 - sparse_categorical_accuracy: 0.9812 INFO:tensorflow:Assets written to: ./ckpt\\ckpt-loss=0.07\\assets\n",
      "1331/1563 [========================>.....] - ETA: 6s - loss: 0.0660 - sparse_categorical_accuracy: 0.9810INFO:tensorflow:Assets written to: ./ckpt\\ckpt-loss=0.07\\assets\n",
      "1440/1563 [==========================>...] - ETA: 3s - loss: 0.0669 - sparse_categorical_accuracy: 0.9807INFO:tensorflow:Assets written to: ./ckpt\\ckpt-loss=0.07\\assets\n",
      "1544/1563 [============================>.] - ETA: 0s - loss: 0.0676 - sparse_categorical_accuracy: 0.9808INFO:tensorflow:Assets written to: ./ckpt\\ckpt-loss=0.07\\assets\n",
      "1563/1563 [==============================] - 46s 29ms/step - loss: 0.0685 - sparse_categorical_accuracy: 0.9806\n"
     ]
    },
    {
     "data": {
      "text/plain": [
       "<tensorflow.python.keras.callbacks.History at 0x23686e29fd0>"
      ]
     },
     "execution_count": 24,
     "metadata": {},
     "output_type": "execute_result"
    },
    {
     "data": {
      "text/plain": [
       "Reusing TensorBoard on port 6006 (pid 17644), started 0:23:57 ago. (Use '!kill 17644' to kill it.)"
      ]
     },
     "metadata": {},
     "output_type": "display_data"
    },
    {
     "data": {
      "text/html": [
       "\n",
       "      <iframe id=\"tensorboard-frame-64ef3958675f7363\" width=\"100%\" height=\"800\" frameborder=\"0\">\n",
       "      </iframe>\n",
       "      <script>\n",
       "        (function() {\n",
       "          const frame = document.getElementById(\"tensorboard-frame-64ef3958675f7363\");\n",
       "          const url = new URL(\"/\", window.location);\n",
       "          const port = 6006;\n",
       "          if (port) {\n",
       "            url.port = port;\n",
       "          }\n",
       "          frame.src = url;\n",
       "        })();\n",
       "      </script>\n",
       "    "
      ],
      "text/plain": [
       "<IPython.core.display.HTML object>"
      ]
     },
     "metadata": {},
     "output_type": "display_data"
    }
   ],
   "source": [
    "# Visualize loss and metric during training\n",
    "# Tensorboard callback:\n",
    "#%tensorboard --logdir logs/func\n",
    "\n",
    "#logdir = \"logs/scalars/\" + datetime.now().strftime(\"%Y%m%d-%H%M%S\")\n",
    "#stamp = datetime.now().strftime(\"%Y%m%d-%H%M%S\")\n",
    "stamp = 'test'\n",
    "logdir = \"logs/scalars/%s\" % stamp\n",
    "writer = tf.summary.create_file_writer(logdir)\n",
    "\n",
    "keras.callbacks.TensorBoard(\n",
    "    log_dir=logdir,\n",
    "    histogram_freq=0,  # How often to log histogram visualizations\n",
    "    embeddings_freq=0,  # How often to log embedding visualizations\n",
    "    update_freq=\"epoch\",\n",
    ")  # How often to write logs (default: once per epoch)\n",
    "model.fit(x_train, y_train, epochs=1, callbacks=callbacks)\n",
    "\n",
    "%tensorboard --logdir logs/scalars"
   ]
  },
  {
   "cell_type": "code",
   "execution_count": 27,
   "metadata": {},
   "outputs": [
    {
     "data": {
      "text/plain": [
       "Reusing TensorBoard on port 6006 (pid 14136), started 0:01:19 ago. (Use '!kill 14136' to kill it.)"
      ]
     },
     "metadata": {},
     "output_type": "display_data"
    },
    {
     "data": {
      "text/html": [
       "\n",
       "      <iframe id=\"tensorboard-frame-263d03cea304fecf\" width=\"100%\" height=\"800\" frameborder=\"0\">\n",
       "      </iframe>\n",
       "      <script>\n",
       "        (function() {\n",
       "          const frame = document.getElementById(\"tensorboard-frame-263d03cea304fecf\");\n",
       "          const url = new URL(\"/\", window.location);\n",
       "          const port = 6006;\n",
       "          if (port) {\n",
       "            url.port = port;\n",
       "          }\n",
       "          frame.src = url;\n",
       "        })();\n",
       "      </script>\n",
       "    "
      ],
      "text/plain": [
       "<IPython.core.display.HTML object>"
      ]
     },
     "metadata": {},
     "output_type": "display_data"
    }
   ],
   "source": [
    "%tensorboard --logdir=\"C:\\Users\\kbged\\Downloads\\tf guide\\logs\\scalars\\test\\events.out.tfevents.1610274084.DESKTOP-5DU3UD3.22204.305376.v2\""
   ]
  },
  {
   "cell_type": "code",
   "execution_count": 18,
   "metadata": {
    "scrolled": true
   },
   "outputs": [
    {
     "name": "stdout",
     "output_type": "stream",
     "text": [
      "tensorboard 2.3.0\n",
      "tensorboard-plugin-wit 1.6.0\n"
     ]
    }
   ],
   "source": [
    "import pkg_resources\n",
    "\n",
    "for entry_point in pkg_resources.iter_entry_points('tensorboard_plugins'):\n",
    "    print(entry_point.dist)"
   ]
  },
  {
   "cell_type": "code",
   "execution_count": null,
   "metadata": {},
   "outputs": [],
   "source": []
  },
  {
   "cell_type": "code",
   "execution_count": null,
   "metadata": {},
   "outputs": [],
   "source": []
  }
 ],
 "metadata": {
  "kernelspec": {
   "display_name": "Python 3",
   "language": "python",
   "name": "python3"
  },
  "language_info": {
   "codemirror_mode": {
    "name": "ipython",
    "version": 3
   },
   "file_extension": ".py",
   "mimetype": "text/x-python",
   "name": "python",
   "nbconvert_exporter": "python",
   "pygments_lexer": "ipython3",
   "version": "3.8.5"
  }
 },
 "nbformat": 4,
 "nbformat_minor": 4
}
