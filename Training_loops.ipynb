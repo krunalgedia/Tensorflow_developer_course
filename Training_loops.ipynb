{
 "cells": [
  {
   "cell_type": "code",
   "execution_count": 2,
   "metadata": {},
   "outputs": [],
   "source": [
    "import tensorflow as tf\n",
    "import numpy as np\n",
    "import matplotlib.pyplot as plt\n",
    "from IPython.core.interactiveshell import InteractiveShell\n",
    "InteractiveShell.ast_node_interactivity = 'all'\n",
    "import timeit\n",
    "from datetime import datetime\n",
    "\n",
    "%load_ext tensorboard"
   ]
  },
  {
   "cell_type": "code",
   "execution_count": 3,
   "metadata": {},
   "outputs": [],
   "source": [
    "# data -> model (seq,func) -> loss function, optimize (compile) -> training (run) -> gradients, variables update -> evluate test data\n",
    "# Simple linear regression"
   ]
  },
  {
   "cell_type": "code",
   "execution_count": 4,
   "metadata": {
    "scrolled": true
   },
   "outputs": [
    {
     "data": {
      "text/plain": [
       "<matplotlib.collections.PathCollection at 0x1b1ebf838b0>"
      ]
     },
     "execution_count": 4,
     "metadata": {},
     "output_type": "execute_result"
    },
    {
     "data": {
      "image/png": "[encoded data removed]",
      "text/plain": [
       "<Figure size 432x288 with 1 Axes>"
      ]
     },
     "metadata": {
      "needs_background": "light"
     },
     "output_type": "display_data"
    }
   ],
   "source": [
    "# data \n",
    "# The actual line\n",
    "TRUE_W = 3.0\n",
    "TRUE_B = 2.0\n",
    "\n",
    "NUM_EXAMPLES = 1000\n",
    "\n",
    "# A vector of random x values\n",
    "x = tf.random.normal(shape=[NUM_EXAMPLES])\n",
    "\n",
    "# Generate some noise\n",
    "noise = tf.random.normal(shape=[NUM_EXAMPLES])\n",
    "\n",
    "# Calculate y\n",
    "y = x * TRUE_W + TRUE_B + noise\n",
    "# Plot all the data\n",
    "import matplotlib.pyplot as plt\n",
    "\n",
    "plt.scatter(x, y, c=\"b\")\n",
    "plt.show()"
   ]
  },
  {
   "cell_type": "code",
   "execution_count": 6,
   "metadata": {},
   "outputs": [
    {
     "name": "stdout",
     "output_type": "stream",
     "text": [
      "Variables: (<tf.Variable 'b:0' shape=() dtype=float32, numpy=0.0>, <tf.Variable 'w:0' shape=(1,) dtype=float32, numpy=array([-0.6810153], dtype=float32)>)\n"
     ]
    }
   ],
   "source": [
    "# model\n",
    "class MyModel(tf.Module):\n",
    "  def __init__(self, **kwargs):\n",
    "    super().__init__(**kwargs)\n",
    "    # Initialize the weights to `5.0` and the bias to `0.0`\n",
    "    # In practice, these should be randomly initialized\n",
    "    #self.w = tf.Variable(5.0)\n",
    "    #self.b = tf.Variable(0.0)\n",
    "    self.w = tf.Variable(tf.random.normal([1]), name='w')\n",
    "    self.b = tf.Variable(0.0, name='b')\n",
    "\n",
    "  def __call__(self, x):\n",
    "    return self.w * x + self.b\n",
    "\n",
    "model = MyModel()\n",
    "\n",
    "# List the variables tf.modules's built-in variable aggregation.\n",
    "print(\"Variables:\", model.variables)\n"
   ]
  },
  {
   "cell_type": "code",
   "execution_count": 7,
   "metadata": {},
   "outputs": [
    {
     "data": {
      "text/plain": [
       "<matplotlib.collections.PathCollection at 0x1b1ed17c640>"
      ]
     },
     "execution_count": 7,
     "metadata": {},
     "output_type": "execute_result"
    },
    {
     "data": {
      "text/plain": [
       "<matplotlib.collections.PathCollection at 0x1b1ed142b80>"
      ]
     },
     "execution_count": 7,
     "metadata": {},
     "output_type": "execute_result"
    },
    {
     "data": {
      "image/png": "[encoded data removed]",
      "text/plain": [
       "<Figure size 432x288 with 1 Axes>"
      ]
     },
     "metadata": {
      "needs_background": "light"
     },
     "output_type": "display_data"
    },
    {
     "name": "stdout",
     "output_type": "stream",
     "text": [
      "Current loss: 17.577959\n"
     ]
    }
   ],
   "source": [
    "# loss function\n",
    "# This computes a single loss value for an entire batch\n",
    "def loss(target_y, predicted_y):\n",
    "  return tf.reduce_mean(tf.square(target_y - predicted_y))\n",
    "plt.scatter(x, y, c=\"b\")\n",
    "plt.scatter(x, model(x), c=\"r\")\n",
    "plt.show()\n",
    "\n",
    "print(\"Current loss: %1.6f\" % loss(model(x), y).numpy())"
   ]
  },
  {
   "cell_type": "code",
   "execution_count": 8,
   "metadata": {},
   "outputs": [],
   "source": [
    "# training loop\n",
    "# Given a callable model, inputs, outputs, and a learning rate...\n",
    "def train(model, x, y, learning_rate):\n",
    "\n",
    "  with tf.GradientTape() as t:\n",
    "    # Trainable variables are automatically tracked by GradientTape\n",
    "    current_loss = loss(y, model(x))\n",
    "\n",
    "  # Use GradientTape to calculate the gradients with respect to W and b\n",
    "  dw, db = t.gradient(current_loss, [model.w, model.b])\n",
    "\n",
    "  # Subtract the gradient scaled by the learning rate\n",
    "  model.w.assign_sub(learning_rate * dw)\n",
    "  model.b.assign_sub(learning_rate * db)"
   ]
  },
  {
   "cell_type": "code",
   "execution_count": 12,
   "metadata": {},
   "outputs": [],
   "source": [
    "model = MyModel()\n",
    "\n",
    "# Collect the history of W-values and b-values to plot later\n",
    "Ws, bs = [], []\n",
    "epochs = range(100)\n",
    "\n",
    "# Define a training loop\n",
    "def training_loop(model, x, y):\n",
    "\n",
    "  for epoch in epochs:\n",
    "    # Update the model with the single giant batch\n",
    "    train(model, x, y, learning_rate=0.1)\n",
    "\n",
    "    # Track this before I update\n",
    "    Ws.append(model.w.numpy())\n",
    "    bs.append(model.b.numpy())\n",
    "    current_loss = loss(y, model(x))\n",
    "\n",
    "    print(\"Epoch %2d: W=%1.2f b=%1.2f, loss=%2.5f\" %\n",
    "          (epoch, Ws[-1], bs[-1], current_loss))"
   ]
  },
  {
   "cell_type": "code",
   "execution_count": 13,
   "metadata": {},
   "outputs": [
    {
     "name": "stdout",
     "output_type": "stream",
     "text": [
      "Starting: W=-0.64 b=0.00, loss=17.26942\n",
      "Epoch  0: W=0.04 b=0.40, loss=11.68777\n",
      "Epoch  1: W=0.59 b=0.72, loss=8.02354\n",
      "Epoch  2: W=1.04 b=0.98, loss=5.61739\n",
      "Epoch  3: W=1.40 b=1.18, loss=4.03695\n",
      "Epoch  4: W=1.70 b=1.35, loss=2.99858\n",
      "Epoch  5: W=1.94 b=1.48, loss=2.31618\n",
      "Epoch  6: W=2.13 b=1.58, loss=1.86761\n",
      "Epoch  7: W=2.29 b=1.67, loss=1.57266\n",
      "Epoch  8: W=2.42 b=1.73, loss=1.37868\n",
      "Epoch  9: W=2.53 b=1.79, loss=1.25107\n",
      "Epoch 10: W=2.62 b=1.83, loss=1.16711\n",
      "Epoch 11: W=2.69 b=1.86, loss=1.11184\n",
      "Epoch 12: W=2.74 b=1.89, loss=1.07546\n",
      "Epoch 13: W=2.79 b=1.91, loss=1.05151\n",
      "Epoch 14: W=2.83 b=1.93, loss=1.03573\n",
      "Epoch 15: W=2.86 b=1.94, loss=1.02534\n",
      "Epoch 16: W=2.89 b=1.95, loss=1.01849\n",
      "Epoch 17: W=2.91 b=1.96, loss=1.01398\n",
      "Epoch 18: W=2.92 b=1.97, loss=1.01100\n",
      "Epoch 19: W=2.94 b=1.98, loss=1.00904\n",
      "Epoch 20: W=2.95 b=1.98, loss=1.00775\n",
      "Epoch 21: W=2.96 b=1.98, loss=1.00690\n",
      "Epoch 22: W=2.96 b=1.99, loss=1.00634\n",
      "Epoch 23: W=2.97 b=1.99, loss=1.00596\n",
      "Epoch 24: W=2.97 b=1.99, loss=1.00572\n",
      "Epoch 25: W=2.98 b=1.99, loss=1.00556\n",
      "Epoch 26: W=2.98 b=1.99, loss=1.00545\n",
      "Epoch 27: W=2.98 b=1.99, loss=1.00538\n",
      "Epoch 28: W=2.99 b=2.00, loss=1.00533\n",
      "Epoch 29: W=2.99 b=2.00, loss=1.00530\n",
      "Epoch 30: W=2.99 b=2.00, loss=1.00528\n",
      "Epoch 31: W=2.99 b=2.00, loss=1.00527\n",
      "Epoch 32: W=2.99 b=2.00, loss=1.00526\n",
      "Epoch 33: W=2.99 b=2.00, loss=1.00525\n",
      "Epoch 34: W=2.99 b=2.00, loss=1.00525\n",
      "Epoch 35: W=2.99 b=2.00, loss=1.00525\n",
      "Epoch 36: W=2.99 b=2.00, loss=1.00525\n",
      "Epoch 37: W=2.99 b=2.00, loss=1.00525\n",
      "Epoch 38: W=2.99 b=2.00, loss=1.00524\n",
      "Epoch 39: W=2.99 b=2.00, loss=1.00524\n",
      "Epoch 40: W=2.99 b=2.00, loss=1.00524\n",
      "Epoch 41: W=2.99 b=2.00, loss=1.00524\n",
      "Epoch 42: W=2.99 b=2.00, loss=1.00524\n",
      "Epoch 43: W=3.00 b=2.00, loss=1.00524\n",
      "Epoch 44: W=3.00 b=2.00, loss=1.00524\n",
      "Epoch 45: W=3.00 b=2.00, loss=1.00524\n",
      "Epoch 46: W=3.00 b=2.00, loss=1.00524\n",
      "Epoch 47: W=3.00 b=2.00, loss=1.00524\n",
      "Epoch 48: W=3.00 b=2.00, loss=1.00524\n",
      "Epoch 49: W=3.00 b=2.00, loss=1.00524\n",
      "Epoch 50: W=3.00 b=2.00, loss=1.00524\n",
      "Epoch 51: W=3.00 b=2.00, loss=1.00524\n",
      "Epoch 52: W=3.00 b=2.00, loss=1.00524\n",
      "Epoch 53: W=3.00 b=2.00, loss=1.00524\n",
      "Epoch 54: W=3.00 b=2.00, loss=1.00524\n",
      "Epoch 55: W=3.00 b=2.00, loss=1.00524\n",
      "Epoch 56: W=3.00 b=2.00, loss=1.00524\n",
      "Epoch 57: W=3.00 b=2.00, loss=1.00524\n",
      "Epoch 58: W=3.00 b=2.00, loss=1.00524\n",
      "Epoch 59: W=3.00 b=2.00, loss=1.00524\n",
      "Epoch 60: W=3.00 b=2.00, loss=1.00524\n",
      "Epoch 61: W=3.00 b=2.00, loss=1.00524\n",
      "Epoch 62: W=3.00 b=2.00, loss=1.00524\n",
      "Epoch 63: W=3.00 b=2.00, loss=1.00524\n",
      "Epoch 64: W=3.00 b=2.00, loss=1.00524\n",
      "Epoch 65: W=3.00 b=2.00, loss=1.00524\n",
      "Epoch 66: W=3.00 b=2.00, loss=1.00524\n",
      "Epoch 67: W=3.00 b=2.00, loss=1.00524\n",
      "Epoch 68: W=3.00 b=2.00, loss=1.00524\n",
      "Epoch 69: W=3.00 b=2.00, loss=1.00524\n",
      "Epoch 70: W=3.00 b=2.00, loss=1.00524\n",
      "Epoch 71: W=3.00 b=2.00, loss=1.00524\n",
      "Epoch 72: W=3.00 b=2.00, loss=1.00524\n",
      "Epoch 73: W=3.00 b=2.00, loss=1.00524\n",
      "Epoch 74: W=3.00 b=2.00, loss=1.00524\n",
      "Epoch 75: W=3.00 b=2.00, loss=1.00524\n",
      "Epoch 76: W=3.00 b=2.00, loss=1.00524\n",
      "Epoch 77: W=3.00 b=2.00, loss=1.00524\n",
      "Epoch 78: W=3.00 b=2.00, loss=1.00524\n",
      "Epoch 79: W=3.00 b=2.00, loss=1.00524\n",
      "Epoch 80: W=3.00 b=2.00, loss=1.00524\n",
      "Epoch 81: W=3.00 b=2.00, loss=1.00524\n",
      "Epoch 82: W=3.00 b=2.00, loss=1.00524\n",
      "Epoch 83: W=3.00 b=2.00, loss=1.00524\n",
      "Epoch 84: W=3.00 b=2.00, loss=1.00524\n",
      "Epoch 85: W=3.00 b=2.00, loss=1.00524\n",
      "Epoch 86: W=3.00 b=2.00, loss=1.00524\n",
      "Epoch 87: W=3.00 b=2.00, loss=1.00524\n",
      "Epoch 88: W=3.00 b=2.00, loss=1.00524\n",
      "Epoch 89: W=3.00 b=2.00, loss=1.00524\n",
      "Epoch 90: W=3.00 b=2.00, loss=1.00524\n",
      "Epoch 91: W=3.00 b=2.00, loss=1.00524\n",
      "Epoch 92: W=3.00 b=2.00, loss=1.00524\n",
      "Epoch 93: W=3.00 b=2.00, loss=1.00524\n",
      "Epoch 94: W=3.00 b=2.00, loss=1.00524\n",
      "Epoch 95: W=3.00 b=2.00, loss=1.00524\n",
      "Epoch 96: W=3.00 b=2.00, loss=1.00524\n",
      "Epoch 97: W=3.00 b=2.00, loss=1.00524\n",
      "Epoch 98: W=3.00 b=2.00, loss=1.00524\n",
      "Epoch 99: W=3.00 b=2.00, loss=1.00524\n"
     ]
    },
    {
     "data": {
      "text/plain": [
       "[<matplotlib.lines.Line2D at 0x1b1ed33d4f0>,\n",
       " <matplotlib.lines.Line2D at 0x1b1ed33d5b0>]"
      ]
     },
     "execution_count": 13,
     "metadata": {},
     "output_type": "execute_result"
    },
    {
     "data": {
      "text/plain": [
       "[<matplotlib.lines.Line2D at 0x1b1ed33dca0>,\n",
       " <matplotlib.lines.Line2D at 0x1b1ed33dcd0>]"
      ]
     },
     "execution_count": 13,
     "metadata": {},
     "output_type": "execute_result"
    },
    {
     "data": {
      "text/plain": [
       "<matplotlib.legend.Legend at 0x1b1ed33dac0>"
      ]
     },
     "execution_count": 13,
     "metadata": {},
     "output_type": "execute_result"
    },
    {
     "data": {
      "image/png": "[encoded data removed]",
      "text/plain": [
       "<Figure size 432x288 with 1 Axes>"
      ]
     },
     "metadata": {
      "needs_background": "light"
     },
     "output_type": "display_data"
    }
   ],
   "source": [
    "print(\"Starting: W=%1.2f b=%1.2f, loss=%2.5f\" %\n",
    "      (model.w, model.b, loss(y, model(x))))\n",
    "\n",
    "# Do the training\n",
    "training_loop(model, x, y)\n",
    "\n",
    "# Plot it\n",
    "plt.plot(epochs, Ws, \"r\",\n",
    "         epochs, bs, \"b\")\n",
    "\n",
    "plt.plot([TRUE_W] * len(epochs), \"r--\",\n",
    "         [TRUE_B] * len(epochs), \"b--\")\n",
    "\n",
    "plt.legend([\"W\", \"b\", \"True W\", \"True b\"])\n",
    "plt.show()"
   ]
  },
  {
   "cell_type": "code",
   "execution_count": 14,
   "metadata": {
    "scrolled": true
   },
   "outputs": [
    {
     "data": {
      "text/plain": [
       "<matplotlib.collections.PathCollection at 0x1b1ed3a8b50>"
      ]
     },
     "execution_count": 14,
     "metadata": {},
     "output_type": "execute_result"
    },
    {
     "data": {
      "text/plain": [
       "<matplotlib.collections.PathCollection at 0x1b1ed3b7070>"
      ]
     },
     "execution_count": 14,
     "metadata": {},
     "output_type": "execute_result"
    },
    {
     "data": {
      "image/png": "[encoded data removed]",
      "text/plain": [
       "<Figure size 432x288 with 1 Axes>"
      ]
     },
     "metadata": {
      "needs_background": "light"
     },
     "output_type": "display_data"
    },
    {
     "name": "stdout",
     "output_type": "stream",
     "text": [
      "Current loss: 1.005243\n"
     ]
    }
   ],
   "source": [
    "# Visualize how the trained model performs\n",
    "plt.scatter(x, y, c=\"b\")\n",
    "plt.scatter(x, model(x), c=\"r\")\n",
    "plt.show()\n",
    "\n",
    "print(\"Current loss: %1.6f\" % loss(model(x), y).numpy())\n"
   ]
  },
  {
   "cell_type": "code",
   "execution_count": 33,
   "metadata": {
    "scrolled": true
   },
   "outputs": [
    {
     "name": "stdout",
     "output_type": "stream",
     "text": [
      "Epoch  0: W=2.09 b=0.40, loss=4.33455\n",
      "Epoch  1: W=2.26 b=0.72, loss=3.15112\n",
      "Epoch  2: W=2.39 b=0.98, loss=2.38864\n",
      "Epoch  3: W=2.51 b=1.18, loss=1.89728\n",
      "Epoch  4: W=2.60 b=1.35, loss=1.58057\n",
      "Epoch  5: W=2.67 b=1.48, loss=1.37639\n",
      "Epoch  6: W=2.73 b=1.58, loss=1.24472\n",
      "Epoch  7: W=2.78 b=1.66, loss=1.15980\n",
      "Epoch  8: W=2.82 b=1.73, loss=1.10502\n",
      "Epoch  9: W=2.85 b=1.78, loss=1.06967\n",
      "Epoch 10: W=2.88 b=1.83, loss=1.04686\n",
      "Epoch 11: W=2.90 b=1.86, loss=1.03213\n",
      "Epoch 12: W=2.92 b=1.89, loss=1.02261\n",
      "Epoch 13: W=2.93 b=1.91, loss=1.01647\n",
      "Epoch 14: W=2.94 b=1.93, loss=1.01250\n",
      "Epoch 15: W=2.95 b=1.94, loss=1.00994\n",
      "Epoch 16: W=2.96 b=1.95, loss=1.00828\n",
      "Epoch 17: W=2.97 b=1.96, loss=1.00721\n",
      "Epoch 18: W=2.97 b=1.97, loss=1.00652\n",
      "Epoch 19: W=2.98 b=1.98, loss=1.00607\n",
      "Epoch 20: W=2.98 b=1.98, loss=1.00578\n",
      "Epoch 21: W=2.98 b=1.98, loss=1.00559\n",
      "Epoch 22: W=2.99 b=1.99, loss=1.00547\n",
      "Epoch 23: W=2.99 b=1.99, loss=1.00539\n",
      "Epoch 24: W=2.99 b=1.99, loss=1.00534\n",
      "Epoch 25: W=2.99 b=1.99, loss=1.00530\n",
      "Epoch 26: W=2.99 b=1.99, loss=1.00528\n",
      "Epoch 27: W=2.99 b=1.99, loss=1.00527\n",
      "Epoch 28: W=2.99 b=2.00, loss=1.00526\n",
      "Epoch 29: W=2.99 b=2.00, loss=1.00525\n",
      "Epoch 30: W=2.99 b=2.00, loss=1.00525\n",
      "Epoch 31: W=2.99 b=2.00, loss=1.00525\n",
      "Epoch 32: W=2.99 b=2.00, loss=1.00525\n",
      "Epoch 33: W=2.99 b=2.00, loss=1.00525\n",
      "Epoch 34: W=2.99 b=2.00, loss=1.00524\n",
      "Epoch 35: W=2.99 b=2.00, loss=1.00524\n",
      "Epoch 36: W=2.99 b=2.00, loss=1.00524\n",
      "Epoch 37: W=3.00 b=2.00, loss=1.00524\n",
      "Epoch 38: W=3.00 b=2.00, loss=1.00524\n",
      "Epoch 39: W=3.00 b=2.00, loss=1.00524\n",
      "Epoch 40: W=3.00 b=2.00, loss=1.00524\n",
      "Epoch 41: W=3.00 b=2.00, loss=1.00524\n",
      "Epoch 42: W=3.00 b=2.00, loss=1.00524\n",
      "Epoch 43: W=3.00 b=2.00, loss=1.00524\n",
      "Epoch 44: W=3.00 b=2.00, loss=1.00524\n",
      "Epoch 45: W=3.00 b=2.00, loss=1.00524\n",
      "Epoch 46: W=3.00 b=2.00, loss=1.00524\n",
      "Epoch 47: W=3.00 b=2.00, loss=1.00524\n",
      "Epoch 48: W=3.00 b=2.00, loss=1.00524\n",
      "Epoch 49: W=3.00 b=2.00, loss=1.00524\n",
      "Epoch 50: W=3.00 b=2.00, loss=1.00524\n",
      "Epoch 51: W=3.00 b=2.00, loss=1.00524\n",
      "Epoch 52: W=3.00 b=2.00, loss=1.00524\n",
      "Epoch 53: W=3.00 b=2.00, loss=1.00524\n",
      "Epoch 54: W=3.00 b=2.00, loss=1.00524\n",
      "Epoch 55: W=3.00 b=2.00, loss=1.00524\n",
      "Epoch 56: W=3.00 b=2.00, loss=1.00524\n",
      "Epoch 57: W=3.00 b=2.00, loss=1.00524\n",
      "Epoch 58: W=3.00 b=2.00, loss=1.00524\n",
      "Epoch 59: W=3.00 b=2.00, loss=1.00524\n",
      "Epoch 60: W=3.00 b=2.00, loss=1.00524\n",
      "Epoch 61: W=3.00 b=2.00, loss=1.00524\n",
      "Epoch 62: W=3.00 b=2.00, loss=1.00524\n",
      "Epoch 63: W=3.00 b=2.00, loss=1.00524\n",
      "Epoch 64: W=3.00 b=2.00, loss=1.00524\n",
      "Epoch 65: W=3.00 b=2.00, loss=1.00524\n",
      "Epoch 66: W=3.00 b=2.00, loss=1.00524\n",
      "Epoch 67: W=3.00 b=2.00, loss=1.00524\n",
      "Epoch 68: W=3.00 b=2.00, loss=1.00524\n",
      "Epoch 69: W=3.00 b=2.00, loss=1.00524\n",
      "Epoch 70: W=3.00 b=2.00, loss=1.00524\n",
      "Epoch 71: W=3.00 b=2.00, loss=1.00524\n",
      "Epoch 72: W=3.00 b=2.00, loss=1.00524\n",
      "Epoch 73: W=3.00 b=2.00, loss=1.00524\n",
      "Epoch 74: W=3.00 b=2.00, loss=1.00524\n",
      "Epoch 75: W=3.00 b=2.00, loss=1.00524\n",
      "Epoch 76: W=3.00 b=2.00, loss=1.00524\n",
      "Epoch 77: W=3.00 b=2.00, loss=1.00524\n",
      "Epoch 78: W=3.00 b=2.00, loss=1.00524\n",
      "Epoch 79: W=3.00 b=2.00, loss=1.00524\n",
      "Epoch 80: W=3.00 b=2.00, loss=1.00524\n",
      "Epoch 81: W=3.00 b=2.00, loss=1.00524\n",
      "Epoch 82: W=3.00 b=2.00, loss=1.00524\n",
      "Epoch 83: W=3.00 b=2.00, loss=1.00524\n",
      "Epoch 84: W=3.00 b=2.00, loss=1.00524\n",
      "Epoch 85: W=3.00 b=2.00, loss=1.00524\n",
      "Epoch 86: W=3.00 b=2.00, loss=1.00524\n",
      "Epoch 87: W=3.00 b=2.00, loss=1.00524\n",
      "Epoch 88: W=3.00 b=2.00, loss=1.00524\n",
      "Epoch 89: W=3.00 b=2.00, loss=1.00524\n",
      "Epoch 90: W=3.00 b=2.00, loss=1.00524\n",
      "Epoch 91: W=3.00 b=2.00, loss=1.00524\n",
      "Epoch 92: W=3.00 b=2.00, loss=1.00524\n",
      "Epoch 93: W=3.00 b=2.00, loss=1.00524\n",
      "Epoch 94: W=3.00 b=2.00, loss=1.00524\n",
      "Epoch 95: W=3.00 b=2.00, loss=1.00524\n",
      "Epoch 96: W=3.00 b=2.00, loss=1.00524\n",
      "Epoch 97: W=3.00 b=2.00, loss=1.00524\n",
      "Epoch 98: W=3.00 b=2.00, loss=1.00524\n",
      "Epoch 99: W=3.00 b=2.00, loss=1.00524\n"
     ]
    }
   ],
   "source": [
    "# same solution but with keras\n",
    "# model\n",
    "class MyModelKeras(tf.keras.Model):\n",
    "    def __init__(self, **kwargs):\n",
    "        super().__init__(**kwargs)\n",
    "        # Initialize the weights to `5.0` and the bias to `0.0`\n",
    "        # In practice, these should be randomly initialized\n",
    "        #self.w = tf.Variable(5.0)\n",
    "        #self.b = tf.Variable(0.0)\n",
    "        self.w = tf.Variable(tf.random.normal([1]), name='w')\n",
    "        self.b = tf.Variable(0.0, name='b')\n",
    "\n",
    "    def __call__(self, x,**kwargs):\n",
    "        return self.w * x + self.b\n",
    "\n",
    "keras_model = MyModelKeras()\n",
    "\n",
    "# Reuse the training loop with a Keras model\n",
    "training_loop(keras_model, x, y)\n",
    "\n",
    "# You can also save a checkpoint using Keras's built-in support\n",
    "keras_model.save_weights(\"my_checkpoint\")\n"
   ]
  },
  {
   "cell_type": "code",
   "execution_count": 34,
   "metadata": {},
   "outputs": [],
   "source": [
    "# shortcut using built-in keras features\n",
    "keras_model = MyModelKeras()\n",
    "\n",
    "# compile sets the training paramaeters\n",
    "keras_model.compile(\n",
    "    # By default, fit() uses tf.function().  You can\n",
    "    # turn that off for debugging, but it is on now.\n",
    "    run_eagerly=False,\n",
    "\n",
    "    # Using a built-in optimizer, configuring as an object\n",
    "    optimizer=tf.keras.optimizers.SGD(learning_rate=0.1),\n",
    "\n",
    "    # Keras comes with built-in MSE error\n",
    "    # However, you could use the loss function\n",
    "    # defined above\n",
    "    loss=tf.keras.losses.mean_squared_error,\n",
    ")"
   ]
  },
  {
   "cell_type": "code",
   "execution_count": 35,
   "metadata": {},
   "outputs": [
    {
     "name": "stdout",
     "output_type": "stream",
     "text": [
      "1000\n",
      "Epoch 1/100\n",
      "1/1 [==============================] - 0s 8ms/step - loss: 20.1138\n",
      "Epoch 2/100\n",
      "1/1 [==============================] - 0s 0s/step - loss: 13.5735\n",
      "Epoch 3/100\n",
      "1/1 [==============================] - 0s 0s/step - loss: 9.2738\n",
      "Epoch 4/100\n",
      "1/1 [==============================] - 0s 2ms/step - loss: 6.4463\n",
      "Epoch 5/100\n",
      "1/1 [==============================] - 0s 2ms/step - loss: 4.5865\n",
      "Epoch 6/100\n",
      "1/1 [==============================] - 0s 2ms/step - loss: 3.3630\n",
      "Epoch 7/100\n",
      "1/1 [==============================] - 0s 3ms/step - loss: 2.5578\n",
      "Epoch 8/100\n",
      "1/1 [==============================] - 0s 0s/step - loss: 2.0278\n",
      "Epoch 9/100\n",
      "1/1 [==============================] - 0s 2ms/step - loss: 1.6789\n",
      "Epoch 10/100\n",
      "1/1 [==============================] - 0s 0s/step - loss: 1.4491\n",
      "Epoch 11/100\n",
      "1/1 [==============================] - 0s 2ms/step - loss: 1.2978\n",
      "Epoch 12/100\n",
      "1/1 [==============================] - 0s 998us/step - loss: 1.1981\n",
      "Epoch 13/100\n",
      "1/1 [==============================] - 0s 0s/step - loss: 1.1324\n",
      "Epoch 14/100\n",
      "1/1 [==============================] - 0s 2ms/step - loss: 1.0891\n",
      "Epoch 15/100\n",
      "1/1 [==============================] - 0s 0s/step - loss: 1.0605\n",
      "Epoch 16/100\n",
      "1/1 [==============================] - 0s 2ms/step - loss: 1.0417\n",
      "Epoch 17/100\n",
      "1/1 [==============================] - 0s 3ms/step - loss: 1.0293\n",
      "Epoch 18/100\n",
      "1/1 [==============================] - 0s 2ms/step - loss: 1.0211\n",
      "Epoch 19/100\n",
      "1/1 [==============================] - 0s 2ms/step - loss: 1.0157\n",
      "Epoch 20/100\n",
      "1/1 [==============================] - 0s 4ms/step - loss: 1.0122\n",
      "Epoch 21/100\n",
      "1/1 [==============================] - 0s 0s/step - loss: 1.0098\n",
      "Epoch 22/100\n",
      "1/1 [==============================] - 0s 4ms/step - loss: 1.0083\n",
      "Epoch 23/100\n",
      "1/1 [==============================] - 0s 2ms/step - loss: 1.0072\n",
      "Epoch 24/100\n",
      "1/1 [==============================] - 0s 0s/step - loss: 1.0066\n",
      "Epoch 25/100\n",
      "1/1 [==============================] - 0s 4ms/step - loss: 1.0061\n",
      "Epoch 26/100\n",
      "1/1 [==============================] - 0s 994us/step - loss: 1.0058\n",
      "Epoch 27/100\n",
      "1/1 [==============================] - 0s 2ms/step - loss: 1.0056\n",
      "Epoch 28/100\n",
      "1/1 [==============================] - 0s 2ms/step - loss: 1.0055\n",
      "Epoch 29/100\n",
      "1/1 [==============================] - 0s 3ms/step - loss: 1.0054\n",
      "Epoch 30/100\n",
      "1/1 [==============================] - 0s 3ms/step - loss: 1.0054\n",
      "Epoch 31/100\n",
      "1/1 [==============================] - 0s 3ms/step - loss: 1.0053\n",
      "Epoch 32/100\n",
      "1/1 [==============================] - 0s 2ms/step - loss: 1.0053\n",
      "Epoch 33/100\n",
      "1/1 [==============================] - 0s 5ms/step - loss: 1.0053\n",
      "Epoch 34/100\n",
      "1/1 [==============================] - 0s 0s/step - loss: 1.0053\n",
      "Epoch 35/100\n",
      "1/1 [==============================] - 0s 1ms/step - loss: 1.0053\n",
      "Epoch 36/100\n",
      "1/1 [==============================] - 0s 2ms/step - loss: 1.0053\n",
      "Epoch 37/100\n",
      "1/1 [==============================] - 0s 2ms/step - loss: 1.0052\n",
      "Epoch 38/100\n",
      "1/1 [==============================] - 0s 1ms/step - loss: 1.0052\n",
      "Epoch 39/100\n",
      "1/1 [==============================] - 0s 3ms/step - loss: 1.0052\n",
      "Epoch 40/100\n",
      "1/1 [==============================] - 0s 3ms/step - loss: 1.0052\n",
      "Epoch 41/100\n",
      "1/1 [==============================] - 0s 3ms/step - loss: 1.0052\n",
      "Epoch 42/100\n",
      "1/1 [==============================] - 0s 5ms/step - loss: 1.0052\n",
      "Epoch 43/100\n",
      "1/1 [==============================] - 0s 2ms/step - loss: 1.0052\n",
      "Epoch 44/100\n",
      "1/1 [==============================] - 0s 3ms/step - loss: 1.0052\n",
      "Epoch 45/100\n",
      "1/1 [==============================] - 0s 3ms/step - loss: 1.0052\n",
      "Epoch 46/100\n",
      "1/1 [==============================] - 0s 3ms/step - loss: 1.0052\n",
      "Epoch 47/100\n",
      "1/1 [==============================] - 0s 5ms/step - loss: 1.0052\n",
      "Epoch 48/100\n",
      "1/1 [==============================] - 0s 5ms/step - loss: 1.0052\n",
      "Epoch 49/100\n",
      "1/1 [==============================] - 0s 3ms/step - loss: 1.0052\n",
      "Epoch 50/100\n",
      "1/1 [==============================] - 0s 4ms/step - loss: 1.0052\n",
      "Epoch 51/100\n",
      "1/1 [==============================] - 0s 3ms/step - loss: 1.0052\n",
      "Epoch 52/100\n",
      "1/1 [==============================] - 0s 2ms/step - loss: 1.0052\n",
      "Epoch 53/100\n",
      "1/1 [==============================] - 0s 3ms/step - loss: 1.0052\n",
      "Epoch 54/100\n",
      "1/1 [==============================] - 0s 5ms/step - loss: 1.0052\n",
      "Epoch 55/100\n",
      "1/1 [==============================] - 0s 3ms/step - loss: 1.0052\n",
      "Epoch 56/100\n",
      "1/1 [==============================] - 0s 7ms/step - loss: 1.0052\n",
      "Epoch 57/100\n",
      "1/1 [==============================] - 0s 2ms/step - loss: 1.0052\n",
      "Epoch 58/100\n",
      "1/1 [==============================] - 0s 3ms/step - loss: 1.0052\n",
      "Epoch 59/100\n",
      "1/1 [==============================] - 0s 3ms/step - loss: 1.0052\n",
      "Epoch 60/100\n",
      "1/1 [==============================] - 0s 0s/step - loss: 1.0052\n",
      "Epoch 61/100\n",
      "1/1 [==============================] - 0s 3ms/step - loss: 1.0052\n",
      "Epoch 62/100\n",
      "1/1 [==============================] - 0s 5ms/step - loss: 1.0052\n",
      "Epoch 63/100\n",
      "1/1 [==============================] - 0s 3ms/step - loss: 1.0052\n",
      "Epoch 64/100\n",
      "1/1 [==============================] - 0s 994us/step - loss: 1.0052\n",
      "Epoch 65/100\n",
      "1/1 [==============================] - 0s 0s/step - loss: 1.0052\n",
      "Epoch 66/100\n",
      "1/1 [==============================] - 0s 2ms/step - loss: 1.0052\n",
      "Epoch 67/100\n",
      "1/1 [==============================] - 0s 3ms/step - loss: 1.0052\n",
      "Epoch 68/100\n",
      "1/1 [==============================] - 0s 3ms/step - loss: 1.0052\n",
      "Epoch 69/100\n",
      "1/1 [==============================] - 0s 2ms/step - loss: 1.0052\n",
      "Epoch 70/100\n",
      "1/1 [==============================] - 0s 2ms/step - loss: 1.0052\n",
      "Epoch 71/100\n",
      "1/1 [==============================] - 0s 3ms/step - loss: 1.0052\n",
      "Epoch 72/100\n",
      "1/1 [==============================] - 0s 2ms/step - loss: 1.0052\n",
      "Epoch 73/100\n",
      "1/1 [==============================] - 0s 3ms/step - loss: 1.0052\n",
      "Epoch 74/100\n",
      "1/1 [==============================] - 0s 2ms/step - loss: 1.0052\n",
      "Epoch 75/100\n",
      "1/1 [==============================] - 0s 4ms/step - loss: 1.0052\n",
      "Epoch 76/100\n",
      "1/1 [==============================] - 0s 3ms/step - loss: 1.0052\n",
      "Epoch 77/100\n",
      "1/1 [==============================] - 0s 2ms/step - loss: 1.0052\n",
      "Epoch 78/100\n",
      "1/1 [==============================] - 0s 3ms/step - loss: 1.0052\n",
      "Epoch 79/100\n",
      "1/1 [==============================] - 0s 2ms/step - loss: 1.0052\n",
      "Epoch 80/100\n",
      "1/1 [==============================] - 0s 1000us/step - loss: 1.0052\n",
      "Epoch 81/100\n",
      "1/1 [==============================] - 0s 3ms/step - loss: 1.0052\n",
      "Epoch 82/100\n",
      "1/1 [==============================] - 0s 2ms/step - loss: 1.0052\n",
      "Epoch 83/100\n",
      "1/1 [==============================] - 0s 2ms/step - loss: 1.0052\n",
      "Epoch 84/100\n",
      "1/1 [==============================] - 0s 2ms/step - loss: 1.0052\n",
      "Epoch 85/100\n",
      "1/1 [==============================] - 0s 4ms/step - loss: 1.0052\n",
      "Epoch 86/100\n",
      "1/1 [==============================] - 0s 3ms/step - loss: 1.0052\n",
      "Epoch 87/100\n",
      "1/1 [==============================] - 0s 2ms/step - loss: 1.0052\n",
      "Epoch 88/100\n",
      "1/1 [==============================] - 0s 997us/step - loss: 1.0052\n",
      "Epoch 89/100\n",
      "1/1 [==============================] - 0s 2ms/step - loss: 1.0052\n",
      "Epoch 90/100\n",
      "1/1 [==============================] - 0s 2ms/step - loss: 1.0052\n",
      "Epoch 91/100\n",
      "1/1 [==============================] - 0s 2ms/step - loss: 1.0052\n",
      "Epoch 92/100\n",
      "1/1 [==============================] - 0s 2ms/step - loss: 1.0052\n",
      "Epoch 93/100\n",
      "1/1 [==============================] - 0s 2ms/step - loss: 1.0052\n",
      "Epoch 94/100\n",
      "1/1 [==============================] - 0s 3ms/step - loss: 1.0052\n",
      "Epoch 95/100\n",
      "1/1 [==============================] - 0s 3ms/step - loss: 1.0052\n",
      "Epoch 96/100\n",
      "1/1 [==============================] - 0s 4ms/step - loss: 1.0052\n",
      "Epoch 97/100\n",
      "1/1 [==============================] - 0s 2ms/step - loss: 1.0052\n",
      "Epoch 98/100\n",
      "1/1 [==============================] - 0s 997us/step - loss: 1.0052\n",
      "Epoch 99/100\n",
      "1/1 [==============================] - 0s 2ms/step - loss: 1.0052\n",
      "Epoch 100/100\n",
      "1/1 [==============================] - 0s 2ms/step - loss: 1.0052\n"
     ]
    },
    {
     "data": {
      "text/plain": [
       "<tensorflow.python.keras.callbacks.History at 0x1b1ed905af0>"
      ]
     },
     "execution_count": 35,
     "metadata": {},
     "output_type": "execute_result"
    }
   ],
   "source": [
    "# keras fit expects batched data or complete dataset as NumPy array which later byy default gets chopped to batch size of 32\n",
    "print(x.shape[0])\n",
    "keras_model.fit(x, y, epochs=100, batch_size=1000)\n"
   ]
  },
  {
   "cell_type": "code",
   "execution_count": null,
   "metadata": {},
   "outputs": [],
   "source": []
  }
 ],
 "metadata": {
  "kernelspec": {
   "display_name": "Python 3",
   "language": "python",
   "name": "python3"
  },
  "language_info": {
   "codemirror_mode": {
    "name": "ipython",
    "version": 3
   },
   "file_extension": ".py",
   "mimetype": "text/x-python",
   "name": "python",
   "nbconvert_exporter": "python",
   "pygments_lexer": "ipython3",
   "version": "3.8.5"
  }
 },
 "nbformat": 4,
 "nbformat_minor": 4
}
