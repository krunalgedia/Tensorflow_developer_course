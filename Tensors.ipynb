{
 "cells": [
  {
   "cell_type": "code",
   "execution_count": 3,
   "metadata": {},
   "outputs": [],
   "source": [
    "import tensorflow as tf\n",
    "import numpy as np\n",
    "from IPython.core.interactiveshell import InteractiveShell\n",
    "InteractiveShell.ast_node_interactivity = 'all'"
   ]
  },
  {
   "cell_type": "code",
   "execution_count": 75,
   "metadata": {},
   "outputs": [
    {
     "data": {
      "text/plain": [
       "<tf.Tensor: shape=(), dtype=int32, numpy=0>"
      ]
     },
     "execution_count": 75,
     "metadata": {},
     "output_type": "execute_result"
    },
    {
     "data": {
      "text/plain": [
       "<tf.Tensor: shape=(3,), dtype=float32, numpy=array([2., 3., 4.], dtype=float32)>"
      ]
     },
     "execution_count": 75,
     "metadata": {},
     "output_type": "execute_result"
    },
    {
     "data": {
      "text/plain": [
       "<tf.Tensor: shape=(2, 2), dtype=float32, numpy=\n",
       "array([[1., 2.],\n",
       "       [3., 4.]], dtype=float32)>"
      ]
     },
     "execution_count": 75,
     "metadata": {},
     "output_type": "execute_result"
    },
    {
     "data": {
      "text/plain": [
       "array([2., 3., 4.], dtype=float32)"
      ]
     },
     "execution_count": 75,
     "metadata": {},
     "output_type": "execute_result"
    },
    {
     "data": {
      "text/plain": [
       "array([2., 3., 4.], dtype=float32)"
      ]
     },
     "execution_count": 75,
     "metadata": {},
     "output_type": "execute_result"
    },
    {
     "data": {
      "text/plain": [
       "<tf.Tensor: shape=(3,), dtype=float32, numpy=array([2., 3., 4.], dtype=float32)>"
      ]
     },
     "execution_count": 75,
     "metadata": {},
     "output_type": "execute_result"
    }
   ],
   "source": [
    "# tensor are nD arrays with uniform \"dtype\" So all elemnets are of same dtypr in ths list\n",
    "# check dtype of tensor as tf.\n",
    "\n",
    "# rank 0 tensor/scalar\n",
    "tf.constant(0)\n",
    "\n",
    "# rank 1 tensor\n",
    "tf.constant([2.0,3.0,4.0])\n",
    "\n",
    "# rank 2 tensor -> 2 axis. If you want to be specific, you can put dtype also\n",
    "tf.constant([[1,2],\n",
    "             [3,4]], dtype=tf.float32)\n",
    "\n",
    "# rank 3 tensor\n",
    "rank_3_tensor = tf.constant(\n",
    "    [\n",
    "     [[1,2,4],\n",
    "      [2,1,4]],\n",
    "     [[2,3,4],\n",
    "      [4,3,2]],\n",
    "     [[5,6,7],\n",
    "      [7,6,5]]\n",
    "     ])\n",
    "    \n",
    "# tensor -> numpy using np.array(tensor) OR tensor.numpy()    \n",
    "np.array(tf.constant([2.0,3.0,4.0]))\n",
    "tf.constant([2.0,3.0,4.0]).numpy()\n",
    "\n",
    "# numpy ->array using tf.convert_to_tensor\n",
    "tf.convert_to_tensor(tf.constant([2.0,3.0,4.0]).numpy())\n",
    "\n",
    "# if you don't specify dtype, it choses it from data. int goes to tf.int32 and float to tf,float32\n",
    "# use tf.cast(tensor,dtype) to change it later"
   ]
  },
  {
   "cell_type": "code",
   "execution_count": 22,
   "metadata": {},
   "outputs": [
    {
     "data": {
      "text/plain": [
       "<tf.Tensor: shape=(), dtype=int32, numpy=4>"
      ]
     },
     "execution_count": 22,
     "metadata": {},
     "output_type": "execute_result"
    },
    {
     "data": {
      "text/plain": [
       "<tf.Tensor: shape=(2,), dtype=int64, numpy=array([1, 1], dtype=int64)>"
      ]
     },
     "execution_count": 22,
     "metadata": {},
     "output_type": "execute_result"
    },
    {
     "data": {
      "text/plain": [
       "<tf.Tensor: shape=(2, 2), dtype=float32, numpy=\n",
       "array([[0.26894143, 0.7310586 ],\n",
       "       [0.26894143, 0.7310586 ]], dtype=float32)>"
      ]
     },
     "execution_count": 22,
     "metadata": {},
     "output_type": "execute_result"
    }
   ],
   "source": [
    "# basic math ops\n",
    "a = tf.constant([[1,2],\n",
    "                 [3,4]])\n",
    "b = tf.ones([2,2],dtype=tf.int32)\n",
    "#tf.add(a,b) or a + b\n",
    "#tf.multiply(a,b) or a * b element wise\n",
    "#tf matmul(a,b) or a @ b\n",
    "\n",
    "#largest value\n",
    "tf.reduce_max(a)\n",
    "\n",
    "#index of largest value\n",
    "tf.argmax(a)\n",
    "\n",
    "# compute softmax\n",
    "tf.nn.softmax(tf.cast(a,tf.float32))"
   ]
  },
  {
   "cell_type": "code",
   "execution_count": 34,
   "metadata": {},
   "outputs": [
    {
     "data": {
      "text/plain": [
       "tf.float32"
      ]
     },
     "execution_count": 34,
     "metadata": {},
     "output_type": "execute_result"
    },
    {
     "data": {
      "text/plain": [
       "4"
      ]
     },
     "execution_count": 34,
     "metadata": {},
     "output_type": "execute_result"
    },
    {
     "data": {
      "text/plain": [
       "TensorShape([3, 2, 4, 5])"
      ]
     },
     "execution_count": 34,
     "metadata": {},
     "output_type": "execute_result"
    },
    {
     "data": {
      "text/plain": [
       "5"
      ]
     },
     "execution_count": 34,
     "metadata": {},
     "output_type": "execute_result"
    },
    {
     "data": {
      "text/plain": [
       "120"
      ]
     },
     "execution_count": 34,
     "metadata": {},
     "output_type": "execute_result"
    },
    {
     "data": {
      "text/plain": [
       "array(120)"
      ]
     },
     "execution_count": 34,
     "metadata": {},
     "output_type": "execute_result"
    }
   ],
   "source": [
    "# shape -> length of each dimension of a tensor\n",
    "# rank -> number of dimension\n",
    "# axis/dim -> particular dim\n",
    "# size -> total number of elements\n",
    "\n",
    "rank_4_tensor = tf.zeros([3,2,4,5])\n",
    "# rank 4 -> axis=0,1,2,3 (or -1)\n",
    "# batch, width, height, features\n",
    "\n",
    "rank_4_tensor.dtype\n",
    "rank_4_tensor.ndim\n",
    "rank_4_tensor.shape\n",
    "rank_4_tensor.shape[3]\n",
    "tf.size(rank_4_tensor).numpy()\n",
    "np.array(tf.size(rank_4_tensor))"
   ]
  },
  {
   "cell_type": "code",
   "execution_count": 54,
   "metadata": {},
   "outputs": [
    {
     "data": {
      "text/plain": [
       "[0, 1]"
      ]
     },
     "execution_count": 54,
     "metadata": {},
     "output_type": "execute_result"
    },
    {
     "data": {
      "text/plain": [
       "[0, 1, 3, 8, 21]"
      ]
     },
     "execution_count": 54,
     "metadata": {},
     "output_type": "execute_result"
    },
    {
     "data": {
      "text/plain": [
       "[3, 2]"
      ]
     },
     "execution_count": 54,
     "metadata": {},
     "output_type": "execute_result"
    },
    {
     "data": {
      "text/plain": [
       "4"
      ]
     },
     "execution_count": 54,
     "metadata": {},
     "output_type": "execute_result"
    },
    {
     "data": {
      "text/plain": [
       "[5, 6]"
      ]
     },
     "execution_count": 54,
     "metadata": {},
     "output_type": "execute_result"
    }
   ],
   "source": [
    "# indexing\n",
    "rank_1_tensor = tf.constant([0, 1, 1, 2, 3, 5, 8, 13, 21, 34])\n",
    "rank_1_tensor[:2].numpy().tolist()\n",
    "rank_1_tensor[::2].numpy().tolist() #every other item\n",
    "\n",
    "# multi-axis indexing\n",
    "rank_2_tensor = tf.constant([\n",
    "                             [1,2],\n",
    "                             [3,4],\n",
    "                             [5,6]])\n",
    "rank_2_tensor.shape.as_list()\n",
    "rank_2_tensor[1,1].numpy()\n",
    "rank_2_tensor[-1,:].numpy().tolist()"
   ]
  },
  {
   "cell_type": "code",
   "execution_count": 68,
   "metadata": {},
   "outputs": [
    {
     "data": {
      "text/plain": [
       "TensorShape([3, 1])"
      ]
     },
     "execution_count": 68,
     "metadata": {},
     "output_type": "execute_result"
    },
    {
     "data": {
      "text/plain": [
       "[3, 1]"
      ]
     },
     "execution_count": 68,
     "metadata": {},
     "output_type": "execute_result"
    },
    {
     "data": {
      "text/plain": [
       "TensorShape([3, 2, 5])"
      ]
     },
     "execution_count": 68,
     "metadata": {},
     "output_type": "execute_result"
    },
    {
     "data": {
      "text/plain": [
       "<tf.Tensor: shape=(6, 5), dtype=int32, numpy=\n",
       "array([[ 0,  1,  2,  3,  4],\n",
       "       [ 5,  6,  7,  8,  9],\n",
       "       [10, 11, 12, 13, 14],\n",
       "       [15, 16, 17, 18, 19],\n",
       "       [20, 21, 22, 23, 24],\n",
       "       [25, 26, 27, 28, 29]])>"
      ]
     },
     "execution_count": 68,
     "metadata": {},
     "output_type": "execute_result"
    },
    {
     "data": {
      "text/plain": [
       "<tf.Tensor: shape=(3, 10), dtype=int32, numpy=\n",
       "array([[ 0,  1,  2,  3,  4,  5,  6,  7,  8,  9],\n",
       "       [10, 11, 12, 13, 14, 15, 16, 17, 18, 19],\n",
       "       [20, 21, 22, 23, 24, 25, 26, 27, 28, 29]])>"
      ]
     },
     "execution_count": 68,
     "metadata": {},
     "output_type": "execute_result"
    },
    {
     "data": {
      "text/plain": [
       "<tf.Tensor: shape=(30,), dtype=int32, numpy=\n",
       "array([ 0,  1,  2,  3,  4,  5,  6,  7,  8,  9, 10, 11, 12, 13, 14, 15, 16,\n",
       "       17, 18, 19, 20, 21, 22, 23, 24, 25, 26, 27, 28, 29])>"
      ]
     },
     "execution_count": 68,
     "metadata": {},
     "output_type": "execute_result"
    }
   ],
   "source": [
    "x = tf.constant([[1],[2],[3]])\n",
    "x.shape\n",
    "x.shape.as_list()\n",
    "\n",
    "rank_3_tensor = tf.constant([[[ 0 ,1,  2,  3,  4],\n",
    "  [ 5,  6,  7,  8,  9]],\n",
    "\n",
    " [[10, 11, 12, 13, 14],\n",
    "  [15, 16, 17, 18, 19]],\n",
    "\n",
    " [[20, 21, 22, 23, 24],\n",
    "  [25, 26, 27, 28, 29]]])\n",
    "\n",
    "rank_3_tensor.shape\n",
    "\n",
    "#some nice reshapes. Reshape shape has to be sent in a list\n",
    "tf.reshape(rank_3_tensor,[3*2,5])\n",
    "tf.reshape(rank_3_tensor,[3,2*5])\n",
    "\n",
    "#to check order of filling, flatten the tensor. -1 means whatever fits in\n",
    "tf.reshape(rank_3_tensor,[-1])\n",
    "\n",
    "# swapping axes do not not in reshape. Use transpose for that"
   ]
  },
  {
   "cell_type": "code",
   "execution_count": 73,
   "metadata": {},
   "outputs": [
    {
     "data": {
      "text/plain": [
       "<tf.Tensor: shape=(3,), dtype=int32, numpy=array([1, 2, 3])>"
      ]
     },
     "execution_count": 73,
     "metadata": {},
     "output_type": "execute_result"
    },
    {
     "data": {
      "text/plain": [
       "<tf.Tensor: shape=(), dtype=int32, numpy=2>"
      ]
     },
     "execution_count": 73,
     "metadata": {},
     "output_type": "execute_result"
    },
    {
     "data": {
      "text/plain": [
       "<tf.Tensor: shape=(3,), dtype=int32, numpy=array([2, 4, 6])>"
      ]
     },
     "execution_count": 73,
     "metadata": {},
     "output_type": "execute_result"
    },
    {
     "data": {
      "text/plain": [
       "<tf.Tensor: shape=(3, 3), dtype=int32, numpy=\n",
       "array([[1, 2, 3],\n",
       "       [1, 2, 3],\n",
       "       [1, 2, 3]])>"
      ]
     },
     "execution_count": 73,
     "metadata": {},
     "output_type": "execute_result"
    }
   ],
   "source": [
    "# Broadcasting\n",
    "x = tf.range(1,4)\n",
    "y = tf.constant(2)\n",
    "x\n",
    "y\n",
    "x*y\n",
    "\n",
    "# Remember shape [1,4] <-> [4,] <-> [4] leading one can be omitted in shape\n",
    "# to check broadcasting look like, use tf.broadcast_to()\n",
    "tf.broadcast_to(tf.constant([1,2,3]),[3,3])"
   ]
  },
  {
   "cell_type": "code",
   "execution_count": 77,
   "metadata": {},
   "outputs": [
    {
     "data": {
      "text/plain": [
       "<tf.RaggedTensor [[0, 1, 2, 3], [4, 5], [6, 7, 8], [9]]>"
      ]
     },
     "execution_count": 77,
     "metadata": {},
     "output_type": "execute_result"
    },
    {
     "data": {
      "text/plain": [
       "TensorShape([4, None])"
      ]
     },
     "execution_count": 77,
     "metadata": {},
     "output_type": "execute_result"
    }
   ],
   "source": [
    "# Ragged tensor (tensor with not rectangular shape.. so have unknown dim)\n",
    "Ragged_list = [[0, 1, 2, 3],\n",
    "    [4, 5],\n",
    "    [6, 7, 8],\n",
    "    [9]]\n",
    "tf.ragged.constant(Ragged_list)\n",
    "tf.ragged.constant(Ragged_list).shape"
   ]
  },
  {
   "cell_type": "code",
   "execution_count": 85,
   "metadata": {},
   "outputs": [
    {
     "data": {
      "text/plain": [
       "<tf.Tensor: shape=(), dtype=string, numpy=b'Gray wolf'>"
      ]
     },
     "execution_count": 85,
     "metadata": {},
     "output_type": "execute_result"
    },
    {
     "data": {
      "text/plain": [
       "<tf.Tensor: shape=(), dtype=string, numpy=b'\\xf0\\x9f\\xa5\\xb3\\xf0\\x9f\\x91\\x8d'>"
      ]
     },
     "execution_count": 85,
     "metadata": {},
     "output_type": "execute_result"
    },
    {
     "data": {
      "text/plain": [
       "<tf.RaggedTensor [[b'Krunal'], [b'Gedia']]>"
      ]
     },
     "execution_count": 85,
     "metadata": {},
     "output_type": "execute_result"
    },
    {
     "data": {
      "text/plain": [
       "<tf.Tensor: shape=(3,), dtype=float32, numpy=array([  1.,  10., 100.], dtype=float32)>"
      ]
     },
     "execution_count": 85,
     "metadata": {},
     "output_type": "execute_result"
    }
   ],
   "source": [
    "# String tensor dtype =tf.string\n",
    "tf.constant(\"Gray wolf\") #b stands for byte string.. so not a unicode text\n",
    "tf.constant(\"🥳👍\") #-> unocode goes to utf8 encoded answer\n",
    "\n",
    "scalar_string_tensor = tf.constant([\"Krunal\",\"Gedia\"])\n",
    "tf.strings.split(scalar_string_tensor, sep=\" \") \n",
    "#be careful, you can land up with ragged tensor\n",
    "\n",
    "text = tf.constant(\"1 10 100\")\n",
    "tf.strings.to_number(tf.strings.split(text, sep=\" \"))"
   ]
  },
  {
   "cell_type": "code",
   "execution_count": 88,
   "metadata": {},
   "outputs": [
    {
     "name": "stdout",
     "output_type": "stream",
     "text": [
      "SparseTensor(indices=tf.Tensor(\n",
      "[[0 0]\n",
      " [1 2]], shape=(2, 2), dtype=int64), values=tf.Tensor([1 2], shape=(2,), dtype=int32), dense_shape=tf.Tensor([3 4], shape=(2,), dtype=int64)) \n",
      "\n"
     ]
    },
    {
     "data": {
      "text/plain": [
       "<tf.Tensor: shape=(3, 4), dtype=int32, numpy=\n",
       "array([[1, 0, 0, 0],\n",
       "       [0, 0, 2, 0],\n",
       "       [0, 0, 0, 0]])>"
      ]
     },
     "execution_count": 88,
     "metadata": {},
     "output_type": "execute_result"
    }
   ],
   "source": [
    "# Sparse tensor\n",
    "sparse_tensor = tf.sparse.SparseTensor(indices=[[0, 0], [1, 2]],\n",
    "                                       values=[1, 2],\n",
    "                                       dense_shape=[3, 4])\n",
    "print(sparse_tensor, \"\\n\")\n",
    "\n",
    "# sparse to dense form\n",
    "tf.sparse.to_dense(sparse_tensor)"
   ]
  },
  {
   "cell_type": "code",
   "execution_count": null,
   "metadata": {},
   "outputs": [],
   "source": []
  }
 ],
 "metadata": {
  "kernelspec": {
   "display_name": "Python 3",
   "language": "python",
   "name": "python3"
  },
  "language_info": {
   "codemirror_mode": {
    "name": "ipython",
    "version": 3
   },
   "file_extension": ".py",
   "mimetype": "text/x-python",
   "name": "python",
   "nbconvert_exporter": "python",
   "pygments_lexer": "ipython3",
   "version": "3.8.5"
  }
 },
 "nbformat": 4,
 "nbformat_minor": 4
}
