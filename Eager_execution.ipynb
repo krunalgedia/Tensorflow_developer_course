{
 "cells": [
  {
   "cell_type": "code",
   "execution_count": 7,
   "metadata": {},
   "outputs": [],
   "source": [
    "import os\n",
    "import tensorflow as tf\n",
    "import cProfile\n",
    "import numpy as np\n",
    "from IPython.core.interactiveshell import InteractiveShell\n",
    "InteractiveShell.ast_node_interactivity = 'all'"
   ]
  },
  {
   "cell_type": "code",
   "execution_count": 2,
   "metadata": {},
   "outputs": [
    {
     "data": {
      "text/plain": [
       "True"
      ]
     },
     "execution_count": 2,
     "metadata": {},
     "output_type": "execute_result"
    }
   ],
   "source": [
    "#by default in >v2.0, its ON\n",
    "tf.executing_eagerly()"
   ]
  },
  {
   "cell_type": "code",
   "execution_count": 4,
   "metadata": {},
   "outputs": [
    {
     "name": "stdout",
     "output_type": "stream",
     "text": [
      "hello [[4.]]\n"
     ]
    }
   ],
   "source": [
    "x = [[2.0]]\n",
    "m = tf.matmul(x,x)\n",
    "print(\"hello {}\".format(m))"
   ]
  },
  {
   "cell_type": "code",
   "execution_count": 14,
   "metadata": {},
   "outputs": [
    {
     "name": "stdout",
     "output_type": "stream",
     "text": [
      "tf.Tensor([[1 2]], shape=(1, 2), dtype=int32)\n",
      "tf.Tensor([[2 3]], shape=(1, 2), dtype=int32)\n",
      "tf.Tensor([[2 6]], shape=(1, 2), dtype=int32)\n",
      "[[2 6]]\n",
      "[[1 2]]\n"
     ]
    }
   ],
   "source": [
    "# np array to tf.Tensor -> tf.math\n",
    "# tf.Tensor to np array -> tf.Tensor.numpy to ndarray\n",
    "\n",
    "# numpy to tensor\n",
    "aa=np.array([[1,2]])\n",
    "a = tf.constant(aa) #or tf.constant([[1,2]])\n",
    "print(a)\n",
    "\n",
    "# broadcasting support\n",
    "b = tf.add(a,1)\n",
    "print(b)\n",
    "\n",
    "# operator overloading allowed\n",
    "print(a*b)\n",
    "\n",
    "# use numpy values\n",
    "c = np.multiply(a,b)\n",
    "print(c)\n",
    "\n",
    "# tensor to numpy\n",
    "print(a.numpy())\n",
    "\n",
    "# number to tensor\n",
    "tensor = tf.convert_to_tensor(5)\n",
    "print(tensor)"
   ]
  },
  {
   "cell_type": "code",
   "execution_count": 19,
   "metadata": {},
   "outputs": [
    {
     "name": "stdout",
     "output_type": "stream",
     "text": [
      "tf.Tensor([[2.]], shape=(1, 1), dtype=float32)\n"
     ]
    }
   ],
   "source": [
    "# EAGER TRAINING\n",
    "#computing gradients\n",
    "w = tf.Variable([[1.0]])\n",
    "with tf.GradientTape() as tape:\n",
    "    loss= w*w\n",
    "    \n",
    "#gardient of loss wrt to w    \n",
    "grad = tape.gradient(loss,w)\n",
    "print(grad)"
   ]
  },
  {
   "cell_type": "code",
   "execution_count": null,
   "metadata": {},
   "outputs": [],
   "source": [
    " "
   ]
  }
 ],
 "metadata": {
  "kernelspec": {
   "display_name": "Python 3",
   "language": "python",
   "name": "python3"
  },
  "language_info": {
   "codemirror_mode": {
    "name": "ipython",
    "version": 3
   },
   "file_extension": ".py",
   "mimetype": "text/x-python",
   "name": "python",
   "nbconvert_exporter": "python",
   "pygments_lexer": "ipython3",
   "version": "3.8.5"
  }
 },
 "nbformat": 4,
 "nbformat_minor": 4
}
